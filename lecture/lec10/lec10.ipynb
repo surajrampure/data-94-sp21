{
 "cells": [
  {
   "cell_type": "markdown",
   "metadata": {},
   "source": [
    "# Lecture 10 – More Review\n",
    "\n",
    "## Data 94, Spring 2021"
   ]
  },
  {
   "cell_type": "markdown",
   "metadata": {},
   "source": [
    "## Stock prices"
   ]
  },
  {
   "cell_type": "markdown",
   "metadata": {},
   "source": [
    "### Part 1\n",
    "**Task:** Given a list of prices of a stock on a single day, return a string describing whether the stock increased, stayed the same, or decreased from its starting price."
   ]
  },
  {
   "cell_type": "code",
   "execution_count": null,
   "metadata": {},
   "outputs": [],
   "source": [
    "def daily_change(prices):\n",
    "    first = prices[0]\n",
    "    last = prices[-1]\n",
    "    if first > last:\n",
    "        return 'decrease'\n",
    "    elif first == last:\n",
    "        return 'none'\n",
    "    else:\n",
    "        return 'increase'"
   ]
  },
  {
   "cell_type": "code",
   "execution_count": null,
   "metadata": {},
   "outputs": [],
   "source": [
    "# Returns 'increase', since 1 < 4\n",
    "daily_change([1, 2, 2.5, 3, 3.5, 4])"
   ]
  },
  {
   "cell_type": "code",
   "execution_count": null,
   "metadata": {},
   "outputs": [],
   "source": [
    "# Returns 'none', since 3 = 3\n",
    "daily_change([3, 9, 3])"
   ]
  },
  {
   "cell_type": "code",
   "execution_count": null,
   "metadata": {},
   "outputs": [],
   "source": [
    "# Return 'decrease', since 5 > 2\n",
    "daily_change([5, 4, 3, 4, 5, 4, 3, 2, 2])"
   ]
  },
  {
   "cell_type": "markdown",
   "metadata": {},
   "source": [
    "### Part 2, Quick Check 1\n",
    "\n",
    "**Task:** Given a list of prices of a stock on a single day, return `True` if the stock was strictly increasing, and `False` otherwise. A list of numbers is strictly increasing if each one is larger than the previous."
   ]
  },
  {
   "cell_type": "code",
   "execution_count": null,
   "metadata": {},
   "outputs": [],
   "source": [
    "def strictly_increasing(prices):\n",
    "    i = 0\n",
    "    while i < len(prices) - 1:\n",
    "        if ...:\n",
    "            return False\n",
    "        i += 1\n",
    "    return True"
   ]
  },
  {
   "cell_type": "code",
   "execution_count": null,
   "metadata": {},
   "outputs": [],
   "source": [
    "# True\n",
    "# strictly_increasing([1, 2, 5, 8, 10])"
   ]
  },
  {
   "cell_type": "code",
   "execution_count": null,
   "metadata": {},
   "outputs": [],
   "source": [
    "# False\n",
    "# strictly_increasing([2, 3, 9, 7, 11])"
   ]
  },
  {
   "cell_type": "code",
   "execution_count": null,
   "metadata": {},
   "outputs": [],
   "source": [
    "# False\n",
    "# strictly_increasing([2, 3, 4, 4, 5])"
   ]
  },
  {
   "cell_type": "markdown",
   "metadata": {},
   "source": [
    "## Next day of the week"
   ]
  },
  {
   "cell_type": "code",
   "execution_count": null,
   "metadata": {},
   "outputs": [],
   "source": [
    "def next_day(day):\n",
    "    week = ['Sunday', 'Monday', 'Tuesday', 'Wednesday', 'Thursday', 'Friday', 'Saturday']\n",
    "    curr = week.index(day)\n",
    "    return week[(curr + 1) % 7]"
   ]
  },
  {
   "cell_type": "code",
   "execution_count": null,
   "metadata": {},
   "outputs": [],
   "source": [
    "next_day('Wednesday')"
   ]
  },
  {
   "cell_type": "code",
   "execution_count": null,
   "metadata": {},
   "outputs": [],
   "source": [
    "next_day('Saturday')"
   ]
  },
  {
   "cell_type": "markdown",
   "metadata": {},
   "source": [
    "## Prefixes, Quick Check 2"
   ]
  },
  {
   "cell_type": "code",
   "execution_count": null,
   "metadata": {},
   "outputs": [],
   "source": [
    "def full_prefix(name):\n",
    "    # i and idx are short for \"index\"\n",
    "    idx = name.index('.')\n",
    "    prefix = name[:idx]\n",
    "    rest = ...\n",
    "    \n",
    "    if prefix == 'Dr':\n",
    "        return 'Doctor ' + rest\n",
    "    elif prefix == 'Prof':\n",
    "        return 'Professor ' + rest\n",
    "    elif prefix == 'Gov':\n",
    "        return 'Governor ' + rest\n",
    "    else:\n",
    "        return name"
   ]
  },
  {
   "cell_type": "code",
   "execution_count": null,
   "metadata": {},
   "outputs": [],
   "source": [
    "# 'Governor Newsom'\n",
    "# full_prefix('Gov. Newsom')"
   ]
  },
  {
   "cell_type": "code",
   "execution_count": null,
   "metadata": {},
   "outputs": [],
   "source": [
    "# 'Professor Christ'\n",
    "# full_prefix('Prof. Christ')"
   ]
  },
  {
   "cell_type": "code",
   "execution_count": null,
   "metadata": {},
   "outputs": [],
   "source": [
    "# 'Doctor Biden'\n",
    "# full_prefix('Dr. Biden')"
   ]
  },
  {
   "cell_type": "code",
   "execution_count": null,
   "metadata": {},
   "outputs": [],
   "source": [
    "# 'Hon. Caboto'\n",
    "# full_prefix('Hon. Caboto')"
   ]
  },
  {
   "cell_type": "markdown",
   "metadata": {},
   "source": [
    "## Kaprekar's constant"
   ]
  },
  {
   "cell_type": "code",
   "execution_count": null,
   "metadata": {},
   "outputs": [],
   "source": [
    "# For now, ignore the code in this cell.\n",
    "\n",
    "def increase_sort(n):\n",
    "    n_list = list(str(n))\n",
    "    n_list_sorted = sorted(n_list)\n",
    "    n_str_sorted = ''.join(n_list_sorted)\n",
    "    return int(n_str_sorted)\n",
    "\n",
    "def decrease_sort(n):\n",
    "    n_list = list(str(n))\n",
    "    n_list_sorted = sorted(n_list)[::-1]\n",
    "    n_str_sorted = ''.join(n_list_sorted)\n",
    "    return int(n_str_sorted)"
   ]
  },
  {
   "cell_type": "code",
   "execution_count": null,
   "metadata": {},
   "outputs": [],
   "source": [
    "def find_sequence(n):\n",
    "    # Need to keep track of the steps, and the \"current\" number in our sequence\n",
    "    steps = [n]\n",
    "    curr = n\n",
    "    \n",
    "    # As long as our current number isn't 495\n",
    "    # make one more step, and store the current step\n",
    "    while curr != 495:\n",
    "        curr = decrease_sort(curr) - increase_sort(curr)\n",
    "        steps.append(curr)\n",
    "    return steps"
   ]
  },
  {
   "cell_type": "code",
   "execution_count": null,
   "metadata": {},
   "outputs": [],
   "source": [
    "find_sequence(813)"
   ]
  },
  {
   "cell_type": "code",
   "execution_count": null,
   "metadata": {},
   "outputs": [],
   "source": [
    "find_sequence(215)"
   ]
  }
 ],
 "metadata": {
  "kernelspec": {
   "display_name": "Python 3",
   "language": "python",
   "name": "python3"
  },
  "language_info": {
   "codemirror_mode": {
    "name": "ipython",
    "version": 3
   },
   "file_extension": ".py",
   "mimetype": "text/x-python",
   "name": "python",
   "nbconvert_exporter": "python",
   "pygments_lexer": "ipython3",
   "version": "3.8.5"
  }
 },
 "nbformat": 4,
 "nbformat_minor": 4
}

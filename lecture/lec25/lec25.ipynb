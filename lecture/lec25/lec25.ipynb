{
 "cells": [
  {
   "cell_type": "markdown",
   "metadata": {},
   "source": [
    "# Lecture 25 – Visualizing Categorical Variables\n",
    "\n",
    "## Data 94, Spring 2021"
   ]
  },
  {
   "cell_type": "code",
   "execution_count": null,
   "metadata": {},
   "outputs": [],
   "source": [
    "from datascience import *\n",
    "import numpy as np\n",
    "\n",
    "Table.interactive_plots()"
   ]
  },
  {
   "cell_type": "markdown",
   "metadata": {},
   "source": [
    "## Bar charts"
   ]
  },
  {
   "cell_type": "code",
   "execution_count": null,
   "metadata": {},
   "outputs": [],
   "source": [
    "schools = Table.read_table('data/r1_with_students.csv')"
   ]
  },
  {
   "cell_type": "code",
   "execution_count": null,
   "metadata": {},
   "outputs": [],
   "source": [
    "schools"
   ]
  },
  {
   "cell_type": "code",
   "execution_count": null,
   "metadata": {},
   "outputs": [],
   "source": [
    "schools.group('Control')"
   ]
  },
  {
   "cell_type": "code",
   "execution_count": null,
   "metadata": {},
   "outputs": [],
   "source": [
    "schools.group('Control').barh('Control')"
   ]
  },
  {
   "cell_type": "markdown",
   "metadata": {},
   "source": [
    "### Example 1: Top 10 songs on Spotify\n",
    "\n",
    "You can download an up-to-date copy of this data [here](https://spotifycharts.com/regional)."
   ]
  },
  {
   "cell_type": "code",
   "execution_count": null,
   "metadata": {},
   "outputs": [],
   "source": [
    "streams = Table.read_table('data/regional-global-daily-latest.csv', header = 1)\n",
    "top_10 = streams.select('Track Name', 'Streams').take(np.arange(10))"
   ]
  },
  {
   "cell_type": "code",
   "execution_count": null,
   "metadata": {
    "scrolled": true
   },
   "outputs": [],
   "source": [
    "top_10"
   ]
  },
  {
   "cell_type": "code",
   "execution_count": null,
   "metadata": {},
   "outputs": [],
   "source": [
    "top_10.barh('Track Name')"
   ]
  },
  {
   "cell_type": "markdown",
   "metadata": {},
   "source": [
    "### Example 2: Artists with the most songs in the Spotify Top 200 right now"
   ]
  },
  {
   "cell_type": "code",
   "execution_count": null,
   "metadata": {},
   "outputs": [],
   "source": [
    "streams"
   ]
  },
  {
   "cell_type": "code",
   "execution_count": null,
   "metadata": {},
   "outputs": [],
   "source": [
    "streams.group('Artist') \\\n",
    "       .sort('count', descending = True) \\\n",
    "       .where('count', are.above(2))"
   ]
  },
  {
   "cell_type": "code",
   "execution_count": null,
   "metadata": {},
   "outputs": [],
   "source": [
    "streams.group('Artist') \\\n",
    "       .sort('count', descending = True) \\\n",
    "       .where('count', are.above(2)) \\\n",
    "       .barh('Artist')"
   ]
  },
  {
   "cell_type": "markdown",
   "metadata": {},
   "source": [
    "### Example 3: Number of students at the 15 largest universities (in our dataset)"
   ]
  },
  {
   "cell_type": "code",
   "execution_count": null,
   "metadata": {},
   "outputs": [],
   "source": [
    "schools"
   ]
  },
  {
   "cell_type": "code",
   "execution_count": null,
   "metadata": {},
   "outputs": [],
   "source": [
    "schools.select('University', 'Number_students') \\\n",
    "       .sort('Number_students', descending = True) \\\n",
    "       .take(np.arange(15))"
   ]
  },
  {
   "cell_type": "code",
   "execution_count": null,
   "metadata": {},
   "outputs": [],
   "source": [
    "schools.select('University', 'Number_students') \\\n",
    "       .sort('Number_students', descending = True) \\\n",
    "       .take(np.arange(15)) \\\n",
    "       .barh('University')"
   ]
  },
  {
   "cell_type": "markdown",
   "metadata": {},
   "source": [
    "### Quick Check 1"
   ]
  },
  {
   "cell_type": "code",
   "execution_count": null,
   "metadata": {},
   "outputs": [],
   "source": [
    "schools"
   ]
  },
  {
   "cell_type": "code",
   "execution_count": null,
   "metadata": {},
   "outputs": [],
   "source": [
    "schools.where('State', are.contained_in(['CA', 'TX', 'FL', 'NY', 'PA'])) \\\n",
    "       .group('State', ...) \\\n",
    "       .select(..., ...) \\\n",
    "       .barh(...)"
   ]
  },
  {
   "cell_type": "markdown",
   "metadata": {},
   "source": [
    "### Note: bar order"
   ]
  },
  {
   "cell_type": "code",
   "execution_count": null,
   "metadata": {},
   "outputs": [],
   "source": []
  },
  {
   "cell_type": "markdown",
   "metadata": {},
   "source": [
    "### Disclaimer"
   ]
  },
  {
   "cell_type": "code",
   "execution_count": null,
   "metadata": {},
   "outputs": [],
   "source": [
    "schools.take(np.arange(5)).barh('Control')"
   ]
  },
  {
   "cell_type": "markdown",
   "metadata": {},
   "source": [
    "## Grouped bar charts"
   ]
  },
  {
   "cell_type": "code",
   "execution_count": null,
   "metadata": {},
   "outputs": [],
   "source": [
    "# Run this cell.\n",
    "def remove_comma(s):\n",
    "    return int(s.replace(',', ''))\n",
    "\n",
    "nominal = Table.read_table('data/gdp-nominal.csv')\n",
    "ppp = Table.read_table('data/gdp-ppp.csv').drop(3)\n",
    "gdp = nominal.join('Country/Territory', ppp) \\\n",
    "       .drop(1, 3) \\\n",
    "       .relabeled(['GDP(US$million)', 'GDP(millions of current Int$)'], ['GDP Nominal', 'GDP PPP'])\n",
    "gdp = gdp.with_columns(\n",
    "    'GDP Nominal', gdp.apply(remove_comma, 'GDP Nominal'),\n",
    "    'GDP PPP', gdp.apply(remove_comma, 'GDP PPP')\n",
    ")\n",
    "gdp = gdp.sort('GDP Nominal', descending = True)"
   ]
  },
  {
   "cell_type": "code",
   "execution_count": null,
   "metadata": {},
   "outputs": [],
   "source": [
    "gdp"
   ]
  },
  {
   "cell_type": "code",
   "execution_count": null,
   "metadata": {},
   "outputs": [],
   "source": [
    "gdp.select('Country/Territory', 'GDP Nominal') \\\n",
    "   .take(np.arange(15)) \\\n",
    "   .barh('Country/Territory')"
   ]
  },
  {
   "cell_type": "code",
   "execution_count": null,
   "metadata": {},
   "outputs": [],
   "source": [
    "gdp.select('Country/Territory', 'GDP PPP') \\\n",
    "   .take(np.arange(15)) \\\n",
    "   .barh('Country/Territory')"
   ]
  },
  {
   "cell_type": "code",
   "execution_count": null,
   "metadata": {},
   "outputs": [],
   "source": [
    "gdp"
   ]
  },
  {
   "cell_type": "code",
   "execution_count": null,
   "metadata": {},
   "outputs": [],
   "source": [
    "gdp.take(np.arange(15)).barh('Country/Territory')"
   ]
  },
  {
   "cell_type": "markdown",
   "metadata": {},
   "source": [
    "We can sort by GDP PPP, too:"
   ]
  },
  {
   "cell_type": "code",
   "execution_count": null,
   "metadata": {},
   "outputs": [],
   "source": [
    "gdp.sort('GDP PPP', descending = True).take(np.arange(15)).barh('Country/Territory')"
   ]
  },
  {
   "cell_type": "markdown",
   "metadata": {},
   "source": [
    "Another example:"
   ]
  },
  {
   "cell_type": "code",
   "execution_count": null,
   "metadata": {},
   "outputs": [],
   "source": [
    "schools"
   ]
  },
  {
   "cell_type": "code",
   "execution_count": null,
   "metadata": {},
   "outputs": [],
   "source": [
    "schools.pivot('Control', 'State')"
   ]
  },
  {
   "cell_type": "code",
   "execution_count": null,
   "metadata": {},
   "outputs": [],
   "source": [
    "schools.pivot('Control', 'State') \\\n",
    "       .where('Private (non-profit)', are.above(0)) \\\n",
    "       .where('Public', are.above(0))"
   ]
  },
  {
   "cell_type": "code",
   "execution_count": null,
   "metadata": {
    "scrolled": false
   },
   "outputs": [],
   "source": [
    "schools.pivot('Control', 'State') \\\n",
    "       .where('Private (non-profit)', are.above(0)) \\\n",
    "       .where('Public', are.above(0)) \\\n",
    "       .barh('State')"
   ]
  },
  {
   "cell_type": "markdown",
   "metadata": {},
   "source": [
    "## Customization"
   ]
  },
  {
   "cell_type": "code",
   "execution_count": null,
   "metadata": {
    "scrolled": false
   },
   "outputs": [],
   "source": [
    "schools.pivot('Control', 'State') \\\n",
    "       .where('Private (non-profit)', are.above(0)) \\\n",
    "       .where('Public', are.above(0)) \\\n",
    "       .barh('State')"
   ]
  },
  {
   "cell_type": "code",
   "execution_count": null,
   "metadata": {},
   "outputs": [],
   "source": [
    "schools.pivot('Control', 'State') \\\n",
    "       .where('Private (non-profit)', are.above(0)) \\\n",
    "       .where('Public', are.above(0)) \\\n",
    "       .barh('State', xaxis_title = 'Number of Universities',\n",
    "                      title = 'Number of Private and Public R1 Universities in Each State',\n",
    "                      width = 700,\n",
    "                      height = 700)"
   ]
  },
  {
   "cell_type": "markdown",
   "metadata": {},
   "source": [
    "### Quick Check 2"
   ]
  },
  {
   "cell_type": "code",
   "execution_count": null,
   "metadata": {},
   "outputs": [],
   "source": [
    "top_gdp = gdp.take(np.arange(7))\n",
    "top_gdp"
   ]
  },
  {
   "cell_type": "code",
   "execution_count": null,
   "metadata": {},
   "outputs": [],
   "source": []
  }
 ],
 "metadata": {
  "kernelspec": {
   "display_name": "Python 3",
   "language": "python",
   "name": "python3"
  },
  "language_info": {
   "codemirror_mode": {
    "name": "ipython",
    "version": 3
   },
   "file_extension": ".py",
   "mimetype": "text/x-python",
   "name": "python",
   "nbconvert_exporter": "python",
   "pygments_lexer": "ipython3",
   "version": "3.8.5"
  }
 },
 "nbformat": 4,
 "nbformat_minor": 4
}

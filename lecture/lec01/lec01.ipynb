{
 "cells": [
  {
   "cell_type": "markdown",
   "metadata": {},
   "source": [
    "# Lecture 1 – Introduction\n",
    "\n",
    "## Data 94, Spring 2021"
   ]
  },
  {
   "cell_type": "markdown",
   "metadata": {},
   "source": [
    "This is a Jupyter notebook. We'll write all of our code in this class in a Jupyter notebook.\n",
    "\n",
    "Today, don't worry about how any of this works. Throughout the semester, we'll learn how each of these pieces work.\n",
    "\n",
    "**Note: The maps in this notebook will not load correctly in Safari if you're on a Mac; use Chrome.**"
   ]
  },
  {
   "cell_type": "code",
   "execution_count": null,
   "metadata": {},
   "outputs": [],
   "source": [
    "!pip install googlemaps"
   ]
  },
  {
   "cell_type": "code",
   "execution_count": null,
   "metadata": {},
   "outputs": [],
   "source": [
    "from datascience import *\n",
    "import numpy as np\n",
    "import matplotlib.pyplot as plt\n",
    "%matplotlib inline\n",
    "import plotly.graph_objects as go\n",
    "import googlemaps\n",
    "\n",
    "# \"KEY\" is sensitive (it's almost like a password).\n",
    "# I've removed mine in this posted version of the notebook, so some of the code won't run for you.\n",
    "KEY = 'xxx'"
   ]
  },
  {
   "cell_type": "markdown",
   "metadata": {},
   "source": [
    "## California universities\n",
    "\n",
    "Here, we'll load in data about all public universities in California. The data comes from [this Wikipedia article](https://en.wikipedia.org/wiki/List_of_colleges_and_universities_in_California)."
   ]
  },
  {
   "cell_type": "code",
   "execution_count": null,
   "metadata": {},
   "outputs": [],
   "source": [
    "uni = Table.read_table('data/california_universities.csv')\n",
    "\n",
    "uni = uni.with_columns(\n",
    "    'Enrollment', uni.apply(lambda s: int(s.replace(',', '')), 'Enrollment'),\n",
    "    'Founded', uni.apply(lambda s: int(s.replace('*', '')), 'Founded')\n",
    ")"
   ]
  },
  {
   "cell_type": "markdown",
   "metadata": {},
   "source": [
    "Data is often stored in tables. In about a month, we'll become very, very familiar with how tables work. But for now, let's just observe."
   ]
  },
  {
   "cell_type": "code",
   "execution_count": null,
   "metadata": {},
   "outputs": [],
   "source": [
    "uni.show(15)"
   ]
  },
  {
   "cell_type": "markdown",
   "metadata": {},
   "source": [
    "Let's start asking questions."
   ]
  },
  {
   "cell_type": "markdown",
   "metadata": {},
   "source": [
    "### What's the largest public university in California?"
   ]
  },
  {
   "cell_type": "code",
   "execution_count": null,
   "metadata": {},
   "outputs": [],
   "source": [
    "uni.sort('Enrollment', descending = True)"
   ]
  },
  {
   "cell_type": "code",
   "execution_count": null,
   "metadata": {},
   "outputs": [],
   "source": [
    "uni.sort('Enrollment', descending = True).barh('Name', 'Enrollment')"
   ]
  },
  {
   "cell_type": "markdown",
   "metadata": {},
   "source": [
    "### What's the oldest public university in California? 🤔"
   ]
  },
  {
   "cell_type": "code",
   "execution_count": null,
   "metadata": {},
   "outputs": [],
   "source": [
    "uni.sort('Founded')"
   ]
  },
  {
   "cell_type": "code",
   "execution_count": null,
   "metadata": {},
   "outputs": [],
   "source": [
    "uni_copy = uni.sort('Founded').with_columns('Total Universities', np.arange(1, uni.num_rows + 1))\n",
    "uni_copy.plot('Founded', 'Total Universities')"
   ]
  },
  {
   "cell_type": "markdown",
   "metadata": {},
   "source": [
    "Let's add some spice."
   ]
  },
  {
   "cell_type": "code",
   "execution_count": null,
   "metadata": {},
   "outputs": [],
   "source": [
    "fig = go.Figure()\n",
    "\n",
    "fig.add_trace(\n",
    "    go.Scatter(x = uni_copy.column('Founded'), \n",
    "               y = uni_copy.column('Total Universities'), \n",
    "               hovertext = uni_copy.column('Name'),\n",
    "               mode = 'markers',\n",
    "              )\n",
    ")\n",
    "\n",
    "fig.add_trace(\n",
    "    go.Scatter(x = uni_copy.column('Founded'), \n",
    "               y = uni_copy.column('Total Universities'),\n",
    "               line = dict(color = 'blue'),\n",
    "              )\n",
    ")\n",
    "\n",
    "fig.update_layout(title = 'Total Number of Public Universities in California by Year',\n",
    "                  xaxis_title = 'Year',\n",
    "                  yaxis_title = 'Total Universities')\n",
    "\n",
    "fig.show()"
   ]
  },
  {
   "cell_type": "markdown",
   "metadata": {},
   "source": [
    "### Where are the public universities in California located?"
   ]
  },
  {
   "cell_type": "code",
   "execution_count": null,
   "metadata": {},
   "outputs": [],
   "source": [
    "uni"
   ]
  },
  {
   "cell_type": "markdown",
   "metadata": {},
   "source": [
    "What if we want to plot these on a map?\n",
    "\n",
    "It turns out that we can use Google Maps to do it – using code! (Edit: this won't run for you.)"
   ]
  },
  {
   "cell_type": "code",
   "execution_count": null,
   "metadata": {},
   "outputs": [],
   "source": [
    "gmaps = googlemaps.Client(key = KEY)"
   ]
  },
  {
   "cell_type": "markdown",
   "metadata": {},
   "source": [
    "Let's try a location that we all know and love... (Edit: this also won't run for you.)"
   ]
  },
  {
   "cell_type": "code",
   "execution_count": null,
   "metadata": {},
   "outputs": [],
   "source": [
    "geocode_result = gmaps.geocode('taco bell southside berkeley')\n",
    "geocode_result"
   ]
  },
  {
   "cell_type": "code",
   "execution_count": null,
   "metadata": {},
   "outputs": [],
   "source": [
    "def school_to_lat_lon(school):\n",
    "    res = gmaps.geocode(school)[0]\n",
    "    lat = res['geometry']['location']['lat']\n",
    "    lng = res['geometry']['location']['lng']\n",
    "    return lat, lng"
   ]
  },
  {
   "cell_type": "markdown",
   "metadata": {},
   "source": [
    "Given the latitude and longitude of a location, we can plot it on a map!"
   ]
  },
  {
   "cell_type": "code",
   "execution_count": null,
   "metadata": {},
   "outputs": [],
   "source": [
    "# lat_lon = uni.apply(lambda name: school_to_lat_lon(name), 'Name')"
   ]
  },
  {
   "cell_type": "code",
   "execution_count": null,
   "metadata": {},
   "outputs": [],
   "source": [
    "# uni_locations = uni.with_columns(\n",
    "# 'Latitude', lat_lon[:, 0],\n",
    "# 'Longitude', lat_lon[:, 1]).select('Latitude', 'Longitude', 'Name').relabeled('Name', 'labels')"
   ]
  },
  {
   "cell_type": "code",
   "execution_count": null,
   "metadata": {},
   "outputs": [],
   "source": [
    "uni_locations = Table.read_table('data/uni_locations.csv')"
   ]
  },
  {
   "cell_type": "code",
   "execution_count": null,
   "metadata": {},
   "outputs": [],
   "source": [
    "Marker.map_table(uni_locations, \n",
    "                 marker_icon='info-sign')"
   ]
  },
  {
   "cell_type": "markdown",
   "metadata": {},
   "source": [
    "It would be nice if this were color-coded based on UC vs. CSU. We can do that!"
   ]
  },
  {
   "cell_type": "code",
   "execution_count": null,
   "metadata": {},
   "outputs": [],
   "source": [
    "uni_locations_separate = uni_locations.with_columns(\n",
    "    'colors', uni_locations.apply(lambda s: 'blue' if 'State' not in s else 'red', 'labels')\n",
    ")"
   ]
  },
  {
   "cell_type": "code",
   "execution_count": null,
   "metadata": {},
   "outputs": [],
   "source": [
    "Marker.map_table(uni_locations_separate, marker_icon='info-sign')"
   ]
  }
 ],
 "metadata": {
  "kernelspec": {
   "display_name": "Python 3",
   "language": "python",
   "name": "python3"
  },
  "language_info": {
   "codemirror_mode": {
    "name": "ipython",
    "version": 3
   },
   "file_extension": ".py",
   "mimetype": "text/x-python",
   "name": "python",
   "nbconvert_exporter": "python",
   "pygments_lexer": "ipython3",
   "version": "3.8.5"
  }
 },
 "nbformat": 4,
 "nbformat_minor": 2
}

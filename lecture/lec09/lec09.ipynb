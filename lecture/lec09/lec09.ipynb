{
 "cells": [
  {
   "cell_type": "markdown",
   "metadata": {},
   "source": [
    "# Lecture 9 – Review\n",
    "\n",
    "## Data 94, Spring 2021"
   ]
  },
  {
   "cell_type": "code",
   "execution_count": null,
   "metadata": {},
   "outputs": [],
   "source": [
    "berkeley_temp = 18\n",
    "miami_temp = 32"
   ]
  },
  {
   "cell_type": "code",
   "execution_count": null,
   "metadata": {},
   "outputs": [],
   "source": [
    "def c_to_f(temp):\n",
    "    return (9 / 5) * temp + 32"
   ]
  },
  {
   "cell_type": "code",
   "execution_count": null,
   "metadata": {},
   "outputs": [],
   "source": [
    "c_to_f(0)"
   ]
  },
  {
   "cell_type": "code",
   "execution_count": null,
   "metadata": {},
   "outputs": [],
   "source": [
    "c_to_f(berkeley_temp)"
   ]
  },
  {
   "cell_type": "markdown",
   "metadata": {},
   "source": [
    "## Hours, minutes, and seconds"
   ]
  },
  {
   "cell_type": "code",
   "execution_count": null,
   "metadata": {},
   "outputs": [],
   "source": [
    "def seconds_converter(seconds_in):\n",
    "    seconds_in_minute = 60\n",
    "    seconds_in_hour = 60 * 60\n",
    "    \n",
    "    # First, determine the number of whole hours\n",
    "    # e.g. if s = 5152, this is 1\n",
    "    hours = seconds_in // seconds_in_hour\n",
    "    \n",
    "    # Compute the number of \"seconds left over\"\n",
    "    seconds_left = seconds_in % seconds_in_hour\n",
    "    \n",
    "    # Now, determine the number of whole minutes\n",
    "    # e.g. if seconds_left = 1850, this is 30\n",
    "    minutes = seconds_left // seconds_in_minute\n",
    "    \n",
    "    # The number of seconds left over now is the number of seconds we should print\n",
    "    seconds = seconds_left % seconds_in_minute\n",
    "    \n",
    "    print('Hours:   ', hours)\n",
    "    print('Minutes: ', minutes)\n",
    "    print('Seconds: ', seconds)"
   ]
  },
  {
   "cell_type": "code",
   "execution_count": null,
   "metadata": {},
   "outputs": [],
   "source": [
    "seconds_converter(5400)"
   ]
  },
  {
   "cell_type": "code",
   "execution_count": null,
   "metadata": {
    "scrolled": true
   },
   "outputs": [],
   "source": [
    "seconds_converter(8182)"
   ]
  },
  {
   "cell_type": "markdown",
   "metadata": {},
   "source": [
    "## Temperature conversion\n",
    "\n",
    "Suppose we have a list of temperatures of cities around the world."
   ]
  },
  {
   "cell_type": "code",
   "execution_count": null,
   "metadata": {},
   "outputs": [],
   "source": [
    "# Run this cell, don't worry about the code.\n",
    "from datascience import *\n",
    "table = Table.read_table('data/africa-temperatures.csv')\n",
    "c_temps = list(table.apply(lambda s: float(s[:s.index('(')]), 'Year'))"
   ]
  },
  {
   "cell_type": "code",
   "execution_count": null,
   "metadata": {},
   "outputs": [],
   "source": [
    "c_temps"
   ]
  },
  {
   "cell_type": "markdown",
   "metadata": {},
   "source": [
    "Remember, we already defined `c_to_f`, which takes a temperature in Celsius to a temperature in Fahrenheit.\n",
    "\n",
    "How do we convert the 3rd temperature to Fahrenheit? The 9th temperature? The very last temperature in the list?"
   ]
  },
  {
   "cell_type": "code",
   "execution_count": null,
   "metadata": {},
   "outputs": [],
   "source": [
    "def c_to_f(temp):\n",
    "    return (9 / 5) * temp + 32"
   ]
  },
  {
   "cell_type": "code",
   "execution_count": null,
   "metadata": {},
   "outputs": [],
   "source": [
    "c_temps[3]"
   ]
  },
  {
   "cell_type": "code",
   "execution_count": null,
   "metadata": {},
   "outputs": [],
   "source": [
    "c_to_f(c_temps[3])"
   ]
  },
  {
   "cell_type": "code",
   "execution_count": null,
   "metadata": {},
   "outputs": [],
   "source": [
    "c_to_f(c_temps[9])"
   ]
  },
  {
   "cell_type": "markdown",
   "metadata": {},
   "source": [
    "### Quick Check 1"
   ]
  },
  {
   "cell_type": "code",
   "execution_count": null,
   "metadata": {
    "scrolled": true
   },
   "outputs": [],
   "source": [
    "last_in_f = ..."
   ]
  },
  {
   "cell_type": "code",
   "execution_count": null,
   "metadata": {},
   "outputs": [],
   "source": []
  },
  {
   "cell_type": "markdown",
   "metadata": {},
   "source": [
    "Quick recap: while loops allow us to repeat a code block as long as some boolean expression is true."
   ]
  },
  {
   "cell_type": "code",
   "execution_count": null,
   "metadata": {},
   "outputs": [],
   "source": [
    "# Don't do this\n",
    "print('1 is not even')\n",
    "print('2 is even')\n",
    "print('3 is not even')\n",
    "print('4 is even')\n",
    "print('5 is not even')\n",
    "print('6 is even')\n",
    "print('7 is not even')\n",
    "print('8 is even')\n",
    "print('9 is not even')\n",
    "print('10 is even')"
   ]
  },
  {
   "cell_type": "code",
   "execution_count": null,
   "metadata": {},
   "outputs": [],
   "source": [
    "# Instead, do this\n",
    "n = 1\n",
    "while n <= 10:\n",
    "    if n % 2 == 0:\n",
    "        print(str(n) + ' is even')\n",
    "    else:\n",
    "        print(str(n) + ' is not even')\n",
    "    n = n + 1"
   ]
  },
  {
   "cell_type": "markdown",
   "metadata": {},
   "source": [
    "Back to the question at hand: how do we make a new list with all temperatures converted to Fahrenheit?"
   ]
  },
  {
   "cell_type": "code",
   "execution_count": null,
   "metadata": {},
   "outputs": [],
   "source": [
    "def convert_list(c_temps):\n",
    "    f_temps = []\n",
    "    i = 0\n",
    "    while i < len(c_temps):\n",
    "        # Get the ith C temp\n",
    "        c_temp = c_temps[i]\n",
    "        \n",
    "        # Convert it to F\n",
    "        f_temp = c_to_f(c_temp)\n",
    "        \n",
    "        # Add it to the output list\n",
    "        f_temps.append(f_temp)\n",
    "        \n",
    "        # Increment i\n",
    "        i += 1\n",
    "    return f_temps"
   ]
  },
  {
   "cell_type": "code",
   "execution_count": null,
   "metadata": {},
   "outputs": [],
   "source": [
    "convert_list([32, 19, 23])"
   ]
  },
  {
   "cell_type": "code",
   "execution_count": null,
   "metadata": {},
   "outputs": [],
   "source": [
    "convert_list(c_temps)"
   ]
  },
  {
   "cell_type": "markdown",
   "metadata": {},
   "source": [
    "## Stock prices"
   ]
  },
  {
   "cell_type": "markdown",
   "metadata": {},
   "source": [
    "### Part 1\n",
    "**Task:** Given a list of prices of a stock on a single day, return a string describing whether the stock increased, stayed the same, or decreased from its starting price."
   ]
  },
  {
   "cell_type": "code",
   "execution_count": null,
   "metadata": {},
   "outputs": [],
   "source": [
    "def daily_change(prices):\n",
    "    first = prices[0]\n",
    "    last = prices[-1]\n",
    "    if first > last:\n",
    "        return 'decrease'\n",
    "    elif first == last:\n",
    "        return 'none'\n",
    "    else:\n",
    "        return 'increase'"
   ]
  },
  {
   "cell_type": "code",
   "execution_count": null,
   "metadata": {},
   "outputs": [],
   "source": [
    "# Returns 'increase', since 1 < 4\n",
    "daily_change([1, 2, 2.5, 3, 3.5, 4])"
   ]
  },
  {
   "cell_type": "code",
   "execution_count": null,
   "metadata": {},
   "outputs": [],
   "source": [
    "# Returns 'none', since 3 = 3\n",
    "daily_change([3, 9, 3])"
   ]
  },
  {
   "cell_type": "code",
   "execution_count": null,
   "metadata": {},
   "outputs": [],
   "source": [
    "# Return 'decrease', since 5 > 2\n",
    "daily_change([5, 4, 3, 4, 5, 4, 3, 2, 2])"
   ]
  },
  {
   "cell_type": "markdown",
   "metadata": {},
   "source": [
    "### Part 2, Quick Check 2\n",
    "\n",
    "**Task:** Given a list of prices of a stock on a single day, return `True` if the stock was strictly increasing, and `False` otherwise. A list of numbers is strictly increasing if each one is larger than the previous."
   ]
  },
  {
   "cell_type": "code",
   "execution_count": null,
   "metadata": {},
   "outputs": [],
   "source": [
    "def strictly_increasing(prices):\n",
    "    i = 0\n",
    "    while i < len(prices) - 1:\n",
    "        if ...:\n",
    "            return False\n",
    "        i += 1\n",
    "    return True"
   ]
  },
  {
   "cell_type": "code",
   "execution_count": null,
   "metadata": {},
   "outputs": [],
   "source": []
  },
  {
   "cell_type": "code",
   "execution_count": null,
   "metadata": {},
   "outputs": [],
   "source": []
  },
  {
   "cell_type": "code",
   "execution_count": null,
   "metadata": {},
   "outputs": [],
   "source": []
  },
  {
   "cell_type": "markdown",
   "metadata": {},
   "source": [
    "## Next day of the week"
   ]
  },
  {
   "cell_type": "code",
   "execution_count": null,
   "metadata": {},
   "outputs": [],
   "source": [
    "def next_day(day):\n",
    "    week = ['Sunday', 'Monday', 'Tuesday', 'Wednesday', 'Thursday', 'Friday', 'Saturday']\n",
    "    curr = week.index(day)\n",
    "    return week[(curr + 1) % 7]"
   ]
  },
  {
   "cell_type": "code",
   "execution_count": null,
   "metadata": {},
   "outputs": [],
   "source": [
    "next_day('Wednesday')"
   ]
  },
  {
   "cell_type": "code",
   "execution_count": null,
   "metadata": {},
   "outputs": [],
   "source": [
    "next_day('Saturday')"
   ]
  },
  {
   "cell_type": "markdown",
   "metadata": {},
   "source": [
    "## More Practice"
   ]
  },
  {
   "cell_type": "markdown",
   "metadata": {},
   "source": [
    "Given the side lengths of a triangle **as a list** (`sides`), return:\n",
    "- `'equilateral'` if all three side lengths are equal\n",
    "- `'isoceles'` if exactly two of the three side lengths are equal\n",
    "- `'scalene'` if all three side lengths are different\n",
    "\n",
    "If any of the side lengths are less than or equal to 0, return `'invalid'`."
   ]
  },
  {
   "cell_type": "code",
   "execution_count": null,
   "metadata": {},
   "outputs": [],
   "source": [
    "def triangle_type(sides):\n",
    "    ..."
   ]
  },
  {
   "cell_type": "code",
   "execution_count": null,
   "metadata": {},
   "outputs": [],
   "source": [
    "# Uncomment this to check your implementation – the result should be 'equilateral'\n",
    "# triangle_type([6, 6, 6])"
   ]
  },
  {
   "cell_type": "code",
   "execution_count": null,
   "metadata": {},
   "outputs": [],
   "source": [
    "# Uncomment this to check your implementation – the result should be 'isoceles'\n",
    "# triangle_type([5, 6, 5])"
   ]
  },
  {
   "cell_type": "code",
   "execution_count": null,
   "metadata": {},
   "outputs": [],
   "source": [
    "# Uncomment this to check your implementation – the result should be 'scalene'\n",
    "# triangle_type([5, 6, 7])"
   ]
  },
  {
   "cell_type": "code",
   "execution_count": null,
   "metadata": {},
   "outputs": [],
   "source": [
    "# Uncomment this to check your implementation – the result should be 'invalid'\n",
    "# triangle_type([5, 6, 0])"
   ]
  },
  {
   "cell_type": "markdown",
   "metadata": {},
   "source": [
    "<details>\n",
    "    <summary>Answer</summary>\n",
    "    <code>\n",
    "    def triangle_type(sides):\n",
    "        if sides[0] <= 0 or sides[1] <= 0 or sides[2] <= 0:\n",
    "            return 'invalid'\n",
    "        if sides[0] == sides[1] == sides[2]:\n",
    "            return 'equilateral'\n",
    "        elif (sides[0] == sides[1]) or (sides[1] == sides[2]) or (sides[0] == sides[2]):\n",
    "            return 'isoceles'\n",
    "        else:\n",
    "            return 'scalene'\n",
    "    </code>\n",
    "</details>"
   ]
  }
 ],
 "metadata": {
  "kernelspec": {
   "display_name": "Python 3",
   "language": "python",
   "name": "python3"
  },
  "language_info": {
   "codemirror_mode": {
    "name": "ipython",
    "version": 3
   },
   "file_extension": ".py",
   "mimetype": "text/x-python",
   "name": "python",
   "nbconvert_exporter": "python",
   "pygments_lexer": "ipython3",
   "version": "3.8.5"
  }
 },
 "nbformat": 4,
 "nbformat_minor": 4
}

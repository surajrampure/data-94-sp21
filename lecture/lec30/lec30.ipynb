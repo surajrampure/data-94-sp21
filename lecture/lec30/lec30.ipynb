{
 "cells": [
  {
   "cell_type": "markdown",
   "metadata": {},
   "source": [
    "# Lecture 30 – Perception, Case Study\n",
    "\n",
    "## Data 94, Spring 2021"
   ]
  },
  {
   "cell_type": "code",
   "execution_count": null,
   "metadata": {},
   "outputs": [],
   "source": [
    "from datascience import *\n",
    "import numpy as np\n",
    "Table.interactive_plots()\n",
    "import plotly.express as px"
   ]
  },
  {
   "cell_type": "code",
   "execution_count": null,
   "metadata": {
    "scrolled": false
   },
   "outputs": [],
   "source": [
    "sky = Table.read_table('data/skyscrapers.csv') \\\n",
    "           .where('status.current', are.contained_in(['completed', 'under construction'])) \\\n",
    "           .select('name', 'location.city', 'location.latitude', 'location.longitude', \n",
    "                   'statistics.floors above', 'statistics.height', 'status.completed.year') \\\n",
    "           .relabeled(['location.city', 'location.latitude', 'location.longitude',\n",
    "                       'statistics.floors above', 'statistics.height', 'status.completed.year'],\n",
    "                      ['city', 'latitude', 'longitude', 'floors', 'height', 'year']) \\\n",
    "           .where('height', are.above(0)) \\\n",
    "           .where('floors', are.above(0))\n",
    "\n",
    "sky"
   ]
  },
  {
   "cell_type": "markdown",
   "metadata": {},
   "source": [
    "## Perception"
   ]
  },
  {
   "cell_type": "code",
   "execution_count": null,
   "metadata": {},
   "outputs": [],
   "source": [
    "sky.group('city') \\\n",
    "   .where('count', are.above_or_equal_to(40)) \\\n",
    "   .sort('count', descending = True) \\\n",
    "   .barh('city', title = 'Number of Skyscrapers Per City')"
   ]
  },
  {
   "cell_type": "code",
   "execution_count": null,
   "metadata": {},
   "outputs": [],
   "source": [
    "# Remember, you're not responsible for the code here.\n",
    "px.pie(sky.group('city').where('count', are.above_or_equal_to(40)).to_df(),\n",
    "       values = 'count',\n",
    "       names = 'city',\n",
    "       title = 'Number of Skyscrapers Per City (Top 10 Only)'\n",
    ")"
   ]
  },
  {
   "cell_type": "markdown",
   "metadata": {},
   "source": [
    "## Case Study – Skyscrapers"
   ]
  },
  {
   "cell_type": "code",
   "execution_count": null,
   "metadata": {
    "scrolled": true
   },
   "outputs": [],
   "source": [
    "sky.shuffle()"
   ]
  },
  {
   "cell_type": "markdown",
   "metadata": {},
   "source": [
    "### Which cities have the most skyscrapers?"
   ]
  },
  {
   "cell_type": "code",
   "execution_count": null,
   "metadata": {
    "scrolled": true
   },
   "outputs": [],
   "source": [
    "sky.group('city') \\\n",
    "   .where('count', are.above_or_equal_to(20)) \\\n",
    "   .sort('count', descending = True)"
   ]
  },
  {
   "cell_type": "code",
   "execution_count": null,
   "metadata": {},
   "outputs": [],
   "source": [
    "sky.group('city') \\\n",
    "   .where('count', are.above_or_equal_to(20)) \\\n",
    "   .sort('count', descending = True) \\\n",
    "   .barh('city', title = 'Number of Skyscrapers Per City (Min. 20)')"
   ]
  },
  {
   "cell_type": "markdown",
   "metadata": {},
   "source": [
    "Do any of the above cities stick out to you?"
   ]
  },
  {
   "cell_type": "markdown",
   "metadata": {},
   "source": [
    "### What is the distribution of skyscraper heights?"
   ]
  },
  {
   "cell_type": "code",
   "execution_count": null,
   "metadata": {},
   "outputs": [],
   "source": [
    "sky.column('height').min()"
   ]
  },
  {
   "cell_type": "code",
   "execution_count": null,
   "metadata": {},
   "outputs": [],
   "source": [
    "sky.column('height').max()"
   ]
  },
  {
   "cell_type": "code",
   "execution_count": null,
   "metadata": {},
   "outputs": [],
   "source": [
    "sky.hist('height', density = False, bins = np.arange(0, 600, 25),\n",
    "        title = 'Distribution of Skyscraper Heights')"
   ]
  },
  {
   "cell_type": "markdown",
   "metadata": {},
   "source": [
    "Let's zoom in a little more."
   ]
  },
  {
   "cell_type": "code",
   "execution_count": null,
   "metadata": {
    "scrolled": false
   },
   "outputs": [],
   "source": [
    "sky.where('height', are.below(300)) \\\n",
    "   .hist('height', density = False, bins = np.arange(0, 310, 10),\n",
    "        title = 'Distribution of Skyscraper Heights Below 300m')"
   ]
  },
  {
   "cell_type": "markdown",
   "metadata": {},
   "source": [
    "### What's the distribution of short vs. tall skyscrapers in each city?"
   ]
  },
  {
   "cell_type": "code",
   "execution_count": null,
   "metadata": {},
   "outputs": [],
   "source": [
    "sky"
   ]
  },
  {
   "cell_type": "markdown",
   "metadata": {},
   "source": [
    "Let's say a skyscraper is \"short\" if its height is less than or equal to 150 meters; otherwise, it's \"tall\"."
   ]
  },
  {
   "cell_type": "code",
   "execution_count": null,
   "metadata": {},
   "outputs": [],
   "source": [
    "def height_cat(height):\n",
    "    if height <= 150:\n",
    "        return 'short'\n",
    "    return 'tall'"
   ]
  },
  {
   "cell_type": "code",
   "execution_count": null,
   "metadata": {},
   "outputs": [],
   "source": [
    "sky.apply(height_cat, 'height')"
   ]
  },
  {
   "cell_type": "code",
   "execution_count": null,
   "metadata": {},
   "outputs": [],
   "source": [
    "sky = sky.with_columns('height category', sky.apply(height_cat, 'height'))\n",
    "sky"
   ]
  },
  {
   "cell_type": "markdown",
   "metadata": {},
   "source": [
    "We can use `pivot` to draw a bar chart of the number of short and tall skyscrapers per city.\n",
    "\n",
    "### [Quick Check 1](https://edstem.org/us/courses/3251/lessons/12407/slides/60647)\n",
    "\n",
    "Fill in the blanks to create the table `short_and_tall`, which has two columns, `'short'` and `'tall'`, and one row for each city with **at least 5 short and 5 tall skyscrapers**. The first five rows of `short_and_tall` are shown below.\n",
    "\n",
    "| city          |   short |   tall |\n",
    "|--------------:|--------:|-------:|\n",
    "| New York City |     341 |    217 |\n",
    "| Chicago       |     268 |    108 |\n",
    "| Miami         |      58 |     49 |\n",
    "| Houston       |      34 |     27 |\n",
    "| San Francisco |      43 |     22 |\n",
    "\n",
    "```py\n",
    "short_and_tall = sky.pivot(__(a)__, __(b)__) \\\n",
    "                    .where(__(c)__, are.above_or_equal_to(5)) \\\n",
    "                    .where('tall', are.above_or_equal_to(5)) \\\n",
    "                    .sort('tall', descending = True)\n",
    "```"
   ]
  },
  {
   "cell_type": "code",
   "execution_count": null,
   "metadata": {},
   "outputs": [],
   "source": [
    "# short_and_tall = sky.pivot(__(a)__, __(b)__) \\\n",
    "#                     .where(__(c)__, are.above_or_equal_to(5)) \\\n",
    "#                     .where('tall', are.above_or_equal_to(5)) \\\n",
    "#                     .sort('tall', descending = True)"
   ]
  },
  {
   "cell_type": "code",
   "execution_count": null,
   "metadata": {},
   "outputs": [],
   "source": [
    "# short_and_tall.barh('city', title = 'Number of Short and Tall Skyscrapers Per City (Min. 5 Each)')"
   ]
  },
  {
   "cell_type": "markdown",
   "metadata": {},
   "source": [
    "It seems like most cities have roughly twice as many \"short\" skyscrapers as they do \"tall\" skyscrapers.\n",
    "\n",
    "What if we want to look at the distribution of the number of floors per skyscraper, separated by height category?"
   ]
  },
  {
   "cell_type": "code",
   "execution_count": null,
   "metadata": {
    "scrolled": false
   },
   "outputs": [],
   "source": [
    "sky.hist('floors', group = 'height category', \n",
    "         density = False,\n",
    "         bins = np.arange(0, 150, 5),\n",
    "         title = 'Distribution of Number of Floors Per Skyscraper')"
   ]
  },
  {
   "cell_type": "markdown",
   "metadata": {},
   "source": [
    "Since there is overlap between the two histograms, we have that there are some short skyscrapers (below 150m) with more floors than some tall skyscrapers!"
   ]
  },
  {
   "cell_type": "markdown",
   "metadata": {},
   "source": [
    "### What's the relationship between height and number of floors?"
   ]
  },
  {
   "cell_type": "code",
   "execution_count": null,
   "metadata": {},
   "outputs": [],
   "source": [
    "sky"
   ]
  },
  {
   "cell_type": "code",
   "execution_count": null,
   "metadata": {},
   "outputs": [],
   "source": [
    "sky.scatter('height', 'floors',\n",
    "           s = 30,\n",
    "           group = 'height category',\n",
    "           title = 'Number of Floors vs. Height', \n",
    "           yaxis_title = 'Number of Floors')"
   ]
  },
  {
   "cell_type": "code",
   "execution_count": null,
   "metadata": {},
   "outputs": [],
   "source": [
    "sky.where('height', are.above(300)) \\\n",
    "   .scatter('height', 'floors',\n",
    "            s = 50,\n",
    "            labels = 'name',\n",
    "            title = 'Number of Floors vs. Height (Min. 300m)')"
   ]
  },
  {
   "cell_type": "markdown",
   "metadata": {},
   "source": [
    "### How many skyscrapers were built per year?"
   ]
  },
  {
   "cell_type": "code",
   "execution_count": null,
   "metadata": {},
   "outputs": [],
   "source": [
    "sky"
   ]
  },
  {
   "cell_type": "code",
   "execution_count": null,
   "metadata": {},
   "outputs": [],
   "source": [
    "sky.group('year')"
   ]
  },
  {
   "cell_type": "markdown",
   "metadata": {},
   "source": [
    "This is obviously an error in our data."
   ]
  },
  {
   "cell_type": "code",
   "execution_count": null,
   "metadata": {
    "scrolled": true
   },
   "outputs": [],
   "source": [
    "sky.where('year', 0)"
   ]
  },
  {
   "cell_type": "code",
   "execution_count": null,
   "metadata": {},
   "outputs": [],
   "source": [
    "sky.where('year', are.not_equal_to(0)) \\\n",
    "   .group('year') \\\n",
    "   .plot('year', title = 'Number of Skyscrapers Built Per Year')"
   ]
  },
  {
   "cell_type": "markdown",
   "metadata": {},
   "source": [
    "What if we want to look at the number of skyscrapers per year built in different cities?"
   ]
  },
  {
   "cell_type": "code",
   "execution_count": null,
   "metadata": {},
   "outputs": [],
   "source": [
    "sky.where('city', are.contained_in(['New York City', 'Chicago'])) \\\n",
    "   .where('year', are.not_equal_to(0)) \\\n",
    "   .pivot('city', 'year')"
   ]
  },
  {
   "cell_type": "code",
   "execution_count": null,
   "metadata": {},
   "outputs": [],
   "source": [
    "sky.where('city', are.contained_in(['New York City', 'Chicago'])) \\\n",
    "   .where('year', are.not_equal_to(0)) \\\n",
    "   .pivot('city', 'year') \\\n",
    "   .plot('year',\n",
    "        title = 'Number of Skyscrapers Built Per Year in NYC and Chicago')"
   ]
  },
  {
   "cell_type": "markdown",
   "metadata": {},
   "source": [
    "### Where on a map are most skyscrapers located?"
   ]
  },
  {
   "cell_type": "code",
   "execution_count": null,
   "metadata": {},
   "outputs": [],
   "source": [
    "sky"
   ]
  },
  {
   "cell_type": "code",
   "execution_count": null,
   "metadata": {},
   "outputs": [],
   "source": [
    "Circle.map_table(sky.select('latitude', 'longitude'),\n",
    "                line_color = None,\n",
    "                fill_opacity = 0.65,\n",
    "                area = 75,\n",
    "                color = 'orange')"
   ]
  },
  {
   "cell_type": "markdown",
   "metadata": {},
   "source": [
    "Let's look at a map of tall skyscrapers in New York City."
   ]
  },
  {
   "cell_type": "code",
   "execution_count": null,
   "metadata": {},
   "outputs": [],
   "source": [
    "ny_tall = sky.where('city', 'New York City') \\\n",
    "             .where('height category', 'tall') \\\n",
    "             .select('latitude', 'longitude', 'name', 'height') \\\n",
    "             .relabeled(['name', 'height'], ['labels', 'color_scale'])\n",
    "\n",
    "ny_tall"
   ]
  },
  {
   "cell_type": "code",
   "execution_count": null,
   "metadata": {},
   "outputs": [],
   "source": [
    "Circle.map_table(ny_tall,\n",
    "                line_color = None,\n",
    "                fill_opacity = 0.65,\n",
    "                area = 150,\n",
    "                color_scale = None)"
   ]
  },
  {
   "cell_type": "markdown",
   "metadata": {},
   "source": [
    "It seems like most skyscrapers in NYC are either in the financial district or in Midtown. The circles for One World Trade Center and the Empire State Building are bright."
   ]
  },
  {
   "cell_type": "markdown",
   "metadata": {},
   "source": [
    "Lastly, what if we want to look at where short and tall skyscrapers are throughout the country?"
   ]
  },
  {
   "cell_type": "code",
   "execution_count": null,
   "metadata": {},
   "outputs": [],
   "source": [
    "sky"
   ]
  },
  {
   "cell_type": "markdown",
   "metadata": {},
   "source": [
    "There are two solutions here.\n",
    "1. Create a function that takes in `'short'` or `'tall'` and returns the desired color. (We did this in Lecture 28.)\n",
    "2. Create a table with two columns, one with `'short'` and `'tall'` and the other with the desired colors, and join this table with `sky`.\n",
    "\n",
    "We will use the second approach here."
   ]
  },
  {
   "cell_type": "code",
   "execution_count": null,
   "metadata": {},
   "outputs": [],
   "source": [
    "sky_to_color = Table().with_columns(\n",
    "    'category', np.array(['short', 'tall']),\n",
    "    'colors', np.array(['orange', 'green'])\n",
    ")\n",
    "\n",
    "sky_to_color"
   ]
  },
  {
   "cell_type": "code",
   "execution_count": null,
   "metadata": {},
   "outputs": [],
   "source": [
    "sky_with_colors = sky.join('height category', sky_to_color, 'category') \\\n",
    "                     .select('latitude', 'longitude', 'colors')\n",
    "\n",
    "sky_with_colors"
   ]
  },
  {
   "cell_type": "code",
   "execution_count": null,
   "metadata": {
    "scrolled": false
   },
   "outputs": [],
   "source": [
    "Circle.map_table(sky_with_colors,\n",
    "                line_color = None,\n",
    "                fill_opacity = 0.7)"
   ]
  },
  {
   "cell_type": "markdown",
   "metadata": {},
   "source": [
    "While there seem to be short skyscrapers (orange) throughout the country, tall skyscrapers generally seem to be concentrated in larger cities."
   ]
  }
 ],
 "metadata": {
  "kernelspec": {
   "display_name": "Python 3",
   "language": "python",
   "name": "python3"
  },
  "language_info": {
   "codemirror_mode": {
    "name": "ipython",
    "version": 3
   },
   "file_extension": ".py",
   "mimetype": "text/x-python",
   "name": "python",
   "nbconvert_exporter": "python",
   "pygments_lexer": "ipython3",
   "version": "3.8.5"
  }
 },
 "nbformat": 4,
 "nbformat_minor": 4
}

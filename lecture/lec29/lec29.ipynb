{
 "cells": [
  {
   "cell_type": "markdown",
   "metadata": {},
   "source": [
    "# Lecture 29 – Fun with Plotly\n",
    "\n",
    "## Data 94, Spring 2021"
   ]
  },
  {
   "cell_type": "code",
   "execution_count": null,
   "metadata": {},
   "outputs": [],
   "source": [
    "from datascience import *\n",
    "import numpy as np\n",
    "Table.interactive_plots()\n",
    "import plotly.express as px\n",
    "import seaborn as sns"
   ]
  },
  {
   "cell_type": "markdown",
   "metadata": {},
   "source": [
    "## Animated scatter plots"
   ]
  },
  {
   "cell_type": "code",
   "execution_count": null,
   "metadata": {},
   "outputs": [],
   "source": [
    "world = Table.from_df(px.data.gapminder())\n",
    "world"
   ]
  },
  {
   "cell_type": "code",
   "execution_count": null,
   "metadata": {},
   "outputs": [],
   "source": [
    "px.scatter(world.to_df(),\n",
    "           x = 'gdpPercap',\n",
    "           y = 'lifeExp', \n",
    "           hover_name = 'country',\n",
    "           color = 'continent',\n",
    "           size = 'pop',\n",
    "           size_max = 60,\n",
    "           log_x = True,\n",
    "           range_y = [30, 90],\n",
    "           animation_frame = 'year',\n",
    "           title = 'Life Expectancy, GDP Per Capita, and Population over Time'\n",
    "          )"
   ]
  },
  {
   "cell_type": "markdown",
   "metadata": {},
   "source": [
    "## Animated histograms"
   ]
  },
  {
   "cell_type": "code",
   "execution_count": null,
   "metadata": {},
   "outputs": [],
   "source": [
    "px.histogram(world.to_df(),\n",
    "            x = 'lifeExp',\n",
    "            animation_frame = 'year',\n",
    "            title = 'Distribution of Life Expectancy over Time')"
   ]
  },
  {
   "cell_type": "markdown",
   "metadata": {},
   "source": [
    "## Boxplots"
   ]
  },
  {
   "cell_type": "code",
   "execution_count": null,
   "metadata": {},
   "outputs": [],
   "source": [
    "world_latest = world.where('year', 2007)\n",
    "world_latest"
   ]
  },
  {
   "cell_type": "code",
   "execution_count": null,
   "metadata": {},
   "outputs": [],
   "source": [
    "px.box(world_latest.to_df(),\n",
    "       y = 'lifeExp',\n",
    "       x = 'continent',\n",
    "       color = 'continent',\n",
    "       hover_name = 'country',\n",
    "       title = 'Distribution of Life Expectancy in 2007 by Continent'\n",
    "      )"
   ]
  },
  {
   "cell_type": "markdown",
   "metadata": {},
   "source": [
    "## Break: [Quick Check 1](https://edstem.org/us/courses/3251/lessons/12381/slides/60402)"
   ]
  },
  {
   "cell_type": "markdown",
   "metadata": {},
   "source": [
    "## Pie charts"
   ]
  },
  {
   "cell_type": "code",
   "execution_count": null,
   "metadata": {},
   "outputs": [],
   "source": [
    "world_latest.where('continent', 'Americas')"
   ]
  },
  {
   "cell_type": "code",
   "execution_count": null,
   "metadata": {},
   "outputs": [],
   "source": [
    "px.pie(world_latest.where('continent', 'Americas').to_df(),\n",
    "       values = 'pop',\n",
    "       names = 'country',\n",
    "       title = 'Population of the Americas'\n",
    ")"
   ]
  },
  {
   "cell_type": "code",
   "execution_count": null,
   "metadata": {},
   "outputs": [],
   "source": [
    "world_for_pie = world_latest \\\n",
    "     .group('continent', sum) \\\n",
    "     .select('continent', 'pop sum')\n",
    "\n",
    "world_for_pie"
   ]
  },
  {
   "cell_type": "code",
   "execution_count": null,
   "metadata": {},
   "outputs": [],
   "source": [
    "px.pie(world_for_pie.to_df(),\n",
    "      values = 'pop sum',\n",
    "      names = 'continent',\n",
    "      title = 'World Population by Continent')"
   ]
  },
  {
   "cell_type": "markdown",
   "metadata": {},
   "source": [
    "## Timelines (also known as Gantt charts)"
   ]
  },
  {
   "cell_type": "code",
   "execution_count": null,
   "metadata": {},
   "outputs": [],
   "source": [
    "phases = [\n",
    " ['Newborn', '1998-11-26', '1999-11-26', 'Canada'],\n",
    " ['Toddler, Preschooler', '1999-11-26', '2005-09-03', 'US'],\n",
    " ['Elementary School Student', '2005-09-03', '2009-06-30', 'Canada'],\n",
    " ['Middle School Student', '2009-09-15', '2012-06-15', 'Canada'],\n",
    " ['High School Student', '2012-09-05', '2016-05-30', 'Canada'],\n",
    " ['Undergrad @ UC Berkeley', '2016-08-22','2020-05-15', 'US'],\n",
    " ['Masters @ UC Berkeley', '2020-08-25', '2021-05-14', 'Canada'],\n",
    " ['Teaching Data 94', '2021-01-20', '2021-05-14', 'Canada']]\n",
    "\n",
    "phases_table = Table(labels = ['Phase', 'Start', 'End', 'Location']).with_rows(phases)\n",
    "phases_table"
   ]
  },
  {
   "cell_type": "code",
   "execution_count": null,
   "metadata": {},
   "outputs": [],
   "source": [
    "px.timeline(phases_table.to_df(),\n",
    "           x_start = 'Start',\n",
    "           x_end = 'End',\n",
    "           y = 'Phase',\n",
    "           text = 'Location',\n",
    "           title = 'My Life Trajectory') \\\n",
    ".update_yaxes(autorange='reversed')"
   ]
  },
  {
   "cell_type": "markdown",
   "metadata": {},
   "source": [
    "## Choropleths"
   ]
  },
  {
   "cell_type": "code",
   "execution_count": null,
   "metadata": {},
   "outputs": [],
   "source": [
    "world_latest"
   ]
  },
  {
   "cell_type": "code",
   "execution_count": null,
   "metadata": {},
   "outputs": [],
   "source": [
    "px.choropleth(world_latest.to_df(),\n",
    "              locations = 'iso_alpha',\n",
    "              color = 'lifeExp',\n",
    "              hover_name = 'country',\n",
    "              title = 'Life Expectancy Per Country',\n",
    "              color_continuous_scale = px.colors.sequential.tempo\n",
    ")"
   ]
  },
  {
   "cell_type": "code",
   "execution_count": null,
   "metadata": {},
   "outputs": [],
   "source": [
    "wm = Table.read_table('data/walmart.csv')\n",
    "wm"
   ]
  },
  {
   "cell_type": "code",
   "execution_count": null,
   "metadata": {},
   "outputs": [],
   "source": [
    "# Number of Walmarts per state\n",
    "wm_per_state = wm.group('STRSTATE')\n",
    "wm_per_state"
   ]
  },
  {
   "cell_type": "code",
   "execution_count": null,
   "metadata": {},
   "outputs": [],
   "source": [
    "px.choropleth(wm_per_state.to_df(),\n",
    "             locations = 'STRSTATE',\n",
    "             color = 'count',\n",
    "             locationmode = 'USA-states',\n",
    "             scope = 'usa',\n",
    "             title = 'Number of Walmarts Per State')"
   ]
  },
  {
   "cell_type": "markdown",
   "metadata": {},
   "source": [
    "## 3D scatter plots"
   ]
  },
  {
   "cell_type": "code",
   "execution_count": null,
   "metadata": {},
   "outputs": [],
   "source": [
    "penguins = Table.from_df(sns.load_dataset('penguins'))\n",
    "penguins"
   ]
  },
  {
   "cell_type": "code",
   "execution_count": null,
   "metadata": {},
   "outputs": [],
   "source": [
    "px.scatter_3d(penguins.to_df(),\n",
    "             x = 'bill_length_mm',\n",
    "             y = 'bill_depth_mm',\n",
    "             z = 'flipper_length_mm',\n",
    "             color = 'species',\n",
    "             hover_name = 'island',\n",
    "             title = 'Flipper Length vs. Bill Depth vs. Bill Length')"
   ]
  }
 ],
 "metadata": {
  "kernelspec": {
   "display_name": "Python 3",
   "language": "python",
   "name": "python3"
  },
  "language_info": {
   "codemirror_mode": {
    "name": "ipython",
    "version": 3
   },
   "file_extension": ".py",
   "mimetype": "text/x-python",
   "name": "python",
   "nbconvert_exporter": "python",
   "pygments_lexer": "ipython3",
   "version": "3.8.5"
  }
 },
 "nbformat": 4,
 "nbformat_minor": 4
}

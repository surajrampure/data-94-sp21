{
 "cells": [
  {
   "cell_type": "markdown",
   "metadata": {},
   "source": [
    "# Lecture 35 – Guest Lecture: Elections and Data\n",
    "\n",
    "## Data 94, Spring 2021\n",
    "\n",
    "by Lakshya Jain"
   ]
  },
  {
   "cell_type": "code",
   "execution_count": null,
   "metadata": {},
   "outputs": [],
   "source": [
    "import geopandas as gpd\n",
    "import matplotlib.pyplot as plt\n",
    "import pandas as pd\n",
    "import matplotlib.patches as mpatches"
   ]
  },
  {
   "cell_type": "code",
   "execution_count": null,
   "metadata": {},
   "outputs": [],
   "source": [
    "# Let's scrape the data\n",
    "url_62 = 'https://en.wikipedia.org/wiki/1962_California_gubernatorial_election#Results_by_county'\n",
    "url_14 = 'https://en.wikipedia.org/wiki/2014_California_gubernatorial_election#Results_by_county'\n",
    "\n",
    "df_62=pd.read_html(url_62, header=0)[29]\n",
    "df_14=pd.read_html(url_14, header=0)[35]"
   ]
  },
  {
   "cell_type": "code",
   "execution_count": null,
   "metadata": {},
   "outputs": [],
   "source": [
    "df_14[\"Brown\"] = df_14[\"Brown\"]/(df_14[\"Brown\"] + df_14[\"Kashkari\"]) * 100\n",
    "df_62[\"Brown\"] = df_62[\"Brown\"].map(lambda x: x.strip(\"%\")).astype(\"double\")\n",
    "df_62[\"Nixon\"] = df_62[\"Nixon\"].map(lambda x: x.strip(\"%\")).astype(\"double\")\n",
    "df_62[\"Brown\"] = df_62[\"Brown\"]/(df_62[\"Brown\"] + df_62[\"Nixon\"]) * 100"
   ]
  },
  {
   "cell_type": "code",
   "execution_count": null,
   "metadata": {},
   "outputs": [],
   "source": [
    "df_14.head()"
   ]
  },
  {
   "cell_type": "code",
   "execution_count": null,
   "metadata": {},
   "outputs": [],
   "source": [
    "df_62.head()"
   ]
  },
  {
   "cell_type": "code",
   "execution_count": null,
   "metadata": {},
   "outputs": [],
   "source": [
    "electoral_results = df_14.merge(df_62, on=\"County\")"
   ]
  },
  {
   "cell_type": "code",
   "execution_count": null,
   "metadata": {},
   "outputs": [],
   "source": [
    "electoral_results.head()"
   ]
  },
  {
   "cell_type": "code",
   "execution_count": null,
   "metadata": {},
   "outputs": [],
   "source": [
    "electoral_results = electoral_results[[\"County\", \"Brown_x\", \"Brown_y\"]]\n",
    "electoral_results = electoral_results.rename(columns={'Brown_x': 'Jerry Brown 2014', 'Brown_y': 'Pat Brown 1962'})\n",
    "electoral_results[\"Swing\"] = electoral_results['Jerry Brown 2014'] - electoral_results['Pat Brown 1962']"
   ]
  },
  {
   "cell_type": "code",
   "execution_count": null,
   "metadata": {},
   "outputs": [],
   "source": [
    "electoral_results.head()"
   ]
  },
  {
   "cell_type": "code",
   "execution_count": null,
   "metadata": {},
   "outputs": [],
   "source": [
    "map_df = gpd.read_file(\"data/CA_Counties/CA_Counties_TIGER2016.shp\")\n",
    "map_df = map_df.to_crs(epsg=3857)\n",
    "map_df = map_df.merge(electoral_results[[\"County\", \"Swing\"]], left_on=\"NAME\", right_on=\"County\", how=\"inner\")"
   ]
  },
  {
   "cell_type": "code",
   "execution_count": null,
   "metadata": {},
   "outputs": [],
   "source": [
    "bins = [-30, -20, -15, -10, -5, 0, 5, 10, 15, 20, 30]\n",
    "map_df['Bucket'] = 0.0\n",
    "bin_names = [\"Pat Brown > +30\"]\n",
    "for i in range(len(bins)):\n",
    "    name = \"\"\n",
    "    if bins[i] < 0:\n",
    "        name = \"Pat Brown\"\n",
    "        boundary = bins[i+1]\n",
    "    else:\n",
    "        name = \"Jerry Brown\"\n",
    "        boundary = bins[i]\n",
    "    bin_names += [name + ' > +' + str(abs(boundary))]\n",
    "    map_df.loc[map_df['Swing'] > boundary, \"Bucket\"] = i\n",
    "\n",
    "map_df['coords'] = map_df['geometry'].apply(lambda x: x.representative_point().coords[:] if x else None)\n",
    "map_df['coords'] = [coords[0] if coords else None for coords in map_df['coords']]"
   ]
  },
  {
   "cell_type": "code",
   "execution_count": null,
   "metadata": {},
   "outputs": [],
   "source": [
    "map_df.head()"
   ]
  },
  {
   "cell_type": "code",
   "execution_count": null,
   "metadata": {},
   "outputs": [],
   "source": [
    "f, ax = plt.subplots(1, figsize=(15, 15))\n",
    "cmap = plt.cm.get_cmap(\"PiYG\", len(bin_names))\n",
    "ax = map_df.plot(column=\"Bucket\", cmap=cmap,\n",
    "                   edgecolor=\"grey\", linewidth=0.2, ax=ax)\n",
    "\n",
    "ax.legend([mpatches.Patch(color=cmap(b)) for b in range(len(bin_names))], bin_names, loc=(1.02, .18))\n",
    "\n",
    "for idx, row in map_df.iterrows():\n",
    "    if not row['coords']:\n",
    "        continue\n",
    "    plt.annotate(s=row['NAME'], xy=row['coords'], horizontalalignment='center', size=6)\n",
    "\n",
    "ax.set_axis_off()\n",
    "\n",
    "plt.gca().set_axis_off()\n",
    "plt.subplots_adjust(top = 0.95, bottom = 0.05, right = 0.95, left = 0.05, \n",
    "            hspace = 0.05, wspace = 0.05)\n",
    "plt.margins(0,0)\n",
    "plt.gca().xaxis.set_major_locator(plt.NullLocator())\n",
    "plt.gca().yaxis.set_major_locator(plt.NullLocator())\n",
    "\n",
    "plt.title(\"Pat Brown vs Jerry Brown: 1962-2014\")\n",
    "plt.figtext(0.99, 0.175, 'Data: Wikipedia', horizontalalignment='right')\n",
    "plt.show()"
   ]
  }
 ],
 "metadata": {
  "kernelspec": {
   "display_name": "Python 3",
   "language": "python",
   "name": "python3"
  },
  "language_info": {
   "codemirror_mode": {
    "name": "ipython",
    "version": 3
   },
   "file_extension": ".py",
   "mimetype": "text/x-python",
   "name": "python",
   "nbconvert_exporter": "python",
   "pygments_lexer": "ipython3",
   "version": "3.8.5"
  }
 },
 "nbformat": 4,
 "nbformat_minor": 5
}

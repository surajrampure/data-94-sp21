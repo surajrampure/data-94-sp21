{
 "cells": [
  {
   "cell_type": "markdown",
   "metadata": {},
   "source": [
    "# Lecture 22 – Case Study\n",
    "\n",
    "## Data 94, Spring 2021"
   ]
  },
  {
   "cell_type": "code",
   "execution_count": null,
   "metadata": {},
   "outputs": [],
   "source": [
    "from datascience import *\n",
    "import numpy as np\n",
    "import matplotlib.pyplot as plt\n",
    "%matplotlib inline\n",
    "import plotly.express as px\n",
    "\n",
    "Table.interactive_plots()"
   ]
  },
  {
   "cell_type": "markdown",
   "metadata": {},
   "source": [
    "Note: We're not going to be able to work through this entire notebook in lecture; you should definitely review whatever we don't get a chance to finish.\n",
    "\n",
    "## World University Rankings 2020\n",
    "\n",
    "Our dataset comes from Times Higher Education (THE)'s [World University Rankings 2020](https://www.timeshighereducation.com/world-university-rankings/2020/world-ranking#!/page/0/length/25/sort_by/rank/sort_order/asc/cols/stats). These are slightly outdated as there is a 2021 ranking now, but the data is still relevant."
   ]
  },
  {
   "cell_type": "code",
   "execution_count": null,
   "metadata": {},
   "outputs": [],
   "source": [
    "world = Table.read_table('data/World_University_Rank_2020.csv')"
   ]
  },
  {
   "cell_type": "code",
   "execution_count": null,
   "metadata": {},
   "outputs": [],
   "source": [
    "world"
   ]
  },
  {
   "cell_type": "markdown",
   "metadata": {},
   "source": [
    "It's always good to check how many schools we're dealing with:"
   ]
  },
  {
   "cell_type": "code",
   "execution_count": null,
   "metadata": {},
   "outputs": [],
   "source": []
  },
  {
   "cell_type": "markdown",
   "metadata": {},
   "source": [
    "Some columns (`'Number_students'`, `'International_Students'`, `'Percentage_Female'`, `'Percentage_Male'`) have commas and percentage symbols, meaning they can't be stored as integers. Let's clean them."
   ]
  },
  {
   "cell_type": "code",
   "execution_count": null,
   "metadata": {},
   "outputs": [],
   "source": [
    "# Notice how we use apply here!\n",
    "def remove_symbol(s):\n",
    "    return int(s.replace('%', '').replace(',', ''))"
   ]
  },
  {
   "cell_type": "code",
   "execution_count": null,
   "metadata": {},
   "outputs": [],
   "source": [
    "# Remember, the result of calling apply is an array\n"
   ]
  },
  {
   "cell_type": "code",
   "execution_count": null,
   "metadata": {},
   "outputs": [],
   "source": [
    "world = world.with_columns(\n",
    "    'Number_students', world.apply(remove_symbol, 'Number_students'),\n",
    "    'International_Students', world.apply(remove_symbol, 'International_Students'),\n",
    "    'Percentage_Female', world.apply(remove_symbol, 'Percentage_Female'),\n",
    "    'Percentage_Male', world.apply(remove_symbol, 'Percentage_Male')\n",
    ")"
   ]
  },
  {
   "cell_type": "markdown",
   "metadata": {},
   "source": [
    "Now we can sort by any numeric column we want."
   ]
  },
  {
   "cell_type": "code",
   "execution_count": null,
   "metadata": {},
   "outputs": [],
   "source": []
  },
  {
   "cell_type": "markdown",
   "metadata": {},
   "source": [
    "It seems like the above schools didn't report their sex breakdown, since 0% is the listed percentage of female and male students."
   ]
  },
  {
   "cell_type": "markdown",
   "metadata": {},
   "source": [
    "Let's start asking questions."
   ]
  },
  {
   "cell_type": "markdown",
   "metadata": {},
   "source": [
    "## Which universities have the most international students?\n",
    "\n",
    "We have an `'International_Students'` column, but that tells us the **percentage** of international students at each school. Let's update that label to be more clear – let's change the label `'International_Students'` to be `'% International'`."
   ]
  },
  {
   "cell_type": "code",
   "execution_count": null,
   "metadata": {},
   "outputs": [],
   "source": []
  },
  {
   "cell_type": "code",
   "execution_count": null,
   "metadata": {},
   "outputs": [],
   "source": []
  },
  {
   "cell_type": "markdown",
   "metadata": {},
   "source": [
    "Then, to compute the **number** of international students at each school, we take the number of students at each school, multiply by the percentage of international students at each school, and divide by 100."
   ]
  },
  {
   "cell_type": "code",
   "execution_count": null,
   "metadata": {},
   "outputs": [],
   "source": []
  },
  {
   "cell_type": "markdown",
   "metadata": {},
   "source": [
    "We should probably round the result, since we can't have fractional humans."
   ]
  },
  {
   "cell_type": "code",
   "execution_count": null,
   "metadata": {},
   "outputs": [],
   "source": [
    "num_international = ...\n",
    "num_international"
   ]
  },
  {
   "cell_type": "markdown",
   "metadata": {},
   "source": [
    "We can add this as a column to our table:"
   ]
  },
  {
   "cell_type": "code",
   "execution_count": null,
   "metadata": {},
   "outputs": [],
   "source": [
    "world = world.with_columns(\n",
    "    '# International', num_international\n",
    ")"
   ]
  },
  {
   "cell_type": "markdown",
   "metadata": {},
   "source": [
    "And we can sort by this column, while also selecting a subset of all columns just to focus on what's relevant:"
   ]
  },
  {
   "cell_type": "code",
   "execution_count": null,
   "metadata": {},
   "outputs": [],
   "source": [
    "world.select('University', 'Country', 'Number_students', '% International', '# International') \\\n",
    "     .sort('# International', descending = True)"
   ]
  },
  {
   "cell_type": "markdown",
   "metadata": {},
   "source": [
    "This tells us that the University of Melbourne has the most international students, with 21,797. That's larger than many universities!\n",
    "\n",
    "There are no US universities in the top 10 here. How can we find the universities in the US with the most international students?\n",
    "\n",
    "### [Quick Check 1](https://edstem.org/us/courses/3251/lessons/11661/slides/55875)\n",
    "\n",
    "Fill in the blanks so that the resulting table contains **the 15 universities in the US with the most international students, sorted by number of international students in decreasing order**."
   ]
  },
  {
   "cell_type": "code",
   "execution_count": null,
   "metadata": {},
   "outputs": [],
   "source": [
    "# __(a)__ means blank a\n",
    "\n",
    "# world.select('University', 'Country', 'Number_students', '% International', '# International') \\\n",
    "#      .where(__(a)__, __(b)__) \\\n",
    "#      .sort('# International', __(c)__) \\\n",
    "#      .take(__(d)__)"
   ]
  },
  {
   "cell_type": "markdown",
   "metadata": {},
   "source": [
    "If you do a quick Google search for \"US universities with the most international students\", you'll see NYU is usually #1. Cool!"
   ]
  },
  {
   "cell_type": "markdown",
   "metadata": {},
   "source": [
    "## How do the rankings actually work?"
   ]
  },
  {
   "cell_type": "markdown",
   "metadata": {},
   "source": [
    "Times Higher Education's [website](https://www.timeshighereducation.com/world-university-rankings/world-university-rankings-2020-methodology) tells us the methodology they use to rank universities:\n",
    "\n",
    "<img src='https://www.timeshighereducation.com/sites/default/files/wur_2020_methodology_table.jpg' width=500>"
   ]
  },
  {
   "cell_type": "markdown",
   "metadata": {},
   "source": [
    "This means they come up with a `'Teaching'`, `'Research'`, `'Citations'`, `'International_Outlook'`, and `'Industry_Income'` score from 0 to 100 for each school, then compute a weighted average according to the above percentages to compute a school's `'Score_Result'`, which is how the schools are ranked.\n",
    "\n",
    "Let's confirm this ourselves. First, let's get a subset of the columns since they won't all be relevant here."
   ]
  },
  {
   "cell_type": "code",
   "execution_count": null,
   "metadata": {},
   "outputs": [],
   "source": [
    "scores_only = world.select('Score_Rank', 'University', 'Teaching', 'Research', 'Citations', 'International_Outlook', 'Industry_Income', 'Score_Result')"
   ]
  },
  {
   "cell_type": "code",
   "execution_count": null,
   "metadata": {},
   "outputs": [],
   "source": [
    "scores_only"
   ]
  },
  {
   "cell_type": "markdown",
   "metadata": {},
   "source": [
    "The graphic tells us that the weights for each column are:\n",
    "- `'Teaching'`: 0.3\n",
    "- `'Research'`: 0.3\n",
    "- `'Citations'`: 0.3\n",
    "- `'International_Outlook'`: 0.075\n",
    "- `'Industry_Income'`: 0.025\n",
    "\n",
    "(Remember, to convert from percentage to proportion we divide by 100.)\n",
    "\n",
    "Let's try and apply this to the school at the very top of the table, University of Oxford."
   ]
  },
  {
   "cell_type": "code",
   "execution_count": null,
   "metadata": {},
   "outputs": [],
   "source": []
  },
  {
   "cell_type": "markdown",
   "metadata": {},
   "source": [
    "The result, 95.4175, matches what we see in the `'Score_Result'` column for University of Oxford.\n",
    "\n",
    "We can apply the above formula to all rows in our table as well."
   ]
  },
  {
   "cell_type": "code",
   "execution_count": null,
   "metadata": {},
   "outputs": [],
   "source": [
    "score_result_manual_calculation = \\\n",
    "0.3 * scores_only.column('Teaching') + \\\n",
    "0.3 * scores_only.column('Research') + \\\n",
    "0.3 * scores_only.column('Citations') + \\\n",
    "0.075 * scores_only.column('International_Outlook') + \\\n",
    "0.025 * scores_only.column('Industry_Income')"
   ]
  },
  {
   "cell_type": "code",
   "execution_count": null,
   "metadata": {},
   "outputs": [],
   "source": [
    "score_result_manual_calculation"
   ]
  },
  {
   "cell_type": "markdown",
   "metadata": {},
   "source": [
    "To confirm that the results we got match the `'Score_Result'` column in `scores_only`, we can add the above array to our table:"
   ]
  },
  {
   "cell_type": "code",
   "execution_count": null,
   "metadata": {},
   "outputs": [],
   "source": [
    "scores_only.with_columns(\n",
    "    'Score Result Manual', score_result_manual_calculation\n",
    ")"
   ]
  },
  {
   "cell_type": "markdown",
   "metadata": {},
   "source": [
    "This shows we've successfully reverse-engineered how the rankings work!"
   ]
  },
  {
   "cell_type": "markdown",
   "metadata": {},
   "source": [
    "## What if we want to change the methodology?\n",
    "\n",
    "Now that we know how to compute `'Score_Result'`s using THE's percentages, we can also pick our own percentages if we want to prioritize different components in our ranking.\n",
    "\n",
    "For instance, we may feel like THE's methodology places too much emphasis on research – together, `'Research'` and `'Citations'` make up 60% of the overall score.\n",
    "\n",
    "We could choose to use the following breakdown, which we'll call \"Breakdown 1\":\n",
    "- `'Teaching'`: 60%\n",
    "- `'International_Outlook'`: 30%\n",
    "- `'Industry_Income'`: 10%"
   ]
  },
  {
   "cell_type": "code",
   "execution_count": null,
   "metadata": {},
   "outputs": [],
   "source": []
  },
  {
   "cell_type": "markdown",
   "metadata": {},
   "source": [
    "This gives us new overall scores for each school; we can add this column to our table and sort by it."
   ]
  },
  {
   "cell_type": "code",
   "execution_count": null,
   "metadata": {},
   "outputs": [],
   "source": [
    "scores_only = scores_only.with_columns(\n",
    "    'Breakdown 1', breakdown_1\n",
    ")"
   ]
  },
  {
   "cell_type": "code",
   "execution_count": null,
   "metadata": {},
   "outputs": [],
   "source": [
    "scores_only.sort('Breakdown 1', descending = True)"
   ]
  },
  {
   "cell_type": "code",
   "execution_count": null,
   "metadata": {},
   "outputs": [],
   "source": [
    "scores_only.sort('Breakdown 1', descending = True).take(23)"
   ]
  },
  {
   "cell_type": "markdown",
   "metadata": {},
   "source": [
    "Note that when we choose this methodology, UC Berkeley is ranked much lower (24th instead of 13th). This is likely due to:\n",
    "- 1. UC Berkeley's exceptionally high `'Research'` and `'Citations'` scores not being included in the ranking\n",
    "- 2. UC Berkeley's large class sizes giving it a comparatively low `'Teaching'` score\n",
    "- 3. UC Berkeley's low score for `'Industry_Income'`. This component factors in the amount that the university receives in funding from industrial partners – given that it's a public school it's unsurprising that this amount is low, but also many \"wealthy\" universities have a relatively low score here too, so it's not clear how much this should matter (see [here](https://www.timeshighereducation.com/world-university-rankings/world-university-rankings-2020-methodology) for more)."
   ]
  },
  {
   "cell_type": "markdown",
   "metadata": {},
   "source": [
    "Maybe we want to place some emphasis on research, but not as much as was placed in the initial ranking. We could then make \"Breakdown 2\":\n",
    "\n",
    "- `'Teaching'`: 50%\n",
    "- `'Research'`: 15%\n",
    "- `'Citations'`: 15%\n",
    "- `'International_Outlook'`: 15%\n",
    "- `'Industry_Income'`: 5%\n",
    "\n",
    "### [Quick Check 2](https://edstem.org/us/courses/3251/lessons/11661/slides/55876)\n",
    "\n",
    "Assign `breakdown_2` to an array of overall scores for schools calculated according to our Breakdown 2 above, and add it as a column to `scores_only` with the label `'Breakdown 2'`. _Hint: Start by copying our code for `breakdown_1`, which was:_\n",
    "\n",
    "```py\n",
    "breakdown_1 = 0.6 * scores_only.column('Teaching') \\\n",
    "            + 0.3 * scores_only.column('International_Outlook') \\\n",
    "            + 0.1 * scores_only.column('Industry_Income')\n",
    "```"
   ]
  },
  {
   "cell_type": "code",
   "execution_count": null,
   "metadata": {},
   "outputs": [],
   "source": [
    "# Answer QC here before running the next cell"
   ]
  },
  {
   "cell_type": "code",
   "execution_count": null,
   "metadata": {},
   "outputs": [],
   "source": [
    "scores_only.sort('Breakdown 2', descending = True)"
   ]
  },
  {
   "cell_type": "markdown",
   "metadata": {},
   "source": [
    "\"Breakdown 2\" is much closer to THE's actual breakdown and the ordering here reflects that.\n",
    "\n",
    "What do you care about in a university? Try your own breakdown!\n",
    "\n",
    "We should note though that we haven't really thought about **how** THE comes up with the scores for each of the five categories (or the fact that university rankings have inherent flaws)."
   ]
  },
  {
   "cell_type": "markdown",
   "metadata": {},
   "source": [
    "## Which countries have the most universities in the ranking?\n",
    "\n",
    "Back to the full `world` table:"
   ]
  },
  {
   "cell_type": "code",
   "execution_count": null,
   "metadata": {},
   "outputs": [],
   "source": [
    "world"
   ]
  },
  {
   "cell_type": "markdown",
   "metadata": {},
   "source": [
    "To determine the number of universities per country, we can group by `'Country'`:"
   ]
  },
  {
   "cell_type": "code",
   "execution_count": null,
   "metadata": {},
   "outputs": [],
   "source": []
  },
  {
   "cell_type": "markdown",
   "metadata": {},
   "source": [
    "It's a good idea to sort too:"
   ]
  },
  {
   "cell_type": "code",
   "execution_count": null,
   "metadata": {},
   "outputs": [],
   "source": []
  },
  {
   "cell_type": "markdown",
   "metadata": {},
   "source": [
    "How do we get the number of universities in each country with at least 25 universities on the list?"
   ]
  },
  {
   "cell_type": "code",
   "execution_count": null,
   "metadata": {},
   "outputs": [],
   "source": []
  },
  {
   "cell_type": "markdown",
   "metadata": {},
   "source": [
    "Run the cell below to see a bar graph of the number of universities in each country above. "
   ]
  },
  {
   "cell_type": "code",
   "execution_count": null,
   "metadata": {},
   "outputs": [],
   "source": [
    "world.group('Country').where('count', are.above_or_equal_to(25)).sort('count').barh('Country')"
   ]
  },
  {
   "cell_type": "markdown",
   "metadata": {},
   "source": [
    "No surprises here!\n",
    "\n",
    "We could also determine the average `'Score_Rating'` for every country in the list."
   ]
  },
  {
   "cell_type": "code",
   "execution_count": null,
   "metadata": {},
   "outputs": [],
   "source": []
  },
  {
   "cell_type": "markdown",
   "metadata": {},
   "source": [
    "We need to select the relevant columns here and then sort."
   ]
  },
  {
   "cell_type": "code",
   "execution_count": null,
   "metadata": {},
   "outputs": [],
   "source": []
  },
  {
   "cell_type": "markdown",
   "metadata": {},
   "source": [
    "This tells us which countries have the \"best\" universities according to ranking. However, many of the countries at the top are small:"
   ]
  },
  {
   "cell_type": "code",
   "execution_count": null,
   "metadata": {},
   "outputs": [],
   "source": []
  },
  {
   "cell_type": "markdown",
   "metadata": {},
   "source": [
    "There are only two universities on the list from Singapore, and they're both ranked relatively high."
   ]
  },
  {
   "cell_type": "markdown",
   "metadata": {},
   "source": [
    "## What's the best university in each country?\n",
    "\n",
    "It turns out this can be answered by grouping with a particular `collect` function."
   ]
  },
  {
   "cell_type": "code",
   "execution_count": null,
   "metadata": {},
   "outputs": [],
   "source": [
    "def first(arr):\n",
    "    return arr.item(0)"
   ]
  },
  {
   "cell_type": "markdown",
   "metadata": {},
   "source": [
    "When we group by `'Country'` and use `first` as our `collect `function, we get the first row for each country in the table. Since the `world` table is sorted by ranking to begin with, we don't need to sort before grouping."
   ]
  },
  {
   "cell_type": "code",
   "execution_count": null,
   "metadata": {},
   "outputs": [],
   "source": [
    "world.group('Country', first)"
   ]
  },
  {
   "cell_type": "markdown",
   "metadata": {},
   "source": [
    "Let's sort the resulting table by ranking (and also extract a few relevant columns):"
   ]
  },
  {
   "cell_type": "code",
   "execution_count": null,
   "metadata": {},
   "outputs": [],
   "source": [
    "world.group('Country', first) \\\n",
    ".sort('Score_Result first', descending = True) \\\n",
    ".select('Score_Rank first', 'Country', 'University first', 'Score_Result first')"
   ]
  },
  {
   "cell_type": "markdown",
   "metadata": {},
   "source": [
    "By default, the column we grouped by (so `'Country'`) is the left-most column, but because we selected them in a different order in the last line above they appear in a different order.\n",
    "\n",
    "What the `'Score_Rank first'` column tells us is how highly-ranked the best university in each country is. It tells us the best university in Canada is 17th best in the world, and the best university in Japan is 33rd best in the world – again, according to THE.\n",
    "\n",
    "**Question:** What if we wanted the second best, or third best, university in each country?"
   ]
  },
  {
   "cell_type": "markdown",
   "metadata": {},
   "source": [
    "## In which states are the best US universities located?\n",
    "\n",
    "So far we've been looking at universities across the world. We may want to zoom in on just universities in the US (and also select just a few relevant columns):"
   ]
  },
  {
   "cell_type": "code",
   "execution_count": null,
   "metadata": {},
   "outputs": [],
   "source": [
    "us_only = world.where('Country', 'United States') \\\n",
    "               .select('University', 'Number_students', 'Score_Result')"
   ]
  },
  {
   "cell_type": "code",
   "execution_count": null,
   "metadata": {},
   "outputs": [],
   "source": [
    "us_only"
   ]
  },
  {
   "cell_type": "markdown",
   "metadata": {},
   "source": [
    "Right now we don't have any information about where these schools are located within the US.\n",
    "\n",
    "But we can get that information! Let's refer to Wikipedia's article [List of research universities in the United States](https://en.wikipedia.org/wiki/List_of_research_universities_in_the_United_States) for help. There are two tables there: one for \"R1: Doctoral Universities – Very high research activity\" and one for \"R2: Doctoral Universities – High research activity\". For simplicity's sake we'll take just the first table, since the majority of schools in `us_only` will be contained in it.\n",
    "\n",
    "Run the cell below to load that table in.\n",
    "\n",
    "_If you're curious as to how we downloaded the information from Wikipedia: We used [this site](https://wikitable2csv.ggor.de), which allows you to specify a Wikipedia URL and gives you a CSV file._"
   ]
  },
  {
   "cell_type": "code",
   "execution_count": null,
   "metadata": {},
   "outputs": [],
   "source": [
    "us_r1 = Table.read_table('data/us-r1-universities.csv')\n",
    "us_r1"
   ]
  },
  {
   "cell_type": "markdown",
   "metadata": {},
   "source": [
    "Now, let's join the two tables together. We want to look for matches between the `'University'` column in `us_only` and the `'Institution'` column in `us_r1`."
   ]
  },
  {
   "cell_type": "code",
   "execution_count": null,
   "metadata": {},
   "outputs": [],
   "source": [
    "# Think about why these are the arguments to join!\n",
    "us_with_state = ...\n",
    "us_with_state"
   ]
  },
  {
   "cell_type": "markdown",
   "metadata": {},
   "source": [
    "The above table only has 96 rows, whereas the bar chart earlier told us there were 172 US schools in our rankings table. That likely means we lost rows as a result of:\n",
    "- School names not matching between the two tables (maybe one column had a typo or alternative name)\n",
    "- School names not being in `us_r1`\n",
    "\n",
    "At a glance though it doesn't seem like there are major omissions, since all of the top 10 US schools are still there:"
   ]
  },
  {
   "cell_type": "code",
   "execution_count": null,
   "metadata": {},
   "outputs": [],
   "source": []
  },
  {
   "cell_type": "markdown",
   "metadata": {},
   "source": [
    "Let's proceed. Since our original goal was to determine the states in which the best schools were, we can group by `'State'` – first with no aggregation function, and then with `np.mean` to look at the average `'Score_Result'` for each state."
   ]
  },
  {
   "cell_type": "code",
   "execution_count": null,
   "metadata": {},
   "outputs": [],
   "source": []
  },
  {
   "cell_type": "code",
   "execution_count": null,
   "metadata": {},
   "outputs": [],
   "source": [
    "# sort(1) means sort by the column at index 1, which is 'Score_Result mean'\n"
   ]
  },
  {
   "cell_type": "markdown",
   "metadata": {},
   "source": [
    "The above tells us that California had the most high-ranked schools in the dataset, while Maryland has the highest average ranking amongst all states in the dataset. However, just like with Singapore earlier, there aren't many schools from Maryland:"
   ]
  },
  {
   "cell_type": "code",
   "execution_count": null,
   "metadata": {},
   "outputs": [],
   "source": []
  },
  {
   "cell_type": "markdown",
   "metadata": {},
   "source": [
    "## Followup – how do public and private schools in the US compare?\n",
    "\n",
    "The `us_r1` table brought us more information that we haven't yet used – it gave us information about whether each school is public or private! Let's do some initial queries."
   ]
  },
  {
   "cell_type": "code",
   "execution_count": null,
   "metadata": {},
   "outputs": [],
   "source": [
    "us_with_state.group('Control')"
   ]
  },
  {
   "cell_type": "code",
   "execution_count": null,
   "metadata": {},
   "outputs": [],
   "source": [
    "us_with_state.group('Control', np.mean)"
   ]
  },
  {
   "cell_type": "markdown",
   "metadata": {},
   "source": [
    "It seems like there are fewer US private schools in the dataset, but they're ranked higher than the public schools in the dataset on average. They're also smaller on average, at ~16,000 to ~31,000.\n",
    "\n",
    "Since we have two categories, we can group:"
   ]
  },
  {
   "cell_type": "code",
   "execution_count": null,
   "metadata": {
    "scrolled": true
   },
   "outputs": [],
   "source": [
    "us_with_state.group(['State', 'Control'])"
   ]
  },
  {
   "cell_type": "markdown",
   "metadata": {},
   "source": [
    "But an easier way to look at the above would be to create a pivot table:"
   ]
  },
  {
   "cell_type": "code",
   "execution_count": null,
   "metadata": {},
   "outputs": [],
   "source": []
  },
  {
   "cell_type": "markdown",
   "metadata": {},
   "source": [
    "If we want the states with the most public schools in the ranking:"
   ]
  },
  {
   "cell_type": "code",
   "execution_count": null,
   "metadata": {},
   "outputs": [],
   "source": []
  },
  {
   "cell_type": "markdown",
   "metadata": {},
   "source": [
    "What if we want the average `'Score_Result'` for each state, separated by public vs. private? We can do that too."
   ]
  },
  {
   "cell_type": "code",
   "execution_count": null,
   "metadata": {},
   "outputs": [],
   "source": []
  },
  {
   "cell_type": "markdown",
   "metadata": {},
   "source": [
    "This, in theory, gives us the states with the \"best\" public universities at the top."
   ]
  },
  {
   "cell_type": "code",
   "execution_count": null,
   "metadata": {},
   "outputs": [],
   "source": []
  },
  {
   "cell_type": "markdown",
   "metadata": {},
   "source": [
    "This doesn't mean a whole lot, since the number of public universities in each state is wildly different.\n",
    "\n",
    "For example, we see Minnesota (`'MN'`) is the second row – there's only one school in the dataset from Minnesota!"
   ]
  },
  {
   "cell_type": "code",
   "execution_count": null,
   "metadata": {},
   "outputs": [],
   "source": []
  },
  {
   "cell_type": "markdown",
   "metadata": {},
   "source": [
    "## A warning\n",
    "\n",
    "If you pivot with columns that don't really make sense, you'll get weird results:"
   ]
  },
  {
   "cell_type": "code",
   "execution_count": null,
   "metadata": {
    "scrolled": true
   },
   "outputs": [],
   "source": [
    "us_with_state.pivot('State', 'University')"
   ]
  },
  {
   "cell_type": "markdown",
   "metadata": {},
   "source": [
    "## Done!\n",
    "\n",
    "Make sure to review all of the code in this notebook, as it's all great review for the quiz."
   ]
  }
 ],
 "metadata": {
  "kernelspec": {
   "display_name": "Python 3",
   "language": "python",
   "name": "python3"
  },
  "language_info": {
   "codemirror_mode": {
    "name": "ipython",
    "version": 3
   },
   "file_extension": ".py",
   "mimetype": "text/x-python",
   "name": "python",
   "nbconvert_exporter": "python",
   "pygments_lexer": "ipython3",
   "version": "3.8.5"
  }
 },
 "nbformat": 4,
 "nbformat_minor": 4
}

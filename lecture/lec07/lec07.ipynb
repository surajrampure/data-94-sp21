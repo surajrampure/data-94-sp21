{
 "cells": [
  {
   "cell_type": "markdown",
   "metadata": {},
   "source": [
    "# Lecture 7 – Iteration, Part 1\n",
    "\n",
    "## Data 94, Spring 2021"
   ]
  },
  {
   "cell_type": "markdown",
   "metadata": {},
   "source": [
    "## Motivating demos"
   ]
  },
  {
   "cell_type": "code",
   "execution_count": null,
   "metadata": {},
   "outputs": [],
   "source": [
    "name = 'billy'"
   ]
  },
  {
   "cell_type": "code",
   "execution_count": null,
   "metadata": {},
   "outputs": [],
   "source": [
    "name = name + name\n",
    "name"
   ]
  },
  {
   "cell_type": "markdown",
   "metadata": {},
   "source": [
    "Let's try something cool!"
   ]
  },
  {
   "cell_type": "code",
   "execution_count": null,
   "metadata": {},
   "outputs": [],
   "source": [
    "f = open('data/words.txt', 'r')\n",
    "dictionary = f.read().split('\\n')"
   ]
  },
  {
   "cell_type": "code",
   "execution_count": null,
   "metadata": {},
   "outputs": [],
   "source": [
    "user_word = input('Enter a word (or hit enter to stop): ')\n",
    "in_count = 0\n",
    "out_count = 0\n",
    "while user_word:\n",
    "    if user_word in dictionary:\n",
    "        print(user_word + ' is in the dictionary!\\n')\n",
    "        in_count += 1\n",
    "    else:\n",
    "        print(user_word + ' is not in the dictionary.\\n')\n",
    "        out_count += 1\n",
    "\n",
    "    user_word = input('Enter a word (or hit enter to stop): ')\n",
    "    \n",
    "print(f'\\nWord(s) in dictionary:     {in_count}\\nWord(s) not in dictionary: {out_count}')"
   ]
  },
  {
   "cell_type": "markdown",
   "metadata": {},
   "source": [
    "## While loop fundamentals"
   ]
  },
  {
   "cell_type": "code",
   "execution_count": null,
   "metadata": {},
   "outputs": [],
   "source": [
    "i = 0\n",
    "while i < 10:\n",
    "    print(i)\n",
    "    i = i + 1\n",
    "print('blastoff!')"
   ]
  },
  {
   "cell_type": "markdown",
   "metadata": {},
   "source": [
    "### Example: `sum_first_n`"
   ]
  },
  {
   "cell_type": "code",
   "execution_count": null,
   "metadata": {},
   "outputs": [],
   "source": [
    "def sum_first_n(n):\n",
    "    j = 1\n",
    "    total = 0\n",
    "    while j <= n:\n",
    "        total += j\n",
    "        j += 1\n",
    "    return total"
   ]
  },
  {
   "cell_type": "code",
   "execution_count": null,
   "metadata": {},
   "outputs": [],
   "source": [
    "# 1 + 2 + 3 + 4\n",
    "sum_first_n(4)"
   ]
  },
  {
   "cell_type": "markdown",
   "metadata": {},
   "source": [
    "### Example: `sum_first_n_no_threes`"
   ]
  },
  {
   "cell_type": "code",
   "execution_count": null,
   "metadata": {},
   "outputs": [],
   "source": [
    "def sum_first_n_no_threes(n):\n",
    "    j = 1\n",
    "    total = 0\n",
    "    while j <= n:\n",
    "        # If j is not a multiple of 3\n",
    "        if j % 3 != 0:\n",
    "            total += j\n",
    "        j += 1\n",
    "    return total"
   ]
  },
  {
   "cell_type": "code",
   "execution_count": null,
   "metadata": {},
   "outputs": [],
   "source": [
    "# 1 + 2 + 4 + 5\n",
    "sum_first_n_no_threes(6)"
   ]
  },
  {
   "cell_type": "markdown",
   "metadata": {},
   "source": [
    "### Quick Check 1"
   ]
  },
  {
   "cell_type": "code",
   "execution_count": null,
   "metadata": {},
   "outputs": [],
   "source": [
    "def doubling_time(pop, r):\n",
    "    start = ...\n",
    "    t = 0\n",
    "    while start < 2 * pop:\n",
    "        start = ...\n",
    "        t += 1\n",
    "    return t"
   ]
  },
  {
   "cell_type": "code",
   "execution_count": null,
   "metadata": {},
   "outputs": [],
   "source": []
  },
  {
   "cell_type": "markdown",
   "metadata": {},
   "source": [
    "## More Examples"
   ]
  },
  {
   "cell_type": "markdown",
   "metadata": {},
   "source": [
    "### Fibonacci sequence"
   ]
  },
  {
   "cell_type": "markdown",
   "metadata": {},
   "source": [
    "$$0, 1, 1, 2, 3, 5, 8, 13, 21, 34, 55, ...$$"
   ]
  },
  {
   "cell_type": "code",
   "execution_count": null,
   "metadata": {},
   "outputs": [],
   "source": [
    "def fib(n):\n",
    "    prev, curr = 0, 1\n",
    "    i = 1\n",
    "    while i < n:\n",
    "        prev, curr = curr, prev + curr\n",
    "        i += 1\n",
    "    return curr"
   ]
  },
  {
   "cell_type": "code",
   "execution_count": null,
   "metadata": {},
   "outputs": [],
   "source": [
    "fib(7)"
   ]
  },
  {
   "cell_type": "code",
   "execution_count": null,
   "metadata": {},
   "outputs": [],
   "source": [
    "fib(243)"
   ]
  },
  {
   "cell_type": "markdown",
   "metadata": {},
   "source": [
    "It turns out there's a formula that we can use to compute the $n$-th Fibonacci number, without iteration:\n",
    "\n",
    "$$F_n = \\frac{\\phi^{n} - (1 - \\phi)^{n}}{\\sqrt{5}}$$\n",
    "\n",
    "where $\\phi = \\frac{1 + \\sqrt{5}}{2}$ is the \"Golden Ratio\"."
   ]
  },
  {
   "cell_type": "code",
   "execution_count": null,
   "metadata": {},
   "outputs": [],
   "source": [
    "golden = (1 + 5**0.5) / 2\n",
    "golden"
   ]
  },
  {
   "cell_type": "code",
   "execution_count": null,
   "metadata": {},
   "outputs": [],
   "source": [
    "def fib_no_iteration(n):\n",
    "    return int((golden**n - (1 - golden)**n) / (5**0.5))"
   ]
  },
  {
   "cell_type": "code",
   "execution_count": null,
   "metadata": {},
   "outputs": [],
   "source": [
    "fib_no_iteration(7)"
   ]
  },
  {
   "cell_type": "markdown",
   "metadata": {},
   "source": [
    "### Prime factorization\n",
    "\n",
    "Let's first define `smallest_factor`, a function that takes in a positive integer `n` and returns the smallest factor of `n`. (This number is prime!)"
   ]
  },
  {
   "cell_type": "code",
   "execution_count": null,
   "metadata": {},
   "outputs": [],
   "source": [
    "# One implementation\n",
    "def smallest_factor(n):\n",
    "    k = 2\n",
    "    while k <= n:\n",
    "        if n % k == 0:\n",
    "            return k\n",
    "        k += 1\n",
    "        \n",
    "# An equivalent implementation\n",
    "def smallest_factor(n):\n",
    "    k = 2\n",
    "    while n % k != 0:\n",
    "        k += 1\n",
    "    return k"
   ]
  },
  {
   "cell_type": "code",
   "execution_count": null,
   "metadata": {},
   "outputs": [],
   "source": [
    "smallest_factor(5)"
   ]
  },
  {
   "cell_type": "code",
   "execution_count": null,
   "metadata": {},
   "outputs": [],
   "source": [
    "smallest_factor(24)"
   ]
  },
  {
   "cell_type": "markdown",
   "metadata": {},
   "source": [
    "Now, let's define `prime_factors`, a function that takes in a positive integer `n` and prints all of the prime factors of `n`."
   ]
  },
  {
   "cell_type": "code",
   "execution_count": null,
   "metadata": {},
   "outputs": [],
   "source": [
    "def prime_factors(n):\n",
    "    while n > 1:\n",
    "        k = smallest_factor(n)\n",
    "        print(k)\n",
    "        n = n // k"
   ]
  },
  {
   "cell_type": "code",
   "execution_count": null,
   "metadata": {
    "scrolled": true
   },
   "outputs": [],
   "source": [
    "prime_factors(22)"
   ]
  },
  {
   "cell_type": "code",
   "execution_count": null,
   "metadata": {},
   "outputs": [],
   "source": [
    "prime_factors(144)"
   ]
  },
  {
   "cell_type": "markdown",
   "metadata": {},
   "source": [
    "## Dictionary Demo"
   ]
  },
  {
   "cell_type": "markdown",
   "metadata": {},
   "source": [
    "### User Input"
   ]
  },
  {
   "cell_type": "code",
   "execution_count": null,
   "metadata": {},
   "outputs": [],
   "source": [
    "name = input('Enter your name: ')\n",
    "print('Hi, ' + name + '!')"
   ]
  },
  {
   "cell_type": "code",
   "execution_count": null,
   "metadata": {},
   "outputs": [],
   "source": [
    "user_word = input('Enter a word (or hit enter to stop): ')\n",
    "in_count = 0\n",
    "out_count = 0\n",
    "while user_word:\n",
    "    if user_word in dictionary:\n",
    "        print(user_word + ' is in the dictionary!\\n')\n",
    "        in_count += 1\n",
    "    else:\n",
    "        print(user_word + ' is not in the dictionary.\\n')\n",
    "        out_count += 1\n",
    "\n",
    "    user_word = input('Enter a word (or hit enter to stop): ')\n",
    "    \n",
    "print(f'\\nWord(s) in dictionary:     {in_count}\\nWord(s) not in dictionary: {out_count}')"
   ]
  }
 ],
 "metadata": {
  "history": [
   {
    "code": "name = 'billy'",
    "id": "963c0e3cca9740d289af2c3e680db5ce",
    "idx": 2,
    "time": "2021-02-03T16:41:06.998Z",
    "type": "execution"
   },
   {
    "code": "name = name + name\nname",
    "id": "510de4f360ca4fe0815c76ca6859f379",
    "idx": 3,
    "time": "2021-02-03T16:41:07.001Z",
    "type": "execution"
   },
   {
    "code": "f = open('data/words.txt', 'r')\ndictionary = f.read().split('\\n')",
    "id": "ef7fcf87c410460b87145c6a4362a641",
    "idx": 5,
    "time": "2021-02-03T16:41:07.002Z",
    "type": "execution"
   },
   {
    "code": "user_word = input('Enter a word (or hit enter to stop): ')\nin_count = 0\nout_count = 0\nwhile user_word:\n    if user_word in dictionary:\n        print(user_word + ' is in the dictionary!\\n')\n        in_count += 1\n    else:\n        print(user_word + ' is not in the dictionary.\\n')\n        out_count += 1\n\n    user_word = input('Enter a word (or hit enter to stop): ')\n    \nprint(f'\\nWord(s) in dictionary:     {in_count}\\nWord(s) not in dictionary: {out_count}')",
    "id": "2545ac18c9fd442fa0cb7875e92c66fc",
    "idx": 6,
    "time": "2021-02-03T16:41:07.003Z",
    "type": "execution"
   },
   {
    "code": "i = 0\nwhile i < 10:\n    print(i)\n    i = i + 1\nprint('blastoff!')",
    "id": "c3597bdcb35240a7883ae20c2d57c2db",
    "idx": 8,
    "time": "2021-02-03T16:41:07.004Z",
    "type": "execution"
   },
   {
    "code": "def sum_first_n(n):\n    j = 1\n    total = 0\n    while j <= n:\n        total += j\n        j += 1\n    return total",
    "id": "fda6a8a945684a7499c52500b56adada",
    "idx": 10,
    "time": "2021-02-03T16:41:07.005Z",
    "type": "execution"
   },
   {
    "code": "# 1 + 2 + 3 + 4\nsum_first_n(4)",
    "id": "53229a6fc3b8446a89c24abf9f56152b",
    "idx": 11,
    "time": "2021-02-03T16:41:07.006Z",
    "type": "execution"
   },
   {
    "code": "def sum_first_n_no_threes(n):\n    j = 1\n    total = 0\n    while j <= n:\n        # If j is not a multiple of 3\n        if j % 3 != 0:\n            total += j\n        j += 1\n    return total",
    "id": "c8fb7e24d28e49308d0ae72d9d029c00",
    "idx": 13,
    "time": "2021-02-03T16:41:07.007Z",
    "type": "execution"
   },
   {
    "code": "# 1 + 2 + 4 + 5\nsum_first_n_no_threes(6)",
    "id": "74eb2916a698481c81121f6fa02d9f2b",
    "idx": 14,
    "time": "2021-02-03T16:41:07.008Z",
    "type": "execution"
   },
   {
    "code": "def doubling_time(pop, r):\n    start = ...\n    t = 0\n    while start < 2 * pop:\n        start = ...\n        t += 1\n    return t",
    "id": "c741fe50859c43f5ae0f42c9619dedf4",
    "idx": 16,
    "time": "2021-02-03T16:41:07.009Z",
    "type": "execution"
   },
   {
    "code": "def fib(n):\n    prev, curr = 0, 1\n    i = 1\n    while i < n:\n        prev, curr = curr, prev + curr\n        i += 1\n    return curr",
    "id": "eb739fe39cfc47ab8e16a3295661cef9",
    "idx": 21,
    "time": "2021-02-03T16:41:07.010Z",
    "type": "execution"
   },
   {
    "code": "fib(7)",
    "id": "667dd4abead8489a94bcd1dc56d7a67d",
    "idx": 22,
    "time": "2021-02-03T16:41:07.011Z",
    "type": "execution"
   },
   {
    "code": "fib(243)",
    "id": "acf3b4108cb7422299d83479617d53bf",
    "idx": 23,
    "time": "2021-02-03T16:41:07.012Z",
    "type": "execution"
   },
   {
    "code": "golden = (1 + 5**0.5) / 2\ngolden",
    "id": "7fe508334b044fa88cbc66250e0ad406",
    "idx": 25,
    "time": "2021-02-03T16:41:07.013Z",
    "type": "execution"
   },
   {
    "code": "def fib_no_iteration(n):\n    return int((golden**n - (1 - golden)**n) / (5**0.5))",
    "id": "a17b63add8104dfe85337be5111e6f85",
    "idx": 26,
    "time": "2021-02-03T16:41:07.013Z",
    "type": "execution"
   },
   {
    "code": "fib_no_iteration(7)",
    "id": "8610ded86154480eba52fc8c1422f4ed",
    "idx": 27,
    "time": "2021-02-03T16:41:07.014Z",
    "type": "execution"
   },
   {
    "code": "# One implementation\ndef smallest_factor(n):\n    k = 2\n    while k <= n:\n        if n % k == 0:\n            return k\n        k += 1\n        \n# An equivalent implementation\ndef smallest_factor(n):\n    k = 2\n    while n % k != 0:\n        k += 1\n    return k",
    "id": "fdfab2530d5d4b8ea4d49d96887b3ac4",
    "idx": 29,
    "time": "2021-02-03T16:41:07.015Z",
    "type": "execution"
   },
   {
    "code": "smallest_factor(5)",
    "id": "0b087ca7a3e8401f8515c2042c3bd185",
    "idx": 30,
    "time": "2021-02-03T16:41:07.015Z",
    "type": "execution"
   },
   {
    "code": "smallest_factor(24)",
    "id": "823e0af69c0f4dd68d444dc683ea2e4b",
    "idx": 31,
    "time": "2021-02-03T16:41:07.016Z",
    "type": "execution"
   },
   {
    "code": "def prime_factors(n):\n    while n > 1:\n        k = smallest_factor(n)\n        print(k)\n        n = n // k",
    "id": "8be24790649c4db987450c7f7623e862",
    "idx": 33,
    "time": "2021-02-03T16:41:07.017Z",
    "type": "execution"
   },
   {
    "code": "prime_factors(22)",
    "id": "82220619f3534f188faffcaaf37a1f1a",
    "idx": 34,
    "time": "2021-02-03T16:41:07.017Z",
    "type": "execution"
   },
   {
    "code": "prime_factors(144)",
    "id": "19595525e80c43098cddb4ba0c22cc30",
    "idx": 35,
    "time": "2021-02-03T16:41:07.018Z",
    "type": "execution"
   },
   {
    "code": "name = input('Enter your name: ')\nprint('Hi, ' + name + '!')",
    "id": "23d261df5bbe4dfa8c2f2d29291ebf05",
    "idx": 38,
    "time": "2021-02-03T16:41:07.018Z",
    "type": "execution"
   },
   {
    "code": "user_word = input('Enter a word (or hit enter to stop): ')\nin_count = 0\nout_count = 0\nwhile user_word:\n    if user_word in dictionary:\n        print(user_word + ' is in the dictionary!\\n')\n        in_count += 1\n    else:\n        print(user_word + ' is not in the dictionary.\\n')\n        out_count += 1\n\n    user_word = input('Enter a word (or hit enter to stop): ')\n    \nprint(f'\\nWord(s) in dictionary:     {in_count}\\nWord(s) not in dictionary: {out_count}')",
    "id": "156ef0e6bee84ae1b3579a47d22cc783",
    "idx": 39,
    "time": "2021-02-03T16:41:07.019Z",
    "type": "execution"
   },
   {
    "id": "963c0e3cca9740d289af2c3e680db5ce",
    "time": "2021-02-03T16:41:07.066Z",
    "type": "completion"
   },
   {
    "id": "510de4f360ca4fe0815c76ca6859f379",
    "time": "2021-02-03T16:41:07.069Z",
    "type": "completion"
   },
   {
    "id": "ef7fcf87c410460b87145c6a4362a641",
    "time": "2021-02-03T16:41:07.169Z",
    "type": "completion"
   },
   {
    "id": "2545ac18c9fd442fa0cb7875e92c66fc",
    "time": "2021-02-03T16:41:09.533Z",
    "type": "completion"
   },
   {
    "id": "c3597bdcb35240a7883ae20c2d57c2db",
    "time": "2021-02-03T16:41:09.548Z",
    "type": "completion"
   },
   {
    "id": "fda6a8a945684a7499c52500b56adada",
    "time": "2021-02-03T16:41:09.575Z",
    "type": "completion"
   },
   {
    "id": "53229a6fc3b8446a89c24abf9f56152b",
    "time": "2021-02-03T16:41:09.580Z",
    "type": "completion"
   },
   {
    "id": "c8fb7e24d28e49308d0ae72d9d029c00",
    "time": "2021-02-03T16:41:09.581Z",
    "type": "completion"
   },
   {
    "id": "74eb2916a698481c81121f6fa02d9f2b",
    "time": "2021-02-03T16:41:09.582Z",
    "type": "completion"
   },
   {
    "id": "c741fe50859c43f5ae0f42c9619dedf4",
    "time": "2021-02-03T16:41:09.588Z",
    "type": "completion"
   },
   {
    "id": "eb739fe39cfc47ab8e16a3295661cef9",
    "time": "2021-02-03T16:41:09.616Z",
    "type": "completion"
   },
   {
    "id": "667dd4abead8489a94bcd1dc56d7a67d",
    "time": "2021-02-03T16:41:09.623Z",
    "type": "completion"
   },
   {
    "id": "acf3b4108cb7422299d83479617d53bf",
    "time": "2021-02-03T16:41:09.626Z",
    "type": "completion"
   },
   {
    "id": "7fe508334b044fa88cbc66250e0ad406",
    "time": "2021-02-03T16:41:09.627Z",
    "type": "completion"
   },
   {
    "id": "a17b63add8104dfe85337be5111e6f85",
    "time": "2021-02-03T16:41:09.629Z",
    "type": "completion"
   },
   {
    "id": "8610ded86154480eba52fc8c1422f4ed",
    "time": "2021-02-03T16:41:09.665Z",
    "type": "completion"
   },
   {
    "id": "fdfab2530d5d4b8ea4d49d96887b3ac4",
    "time": "2021-02-03T16:41:09.670Z",
    "type": "completion"
   },
   {
    "id": "0b087ca7a3e8401f8515c2042c3bd185",
    "time": "2021-02-03T16:41:09.672Z",
    "type": "completion"
   },
   {
    "id": "823e0af69c0f4dd68d444dc683ea2e4b",
    "time": "2021-02-03T16:41:09.673Z",
    "type": "completion"
   },
   {
    "id": "8be24790649c4db987450c7f7623e862",
    "time": "2021-02-03T16:41:09.673Z",
    "type": "completion"
   },
   {
    "id": "82220619f3534f188faffcaaf37a1f1a",
    "time": "2021-02-03T16:41:09.707Z",
    "type": "completion"
   },
   {
    "id": "19595525e80c43098cddb4ba0c22cc30",
    "time": "2021-02-03T16:41:09.711Z",
    "type": "completion"
   },
   {
    "id": "23d261df5bbe4dfa8c2f2d29291ebf05",
    "time": "2021-02-03T16:41:11.226Z",
    "type": "completion"
   },
   {
    "id": "156ef0e6bee84ae1b3579a47d22cc783",
    "time": "2021-02-03T16:41:12.318Z",
    "type": "completion"
   }
  ],
  "kernelspec": {
   "display_name": "Python 3",
   "language": "python",
   "name": "python3"
  },
  "language_info": {
   "codemirror_mode": {
    "name": "ipython",
    "version": 3
   },
   "file_extension": ".py",
   "mimetype": "text/x-python",
   "name": "python",
   "nbconvert_exporter": "python",
   "pygments_lexer": "ipython3",
   "version": "3.8.6"
  }
 },
 "nbformat": 4,
 "nbformat_minor": 4
}

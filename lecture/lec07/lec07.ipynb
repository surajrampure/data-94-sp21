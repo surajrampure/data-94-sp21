{
 "cells": [
  {
   "cell_type": "markdown",
   "metadata": {},
   "source": [
    "# Lecture 7 – Iteration, Part 1\n",
    "\n",
    "## Data 94, Spring 2021"
   ]
  },
  {
   "cell_type": "markdown",
   "metadata": {},
   "source": [
    "## Motivating demos"
   ]
  },
  {
   "cell_type": "code",
   "execution_count": null,
   "metadata": {},
   "outputs": [],
   "source": [
    "name = 'billy'"
   ]
  },
  {
   "cell_type": "code",
   "execution_count": null,
   "metadata": {},
   "outputs": [],
   "source": [
    "name = name + name\n",
    "name"
   ]
  },
  {
   "cell_type": "markdown",
   "metadata": {},
   "source": [
    "Let's try something cool!"
   ]
  },
  {
   "cell_type": "code",
   "execution_count": null,
   "metadata": {},
   "outputs": [],
   "source": [
    "f = open('data/words.txt', 'r')\n",
    "dictionary = f.read().split('\\n')"
   ]
  },
  {
   "cell_type": "code",
   "execution_count": null,
   "metadata": {},
   "outputs": [],
   "source": [
    "user_word = input('Enter a word (or hit enter to stop): ')\n",
    "in_count = 0\n",
    "out_count = 0\n",
    "while user_word:\n",
    "    if user_word in dictionary:\n",
    "        print(user_word + ' is in the dictionary!\\n')\n",
    "        in_count += 1\n",
    "    else:\n",
    "        print(user_word + ' is not in the dictionary.\\n')\n",
    "        out_count += 1\n",
    "\n",
    "    user_word = input('Enter a word (or hit enter to stop): ')\n",
    "    \n",
    "print(f'\\nWord(s) in dictionary:     {in_count}\\nWord(s) not in dictionary: {out_count}')"
   ]
  },
  {
   "cell_type": "markdown",
   "metadata": {},
   "source": [
    "## While loop fundamentals"
   ]
  },
  {
   "cell_type": "code",
   "execution_count": null,
   "metadata": {},
   "outputs": [],
   "source": [
    "i = 0\n",
    "while i < 10:\n",
    "    print(i)\n",
    "    i = i + 1\n",
    "print('blastoff!')"
   ]
  },
  {
   "cell_type": "markdown",
   "metadata": {},
   "source": [
    "### Example: `sum_first_n`"
   ]
  },
  {
   "cell_type": "code",
   "execution_count": null,
   "metadata": {},
   "outputs": [],
   "source": [
    "def sum_first_n(n):\n",
    "    j = 0\n",
    "    total = 0\n",
    "    while j <= n:\n",
    "        total += j\n",
    "        j += 1\n",
    "    return total"
   ]
  },
  {
   "cell_type": "code",
   "execution_count": null,
   "metadata": {},
   "outputs": [],
   "source": [
    "# 1 + 2 + 3 + 4\n",
    "sum_first_n(4)"
   ]
  },
  {
   "cell_type": "markdown",
   "metadata": {},
   "source": [
    "### Example: `sum_first_n_no_threes`"
   ]
  },
  {
   "cell_type": "code",
   "execution_count": null,
   "metadata": {},
   "outputs": [],
   "source": [
    "def sum_first_n_no_threes(n):\n",
    "    j = 0\n",
    "    total = 0\n",
    "    while j <= n:\n",
    "        # If j is not a multiple of 3\n",
    "        if j % 3 != 0:\n",
    "            total += j\n",
    "        j += 1\n",
    "    return total"
   ]
  },
  {
   "cell_type": "code",
   "execution_count": null,
   "metadata": {},
   "outputs": [],
   "source": [
    "# 1 + 2 + 4 + 5\n",
    "sum_first_n_no_threes(6)"
   ]
  },
  {
   "cell_type": "markdown",
   "metadata": {},
   "source": [
    "### Quick Check 1"
   ]
  },
  {
   "cell_type": "code",
   "execution_count": null,
   "metadata": {},
   "outputs": [],
   "source": [
    "def doubling_time(pop, r):\n",
    "    start = ...\n",
    "    t = 0\n",
    "    while start < 2 * pop:\n",
    "        start = ...\n",
    "        t += 1\n",
    "    return t"
   ]
  },
  {
   "cell_type": "code",
   "execution_count": null,
   "metadata": {},
   "outputs": [],
   "source": []
  },
  {
   "cell_type": "markdown",
   "metadata": {},
   "source": [
    "## More Examples"
   ]
  },
  {
   "cell_type": "markdown",
   "metadata": {},
   "source": [
    "### Fibonacci sequence"
   ]
  },
  {
   "cell_type": "markdown",
   "metadata": {},
   "source": [
    "$$0, 1, 1, 2, 3, 5, 8, 13, 21, 34, 55, ...$$"
   ]
  },
  {
   "cell_type": "code",
   "execution_count": null,
   "metadata": {},
   "outputs": [],
   "source": [
    "def fib(n):\n",
    "    prev, curr = 0, 1\n",
    "    i = 1\n",
    "    while i < n:\n",
    "        prev, curr = curr, prev + curr\n",
    "        i += 1\n",
    "    return curr"
   ]
  },
  {
   "cell_type": "code",
   "execution_count": null,
   "metadata": {},
   "outputs": [],
   "source": [
    "fib(7)"
   ]
  },
  {
   "cell_type": "code",
   "execution_count": null,
   "metadata": {},
   "outputs": [],
   "source": [
    "fib(243)"
   ]
  },
  {
   "cell_type": "markdown",
   "metadata": {},
   "source": [
    "It turns out there's a formula that we can use to compute the $n$-th Fibonacci number, without iteration:\n",
    "\n",
    "$$F_n = \\frac{\\phi^{n} - (1 - \\phi)^{n}}{\\sqrt{5}}$$\n",
    "\n",
    "where $\\phi = \\frac{1 + \\sqrt{5}}{2}$ is the \"Golden Ratio\"."
   ]
  },
  {
   "cell_type": "code",
   "execution_count": null,
   "metadata": {},
   "outputs": [],
   "source": [
    "golden = (1 + 5**0.5) / 2\n",
    "golden"
   ]
  },
  {
   "cell_type": "code",
   "execution_count": null,
   "metadata": {},
   "outputs": [],
   "source": [
    "def fib_no_iteration(n):\n",
    "    return int((golden**n - (1 - golden)**n) / (5**0.5))"
   ]
  },
  {
   "cell_type": "code",
   "execution_count": null,
   "metadata": {},
   "outputs": [],
   "source": [
    "fib_no_iteration(7)"
   ]
  },
  {
   "cell_type": "markdown",
   "metadata": {},
   "source": [
    "### Prime factorization\n",
    "\n",
    "Let's first define `smallest_factor`, a function that takes in a positive integer `n` and returns the smallest factor of `n`. (This number is prime!)"
   ]
  },
  {
   "cell_type": "code",
   "execution_count": null,
   "metadata": {},
   "outputs": [],
   "source": [
    "# One implementation\n",
    "def smallest_factor(n):\n",
    "    k = 2\n",
    "    while k <= n:\n",
    "        if n % k == 0:\n",
    "            return k\n",
    "        k += 1\n",
    "        \n",
    "# An equivalent implementation\n",
    "def smallest_factor(n):\n",
    "    k = 2\n",
    "    while n % k != 0:\n",
    "        k += 1\n",
    "    return k"
   ]
  },
  {
   "cell_type": "code",
   "execution_count": null,
   "metadata": {},
   "outputs": [],
   "source": [
    "smallest_factor(5)"
   ]
  },
  {
   "cell_type": "code",
   "execution_count": null,
   "metadata": {},
   "outputs": [],
   "source": [
    "smallest_factor(24)"
   ]
  },
  {
   "cell_type": "markdown",
   "metadata": {},
   "source": [
    "Now, let's define `prime_factors`, a function that takes in a positive integer `n` and prints all of the prime factors of `n`."
   ]
  },
  {
   "cell_type": "code",
   "execution_count": null,
   "metadata": {},
   "outputs": [],
   "source": [
    "def prime_factors(n):\n",
    "    while n > 1:\n",
    "        k = smallest_factor(n)\n",
    "        print(k)\n",
    "        n = n // k"
   ]
  },
  {
   "cell_type": "code",
   "execution_count": null,
   "metadata": {
    "scrolled": true
   },
   "outputs": [],
   "source": [
    "prime_factors(22)"
   ]
  },
  {
   "cell_type": "code",
   "execution_count": null,
   "metadata": {},
   "outputs": [],
   "source": [
    "prime_factors(144)"
   ]
  },
  {
   "cell_type": "markdown",
   "metadata": {},
   "source": [
    "## Dictionary Demo"
   ]
  },
  {
   "cell_type": "markdown",
   "metadata": {},
   "source": [
    "### User Input"
   ]
  },
  {
   "cell_type": "code",
   "execution_count": null,
   "metadata": {},
   "outputs": [],
   "source": [
    "name = input('Enter your name: ')\n",
    "print('Hi, ' + name + '!')"
   ]
  },
  {
   "cell_type": "code",
   "execution_count": null,
   "metadata": {},
   "outputs": [],
   "source": [
    "user_word = input('Enter a word (or hit enter to stop): ')\n",
    "in_count = 0\n",
    "out_count = 0\n",
    "while user_word:\n",
    "    if user_word in dictionary:\n",
    "        print(user_word + ' is in the dictionary!\\n')\n",
    "        in_count += 1\n",
    "    else:\n",
    "        print(user_word + ' is not in the dictionary.\\n')\n",
    "        out_count += 1\n",
    "\n",
    "    user_word = input('Enter a word (or hit enter to stop): ')\n",
    "    \n",
    "print(f'\\nWord(s) in dictionary:     {in_count}\\nWord(s) not in dictionary: {out_count}')"
   ]
  }
 ],
 "metadata": {
  "kernelspec": {
   "display_name": "Python 3",
   "language": "python",
   "name": "python3"
  },
  "language_info": {
   "codemirror_mode": {
    "name": "ipython",
    "version": 3
   },
   "file_extension": ".py",
   "mimetype": "text/x-python",
   "name": "python",
   "nbconvert_exporter": "python",
   "pygments_lexer": "ipython3",
   "version": "3.8.5"
  }
 },
 "nbformat": 4,
 "nbformat_minor": 4
}

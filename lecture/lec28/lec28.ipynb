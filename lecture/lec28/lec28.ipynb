{
 "cells": [
  {
   "cell_type": "markdown",
   "metadata": {},
   "source": [
    "# Lecture 28 – Maps\n",
    "\n",
    "## Data 94, Spring 2021"
   ]
  },
  {
   "cell_type": "code",
   "execution_count": null,
   "metadata": {},
   "outputs": [],
   "source": [
    "from datascience import *\n",
    "import numpy as np\n",
    "\n",
    "Table.interactive_plots()"
   ]
  },
  {
   "cell_type": "markdown",
   "metadata": {},
   "source": [
    "## Review: scatter plots and line plots"
   ]
  },
  {
   "cell_type": "code",
   "execution_count": null,
   "metadata": {},
   "outputs": [],
   "source": [
    "wm = Table.read_table('data/walmart.csv').select('STREETADDR', 'STRCITY', 'STRSTATE', 'type_store', 'LAT', 'LON', 'YEAR')\n",
    "wm"
   ]
  },
  {
   "cell_type": "code",
   "execution_count": null,
   "metadata": {},
   "outputs": [],
   "source": [
    "wm.group('YEAR')"
   ]
  },
  {
   "cell_type": "code",
   "execution_count": null,
   "metadata": {},
   "outputs": [],
   "source": [
    "wm.group('YEAR').plot('YEAR',\n",
    "                     title = 'Number of Walmarts Opened Per Year')"
   ]
  },
  {
   "cell_type": "code",
   "execution_count": null,
   "metadata": {},
   "outputs": [],
   "source": [
    "wm_per_year = wm.group('YEAR')\n",
    "wm_per_year = wm_per_year.with_columns(\n",
    "    'total', np.cumsum(wm_per_year.column('count'))\n",
    ")\n",
    "wm_per_year"
   ]
  },
  {
   "cell_type": "code",
   "execution_count": null,
   "metadata": {},
   "outputs": [],
   "source": [
    "wm_per_year.plot('YEAR', 'total',\n",
    "                title = 'Total Number of Walmarts Over Time')"
   ]
  },
  {
   "cell_type": "markdown",
   "metadata": {},
   "source": [
    "## Maps with circles"
   ]
  },
  {
   "cell_type": "code",
   "execution_count": null,
   "metadata": {
    "scrolled": true
   },
   "outputs": [],
   "source": [
    "wm_ca = wm.where('STRSTATE', 'CA')\n",
    "wm_ca"
   ]
  },
  {
   "cell_type": "code",
   "execution_count": null,
   "metadata": {},
   "outputs": [],
   "source": [
    "wm_ca.select('LAT', 'LON')"
   ]
  },
  {
   "cell_type": "code",
   "execution_count": null,
   "metadata": {},
   "outputs": [],
   "source": [
    "Circle.map_table(wm_ca.select('LAT', 'LON'))"
   ]
  },
  {
   "cell_type": "markdown",
   "metadata": {},
   "source": [
    "### Modifying circle appearance"
   ]
  },
  {
   "cell_type": "code",
   "execution_count": null,
   "metadata": {},
   "outputs": [],
   "source": [
    "Circle.map_table(wm_ca.select('LAT', 'LON'),\n",
    "                 area = 200,\n",
    "                 weight = 1.5, \n",
    "                 line_color = 'gold',\n",
    "                 color = 'purple', \n",
    "                 fill_opacity = 0.8\n",
    "                 )"
   ]
  },
  {
   "cell_type": "markdown",
   "metadata": {},
   "source": [
    "### `labels`"
   ]
  },
  {
   "cell_type": "code",
   "execution_count": null,
   "metadata": {
    "scrolled": true
   },
   "outputs": [],
   "source": [
    "wm_ca.select('LAT', 'LON', 'STREETADDR')"
   ]
  },
  {
   "cell_type": "code",
   "execution_count": null,
   "metadata": {},
   "outputs": [],
   "source": [
    "wm_ca_labeled = wm_ca.select('LAT', 'LON', 'STREETADDR').relabeled('STREETADDR', 'labels')\n",
    "wm_ca_labeled"
   ]
  },
  {
   "cell_type": "code",
   "execution_count": null,
   "metadata": {
    "scrolled": false
   },
   "outputs": [],
   "source": [
    "Circle.map_table(wm_ca_labeled)"
   ]
  },
  {
   "cell_type": "markdown",
   "metadata": {},
   "source": [
    "### `color_scale`"
   ]
  },
  {
   "cell_type": "code",
   "execution_count": null,
   "metadata": {},
   "outputs": [],
   "source": [
    "wm_ca_scales = wm_ca.select('LAT', 'LON', 'STRCITY', 'YEAR') \\\n",
    "                    .relabeled(['STRCITY', 'YEAR'], ['labels', 'color_scale'])\n",
    "\n",
    "wm_ca_scales"
   ]
  },
  {
   "cell_type": "code",
   "execution_count": null,
   "metadata": {
    "scrolled": false
   },
   "outputs": [],
   "source": [
    "Circle.map_table(wm_ca_scales,\n",
    "                fill_opacity = 0.8,\n",
    "                line_color = None,\n",
    "                area = 200)"
   ]
  },
  {
   "cell_type": "markdown",
   "metadata": {},
   "source": [
    "The map above confirms the claims of [this LA Times article from 1990](https://www.latimes.com/archives/la-xpm-1990-06-11-mn-151-story.html), which says:\n",
    "\n",
    "> The company plans to open 10 stores in California in 1990 and 1991, with most to be located in the interior sections of the state. This year, it will open stores in Lancaster, Victorville, El Centro, Madera, Modesto, Ridgecrest and Stockton. In 1991, it plans stores in Elk Grove, Hanford and Bakersfield."
   ]
  },
  {
   "cell_type": "markdown",
   "metadata": {},
   "source": [
    "### `colors`"
   ]
  },
  {
   "cell_type": "code",
   "execution_count": null,
   "metadata": {},
   "outputs": [],
   "source": [
    "wm_ca"
   ]
  },
  {
   "cell_type": "code",
   "execution_count": null,
   "metadata": {},
   "outputs": [],
   "source": [
    "def color_from_type(type_store):\n",
    "    if type_store == 'Wal-Mart':\n",
    "        return 'blue'\n",
    "    else:\n",
    "        return 'red'"
   ]
  },
  {
   "cell_type": "code",
   "execution_count": null,
   "metadata": {
    "scrolled": true
   },
   "outputs": [],
   "source": [
    "wm_ca = wm_ca.with_columns(\n",
    "    'colors', wm_ca.apply(color_from_type, 'type_store')\n",
    ")\n",
    "\n",
    "wm_ca"
   ]
  },
  {
   "cell_type": "code",
   "execution_count": null,
   "metadata": {},
   "outputs": [],
   "source": [
    "wm_ca.select('LAT', 'LON', 'colors')"
   ]
  },
  {
   "cell_type": "code",
   "execution_count": null,
   "metadata": {
    "scrolled": false
   },
   "outputs": [],
   "source": [
    "Circle.map_table(wm_ca.select('LAT', 'LON', 'colors'),\n",
    "                fill_opacity = 0.6,\n",
    "                line_color = None,\n",
    "                area = 200)"
   ]
  },
  {
   "cell_type": "markdown",
   "metadata": {},
   "source": [
    "It seems like most Walmarts in California are standard locations and only a few are Supercenters.\n",
    "\n",
    "What about in the rest of the country?"
   ]
  },
  {
   "cell_type": "code",
   "execution_count": null,
   "metadata": {},
   "outputs": [],
   "source": [
    "wm = wm.with_columns(\n",
    "    'colors', wm.apply(color_from_type, 'type_store')\n",
    ")\n",
    "\n",
    "Circle.map_table(wm.select('LAT', 'LON', 'colors'),\n",
    "                fill_opacity = 0.8,\n",
    "                line_color = None,\n",
    "                area = 20)"
   ]
  },
  {
   "cell_type": "markdown",
   "metadata": {},
   "source": [
    "In many large metro areas there is a concentration of standard Walmarts (blue). Supercenters are more common in the eastern part of the country.\n",
    "\n",
    "Remember this data is from 2006; things have changed since then."
   ]
  },
  {
   "cell_type": "markdown",
   "metadata": {},
   "source": [
    "### Quick Check 1"
   ]
  },
  {
   "cell_type": "code",
   "execution_count": null,
   "metadata": {},
   "outputs": [],
   "source": [
    "wm"
   ]
  },
  {
   "cell_type": "code",
   "execution_count": null,
   "metadata": {},
   "outputs": [],
   "source": [
    "# qc = wm.where('STRSTATE', 'AR') \\\n",
    "#        .select(..., ..., 'YEAR', ...) \\\n",
    "#        .relabeled('YEAR', ...)\n",
    "\n",
    "# Circle.map_table(qc, \n",
    "#                  line_color = None, \n",
    "#                  fill_opacity = 0.7)"
   ]
  },
  {
   "cell_type": "markdown",
   "metadata": {},
   "source": [
    "## Maps with markers (pins)"
   ]
  },
  {
   "cell_type": "code",
   "execution_count": null,
   "metadata": {},
   "outputs": [],
   "source": [
    "wm_ca.select('LAT', 'LON', 'colors')"
   ]
  },
  {
   "cell_type": "code",
   "execution_count": null,
   "metadata": {},
   "outputs": [],
   "source": [
    "Marker.map_table(wm_ca.select('LAT', 'LON', 'colors'))"
   ]
  },
  {
   "cell_type": "markdown",
   "metadata": {},
   "source": [
    "### `marker_icon`\n",
    "\n",
    "Most icon names [at this site](https://getbootstrap.com/docs/3.3/components/) work, but make sure to remove the term \"glyphicon\"."
   ]
  },
  {
   "cell_type": "code",
   "execution_count": null,
   "metadata": {},
   "outputs": [],
   "source": [
    "# Try changing 'shopping-cart' to 'off', 'euro', or 'remove'\n",
    "Marker.map_table(wm_ca.select('LAT', 'LON', 'colors'), marker_icon = 'shopping-cart')"
   ]
  },
  {
   "cell_type": "markdown",
   "metadata": {},
   "source": [
    "### `clustered_marker`"
   ]
  },
  {
   "cell_type": "code",
   "execution_count": null,
   "metadata": {},
   "outputs": [],
   "source": [
    "Marker.map_table(wm.select('LAT', 'LON'), clustered_marker = True, marker_icon = 'shopping-cart')"
   ]
  },
  {
   "cell_type": "markdown",
   "metadata": {},
   "source": [
    "## Example: COVID cases\n",
    "\n",
    "This data was pulled from [Johns Hopkins' Center  For Systems Science And Engineering](https://github.com/CSSEGISandData/COVID-19/tree/master/csse_covid_19_data/csse_covid_19_time_series) on April 6th, 2021.\n",
    "\n",
    "It describes the number of **cumulative** cases for each county, every day since January 22, 2020."
   ]
  },
  {
   "cell_type": "code",
   "execution_count": null,
   "metadata": {},
   "outputs": [],
   "source": [
    "covid = Table.read_table('data/jhu-covid.csv')"
   ]
  },
  {
   "cell_type": "code",
   "execution_count": null,
   "metadata": {},
   "outputs": [],
   "source": [
    "covid"
   ]
  },
  {
   "cell_type": "markdown",
   "metadata": {},
   "source": [
    "Let's aim to draw a map illustrating the average number of cases per day over the last 7 days in each county.\n",
    "\n",
    "To do this, we take the number of cases on April 5, subtract from it the number of cases on March 29, and divide the result by 7."
   ]
  },
  {
   "cell_type": "code",
   "execution_count": null,
   "metadata": {},
   "outputs": [],
   "source": [
    "april = covid.select('Combined_Key', 'Lat', 'Long_', '3/29/21', '4/5/21')\n",
    "april"
   ]
  },
  {
   "cell_type": "code",
   "execution_count": null,
   "metadata": {},
   "outputs": [],
   "source": [
    "april = april.with_columns(\n",
    "    '7-day avg', np.round((april.column('4/5/21') - april.column('3/29/21')) / 7)\n",
    ")\n",
    "\n",
    "april"
   ]
  },
  {
   "cell_type": "markdown",
   "metadata": {},
   "source": [
    "We need to relabel our columns in order to prepare our table for `Circle.map_table`."
   ]
  },
  {
   "cell_type": "code",
   "execution_count": null,
   "metadata": {},
   "outputs": [],
   "source": [
    "april_for_map = april.select('Lat', 'Long_', 'Combined_Key', '7-day avg') \\\n",
    "     .relabeled(['Combined_Key', '7-day avg'], ['labels', 'color_scale'])\n",
    "\n",
    "april_for_map"
   ]
  },
  {
   "cell_type": "markdown",
   "metadata": {},
   "source": [
    "There's something weird – there are a few counties whose 7-day average is negative. This is almost certainly due to some data logging issues; we will need to drop these rows before continuing as they'll mess up our color scale."
   ]
  },
  {
   "cell_type": "code",
   "execution_count": null,
   "metadata": {
    "scrolled": true
   },
   "outputs": [],
   "source": [
    "april_for_map.sort('color_scale')"
   ]
  },
  {
   "cell_type": "code",
   "execution_count": null,
   "metadata": {},
   "outputs": [],
   "source": [
    "april_for_map = april_for_map.where('color_scale', are.above_or_equal_to(0))"
   ]
  },
  {
   "cell_type": "markdown",
   "metadata": {},
   "source": [
    "Time to call `Circle.map_table`."
   ]
  },
  {
   "cell_type": "code",
   "execution_count": null,
   "metadata": {
    "scrolled": false
   },
   "outputs": [],
   "source": [
    "Circle.map_table(april_for_map,\n",
    "                area = 50,\n",
    "                fill_opacity = 1,\n",
    "                line_color = None)"
   ]
  },
  {
   "cell_type": "markdown",
   "metadata": {},
   "source": [
    "We can take things a step further by creating more informative labels."
   ]
  },
  {
   "cell_type": "code",
   "execution_count": null,
   "metadata": {},
   "outputs": [],
   "source": [
    "april"
   ]
  },
  {
   "cell_type": "code",
   "execution_count": null,
   "metadata": {},
   "outputs": [],
   "source": [
    "def make_label(name, avg):\n",
    "    name_no_us = name.replace(', US', '')\n",
    "    s = '<b>' + name_no_us + '</b>' + '<br>'\n",
    "    s += '7-day avg: ' + str(int(avg))\n",
    "    return s"
   ]
  },
  {
   "cell_type": "code",
   "execution_count": null,
   "metadata": {},
   "outputs": [],
   "source": [
    "print(make_label('Autauga, Alabama, US', 6))"
   ]
  },
  {
   "cell_type": "code",
   "execution_count": null,
   "metadata": {},
   "outputs": [],
   "source": [
    "april.apply(make_label, 'Combined_Key', '7-day avg')"
   ]
  },
  {
   "cell_type": "code",
   "execution_count": null,
   "metadata": {},
   "outputs": [],
   "source": [
    "april_for_new_map = april.with_columns(\n",
    "    'labels', april.apply(make_label, 'Combined_Key', '7-day avg')\n",
    ").select('Lat', 'Long_', 'labels', '7-day avg') \\\n",
    " .relabeled('7-day avg', 'color_scale') \\\n",
    " .where('color_scale', are.above_or_equal_to(0))\n",
    "\n",
    "april_for_new_map"
   ]
  },
  {
   "cell_type": "code",
   "execution_count": null,
   "metadata": {
    "scrolled": false
   },
   "outputs": [],
   "source": [
    "Circle.map_table(april_for_new_map,\n",
    "                area = 50,\n",
    "                fill_opacity = 1,\n",
    "                line_color = None)"
   ]
  },
  {
   "cell_type": "markdown",
   "metadata": {},
   "source": [
    "Now each circle tells you the county name and the average number of COVID cases over the past 7 days in that county."
   ]
  },
  {
   "cell_type": "markdown",
   "metadata": {},
   "source": [
    "## Extra: cumulative cases in Alameda county\n",
    "\n",
    "**Note**: The exploration here won't be covered in lecture, and includes programming that is slightly more involved than you'll be responsible for. Nevertheless, you may find it interesting, so take a look!"
   ]
  },
  {
   "cell_type": "markdown",
   "metadata": {},
   "source": [
    "The dataset has columns for each date; we want rows, because that's what `plot` expects."
   ]
  },
  {
   "cell_type": "code",
   "execution_count": null,
   "metadata": {},
   "outputs": [],
   "source": [
    "alameda = covid.where('Admin2', 'Alameda').select(np.arange(11, covid.num_columns))\n",
    "alameda"
   ]
  },
  {
   "cell_type": "markdown",
   "metadata": {},
   "source": [
    "That's not a problem:"
   ]
  },
  {
   "cell_type": "code",
   "execution_count": null,
   "metadata": {},
   "outputs": [],
   "source": [
    "alameda_rotated = Table().with_columns(\n",
    "    'Date', alameda.labels,\n",
    "    'Cases', alameda.row(0)\n",
    ")\n",
    "\n",
    "alameda_rotated"
   ]
  },
  {
   "cell_type": "markdown",
   "metadata": {},
   "source": [
    "What is a problem is that the date is not in a format that `datascience` recognizes as being a number. There's a solution; run the following cell to implement it."
   ]
  },
  {
   "cell_type": "code",
   "execution_count": null,
   "metadata": {},
   "outputs": [],
   "source": [
    "from datetime import datetime\n",
    "\n",
    "def convert_date(date):\n",
    "    return datetime.strptime(date, '%m/%d/%y')\n",
    "\n",
    "alameda_rotated = alameda_rotated.with_columns(\n",
    "    'Date', alameda_rotated.apply(convert_date, 'Date')\n",
    ")\n",
    "\n",
    "alameda_rotated"
   ]
  },
  {
   "cell_type": "markdown",
   "metadata": {},
   "source": [
    "Great, now run the following cell to draw the line plot:"
   ]
  },
  {
   "cell_type": "code",
   "execution_count": null,
   "metadata": {},
   "outputs": [],
   "source": [
    "alameda_rotated.plot('Date',\n",
    "                    title = 'Total Number of COVID-19 Cases in Alameda County')"
   ]
  },
  {
   "cell_type": "markdown",
   "metadata": {},
   "source": [
    "Awesome. But what if we want the number of new cases per day? We can compute that too, using `np.diff`. `np.diff` subtracts consecutive elements in an array. (Notice that when we call `np.diff` on an array of length `n`, the result is an array of length `n-1`.)"
   ]
  },
  {
   "cell_type": "code",
   "execution_count": null,
   "metadata": {},
   "outputs": [],
   "source": [
    "np.diff(np.array([5, 4, 9, 1, 8]))"
   ]
  },
  {
   "cell_type": "markdown",
   "metadata": {},
   "source": [
    "We can use it on the `'Cases'` column of `alameda_rotated`."
   ]
  },
  {
   "cell_type": "code",
   "execution_count": null,
   "metadata": {},
   "outputs": [],
   "source": [
    "alameda_rotated = alameda_rotated.with_columns(\n",
    "    'New Cases', np.append(0, np.diff(alameda_rotated.column('Cases')))\n",
    ")\n",
    "\n",
    "alameda_rotated"
   ]
  },
  {
   "cell_type": "code",
   "execution_count": null,
   "metadata": {},
   "outputs": [],
   "source": [
    "alameda_rotated.plot('Date', 'New Cases',\n",
    "                    title = 'Number of New COVID-19 Cases in Alameda County Per Day')"
   ]
  },
  {
   "cell_type": "markdown",
   "metadata": {},
   "source": [
    "Hmm – there are a few jumps that don't quite seem right. What do you think happened? 🤔\n",
    "\n",
    "(Hint: hover over the values for February 5, February 6, and February 7. What happens when you add the values for February 5 and February 6?)"
   ]
  }
 ],
 "metadata": {
  "kernelspec": {
   "display_name": "Python 3",
   "language": "python",
   "name": "python3"
  },
  "language_info": {
   "codemirror_mode": {
    "name": "ipython",
    "version": 3
   },
   "file_extension": ".py",
   "mimetype": "text/x-python",
   "name": "python",
   "nbconvert_exporter": "python",
   "pygments_lexer": "ipython3",
   "version": "3.8.5"
  }
 },
 "nbformat": 4,
 "nbformat_minor": 4
}

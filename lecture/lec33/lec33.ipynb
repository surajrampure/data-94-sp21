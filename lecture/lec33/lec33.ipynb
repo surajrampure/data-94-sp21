{
 "cells": [
  {
   "cell_type": "markdown",
   "metadata": {},
   "source": [
    "# Lecture 33 – Simulations, Finding and Using Data\n",
    "\n",
    "## Data 94, Spring 2021"
   ]
  },
  {
   "cell_type": "code",
   "execution_count": null,
   "metadata": {},
   "outputs": [],
   "source": [
    "from datascience import *\n",
    "import numpy as np\n",
    "Table.interactive_plots()\n",
    "\n",
    "from ipywidgets import interact, widgets\n",
    "from IPython.display import display"
   ]
  },
  {
   "cell_type": "markdown",
   "metadata": {},
   "source": [
    "## Repetition"
   ]
  },
  {
   "cell_type": "code",
   "execution_count": null,
   "metadata": {},
   "outputs": [],
   "source": [
    "coin = np.array(['heads', 'tails'])\n",
    "coin"
   ]
  },
  {
   "cell_type": "code",
   "execution_count": null,
   "metadata": {},
   "outputs": [],
   "source": [
    "flips = np.random.choice(coin, size = 10)\n",
    "flips"
   ]
  },
  {
   "cell_type": "code",
   "execution_count": null,
   "metadata": {},
   "outputs": [],
   "source": [
    "# Array of 10 elements – True if flip was 'heads', False otherwise\n",
    "flips == 'heads'"
   ]
  },
  {
   "cell_type": "code",
   "execution_count": null,
   "metadata": {},
   "outputs": [],
   "source": [
    "# Number of heads\n",
    "np.count_nonzero(flips == 'heads')"
   ]
  },
  {
   "cell_type": "markdown",
   "metadata": {},
   "source": [
    "### Simulating Coin Flips\n",
    "\n",
    "Idea:\n",
    "1. Flip a coin 100 times. Write down the number of heads.\n",
    "2. Repeat step 1 many times – say, 10,000 times.\n",
    "3. Draw a histogram of the number of heads in each **iteration**."
   ]
  },
  {
   "cell_type": "code",
   "execution_count": null,
   "metadata": {},
   "outputs": [],
   "source": [
    "num_heads_arr = np.array([])\n",
    "\n",
    "for i in np.arange(10000):\n",
    "    flips = np.random.choice(coin, size = 100)\n",
    "    heads = np.count_nonzero(flips == 'heads')\n",
    "    num_heads_arr = np.append(num_heads_arr, heads)"
   ]
  },
  {
   "cell_type": "code",
   "execution_count": null,
   "metadata": {},
   "outputs": [],
   "source": [
    "num_heads_arr"
   ]
  },
  {
   "cell_type": "code",
   "execution_count": null,
   "metadata": {},
   "outputs": [],
   "source": [
    "len(num_heads_arr)"
   ]
  },
  {
   "cell_type": "code",
   "execution_count": null,
   "metadata": {},
   "outputs": [],
   "source": [
    "Table().with_columns('Number of Heads', num_heads_arr) \\\n",
    "       .hist(density = False, bins = np.arange(25.5, 76.5), title = 'Empirical Distribution of 100 Coin Flips')"
   ]
  },
  {
   "cell_type": "markdown",
   "metadata": {},
   "source": [
    "### The Birthday Problem"
   ]
  },
  {
   "cell_type": "code",
   "execution_count": null,
   "metadata": {},
   "outputs": [],
   "source": [
    "def one_sim():\n",
    "    seen = []\n",
    "    while True:\n",
    "        new_day = np.random.randint(1, 366)\n",
    "        if new_day in seen:\n",
    "            return len(seen) + 1\n",
    "        else:\n",
    "            seen.append(new_day)"
   ]
  },
  {
   "cell_type": "code",
   "execution_count": null,
   "metadata": {
    "scrolled": false
   },
   "outputs": [],
   "source": [
    "one_sim()"
   ]
  },
  {
   "cell_type": "code",
   "execution_count": null,
   "metadata": {},
   "outputs": [],
   "source": [
    "class_sizes = np.array([])\n",
    "for i in range(10000):\n",
    "    class_sizes = np.append(class_sizes, one_sim())"
   ]
  },
  {
   "cell_type": "code",
   "execution_count": null,
   "metadata": {},
   "outputs": [],
   "source": [
    "class_sizes"
   ]
  },
  {
   "cell_type": "markdown",
   "metadata": {},
   "source": [
    "Instead of drawing a histogram, we're going to do something different. Run the cell below to generate a line plot."
   ]
  },
  {
   "cell_type": "code",
   "execution_count": null,
   "metadata": {},
   "outputs": [],
   "source": [
    "t = Table().with_columns('Number of Students', class_sizes).group(0)\n",
    "t = t.with_columns('Probability of Shared Birthdays', 100 * t.column('count').cumsum() / 10000)\n",
    "\n",
    "t.plot('Number of Students', 'Probability of Shared Birthdays')"
   ]
  },
  {
   "cell_type": "markdown",
   "metadata": {},
   "source": [
    "It turns out that, in a class size of 23, the chances that two students share the same birthday is about 50%."
   ]
  },
  {
   "cell_type": "markdown",
   "metadata": {},
   "source": [
    "## Extra: Conway's Game of Life\n",
    "\n",
    "You're not responsible for any of the code here. Just run the following cells. Much of this code is taken from [here](https://github.com/martinRenou/ipycanvas/blob/master/examples/conways_game_of_life.ipynb).\n",
    "\n",
    "Also, this code will not work in the HTML output; you need to actually open the notebook for this to work."
   ]
  },
  {
   "cell_type": "code",
   "execution_count": null,
   "metadata": {},
   "outputs": [],
   "source": [
    "from time import sleep\n",
    "from threading import Thread\n",
    "from ipycanvas import RoughCanvas, hold_canvas"
   ]
  },
  {
   "cell_type": "code",
   "execution_count": null,
   "metadata": {},
   "outputs": [],
   "source": [
    "def life_step(x):\n",
    "    \"\"\"Game of life step\"\"\"\n",
    "    nbrs_count = sum(np.roll(np.roll(x, i, 0), j, 1)\n",
    "                     for i in (-1, 0, 1) for j in (-1, 0, 1)\n",
    "                     if (i != 0 or j != 0))\n",
    "    return (nbrs_count == 3) | (x & (nbrs_count == 2))\n",
    "\n",
    "def draw(x, canvas, color='black'):\n",
    "    with hold_canvas(canvas):\n",
    "        canvas.clear()\n",
    "        canvas.fill_style = '#FFF0C9'\n",
    "        canvas.stroke_style = 'white'\n",
    "        canvas.fill_rect(0, 0, canvas.size[0], canvas.size[1])\n",
    "\n",
    "        canvas.fill_style = color\n",
    "        canvas.stroke_style = color\n",
    "\n",
    "        living_cells = np.where(x)\n",
    "        \n",
    "        rects_x = living_cells[0] * n_pixels\n",
    "        rects_y = living_cells[1] * n_pixels\n",
    "\n",
    "        canvas.fill_rects(rects_x, rects_y, n_pixels)\n",
    "        canvas.stroke_rects(rects_x, rects_y, n_pixels)"
   ]
  },
  {
   "cell_type": "markdown",
   "metadata": {},
   "source": [
    "### This is perhaps the only relevant line of code.\n",
    "\n",
    "We randomly initialize a 20 by 20 grid of 1s and 0s."
   ]
  },
  {
   "cell_type": "code",
   "execution_count": null,
   "metadata": {},
   "outputs": [],
   "source": [
    "x = np.random.randint(2, size = (20, 20))"
   ]
  },
  {
   "cell_type": "code",
   "execution_count": null,
   "metadata": {},
   "outputs": [],
   "source": [
    "n_pixels = 15\n",
    "\n",
    "canvas = RoughCanvas(width=x.shape[1]*n_pixels, height=x.shape[0]*n_pixels)\n",
    "canvas.fill_style = '#FFF0C9'\n",
    "canvas.stroke_style = 'white'\n",
    "canvas.fill_rect(0, 0, canvas.size[0], canvas.size[1])\n",
    "\n",
    "draw(x, canvas, '#5770B3')"
   ]
  },
  {
   "cell_type": "code",
   "execution_count": null,
   "metadata": {},
   "outputs": [],
   "source": [
    "canvas"
   ]
  },
  {
   "cell_type": "code",
   "execution_count": null,
   "metadata": {},
   "outputs": [],
   "source": [
    "class GameOfLife(Thread):\n",
    "    def __init__(self, x, canvas):\n",
    "        self.x = x\n",
    "        self.canvas = canvas\n",
    "        super(GameOfLife, self).__init__()\n",
    "\n",
    "    def run(self):\n",
    "        for _ in range(1_000):\n",
    "            self.x = life_step(self.x)\n",
    "            draw(self.x, self.canvas, '#5770B3')\n",
    "\n",
    "            sleep(0.1)\n",
    "\n",
    "GameOfLife(x, canvas).start()\n",
    "canvas"
   ]
  }
 ],
 "metadata": {
  "kernelspec": {
   "display_name": "Python 3",
   "language": "python",
   "name": "python3"
  },
  "language_info": {
   "codemirror_mode": {
    "name": "ipython",
    "version": 3
   },
   "file_extension": ".py",
   "mimetype": "text/x-python",
   "name": "python",
   "nbconvert_exporter": "python",
   "pygments_lexer": "ipython3",
   "version": "3.8.5"
  }
 },
 "nbformat": 4,
 "nbformat_minor": 4
}

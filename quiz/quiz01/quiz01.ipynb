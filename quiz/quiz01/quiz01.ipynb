{
 "cells": [
  {
   "cell_type": "code",
   "execution_count": null,
   "metadata": {
    "deletable": false,
    "editable": false
   },
   "outputs": [],
   "source": [
    "# Initialize Otter\n",
    "import otter\n",
    "grader = otter.Notebook(\"quiz01.ipynb\")"
   ]
  },
  {
   "cell_type": "markdown",
   "metadata": {},
   "source": [
    "# Quiz 1\n",
    "\n",
    "## Data 94, Spring 2021\n",
    "\n",
    "This quiz is meant to be completed in **50 minutes**, from 11:10AM-12:00PM on Friday, February 12th.\n",
    "\n",
    "### Test Cases\n",
    "Unlike in the homework assignments, the test cases that you see in this notebook **are not** the final test cases that your quiz will be graded on. The test cases that you see in this notebook only test your code on one example (typically one that is given in the question), but your final grade on each question will be determined using a series of \"hidden tests\" which you will only see once we release grades. **In other words, just because you see `q3 passed!` does not necessarily mean you answered Question 3 correctly.**\n",
    "\n",
    "That means, after you complete a question, you should try out a few examples on your own to make sure your code is doing what it is supposed to. We will also be manually grading your code to make sure it truly does what it is supposed to.\n",
    "\n",
    "### Grading\n",
    "\n",
    "There are 5 questions in this quiz, each worth 3 points (not including Question 0, which is required but worth 0 points). **However, the maximum possible score on this quiz is 12.** This means that of the 5 questions on the quiz, you only need to complete 4 for full credit. If you complete all 5, you will not receive any extra credit (i.e. the max score is still 12/12), but it may help you in the event that you don't receive full credit on one of your other questions.\n",
    "\n",
    "Each question has 6 test cases, but you only get to see 1 of them in this notebook. Each test case is worth an equal number of points. You will see your full score on the quiz within a few days of submitting.\n",
    "\n",
    "### Submission\n",
    "\n",
    "After finishing the quiz, submit it to Gradescope just like any other homework assignment."
   ]
  },
  {
   "cell_type": "code",
   "execution_count": null,
   "metadata": {},
   "outputs": [],
   "source": [
    "# Don't worry about what this cell does, just run it.\n",
    "import numpy as np"
   ]
  },
  {
   "cell_type": "markdown",
   "metadata": {},
   "source": [
    "## Question 0 – Academic Honesty Statement [Points: 0, but you must do it!]"
   ]
  },
  {
   "cell_type": "markdown",
   "metadata": {},
   "source": [
    "### Copy the following statement into the cell below, and replace `{YOUR NAME HERE}` with your full name.\n",
    "\n",
    "\"I, {YOUR NAME HERE}, certify that all work on this quiz is my own. I did not communicate with any other human beings while taking this exam, and I did not refer to any materials that were disallowed by course policy.\""
   ]
  },
  {
   "cell_type": "markdown",
   "metadata": {},
   "source": [
    "_Type your answer here, replacing this text._"
   ]
  },
  {
   "cell_type": "markdown",
   "metadata": {
    "deletable": false,
    "editable": false
   },
   "source": [
    "## Question 1 – Triangles [Points: 3]\n",
    "\n",
    "Heron's formula states that the area of a triangle whose sides have lengths $a$, $b$, and $c$ is\n",
    "\n",
    "$$A = \\sqrt{s(s-a)(s-b)(s-c)}$$\n",
    "\n",
    "where $s$ is half of the triangle's perimeter, $s = \\frac{a + b + c}{2}$.\n",
    "\n",
    "Complete the implementation of the function `triangle_area`, which takes in side lengths `a`, `b`, and `c`, and returns the area of the corresponding triangle, as a float. \n",
    "\n",
    "**If there is no triangle with side lengths $a$, $b$, and $c$ – that is, if $s(s - a)(s - b)(s - c)$ is less than or equal to 0, or if any of $a$, $b$, or $c$ is less than or equal to 0 – then your function should return `-1`.** Make sure to check for this, or your answer will not receive full credit!\n",
    "\n",
    "For example, `triangle_area(3, 4, 5)` should return `6.0`, and `triangle_area(3, 3, 100)` should return `-1`.\n",
    "\n",
    "<!--\n",
    "BEGIN QUESTION\n",
    "name: q1\n",
    "points:\n",
    "    each: 0.5\n",
    "-->"
   ]
  },
  {
   "cell_type": "code",
   "execution_count": null,
   "metadata": {},
   "outputs": [],
   "source": [
    "def triangle_area(a, b, c):\n",
    "    ..."
   ]
  },
  {
   "cell_type": "code",
   "execution_count": null,
   "metadata": {
    "deletable": false,
    "editable": false
   },
   "outputs": [],
   "source": [
    "grader.check(\"q1\")"
   ]
  },
  {
   "cell_type": "markdown",
   "metadata": {
    "deletable": false,
    "editable": false
   },
   "source": [
    "## Question 2 – Lines [Points: 3]\n",
    "\n",
    "The equation of a line is $y = mx + b$. Given two points $(x_0, y_0)$ and $(x_1, y_1)$, we can find $m$ and $b$ using the following formulas:\n",
    "\n",
    "$$m = \\frac{y_1 - y_0}{x_1 - x_0}$$\n",
    "\n",
    "$$b = y_0 - mx_0 = y_1 - mx_1$$\n",
    "\n",
    "We say multiple points are **collinear** if they all fall on a single straight line. To check if three points are collinear, we can do the following:\n",
    "- Use the first two points, $(x_0, y_0)$ and $(x_1, y_1)$, to determine $m$ and $b$.\n",
    "- The points are collinear if $y_2$ is equal to $mx_2 + b$.\n",
    "\n",
    "In this question, `x` and `y` are both lists with three elements, corresponding to the $x$ and $y$ values of three points. For instance, `x = [2, 8, -1]` and `y = [1, 4, 2]` correspond to the three points $(2, 1), (8, 4),$ and $(-1, 2)$ (so $x_i$ is the element at position `i` in `x`).\n",
    "\n",
    "Complete the implementation of the function `collinear`, which takes in two lists `x` and `y` and returns `True` if the provided points are collinear, and `False` if they are not.\n",
    "\n",
    "Assume that all elements of `x` and `y` are ints, and that `m` and `b` are also ints (this way, we don't need to worry about floating point issues). Also assume that all elements in `x` are unique.\n",
    "\n",
    "For example, `collinear([0, 1, 2], [3, 4, 5])` should return the boolean `True`, since these three points lie on the line $y = x + 3$. `collinear([1, 2, 10], [5, 10, 15])` should return the boolean `False`, since the first two points lie on the line $y = 5x$ while the third point does not.\n",
    "\n",
    "<!--\n",
    "BEGIN QUESTION\n",
    "name: q2\n",
    "points:\n",
    "    each: 0.5\n",
    "-->"
   ]
  },
  {
   "cell_type": "code",
   "execution_count": null,
   "metadata": {},
   "outputs": [],
   "source": [
    "def collinear(x, y):\n",
    "    m = (y[1] - y[0]) // (x[1] - x[0])\n",
    "    b = ...\n",
    "    on_line = ...\n",
    "    return on_line"
   ]
  },
  {
   "cell_type": "code",
   "execution_count": null,
   "metadata": {
    "deletable": false,
    "editable": false
   },
   "outputs": [],
   "source": [
    "grader.check(\"q2\")"
   ]
  },
  {
   "cell_type": "markdown",
   "metadata": {
    "deletable": false,
    "editable": false
   },
   "source": [
    "## Question 3 – Calendar [Points: 3]\n",
    "\n",
    "Gerald is trying to remember his dad's birthday, which is on May 16.\n",
    "\n",
    "Complete the implementation of the function `check_birthday`, which takes in two arguments, `month` and `day`, and returns whether the corresponding date is before, on, or after May 16. `check_birthday` should return the string `'Before'`, `'Birthday'`, or `'After'`.\n",
    "\n",
    "Assume that `month` is an integer in the range from 1 (indicating January) to 12 (indicating December), and that `day` is an integer in the range from 1 to 31. You can assume that the day of the month will be valid for the given month. For example, `check_birthday(5, 16)` should return the string `'Birthday'`, and `check_birthday(11, 26)` should return the string `'After'`.\n",
    "\n",
    "<!--\n",
    "BEGIN QUESTION\n",
    "name: q3\n",
    "points:\n",
    "    each: 0.5\n",
    "-->"
   ]
  },
  {
   "cell_type": "code",
   "execution_count": null,
   "metadata": {},
   "outputs": [],
   "source": [
    "def check_birthday(month, day):\n",
    "    ..."
   ]
  },
  {
   "cell_type": "code",
   "execution_count": null,
   "metadata": {
    "deletable": false,
    "editable": false
   },
   "outputs": [],
   "source": [
    "grader.check(\"q3\")"
   ]
  },
  {
   "cell_type": "markdown",
   "metadata": {
    "deletable": false,
    "editable": false
   },
   "source": [
    "## Question 4 – Email Verification [Points: 3]\n",
    "\n",
    "We define a \"valid Berkeley email address\" to be one that follows the structure `'username@berkeley.edu'`.\n",
    "\n",
    "Complete the implementation of the function `extract_calnet`, which takes in a string `email`, and returns the username portion of `email` if it is a valid Berkeley email address, and `False` if it is not. Assume that `email` has exactly one `'@'` symbol.\n",
    "\n",
    "For example, `extract_calnet('dirks@berkeley.edu')` should return the string `'dirks'`, and both `extract_calnet('me@data.berkeley.edu')` and `extract_calnet('berkeley@gmail.com')` should return the boolean `False`.\n",
    "\n",
    "_Hint: Use string indexing!_\n",
    "\n",
    "<!--\n",
    "BEGIN QUESTION\n",
    "name: q4\n",
    "points:\n",
    "    each: 0.5\n",
    "-->"
   ]
  },
  {
   "cell_type": "code",
   "execution_count": null,
   "metadata": {},
   "outputs": [],
   "source": [
    "def extract_calnet(email):\n",
    "    at_index = ...\n",
    "    is_valid = ...\n",
    "    \n",
    "    if is_valid:\n",
    "        output = ...\n",
    "    else:\n",
    "        output = ...\n",
    "\n",
    "    return output"
   ]
  },
  {
   "cell_type": "code",
   "execution_count": null,
   "metadata": {
    "deletable": false,
    "editable": false
   },
   "outputs": [],
   "source": [
    "grader.check(\"q4\")"
   ]
  },
  {
   "cell_type": "markdown",
   "metadata": {
    "deletable": false,
    "editable": false
   },
   "source": [
    "## Question 5 – Multiplicative Persistency [Points: 3]\n",
    "\n",
    "We define the \"multiplicative persistence\" of a two-digit number $n$ to be the number of times the digits of $n$ need to be multiplied until the result is a single digit number.\n",
    "\n",
    "Consider 77:\n",
    "\n",
    "$$77 \\rightarrow 7 \\cdot 7 = 49 \\rightarrow 4 \\cdot 9 = 36 \\rightarrow 3 \\cdot 6 = 18 \\rightarrow 1 \\cdot 8 = 8$$\n",
    "\n",
    "For 77 we had to repeat this sequence 4 times; thus, we say the persistency of 77 is 4, so `persistency(77)` should return the int `4`. Similarly, `persistency(18)` should return the int `1`.\n",
    "\n",
    "Complete the implementation of the function `persistency`, which takes in a two-digit integer `n` and returns its multiplicative persistence.\n",
    "\n",
    "**Note:** You are not allowed to use `str` in your implementation.\n",
    "\n",
    "\n",
    "<!--\n",
    "BEGIN QUESTION\n",
    "name: q5\n",
    "points:\n",
    "    each: 0.5\n",
    "-->"
   ]
  },
  {
   "cell_type": "code",
   "execution_count": null,
   "metadata": {},
   "outputs": [],
   "source": [
    "def persistency(n):\n",
    "    count = ...\n",
    "    while n >= 10:\n",
    "        n = ...\n",
    "        count = ...\n",
    "    return count"
   ]
  },
  {
   "cell_type": "code",
   "execution_count": null,
   "metadata": {
    "deletable": false,
    "editable": false
   },
   "outputs": [],
   "source": [
    "grader.check(\"q5\")"
   ]
  },
  {
   "cell_type": "markdown",
   "metadata": {
    "deletable": false,
    "editable": false
   },
   "source": [
    "---\n",
    "\n",
    "To double-check your work, the cell below will rerun all of the autograder tests."
   ]
  },
  {
   "cell_type": "code",
   "execution_count": null,
   "metadata": {
    "deletable": false,
    "editable": false
   },
   "outputs": [],
   "source": [
    "grader.check_all()"
   ]
  },
  {
   "cell_type": "markdown",
   "metadata": {
    "deletable": false,
    "editable": false
   },
   "source": [
    "## Submission\n",
    "\n",
    "Make sure you have run all cells in your notebook in order before running the cell below, so that all images/graphs appear in the output. The cell below will generate a zip file for you to submit. **Please save before exporting!**"
   ]
  },
  {
   "cell_type": "code",
   "execution_count": null,
   "metadata": {
    "deletable": false,
    "editable": false
   },
   "outputs": [],
   "source": [
    "# Save your notebook first, then run this cell to export your submission.\n",
    "grader.export()"
   ]
  },
  {
   "cell_type": "markdown",
   "metadata": {},
   "source": [
    " "
   ]
  }
 ],
 "metadata": {
  "kernelspec": {
   "display_name": "Python 3",
   "language": "python",
   "name": "python3"
  },
  "language_info": {
   "codemirror_mode": {
    "name": "ipython",
    "version": 3
   },
   "file_extension": ".py",
   "mimetype": "text/x-python",
   "name": "python",
   "nbconvert_exporter": "python",
   "pygments_lexer": "ipython3",
   "version": "3.8.5"
  }
 },
 "nbformat": 4,
 "nbformat_minor": 4
}

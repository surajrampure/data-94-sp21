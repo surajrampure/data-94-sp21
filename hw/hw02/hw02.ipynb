{
 "cells": [
  {
   "cell_type": "code",
   "execution_count": null,
   "metadata": {
    "deletable": false,
    "editable": false
   },
   "outputs": [],
   "source": [
    "# Initialize Otter\n",
    "import otter\n",
    "grader = otter.Notebook(\"hw02.ipynb\")"
   ]
  },
  {
   "cell_type": "markdown",
   "metadata": {},
   "source": [
    "# Homework 2 – Control, Iteration, Lists, and Strings\n",
    "\n",
    "## Data 94, Spring 2021\n",
    "\n",
    "In this homework assignment, you will apply what you've learned about if-statements, while loops, string manipulation, and lists.\n",
    "\n",
    "This homework is due on **Wednesday, February 10th at 11:59PM**. You must submit the assignment to Gradescope. Submission instructions can be found at the bottom of this notebook. See the [syllabus](http://data94.org/syllabus/#late-policy-and-extensions) for our late submission policy."
   ]
  },
  {
   "cell_type": "code",
   "execution_count": null,
   "metadata": {},
   "outputs": [],
   "source": [
    "# Don't worry about what this cell does, just run it.\n",
    "from datascience import *\n",
    "import numpy as np\n",
    "from ipywidgets import interact\n",
    "from IPython.display import YouTubeVideo, HTML, display"
   ]
  },
  {
   "cell_type": "markdown",
   "metadata": {},
   "source": [
    "## Question 1 – Death and Taxes\n",
    "\n",
    "The United States, like many countries, uses a progressive tax bracket system. This means that as your earnings increase, the percentage of your earnings you owe in tax also increases. In addition, the US tax system uses marginal tax brackets – what this means is that US taxpayers pay different tax percentages on different \"chunks\" of their earnings.\n",
    "\n",
    "Let's suppose the tax brackets for the 2020 tax year are defined by the table below. (This is pretty close to the actual bracket, but for simplicities' sake we'll use 4 brackets instead of 7.)\n",
    "\n",
    "| Tax Rate | Taxable Income |\n",
    "| --- | --- |\n",
    "| 10% | \\\\$0 to \\\\$9,875 |\n",
    "| 12% | \\\\$9,876 to \\\\$40,125 |\n",
    "| 22% | \\\\$40,126 to \\\\$85,525 |\n",
    "| 24% | \\\\$85,526 or more |\n",
    "\n",
    "**You will need to use these numbers throughout this question.**\n",
    "\n",
    "A few notes:\n",
    "- We will assume all incomes are integers.\n",
    "- \"Taxable Income\" refers to the part of ones income that is taxable; in the US there is what's known as a \"standard deduction\" which can be thought of as a discount on your taxes. In this assignment, we won't worry about deductions.\n",
    "\n",
    "If someone has a taxable income of \\\\$60,000, we say they are in the 22% tax bracket. However, such an individual doesn't owe 22% of \\\\$60,000 in taxes. Instead, they owe:\n",
    "- 10% of \\\\$9,875, **plus**\n",
    "- 12% of \\\\$30250 (\\\\$40,125 - \\\\$9,875), **plus**\n",
    "- 22% of \\\\$19,875 (\\\\$60,000 - \\\\$40,125)\n",
    "\n",
    "for a total of \\\\$8,990 ($0.1 \\cdot \\$9,875 + 0.12 \\cdot \\$30,250 + 0.22 \\cdot \\$19,875 = \\$8,990$). This makes their effective tax rate $\\frac{8990}{60000} \\approx 0.1498$, or about 14.98%.\n",
    "\n",
    "If you want to read more about the US federal income tax system, click [here](https://www.taxpolicycenter.org/briefing-book/how-do-federal-income-tax-rates-work)."
   ]
  },
  {
   "cell_type": "markdown",
   "metadata": {
    "deletable": false,
    "editable": false
   },
   "source": [
    "### Question 1a\n",
    "\n",
    "Complete the implementation of the function `tax_bracket`, which takes in a taxable income (`income`) and returns the tax bracket it is in. For instance, `tax_bracket(60000)` should evaluate to `0.22` and `tax_bracket(402150)` should evaluate to `0.24`.\n",
    "\n",
    "_Hint: Use `elif`._\n",
    "\n",
    "<!--\n",
    "BEGIN QUESTION\n",
    "name: q1a\n",
    "points: 2\n",
    "-->"
   ]
  },
  {
   "cell_type": "code",
   "execution_count": null,
   "metadata": {},
   "outputs": [],
   "source": [
    "def tax_bracket(income):\n",
    "    ..."
   ]
  },
  {
   "cell_type": "code",
   "execution_count": null,
   "metadata": {
    "deletable": false,
    "editable": false
   },
   "outputs": [],
   "source": [
    "grader.check(\"q1a\")"
   ]
  },
  {
   "cell_type": "markdown",
   "metadata": {
    "deletable": false,
    "editable": false
   },
   "source": [
    "### Question 1b\n",
    "\n",
    "Complete the implementation of `tax_owed`, which takes in a taxable income (`income`) and returns the amount of tax owed by an individual with that taxable income. For instance, `tax_owed(60000)` should evaluate to `8990.0`.\n",
    "\n",
    "Note: The code you write for this question might get a little long – but that's okay! Take it one step at a time.\n",
    "\n",
    "For your convenience, here's the tax bracket table again:\n",
    "\n",
    "| Tax Rate | Taxable Income |\n",
    "| --- | --- |\n",
    "| 10% | \\\\$0 to \\\\$9,875 |\n",
    "| 12% | \\\\$9,876 to \\\\$40,125 |\n",
    "| 22% | \\\\$40,126 to \\\\$85,525 |\n",
    "| 24% | \\\\$85,526 or more |\n",
    "\n",
    "<!--\n",
    "BEGIN QUESTION\n",
    "name: q1b\n",
    "points: 2\n",
    "-->"
   ]
  },
  {
   "cell_type": "code",
   "execution_count": null,
   "metadata": {},
   "outputs": [],
   "source": [
    "def tax_owed(income):\n",
    "    ..."
   ]
  },
  {
   "cell_type": "code",
   "execution_count": null,
   "metadata": {
    "deletable": false,
    "editable": false
   },
   "outputs": [],
   "source": [
    "grader.check(\"q1b\")"
   ]
  },
  {
   "cell_type": "markdown",
   "metadata": {
    "deletable": false,
    "editable": false
   },
   "source": [
    "### Question 1c\n",
    "\n",
    "Finally, complete the implementation of `effective_tax_rate`, which takes in a taxable income (`income`) and returns the effective tax rate for an individual with that taxable income, as a decimal. For instance, `effective_tax_rate(60000)` should evaluate to approximately `0.149833`.\n",
    "\n",
    "If `income` is less than or equal to 0, `effective_tax_rate` should evaluate to `0`.\n",
    "\n",
    "_Hint: You should use your `tax_owed` function. Our entire solution is only three lines, and two of them are for handling the case when `income <= 0`._\n",
    "\n",
    "<!--\n",
    "BEGIN QUESTION\n",
    "name: q1c\n",
    "points: 1\n",
    "-->"
   ]
  },
  {
   "cell_type": "code",
   "execution_count": null,
   "metadata": {},
   "outputs": [],
   "source": [
    "def effective_tax_rate(income):\n",
    "    ..."
   ]
  },
  {
   "cell_type": "code",
   "execution_count": null,
   "metadata": {
    "deletable": false,
    "editable": false
   },
   "outputs": [],
   "source": [
    "grader.check(\"q1c\")"
   ]
  },
  {
   "cell_type": "markdown",
   "metadata": {},
   "source": [
    "### Fun Demo\n",
    "\n",
    "You just did all of the math necessary to build an income tax calculator, like the ones you see on many financial websites. Run the following cell once you've completed the rest of this question!"
   ]
  },
  {
   "cell_type": "code",
   "execution_count": null,
   "metadata": {},
   "outputs": [],
   "source": [
    "# Don't worry about the code, just play with the slider that appears after running.\n",
    "def plot_income_calculator(income):\n",
    "    s = f'''\n",
    "    <h3>{'${:,.2f}'.format(income)}</h3>\n",
    "    Taxable Income\n",
    "    \n",
    "    <h2>{'${:,.2f}'.format(tax_owed(income))}</h2>\n",
    "    Tax Owed\n",
    "    \n",
    "    <h3>{'{:,.1f}'.format((100 * effective_tax_rate(income))) + '%'}</h3>\n",
    "    Effective Tax Rate\n",
    "    \n",
    "    '''\n",
    "    display(HTML(s))\n",
    "    \n",
    "interact(plot_income_calculator, income=(0, 200000, 1000));"
   ]
  },
  {
   "cell_type": "markdown",
   "metadata": {},
   "source": [
    "## Question 2 – FizzBuzz\n",
    "\n",
    "[FizzBuzz](https://en.wikipedia.org/wiki/Fizz_buzz) is a game and common programming challenge. It is described below.\n",
    "\n",
    "> Players generally sit in a circle. The player designated to go first says the number \"1\", and the players then count upwards in turn. However, any number divisible by three is replaced by the word \"fizz\" and any number divisible by five by the word \"buzz\". Numbers divisible by 15 become \"fizz buzz\". A player who hesitates or makes a mistake is eliminated from the game.\n",
    "\n",
    "In this problem, you will write a function that computes the \"FizzBuzz sequence.\""
   ]
  },
  {
   "cell_type": "markdown",
   "metadata": {
    "deletable": false,
    "editable": false
   },
   "source": [
    "### Question 2a\n",
    "\n",
    "Complete the implementation of the function `single_number`, which takes in an integer (`n`) greater than or equal to 1 and returns the corresponding number or word in the FizzBuzz sequence, **as a string**. For instance, `single_number(2)` should evaluate to `'2'`, and `single_number(30)` should evaluate to `'fizz buzz'`.\n",
    "\n",
    "_Hint: Use the remainder operator `%`._\n",
    "\n",
    "<!--\n",
    "BEGIN QUESTION\n",
    "name: q2a\n",
    "points: 1\n",
    "-->"
   ]
  },
  {
   "cell_type": "code",
   "execution_count": null,
   "metadata": {},
   "outputs": [],
   "source": [
    "def single_number(n):\n",
    "    ..."
   ]
  },
  {
   "cell_type": "code",
   "execution_count": null,
   "metadata": {
    "deletable": false,
    "editable": false
   },
   "outputs": [],
   "source": [
    "grader.check(\"q2a\")"
   ]
  },
  {
   "cell_type": "markdown",
   "metadata": {
    "deletable": false,
    "editable": false
   },
   "source": [
    "### Question 2b\n",
    "\n",
    "Complete the implementation of the function `fizz_buzz_sequence`, which takes in an integer (`n`) greater than or equal to 1 and returns a list of length `n` containing the first `n` elements of the FizzBuzz sequence.\n",
    "\n",
    "For instance, `fizz_buzz_sequence(8)` should evaluate to the list `['1', '2', 'fizz', '4', 'buzz', 'fizz', '7', '8']`.\n",
    "\n",
    "_Hint: Use `sequence.append`, and make sure to increment `i`._\n",
    "\n",
    "<!--\n",
    "BEGIN QUESTION\n",
    "name: q2b\n",
    "points: 1\n",
    "-->"
   ]
  },
  {
   "cell_type": "code",
   "execution_count": null,
   "metadata": {},
   "outputs": [],
   "source": [
    "def fizz_buzz_sequence(n):\n",
    "    i = 1\n",
    "    sequence = []\n",
    "    while i <= n:\n",
    "        ...\n",
    "    return sequence"
   ]
  },
  {
   "cell_type": "code",
   "execution_count": null,
   "metadata": {
    "deletable": false,
    "editable": false
   },
   "outputs": [],
   "source": [
    "grader.check(\"q2b\")"
   ]
  },
  {
   "cell_type": "markdown",
   "metadata": {},
   "source": [
    "## Question 3 – Hailstone Sequence\n",
    "\n",
    "Run the following cell and watch the video that pops up. It's short."
   ]
  },
  {
   "cell_type": "code",
   "execution_count": null,
   "metadata": {},
   "outputs": [],
   "source": [
    "YouTubeVideo('m4CjXk_b8zo', width = 600, height = 300)"
   ]
  },
  {
   "cell_type": "markdown",
   "metadata": {
    "deletable": false,
    "editable": false
   },
   "source": [
    "The video above describes the [Collatz conjecture](https://en.wikipedia.org/wiki/Collatz_conjecture), which says the following:\n",
    "\n",
    "1. Pick a positive integer `n` as the start.\n",
    "2. If `n` is even, divide it by 2.\n",
    "3. If `n` is odd, multiply it by 3 and add 1.\n",
    "4. Continue this process until `n` is 1.\n",
    "\n",
    "The number `n` will travel up and down but eventually end at 1 (at least for all numbers that have ever been tried -- nobody has ever proved that the sequence will terminate). Analogously, a hailstone travels up and down in the atmosphere before eventually landing on earth.\n",
    "\n",
    "For instance, if we start with $n = 10$:\n",
    "\n",
    "$$10 \\rightarrow 5 \\rightarrow 16 \\rightarrow 8 \\rightarrow 4 \\rightarrow 2 \\rightarrow 1$$\n",
    "\n",
    "This sequence of values is often called the **hailstone sequence** for a given `n`. **For $n = 10$, we'd say the hailstone sequence is of length 7.**\n",
    "\n",
    "Below, implement the function `hailstone` that takes in an integer `n`, **prints** out the hailstone sequence starting at `n` (including `n` and `1`), and **returns** the length of the sequence.\n",
    "\n",
    "Hints and ideas:\n",
    "- First, write out the hailstone sequence for an arbitrary number by hand on paper to make sure you understand how it works.\n",
    "- What is the condition in our `while` loop?\n",
    "- How can you implement steps 2 and 3 from above in code?\n",
    "\n",
    "<!--\n",
    "BEGIN QUESTION\n",
    "name: q3\n",
    "points: 3\n",
    "-->"
   ]
  },
  {
   "cell_type": "code",
   "execution_count": null,
   "metadata": {},
   "outputs": [],
   "source": [
    "def hailstone(n):\n",
    "    ..."
   ]
  },
  {
   "cell_type": "code",
   "execution_count": null,
   "metadata": {
    "deletable": false,
    "editable": false
   },
   "outputs": [],
   "source": [
    "grader.check(\"q3\")"
   ]
  },
  {
   "cell_type": "markdown",
   "metadata": {},
   "source": [
    "Below, call `hailstone(27)`. Can you find a longer sequence?"
   ]
  },
  {
   "cell_type": "code",
   "execution_count": null,
   "metadata": {},
   "outputs": [],
   "source": [
    "hailstone(27)"
   ]
  },
  {
   "cell_type": "markdown",
   "metadata": {},
   "source": [
    "## Question 4 – String Theory\n",
    "\n",
    "Unlike the previous few questions there is no \"theme\" in this question; instead there are a variety of shorter subparts meant to ensure you know how to work with strings and indexes."
   ]
  },
  {
   "cell_type": "markdown",
   "metadata": {
    "deletable": false,
    "editable": false
   },
   "source": [
    "### Question 4a\n",
    "\n",
    "Implement the function `is_ing`, which accepts a string `s` and returns `True` if the argument ends in `'ing'` and `False` if it does not.\n",
    "\n",
    "Your function should **not** be case sensitive. That is, if `s` ends in `'InG'`, you should also still return `True`. Use `.lower()`.\n",
    "\n",
    "Try to limit your solution to 2 lines – one line for converting to lowercase, and one line for your logic.\n",
    "\n",
    "<!--\n",
    "BEGIN QUESTION\n",
    "name: q4a\n",
    "points: 1\n",
    "-->"
   ]
  },
  {
   "cell_type": "code",
   "execution_count": null,
   "metadata": {},
   "outputs": [],
   "source": [
    "def is_ing(s):\n",
    "    ..."
   ]
  },
  {
   "cell_type": "code",
   "execution_count": null,
   "metadata": {
    "deletable": false,
    "editable": false
   },
   "outputs": [],
   "source": [
    "grader.check(\"q4a\")"
   ]
  },
  {
   "cell_type": "markdown",
   "metadata": {
    "deletable": false,
    "editable": false
   },
   "source": [
    "### Question 4b\n",
    "\n",
    "Often times, we will want to \"extract\" a substring from a larger string based on some special characters. For example, we may be interested in extracting the middle three digits from a phone number (which are known as the \"prefix\"):\n",
    "\n",
    "`'510-642-1000' -> '642'`\n",
    "\n",
    "Implement the function `split`, which accepts a string `s` and character `char` and returns a string containing everything in `s` between the first and second/last occurrences of `char`, respectively, as shown above. If there are fewer or more than 2 occurrences of `char` in `s`, return an empty string. (Characters are just strings with length 1.)\n",
    "\n",
    "Note: You **must** do this using the string indexing techniques that we covered in lecture. There's actually another way to do this, using `split`. To be precise, `s.split(char)[1]` does exactly what we're asking you to do – but, you can't use it here (and we'll check to make sure that you didn't)!-\n",
    "\n",
    "_Hint: look [here](https://www.w3schools.com/python/python_ref_string.asp)._\n",
    "\n",
    "<!--\n",
    "BEGIN QUESTION\n",
    "name: q4b\n",
    "points: 2\n",
    "-->"
   ]
  },
  {
   "cell_type": "code",
   "execution_count": null,
   "metadata": {},
   "outputs": [],
   "source": [
    "def extract(s, char):\n",
    "    # Check for the number of occurrences of char here\n",
    "    ...\n",
    "    \n",
    "    pos1 = ...\n",
    "    pos2 = ...\n",
    "    ..."
   ]
  },
  {
   "cell_type": "code",
   "execution_count": null,
   "metadata": {
    "deletable": false,
    "editable": false
   },
   "outputs": [],
   "source": [
    "grader.check(\"q4b\")"
   ]
  },
  {
   "cell_type": "markdown",
   "metadata": {
    "deletable": false,
    "editable": false
   },
   "source": [
    "### Question 4c\n",
    "\n",
    "Complete the implementation of the function `pump`, which takes in a string `base` and integer `rep` and returns a string with the same first and last characters as `base`, and with everything except the first and last characters in `base` repeated `rep` times.\n",
    "\n",
    "For example, if `base` is `'zebra'` and `rep` is `4`, the returned string should be `'zebrebrebrebra'`.\n",
    "\n",
    "<!--\n",
    "BEGIN QUESTION\n",
    "name: q4c\n",
    "points: 2\n",
    "-->"
   ]
  },
  {
   "cell_type": "code",
   "execution_count": null,
   "metadata": {},
   "outputs": [],
   "source": [
    "def pump(base, rep):\n",
    "    first = ...\n",
    "    last = base[-1]\n",
    "    middle = ...\n",
    "    middle_repeated = ...\n",
    "    output = ...\n",
    "    return output"
   ]
  },
  {
   "cell_type": "code",
   "execution_count": null,
   "metadata": {
    "deletable": false,
    "editable": false
   },
   "outputs": [],
   "source": [
    "grader.check(\"q4c\")"
   ]
  },
  {
   "cell_type": "markdown",
   "metadata": {
    "deletable": false,
    "editable": false
   },
   "source": [
    "## Question 5 – Big Tippers\n",
    "\n",
    "Suppose we are waiters at a restaurant, and we keep track of the tips that we receive in a given night. Specifically, we store in a list the first names of our customers along with the tip that they gave, like so:\n",
    "\n",
    "`[name_1, tip_1, name_2, tip_2, name_3, tip_3, ...]`\n",
    "\n",
    "So for instance, our list may look like `['suraj', 15, 'isaac', 9, 'angela', 19]`.\n",
    "\n",
    "Below, complete the implementation of the function `big_tippers`, which takes in a list `tips` as described above and returns only the names of the customers who tipped more than the average tip.\n",
    "\n",
    "If we take the list `['suraj', 15, 'isaac', 9, 'angela', 19]` to be our tips, then the average tip is $\\frac{15 + 9 + 19}{3} = 14.33$, and both `'suraj'` and `'angela'` tipped more than that, so your function should return `['suraj', 'angela']`.\n",
    "\n",
    "_Hint: use two while loops; one to compute the average tip, and a second to figure out who tipped more than average._\n",
    "\n",
    "<!--\n",
    "BEGIN QUESTION\n",
    "name: q5\n",
    "points: 3\n",
    "-->"
   ]
  },
  {
   "cell_type": "code",
   "execution_count": null,
   "metadata": {},
   "outputs": [],
   "source": [
    "def big_tippers(tips):\n",
    "    i = 1\n",
    "    total_tips = 0\n",
    "    # Hint: Use a while loop here\n",
    "    ...\n",
    "    average_tip = total_tips / (len(tips) / 2)\n",
    "    \n",
    "    i = 0 # Notice here we start at i = 0 instead of 1 – why is that?\n",
    "    names = []\n",
    "    # Hint: Use a second while loop here\n",
    "    ...\n",
    "\n",
    "    return names"
   ]
  },
  {
   "cell_type": "code",
   "execution_count": null,
   "metadata": {
    "deletable": false,
    "editable": false
   },
   "outputs": [],
   "source": [
    "grader.check(\"q5\")"
   ]
  },
  {
   "cell_type": "markdown",
   "metadata": {},
   "source": [
    "## Question 6 – Funny Business\n",
    "\n",
    "Your friend Terrance has defined the function `some_equal`, which takes in three arguments, `a`, `b`, and `c`.\n",
    "\n",
    "Terrance wants `some_equal` to return `True` if at least two of `a`, `b`, and `c` are equal to one another, and `False` otherwise."
   ]
  },
  {
   "cell_type": "code",
   "execution_count": null,
   "metadata": {},
   "outputs": [],
   "source": [
    "def some_equal(a, b, c):\n",
    "    return a == b or b == c or a == c or 1/0"
   ]
  },
  {
   "cell_type": "markdown",
   "metadata": {},
   "source": [
    "Sometimes, `some_equal` works:"
   ]
  },
  {
   "cell_type": "code",
   "execution_count": null,
   "metadata": {},
   "outputs": [],
   "source": [
    "some_equal('hey', 'hi', 'hey')"
   ]
  },
  {
   "cell_type": "code",
   "execution_count": null,
   "metadata": {},
   "outputs": [],
   "source": [
    "some_equal(3, 3, 3)"
   ]
  },
  {
   "cell_type": "markdown",
   "metadata": {},
   "source": [
    "But other times..."
   ]
  },
  {
   "cell_type": "code",
   "execution_count": null,
   "metadata": {},
   "outputs": [],
   "source": [
    "some_equal(1, 2, 4)"
   ]
  },
  {
   "cell_type": "markdown",
   "metadata": {
    "deletable": false,
    "editable": false
   },
   "source": [
    "<!-- BEGIN QUESTION -->\n",
    "\n",
    "Terrance shows you his code and asks, \"Why don't I get a `division by zero` error in the first two examples?\"\n",
    "\n",
    "Your job is to use the internet to figure out what's happening and to come up with an answer for Terrance **in your own words**. Write your answer in the cell below.\n",
    "\n",
    "_Hint: Search online for \"short-circuiting in Python\". Don't hesitate to ask on Ed or in office hours if you're not sure!_\n",
    "\n",
    "<!--\n",
    "BEGIN QUESTION\n",
    "name: q6\n",
    "points: 2\n",
    "manual: true\n",
    "-->"
   ]
  },
  {
   "cell_type": "markdown",
   "metadata": {},
   "source": [
    "_Type your answer here, replacing this text._"
   ]
  },
  {
   "cell_type": "markdown",
   "metadata": {},
   "source": [
    "<!-- END QUESTION -->\n",
    "\n",
    "\n",
    "\n",
    "# Done!\n",
    "\n",
    "Congrats! You've finished your second Data 94 homework assignment.\n",
    "\n",
    "To submit your work, follow the steps outlined on Ed.\n",
    "\n",
    "The point breakdown for this assignment is given in the table below:\n",
    "\n",
    "| **Category** | Points |\n",
    "| --- | --- |\n",
    "| Autograder | TODO |\n",
    "| Written (Question 6) | 2 |\n",
    "| **Total** | TODO |"
   ]
  },
  {
   "cell_type": "markdown",
   "metadata": {
    "deletable": false,
    "editable": false
   },
   "source": [
    "---\n",
    "\n",
    "To double-check your work, the cell below will rerun all of the autograder tests."
   ]
  },
  {
   "cell_type": "code",
   "execution_count": null,
   "metadata": {
    "deletable": false,
    "editable": false
   },
   "outputs": [],
   "source": [
    "grader.check_all()"
   ]
  },
  {
   "cell_type": "markdown",
   "metadata": {
    "deletable": false,
    "editable": false
   },
   "source": [
    "## Submission\n",
    "\n",
    "Make sure you have run all cells in your notebook in order before running the cell below, so that all images/graphs appear in the output. The cell below will generate a zip file for you to submit. **Please save before exporting!**"
   ]
  },
  {
   "cell_type": "code",
   "execution_count": null,
   "metadata": {
    "deletable": false,
    "editable": false
   },
   "outputs": [],
   "source": [
    "# Save your notebook first, then run this cell to export your submission.\n",
    "grader.export()"
   ]
  },
  {
   "cell_type": "markdown",
   "metadata": {},
   "source": [
    " "
   ]
  }
 ],
 "metadata": {
  "history": [
   {
    "code": "# Ignore this cell  just run it.\nfrom datascience import *\nimport numpy as np\nfrom ipywidgets import interact",
    "id": "7a1846e9fdff4d518b6290fa7340f31f",
    "idx": 1,
    "time": "2021-01-23T01:44:21.627Z",
    "type": "execution"
   },
   {
    "code": "# Ignore this cell  just run it.\nfrom datascience import *\nimport numpy as np\nfrom ipywidgets import interact",
    "id": "8ca5206f88bc46e2ae1ba178f1aa2d89",
    "idx": 1,
    "time": "2021-01-23T01:44:49.498Z",
    "type": "execution"
   },
   {
    "id": "8ca5206f88bc46e2ae1ba178f1aa2d89",
    "time": "2021-01-23T01:44:49.561Z",
    "type": "completion"
   },
   {
    "code": "def tax_bracket(income):\n    # BEGIN SOLUTION\n    if income <= 9875:\n        return 0.1\n    elif income <= 40125:\n        return 0.12\n    elif income <= 85525:\n        return 0.22\n    else:\n        return 0.24\n    # END SOLUTION",
    "id": "d54405c6fafa40dfafa46262dd806db4",
    "idx": 4,
    "time": "2021-01-23T01:44:50.676Z",
    "type": "execution"
   },
   {
    "id": "d54405c6fafa40dfafa46262dd806db4",
    "time": "2021-01-23T01:44:50.740Z",
    "type": "completion"
   },
   {
    "code": "# TEST\ntax_bracket(60000) == 0.22",
    "id": "421d2a29bf094f299aa47bb82a369008",
    "idx": 5,
    "time": "2021-01-23T01:44:51.031Z",
    "type": "execution"
   },
   {
    "id": "421d2a29bf094f299aa47bb82a369008",
    "time": "2021-01-23T01:44:51.097Z",
    "type": "completion"
   },
   {
    "code": "# TEST\ntax_bracket(402150) == 0.24",
    "id": "5347bebe259444cb868b90855aad46f6",
    "idx": 6,
    "time": "2021-01-23T01:44:51.373Z",
    "type": "execution"
   },
   {
    "id": "5347bebe259444cb868b90855aad46f6",
    "time": "2021-01-23T01:44:51.429Z",
    "type": "completion"
   },
   {
    "code": "# TEST\ntax_bracket(1) == 0.1",
    "id": "9c4a0aab05a84f3d9c847601a18ddc30",
    "idx": 7,
    "time": "2021-01-23T01:44:51.737Z",
    "type": "execution"
   },
   {
    "id": "9c4a0aab05a84f3d9c847601a18ddc30",
    "time": "2021-01-23T01:44:51.798Z",
    "type": "completion"
   },
   {
    "code": "def tax_owed(income):\n    # BEGIN SOLUTION\n    if income <= 9875:\n        return 0.1 * income\n    elif income <= 40125:\n        return 0.1 * 9875 + 0.12 * (income - 9875)\n    elif income <= 85525:\n        return 0.1 * 9875 + 0.12 * (40125 - 9875) + 0.22 * (income - 40125)\n    else:\n        return 0.1 * 9875 + 0.12 * (40125 - 9875) + 0.22 * (85525 - 40125) + 0.24 * (income - 85525)\n    # END SOLUTION",
    "id": "725be12c08834c268ac790e5266d1001",
    "idx": 9,
    "time": "2021-01-23T01:44:52.407Z",
    "type": "execution"
   },
   {
    "id": "725be12c08834c268ac790e5266d1001",
    "time": "2021-01-23T01:44:52.471Z",
    "type": "completion"
   },
   {
    "code": "# TEST\nnp.isclose(tax_owed(60000), 8990)",
    "id": "f195ef85ef134bd19a931712d81d95ac",
    "idx": 10,
    "time": "2021-01-23T01:44:52.614Z",
    "type": "execution"
   },
   {
    "id": "f195ef85ef134bd19a931712d81d95ac",
    "time": "2021-01-23T01:44:52.672Z",
    "type": "completion"
   },
   {
    "code": "# TEST\nnp.isclose(tax_owed(10000), 1002.5)",
    "id": "e19ba760d2874ea6815ae4d50ec1c687",
    "idx": 11,
    "time": "2021-01-23T01:44:52.786Z",
    "type": "execution"
   },
   {
    "id": "e19ba760d2874ea6815ae4d50ec1c687",
    "time": "2021-01-23T01:44:52.841Z",
    "type": "completion"
   },
   {
    "code": "# TEST\nnp.isclose(tax_owed(420150), 94915.5)",
    "id": "bb77bb674f414d32be7bf1b358ee91e7",
    "idx": 12,
    "time": "2021-01-23T01:44:52.943Z",
    "type": "execution"
   },
   {
    "id": "bb77bb674f414d32be7bf1b358ee91e7",
    "time": "2021-01-23T01:44:53.037Z",
    "type": "completion"
   },
   {
    "code": "def effective_tax_rate(income):\n    if income <= 0:\n        return 0\n    return tax_owed(income) / income",
    "id": "9172728a52c04755936617e5631b7d8e",
    "idx": 14,
    "time": "2021-01-23T01:44:54.200Z",
    "type": "execution"
   },
   {
    "id": "9172728a52c04755936617e5631b7d8e",
    "time": "2021-01-23T01:44:54.264Z",
    "type": "completion"
   },
   {
    "code": "# TEST\nnp.isclose(effective_tax_rate(60000), 0.149833)",
    "id": "d4a0f18a95d2422d825f619a01c8f092",
    "idx": 15,
    "time": "2021-01-23T01:44:54.596Z",
    "type": "execution"
   },
   {
    "id": "d4a0f18a95d2422d825f619a01c8f092",
    "time": "2021-01-23T01:44:54.651Z",
    "type": "completion"
   },
   {
    "code": "# TEST\nnp.isclose(effective_tax_rate(10000), 0.10025)",
    "id": "43b284af66c440f9806dac108f4fee0c",
    "idx": 16,
    "time": "2021-01-23T01:44:55.066Z",
    "type": "execution"
   },
   {
    "id": "43b284af66c440f9806dac108f4fee0c",
    "time": "2021-01-23T01:44:55.125Z",
    "type": "completion"
   },
   {
    "code": "# TEST\nnp.isclose(effective_tax_rate(420150), 0.22591)",
    "id": "7e94b1c6855941ad88dab1371de645cb",
    "idx": 17,
    "time": "2021-01-23T01:44:55.487Z",
    "type": "execution"
   },
   {
    "id": "7e94b1c6855941ad88dab1371de645cb",
    "time": "2021-01-23T01:44:55.546Z",
    "type": "completion"
   },
   {
    "code": "# TEST\n# If you fail this test, make sure you address the case where if income is less than or equal to 0, you return 0!\neffective_tax_rate(0) == 0",
    "id": "2e0734fb6a7740058848289faccd521e",
    "idx": 18,
    "time": "2021-01-23T01:44:55.800Z",
    "type": "execution"
   },
   {
    "id": "2e0734fb6a7740058848289faccd521e",
    "time": "2021-01-23T01:44:55.860Z",
    "type": "completion"
   },
   {
    "code": "# Ignore the code, just play with the slider that appears after running.\ndef plot_income_calculator(income):\n    print('Taxable income:' + ' ' * 4 + '${:,.2f}'.format(income))\n    print('Tax owed:' + ' ' * 10 + '${:,.2f}'.format(tax_owed(income))) # https://stackoverflow.com/questions/21208376/converting-float-to-dollars-and-cents\n    print('Effective tax rate: ' + '{:,.1f}'.format((100 * effective_tax_rate(income))) + '%')\n    \ninteract(plot_income_calculator, income=(0, 200000, 1000));",
    "id": "84e96f38dbc346dd94d13c429f1a7394",
    "idx": 20,
    "time": "2021-01-23T01:44:57.276Z",
    "type": "execution"
   },
   {
    "id": "84e96f38dbc346dd94d13c429f1a7394",
    "time": "2021-01-23T01:44:57.414Z",
    "type": "completion"
   },
   {
    "code": "import folium\n#Creating a base map\nm = folium.Map()\nm",
    "id": "1509068bf7a4463a84cca033a87071d5",
    "idx": 22,
    "time": "2021-01-23T01:49:38.138Z",
    "type": "execution"
   },
   {
    "id": "1509068bf7a4463a84cca033a87071d5",
    "time": "2021-01-23T01:49:38.239Z",
    "type": "completion"
   },
   {
    "code": "def single_number(n):\n    if n % 15 == 0:\n        return 'fizz buzz'\n    elif n % 5 == 0:\n        return 'buzz'\n    elif n % 3 == 0:\n        return 'fizz'\n    return str(n)",
    "id": "02097907da154360813c984022d83db9",
    "idx": 25,
    "time": "2021-01-23T02:09:35.745Z",
    "type": "execution"
   },
   {
    "id": "02097907da154360813c984022d83db9",
    "time": "2021-01-23T02:09:35.811Z",
    "type": "completion"
   },
   {
    "code": "# TEST\nsingle_number(15)",
    "id": "680e38ecdc05411989f6fbd5b841b7b0",
    "idx": 26,
    "time": "2021-01-23T02:09:40.967Z",
    "type": "execution"
   },
   {
    "id": "680e38ecdc05411989f6fbd5b841b7b0",
    "time": "2021-01-23T02:09:41.041Z",
    "type": "completion"
   },
   {
    "code": "# TEST\nsingle_number(15) == 'fizz buzz'",
    "id": "680e38ecdc05411989f6fbd5b841b7b0",
    "idx": 26,
    "time": "2021-01-23T02:09:43.810Z",
    "type": "execution"
   },
   {
    "id": "680e38ecdc05411989f6fbd5b841b7b0",
    "time": "2021-01-23T02:09:43.868Z",
    "type": "completion"
   },
   {
    "code": "# TEST\nsingle_number(9) == 'fizz'",
    "id": "156e46351624461685347ec22b430d62",
    "idx": 27,
    "time": "2021-01-23T02:09:56.367Z",
    "type": "execution"
   },
   {
    "id": "156e46351624461685347ec22b430d62",
    "time": "2021-01-23T02:09:56.439Z",
    "type": "completion"
   },
   {
    "code": "# TEST\nsingle_number(10) == 'buzz'",
    "id": "34f9ada93f5e4aa68d109745aace095e",
    "idx": 28,
    "time": "2021-01-23T02:10:04.223Z",
    "type": "execution"
   },
   {
    "id": "34f9ada93f5e4aa68d109745aace095e",
    "time": "2021-01-23T02:10:04.284Z",
    "type": "completion"
   },
   {
    "code": "# TEST\nsingle_number(1) == '1'",
    "id": "19a2dcac63f547a68f3be96b8937a5e4",
    "idx": 29,
    "time": "2021-01-23T02:10:09.362Z",
    "type": "execution"
   },
   {
    "id": "19a2dcac63f547a68f3be96b8937a5e4",
    "time": "2021-01-23T02:10:09.427Z",
    "type": "completion"
   },
   {
    "code": "def single_number(n):\n    # BEGIN SOLUTION\n    if n % 15 == 0:\n        return 'fizz buzz'\n    elif n % 5 == 0:\n        return 'buzz'\n    elif n % 3 == 0:\n        return 'fizz'\n    return str(n)\n    # END SOLUTION",
    "id": "02097907da154360813c984022d83db9",
    "idx": 25,
    "time": "2021-01-23T02:12:12.227Z",
    "type": "execution"
   },
   {
    "id": "02097907da154360813c984022d83db9",
    "time": "2021-01-23T02:12:12.285Z",
    "type": "completion"
   },
   {
    "code": "def fizz_buzz_sequence(n):\n    i = 1\n    sequence = []\n    # BEGIN SOLUTION\n    while i < n:\n        sequence.append(single_number(i))\n    # END SOLUTION\n    return sequence",
    "id": "4ce42f9e1cb342a881ce5d3fbdf2dac7",
    "idx": 31,
    "time": "2021-01-23T02:13:26.146Z",
    "type": "execution"
   },
   {
    "id": "4ce42f9e1cb342a881ce5d3fbdf2dac7",
    "time": "2021-01-23T02:13:26.205Z",
    "type": "completion"
   },
   {
    "code": "fizz_buzz_sequence(8)",
    "id": "969da19249084a28b085300466fb8092",
    "idx": 32,
    "time": "2021-01-23T02:13:32.160Z",
    "type": "execution"
   },
   {
    "id": "969da19249084a28b085300466fb8092",
    "time": "2021-01-23T02:13:37.278Z",
    "type": "completion"
   },
   {
    "code": "def fizz_buzz_sequence(n):\n    i = 1\n    sequence = []\n    # BEGIN SOLUTION\n    while i < n:\n        sequence.append(single_number(i))\n        i += 1\n    # END SOLUTION\n    return sequence",
    "id": "4ce42f9e1cb342a881ce5d3fbdf2dac7",
    "idx": 31,
    "time": "2021-01-23T02:13:40.537Z",
    "type": "execution"
   },
   {
    "id": "4ce42f9e1cb342a881ce5d3fbdf2dac7",
    "time": "2021-01-23T02:13:40.595Z",
    "type": "completion"
   },
   {
    "code": "fizz_buzz_sequence(8)",
    "id": "969da19249084a28b085300466fb8092",
    "idx": 32,
    "time": "2021-01-23T02:13:40.836Z",
    "type": "execution"
   },
   {
    "id": "969da19249084a28b085300466fb8092",
    "time": "2021-01-23T02:13:40.895Z",
    "type": "completion"
   },
   {
    "code": "def fizz_buzz_sequence(n):\n    i = 1\n    sequence = []\n    # BEGIN SOLUTION\n    while i <= n:\n        sequence.append(single_number(i))\n        i += 1\n    # END SOLUTION\n    return sequence",
    "id": "4ce42f9e1cb342a881ce5d3fbdf2dac7",
    "idx": 31,
    "time": "2021-01-23T02:13:44.488Z",
    "type": "execution"
   },
   {
    "id": "4ce42f9e1cb342a881ce5d3fbdf2dac7",
    "time": "2021-01-23T02:13:44.543Z",
    "type": "completion"
   },
   {
    "code": "fizz_buzz_sequence(8)",
    "id": "969da19249084a28b085300466fb8092",
    "idx": 32,
    "time": "2021-01-23T02:13:45.290Z",
    "type": "execution"
   },
   {
    "id": "969da19249084a28b085300466fb8092",
    "time": "2021-01-23T02:13:45.347Z",
    "type": "completion"
   },
   {
    "code": "fizz_buzz_sequence(8) == ['1', '2', 'fizz', '4', 'buzz', 'fizz', '7', '8']",
    "id": "969da19249084a28b085300466fb8092",
    "idx": 32,
    "time": "2021-01-23T02:13:56.676Z",
    "type": "execution"
   },
   {
    "id": "969da19249084a28b085300466fb8092",
    "time": "2021-01-23T02:13:56.740Z",
    "type": "completion"
   },
   {
    "code": "def fizz_buzz_sequence(n):\n    i = 1\n    sequence = []\n    while i <= n:\n        # BEGIN SOLUTION\n        sequence.append(single_number(i))\n        i += 1\n        # END SOLUTION\n    return sequence",
    "id": "4ce42f9e1cb342a881ce5d3fbdf2dac7",
    "idx": 31,
    "time": "2021-01-23T02:14:38.216Z",
    "type": "execution"
   },
   {
    "id": "4ce42f9e1cb342a881ce5d3fbdf2dac7",
    "time": "2021-01-23T02:14:38.280Z",
    "type": "completion"
   },
   {
    "code": "# TEST\nfizz_buzz_sequence(8) == ['1', '2', 'fizz', '4', 'buzz', 'fizz', '7', '8']",
    "id": "969da19249084a28b085300466fb8092",
    "idx": 32,
    "time": "2021-01-23T02:14:38.866Z",
    "type": "execution"
   },
   {
    "id": "969da19249084a28b085300466fb8092",
    "time": "2021-01-23T02:14:38.925Z",
    "type": "completion"
   },
   {
    "code": "# TEST\nfizz_buzz_sequence(3) == ['1', '2', 'fizz']",
    "id": "837b0476ef6947268141ef9f82349c0e",
    "idx": 33,
    "time": "2021-01-23T02:14:47.799Z",
    "type": "execution"
   },
   {
    "id": "837b0476ef6947268141ef9f82349c0e",
    "time": "2021-01-23T02:14:47.861Z",
    "type": "completion"
   },
   {
    "code": "# TEST\nfizz_buzz_sequence(15) == ['1', '2', 'fizz']",
    "id": "e381bb4c9f594cf3878e60c76746f55c",
    "idx": 34,
    "time": "2021-01-23T02:14:53.313Z",
    "type": "execution"
   },
   {
    "id": "e381bb4c9f594cf3878e60c76746f55c",
    "time": "2021-01-23T02:14:53.375Z",
    "type": "completion"
   },
   {
    "code": "# TEST\nfizz_buzz_sequence(15)",
    "id": "e381bb4c9f594cf3878e60c76746f55c",
    "idx": 34,
    "time": "2021-01-23T02:14:55.871Z",
    "type": "execution"
   },
   {
    "id": "e381bb4c9f594cf3878e60c76746f55c",
    "time": "2021-01-23T02:14:55.946Z",
    "type": "completion"
   },
   {
    "code": "# TEST\nfizz_buzz_sequence(15)[14]",
    "id": "e381bb4c9f594cf3878e60c76746f55c",
    "idx": 34,
    "time": "2021-01-23T02:14:57.782Z",
    "type": "execution"
   },
   {
    "id": "e381bb4c9f594cf3878e60c76746f55c",
    "time": "2021-01-23T02:14:57.848Z",
    "type": "completion"
   },
   {
    "code": "# TEST\nfizz_buzz_sequence(15)[14] == 'fizz buzz'",
    "id": "e381bb4c9f594cf3878e60c76746f55c",
    "idx": 34,
    "time": "2021-01-23T02:15:01.587Z",
    "type": "execution"
   },
   {
    "id": "e381bb4c9f594cf3878e60c76746f55c",
    "time": "2021-01-23T02:15:01.660Z",
    "type": "completion"
   },
   {
    "code": "fizz_buzz_sequence(1000)",
    "id": "3c90deddad8a4083b4cde662dd02619a",
    "idx": 35,
    "time": "2021-01-23T02:15:10.666Z",
    "type": "execution"
   },
   {
    "id": "3c90deddad8a4083b4cde662dd02619a",
    "time": "2021-01-23T02:15:10.785Z",
    "type": "completion"
   },
   {
    "code": "fizz_buzz_sequence(1000).count('fizz')",
    "id": "3c90deddad8a4083b4cde662dd02619a",
    "idx": 35,
    "time": "2021-01-23T02:15:15.287Z",
    "type": "execution"
   },
   {
    "id": "3c90deddad8a4083b4cde662dd02619a",
    "time": "2021-01-23T02:15:15.348Z",
    "type": "completion"
   },
   {
    "code": "len(fizz_buzz_sequence(1000))",
    "id": "97450c43fb1c40ed8737f8b74e6507ca",
    "idx": 36,
    "time": "2021-01-23T02:16:37.670Z",
    "type": "execution"
   },
   {
    "id": "97450c43fb1c40ed8737f8b74e6507ca",
    "time": "2021-01-23T02:16:37.753Z",
    "type": "completion"
   },
   {
    "code": "fizz_buzz_sequence(100)",
    "id": "97450c43fb1c40ed8737f8b74e6507ca",
    "idx": 36,
    "time": "2021-01-23T02:16:44.497Z",
    "type": "execution"
   },
   {
    "id": "97450c43fb1c40ed8737f8b74e6507ca",
    "time": "2021-01-23T02:16:44.560Z",
    "type": "completion"
   },
   {
    "code": "fizz_buzz_sequence(1000).count('fizz') == 267",
    "id": "3c90deddad8a4083b4cde662dd02619a",
    "idx": 35,
    "time": "2021-01-23T02:17:10.561Z",
    "type": "execution"
   },
   {
    "id": "3c90deddad8a4083b4cde662dd02619a",
    "time": "2021-01-23T02:17:10.625Z",
    "type": "completion"
   },
   {
    "code": "# TEST\nfizz_buzz_sequence(1000).count('fizz') == 267",
    "id": "3c90deddad8a4083b4cde662dd02619a",
    "idx": 35,
    "time": "2021-01-23T02:17:14.470Z",
    "type": "execution"
   },
   {
    "id": "3c90deddad8a4083b4cde662dd02619a",
    "time": "2021-01-23T02:17:14.531Z",
    "type": "completion"
   },
   {
    "code": "# Ignore this cell  just run it.\nfrom datascience import *\nimport numpy as np\nfrom ipywidgets import interact",
    "id": "8ca5206f88bc46e2ae1ba178f1aa2d89",
    "idx": 1,
    "time": "2021-01-23T02:19:43.678Z",
    "type": "execution"
   },
   {
    "code": "def tax_bracket(income):\n    # BEGIN SOLUTION\n    if income <= 9875:\n        return 0.1\n    elif income <= 40125:\n        return 0.12\n    elif income <= 85525:\n        return 0.22\n    else:\n        return 0.24\n    # END SOLUTION",
    "id": "d54405c6fafa40dfafa46262dd806db4",
    "idx": 4,
    "time": "2021-01-23T02:19:45.110Z",
    "type": "execution"
   },
   {
    "id": "8ca5206f88bc46e2ae1ba178f1aa2d89",
    "time": "2021-01-23T02:19:45.241Z",
    "type": "completion"
   },
   {
    "id": "d54405c6fafa40dfafa46262dd806db4",
    "time": "2021-01-23T02:19:45.242Z",
    "type": "completion"
   },
   {
    "code": "# TEST\ntax_bracket(60000) == 0.22",
    "id": "421d2a29bf094f299aa47bb82a369008",
    "idx": 5,
    "time": "2021-01-23T02:19:45.499Z",
    "type": "execution"
   },
   {
    "id": "421d2a29bf094f299aa47bb82a369008",
    "time": "2021-01-23T02:19:45.576Z",
    "type": "completion"
   },
   {
    "code": "# TEST\ntax_bracket(402150) == 0.24",
    "id": "5347bebe259444cb868b90855aad46f6",
    "idx": 6,
    "time": "2021-01-23T02:19:45.781Z",
    "type": "execution"
   },
   {
    "id": "5347bebe259444cb868b90855aad46f6",
    "time": "2021-01-23T02:19:45.839Z",
    "type": "completion"
   },
   {
    "code": "# TEST\ntax_bracket(1) == 0.1",
    "id": "9c4a0aab05a84f3d9c847601a18ddc30",
    "idx": 7,
    "time": "2021-01-23T02:19:46.096Z",
    "type": "execution"
   },
   {
    "id": "9c4a0aab05a84f3d9c847601a18ddc30",
    "time": "2021-01-23T02:19:46.159Z",
    "type": "completion"
   },
   {
    "code": "def tax_owed(income):\n    # BEGIN SOLUTION\n    if income <= 9875:\n        return 0.1 * income\n    elif income <= 40125:\n        return 0.1 * 9875 + 0.12 * (income - 9875)\n    elif income <= 85525:\n        return 0.1 * 9875 + 0.12 * (40125 - 9875) + 0.22 * (income - 40125)\n    else:\n        return 0.1 * 9875 + 0.12 * (40125 - 9875) + 0.22 * (85525 - 40125) + 0.24 * (income - 85525)\n    # END SOLUTION",
    "id": "725be12c08834c268ac790e5266d1001",
    "idx": 9,
    "time": "2021-01-23T02:19:46.802Z",
    "type": "execution"
   },
   {
    "id": "725be12c08834c268ac790e5266d1001",
    "time": "2021-01-23T02:19:46.875Z",
    "type": "completion"
   },
   {
    "code": "# TEST\nnp.isclose(tax_owed(60000), 8990)",
    "id": "f195ef85ef134bd19a931712d81d95ac",
    "idx": 10,
    "time": "2021-01-23T02:19:47.094Z",
    "type": "execution"
   },
   {
    "id": "f195ef85ef134bd19a931712d81d95ac",
    "time": "2021-01-23T02:19:47.155Z",
    "type": "completion"
   },
   {
    "code": "# TEST\nnp.isclose(tax_owed(10000), 1002.5)",
    "id": "e19ba760d2874ea6815ae4d50ec1c687",
    "idx": 11,
    "time": "2021-01-23T02:19:47.418Z",
    "type": "execution"
   },
   {
    "id": "e19ba760d2874ea6815ae4d50ec1c687",
    "time": "2021-01-23T02:19:47.469Z",
    "type": "completion"
   },
   {
    "code": "# TEST\nnp.isclose(tax_owed(420150), 94915.5)",
    "id": "bb77bb674f414d32be7bf1b358ee91e7",
    "idx": 12,
    "time": "2021-01-23T02:19:47.585Z",
    "type": "execution"
   },
   {
    "id": "bb77bb674f414d32be7bf1b358ee91e7",
    "time": "2021-01-23T02:19:47.637Z",
    "type": "completion"
   },
   {
    "code": "def effective_tax_rate(income):\n    if income <= 0:\n        return 0\n    return tax_owed(income) / income",
    "id": "9172728a52c04755936617e5631b7d8e",
    "idx": 14,
    "time": "2021-01-23T02:19:48.130Z",
    "type": "execution"
   },
   {
    "id": "9172728a52c04755936617e5631b7d8e",
    "time": "2021-01-23T02:19:48.190Z",
    "type": "completion"
   },
   {
    "code": "# TEST\nnp.isclose(effective_tax_rate(60000), 0.149833)",
    "id": "d4a0f18a95d2422d825f619a01c8f092",
    "idx": 15,
    "time": "2021-01-23T02:19:48.299Z",
    "type": "execution"
   },
   {
    "id": "d4a0f18a95d2422d825f619a01c8f092",
    "time": "2021-01-23T02:19:48.375Z",
    "type": "completion"
   },
   {
    "code": "# TEST\nnp.isclose(effective_tax_rate(10000), 0.10025)",
    "id": "43b284af66c440f9806dac108f4fee0c",
    "idx": 16,
    "time": "2021-01-23T02:19:48.461Z",
    "type": "execution"
   },
   {
    "id": "43b284af66c440f9806dac108f4fee0c",
    "time": "2021-01-23T02:19:48.514Z",
    "type": "completion"
   },
   {
    "code": "# TEST\nnp.isclose(effective_tax_rate(420150), 0.22591)",
    "id": "7e94b1c6855941ad88dab1371de645cb",
    "idx": 17,
    "time": "2021-01-23T02:19:48.672Z",
    "type": "execution"
   },
   {
    "id": "7e94b1c6855941ad88dab1371de645cb",
    "time": "2021-01-23T02:19:48.724Z",
    "type": "completion"
   },
   {
    "code": "# TEST\n# If you fail this test, make sure you address the case where if income is less than or equal to 0, you return 0!\neffective_tax_rate(0) == 0",
    "id": "2e0734fb6a7740058848289faccd521e",
    "idx": 18,
    "time": "2021-01-23T02:19:49.222Z",
    "type": "execution"
   },
   {
    "id": "2e0734fb6a7740058848289faccd521e",
    "time": "2021-01-23T02:19:49.281Z",
    "type": "completion"
   },
   {
    "code": "# Ignore the code, just play with the slider that appears after running.\ndef plot_income_calculator(income):\n    print('Taxable income:' + ' ' * 4 + '${:,.2f}'.format(income))\n    print('Tax owed:' + ' ' * 10 + '${:,.2f}'.format(tax_owed(income))) # https://stackoverflow.com/questions/21208376/converting-float-to-dollars-and-cents\n    print('Effective tax rate: ' + '{:,.1f}'.format((100 * effective_tax_rate(income))) + '%')\n    \ninteract(plot_income_calculator, income=(0, 200000, 1000));",
    "id": "84e96f38dbc346dd94d13c429f1a7394",
    "idx": 20,
    "time": "2021-01-23T02:19:50.011Z",
    "type": "execution"
   },
   {
    "id": "84e96f38dbc346dd94d13c429f1a7394",
    "time": "2021-01-23T02:19:50.164Z",
    "type": "completion"
   },
   {
    "code": "def single_number(n):\n    # BEGIN SOLUTION\n    if n % 15 == 0:\n        return 'fizz buzz'\n    elif n % 5 == 0:\n        return 'buzz'\n    elif n % 3 == 0:\n        return 'fizz'\n    return str(n)\n    # END SOLUTION",
    "id": "02097907da154360813c984022d83db9",
    "idx": 25,
    "time": "2021-01-23T02:19:51.854Z",
    "type": "execution"
   },
   {
    "id": "02097907da154360813c984022d83db9",
    "time": "2021-01-23T02:19:51.929Z",
    "type": "completion"
   },
   {
    "code": "def single_number(n):\n    # BEGIN SOLUTION\n    if n % 15 == 0:\n        return 'fizz buzz'\n    elif n % 5 == 0:\n        return 'buzz'\n    elif n % 3 == 0:\n        return 'fizz'\n    return str(n)\n    # END SOLUTION",
    "id": "02097907da154360813c984022d83db9",
    "idx": 23,
    "time": "2021-01-23T02:20:01.608Z",
    "type": "execution"
   },
   {
    "id": "02097907da154360813c984022d83db9",
    "time": "2021-01-23T02:20:01.671Z",
    "type": "completion"
   },
   {
    "code": "# TEST\nsingle_number(15) == 'fizz buzz'",
    "id": "680e38ecdc05411989f6fbd5b841b7b0",
    "idx": 24,
    "time": "2021-01-23T02:20:01.859Z",
    "type": "execution"
   },
   {
    "id": "680e38ecdc05411989f6fbd5b841b7b0",
    "time": "2021-01-23T02:20:01.918Z",
    "type": "completion"
   },
   {
    "code": "# TEST\nsingle_number(9) == 'fizz'",
    "id": "156e46351624461685347ec22b430d62",
    "idx": 25,
    "time": "2021-01-23T02:20:02.199Z",
    "type": "execution"
   },
   {
    "id": "156e46351624461685347ec22b430d62",
    "time": "2021-01-23T02:20:02.258Z",
    "type": "completion"
   },
   {
    "code": "# TEST\nsingle_number(10) == 'buzz'",
    "id": "34f9ada93f5e4aa68d109745aace095e",
    "idx": 26,
    "time": "2021-01-23T02:20:02.484Z",
    "type": "execution"
   },
   {
    "id": "34f9ada93f5e4aa68d109745aace095e",
    "time": "2021-01-23T02:20:02.545Z",
    "type": "completion"
   },
   {
    "code": "# TEST\nsingle_number(1) == '1'",
    "id": "19a2dcac63f547a68f3be96b8937a5e4",
    "idx": 27,
    "time": "2021-01-23T02:20:02.769Z",
    "type": "execution"
   },
   {
    "id": "19a2dcac63f547a68f3be96b8937a5e4",
    "time": "2021-01-23T02:20:02.827Z",
    "type": "completion"
   },
   {
    "code": "def fizz_buzz_sequence(n):\n    i = 1\n    sequence = []\n    while i <= n:\n        # BEGIN SOLUTION\n        sequence.append(single_number(i))\n        i += 1\n        # END SOLUTION\n    return sequence",
    "id": "4ce42f9e1cb342a881ce5d3fbdf2dac7",
    "idx": 29,
    "time": "2021-01-23T02:20:03.820Z",
    "type": "execution"
   },
   {
    "id": "4ce42f9e1cb342a881ce5d3fbdf2dac7",
    "time": "2021-01-23T02:20:03.876Z",
    "type": "completion"
   },
   {
    "code": "# TEST\nfizz_buzz_sequence(8) == ['1', '2', 'fizz', '4', 'buzz', 'fizz', '7', '8']",
    "id": "969da19249084a28b085300466fb8092",
    "idx": 30,
    "time": "2021-01-23T02:20:04.013Z",
    "type": "execution"
   },
   {
    "id": "969da19249084a28b085300466fb8092",
    "time": "2021-01-23T02:20:04.065Z",
    "type": "completion"
   },
   {
    "code": "# TEST\nfizz_buzz_sequence(3) == ['1', '2', 'fizz']",
    "id": "837b0476ef6947268141ef9f82349c0e",
    "idx": 31,
    "time": "2021-01-23T02:20:04.162Z",
    "type": "execution"
   },
   {
    "id": "837b0476ef6947268141ef9f82349c0e",
    "time": "2021-01-23T02:20:04.213Z",
    "type": "completion"
   },
   {
    "code": "# TEST\nfizz_buzz_sequence(15)[14] == 'fizz buzz'",
    "id": "e381bb4c9f594cf3878e60c76746f55c",
    "idx": 32,
    "time": "2021-01-23T02:20:04.318Z",
    "type": "execution"
   },
   {
    "id": "e381bb4c9f594cf3878e60c76746f55c",
    "time": "2021-01-23T02:20:04.370Z",
    "type": "completion"
   },
   {
    "code": "# TEST\nfizz_buzz_sequence(1000).count('fizz') == 267",
    "id": "3c90deddad8a4083b4cde662dd02619a",
    "idx": 33,
    "time": "2021-01-23T02:20:04.484Z",
    "type": "execution"
   },
   {
    "id": "3c90deddad8a4083b4cde662dd02619a",
    "time": "2021-01-23T02:20:04.544Z",
    "type": "completion"
   },
   {
    "code": "Table",
    "id": "13e682a4b15f4b7aa9ff5e38e8b840c1",
    "idx": 35,
    "time": "2021-01-23T02:38:18.065Z",
    "type": "execution"
   },
   {
    "id": "13e682a4b15f4b7aa9ff5e38e8b840c1",
    "time": "2021-01-23T02:38:18.152Z",
    "type": "completion"
   },
   {
    "code": "# Ignore this cell  just run it.\nfrom datascience import *\nimport numpy as np\nfrom ipywidgets import interact\nfrom IPython.display import YouTubeVideo",
    "id": "8ca5206f88bc46e2ae1ba178f1aa2d89",
    "idx": 1,
    "time": "2021-01-23T02:42:43.950Z",
    "type": "execution"
   },
   {
    "id": "8ca5206f88bc46e2ae1ba178f1aa2d89",
    "time": "2021-01-23T02:42:44.037Z",
    "type": "completion"
   },
   {
    "code": "YouTubeVideo('https://youtu.be/m4CjXk_b8zo')",
    "id": "9bb402d41404413f8be88fbc96ed8e9c",
    "idx": 35,
    "time": "2021-01-23T02:43:03.415Z",
    "type": "execution"
   },
   {
    "id": "9bb402d41404413f8be88fbc96ed8e9c",
    "time": "2021-01-23T02:43:03.533Z",
    "type": "completion"
   },
   {
    "code": "YouTubeVideo('m4CjXk_b8zo')",
    "id": "9bb402d41404413f8be88fbc96ed8e9c",
    "idx": 35,
    "time": "2021-01-23T02:43:10.191Z",
    "type": "execution"
   },
   {
    "id": "9bb402d41404413f8be88fbc96ed8e9c",
    "time": "2021-01-23T02:43:10.393Z",
    "type": "completion"
   },
   {
    "code": "YouTubeVideo('m4CjXk_b8zo', width = 800, height = 600)",
    "id": "9bb402d41404413f8be88fbc96ed8e9c",
    "idx": 35,
    "time": "2021-01-23T02:43:20.461Z",
    "type": "execution"
   },
   {
    "id": "9bb402d41404413f8be88fbc96ed8e9c",
    "time": "2021-01-23T02:43:20.642Z",
    "type": "completion"
   },
   {
    "code": "YouTubeVideo('m4CjXk_b8zo', width = 400, height = 300)",
    "id": "9bb402d41404413f8be88fbc96ed8e9c",
    "idx": 35,
    "time": "2021-01-23T02:43:24.139Z",
    "type": "execution"
   },
   {
    "id": "9bb402d41404413f8be88fbc96ed8e9c",
    "time": "2021-01-23T02:43:24.295Z",
    "type": "completion"
   },
   {
    "code": "YouTubeVideo('m4CjXk_b8zo', width = 600, height = 300)",
    "id": "9bb402d41404413f8be88fbc96ed8e9c",
    "idx": 35,
    "time": "2021-01-23T02:43:28.730Z",
    "type": "execution"
   },
   {
    "id": "9bb402d41404413f8be88fbc96ed8e9c",
    "time": "2021-01-23T02:43:28.902Z",
    "type": "completion"
   },
   {
    "code": "YouTubeVideo('m4CjXk_b8zo', width = 600, height = 300)",
    "id": "7e6255cbba14409f8e2697e55626235c",
    "idx": 35,
    "time": "2021-01-23T02:45:04.124Z",
    "type": "execution"
   },
   {
    "id": "7e6255cbba14409f8e2697e55626235c",
    "time": "2021-01-23T02:45:04.296Z",
    "type": "completion"
   },
   {
    "code": "def hailstone(n):\n    count = 0\n    while n != 1:\n        count += 1\n        print(n)\n        \n        if n % 2 == 1:\n            n = 3 * n + 1\n        else:\n            n = n // 2\n    return count",
    "id": "f293410e1ff74857b79404ab40f66818",
    "idx": 37,
    "time": "2021-01-23T02:48:26.244Z",
    "type": "execution"
   },
   {
    "id": "f293410e1ff74857b79404ab40f66818",
    "time": "2021-01-23T02:48:26.321Z",
    "type": "completion"
   },
   {
    "code": "hailstone(10)",
    "id": "a16e44b4684845e1b054e7c19101ce32",
    "idx": 38,
    "time": "2021-01-23T02:48:28.768Z",
    "type": "execution"
   },
   {
    "id": "a16e44b4684845e1b054e7c19101ce32",
    "time": "2021-01-23T02:48:28.844Z",
    "type": "completion"
   },
   {
    "code": "def hailstone(n):\n    count = 1\n    while n != 1:\n        count += 1\n        print(n)\n        if n % 2 == 1:\n            n = 3 * n + 1\n        else:\n            n = n // 2\n    return count",
    "id": "f293410e1ff74857b79404ab40f66818",
    "idx": 37,
    "time": "2021-01-23T02:48:46.779Z",
    "type": "execution"
   },
   {
    "id": "f293410e1ff74857b79404ab40f66818",
    "time": "2021-01-23T02:48:46.844Z",
    "type": "completion"
   },
   {
    "code": "hailstone(10)",
    "id": "a16e44b4684845e1b054e7c19101ce32",
    "idx": 38,
    "time": "2021-01-23T02:48:47.356Z",
    "type": "execution"
   },
   {
    "id": "a16e44b4684845e1b054e7c19101ce32",
    "time": "2021-01-23T02:48:47.423Z",
    "type": "completion"
   },
   {
    "code": "2 + 3",
    "id": "87a26f080c994458bf29552e714ed592",
    "idx": 37,
    "time": "2021-01-23T02:49:32.899Z",
    "type": "execution"
   },
   {
    "code": "def hailstone(n):\n    count = 1\n    while n != 1:\n        count += 1\n        print(n)\n        if n % 2 == 1:\n            n = 3 * n + 1\n        else:\n            n = n // 2\n    return count",
    "id": "f293410e1ff74857b79404ab40f66818",
    "idx": 37,
    "time": "2021-01-23T02:50:04.403Z",
    "type": "execution"
   },
   {
    "code": "hailstone(10)",
    "id": "a16e44b4684845e1b054e7c19101ce32",
    "idx": 38,
    "time": "2021-01-23T02:50:04.712Z",
    "type": "execution"
   },
   {
    "code": "3 + 4",
    "id": "0aaf963479f244bfb04a8f48ed5559e7",
    "idx": 39,
    "time": "2021-01-23T02:50:22.364Z",
    "type": "execution"
   },
   {
    "id": "87a26f080c994458bf29552e714ed592",
    "time": "2021-01-23T02:50:25.534Z",
    "type": "completion"
   },
   {
    "id": "f293410e1ff74857b79404ab40f66818",
    "time": "2021-01-23T02:50:25.545Z",
    "type": "completion"
   },
   {
    "id": "a16e44b4684845e1b054e7c19101ce32",
    "time": "2021-01-23T02:50:25.568Z",
    "type": "completion"
   },
   {
    "id": "0aaf963479f244bfb04a8f48ed5559e7",
    "time": "2021-01-23T02:50:25.580Z",
    "type": "completion"
   },
   {
    "code": "# Ignore this cell  just run it.\nfrom datascience import *\nimport numpy as np\nfrom ipywidgets import interact\nfrom IPython.display import YouTubeVideo",
    "id": "8ca5206f88bc46e2ae1ba178f1aa2d89",
    "idx": 1,
    "time": "2021-01-23T02:51:43.333Z",
    "type": "execution"
   },
   {
    "id": "8ca5206f88bc46e2ae1ba178f1aa2d89",
    "time": "2021-01-23T02:51:43.435Z",
    "type": "completion"
   },
   {
    "code": "def tax_bracket(income):\n    # BEGIN SOLUTION\n    if income <= 9875:\n        return 0.1\n    elif income <= 40125:\n        return 0.12\n    elif income <= 85525:\n        return 0.22\n    else:\n        return 0.24\n    # END SOLUTION",
    "id": "d54405c6fafa40dfafa46262dd806db4",
    "idx": 4,
    "time": "2021-01-23T02:51:44.741Z",
    "type": "execution"
   },
   {
    "id": "d54405c6fafa40dfafa46262dd806db4",
    "time": "2021-01-23T02:51:44.826Z",
    "type": "completion"
   },
   {
    "code": "# TEST\ntax_bracket(60000) == 0.22",
    "id": "421d2a29bf094f299aa47bb82a369008",
    "idx": 5,
    "time": "2021-01-23T02:51:45.279Z",
    "type": "execution"
   },
   {
    "id": "421d2a29bf094f299aa47bb82a369008",
    "time": "2021-01-23T02:51:45.373Z",
    "type": "completion"
   },
   {
    "code": "# TEST\ntax_bracket(402150) == 0.24",
    "id": "5347bebe259444cb868b90855aad46f6",
    "idx": 6,
    "time": "2021-01-23T02:51:45.672Z",
    "type": "execution"
   },
   {
    "id": "5347bebe259444cb868b90855aad46f6",
    "time": "2021-01-23T02:51:45.757Z",
    "type": "completion"
   },
   {
    "code": "# TEST\ntax_bracket(1) == 0.1",
    "id": "9c4a0aab05a84f3d9c847601a18ddc30",
    "idx": 7,
    "time": "2021-01-23T02:51:45.840Z",
    "type": "execution"
   },
   {
    "id": "9c4a0aab05a84f3d9c847601a18ddc30",
    "time": "2021-01-23T02:51:45.913Z",
    "type": "completion"
   },
   {
    "code": "def tax_owed(income):\n    # BEGIN SOLUTION\n    if income <= 9875:\n        return 0.1 * income\n    elif income <= 40125:\n        return 0.1 * 9875 + 0.12 * (income - 9875)\n    elif income <= 85525:\n        return 0.1 * 9875 + 0.12 * (40125 - 9875) + 0.22 * (income - 40125)\n    else:\n        return 0.1 * 9875 + 0.12 * (40125 - 9875) + 0.22 * (85525 - 40125) + 0.24 * (income - 85525)\n    # END SOLUTION",
    "id": "725be12c08834c268ac790e5266d1001",
    "idx": 9,
    "time": "2021-01-23T02:51:46.139Z",
    "type": "execution"
   },
   {
    "id": "725be12c08834c268ac790e5266d1001",
    "time": "2021-01-23T02:51:46.235Z",
    "type": "completion"
   },
   {
    "code": "# TEST\nnp.isclose(tax_owed(60000), 8990)",
    "id": "f195ef85ef134bd19a931712d81d95ac",
    "idx": 10,
    "time": "2021-01-23T02:51:46.282Z",
    "type": "execution"
   },
   {
    "id": "f195ef85ef134bd19a931712d81d95ac",
    "time": "2021-01-23T02:51:46.363Z",
    "type": "completion"
   },
   {
    "code": "# TEST\nnp.isclose(tax_owed(10000), 1002.5)",
    "id": "e19ba760d2874ea6815ae4d50ec1c687",
    "idx": 11,
    "time": "2021-01-23T02:51:46.432Z",
    "type": "execution"
   },
   {
    "id": "e19ba760d2874ea6815ae4d50ec1c687",
    "time": "2021-01-23T02:51:46.515Z",
    "type": "completion"
   },
   {
    "code": "# TEST\nnp.isclose(tax_owed(420150), 94915.5)",
    "id": "bb77bb674f414d32be7bf1b358ee91e7",
    "idx": 12,
    "time": "2021-01-23T02:51:46.572Z",
    "type": "execution"
   },
   {
    "id": "bb77bb674f414d32be7bf1b358ee91e7",
    "time": "2021-01-23T02:51:46.659Z",
    "type": "completion"
   },
   {
    "code": "def effective_tax_rate(income):\n    if income <= 0:\n        return 0\n    return tax_owed(income) / income",
    "id": "9172728a52c04755936617e5631b7d8e",
    "idx": 14,
    "time": "2021-01-23T02:51:46.853Z",
    "type": "execution"
   },
   {
    "id": "9172728a52c04755936617e5631b7d8e",
    "time": "2021-01-23T02:51:46.949Z",
    "type": "completion"
   },
   {
    "code": "# TEST\nnp.isclose(effective_tax_rate(60000), 0.149833)",
    "id": "d4a0f18a95d2422d825f619a01c8f092",
    "idx": 15,
    "time": "2021-01-23T02:51:47.002Z",
    "type": "execution"
   },
   {
    "id": "d4a0f18a95d2422d825f619a01c8f092",
    "time": "2021-01-23T02:51:47.094Z",
    "type": "completion"
   },
   {
    "code": "# TEST\nnp.isclose(effective_tax_rate(10000), 0.10025)",
    "id": "43b284af66c440f9806dac108f4fee0c",
    "idx": 16,
    "time": "2021-01-23T02:51:47.155Z",
    "type": "execution"
   },
   {
    "code": "# TEST\nnp.isclose(effective_tax_rate(420150), 0.22591)",
    "id": "7e94b1c6855941ad88dab1371de645cb",
    "idx": 17,
    "time": "2021-01-23T02:51:47.268Z",
    "type": "execution"
   },
   {
    "id": "43b284af66c440f9806dac108f4fee0c",
    "time": "2021-01-23T02:51:47.300Z",
    "type": "completion"
   },
   {
    "id": "7e94b1c6855941ad88dab1371de645cb",
    "time": "2021-01-23T02:51:47.335Z",
    "type": "completion"
   },
   {
    "code": "# TEST\n# If you fail this test, make sure you address the case where if income is less than or equal to 0, you return 0!\neffective_tax_rate(0) == 0",
    "id": "2e0734fb6a7740058848289faccd521e",
    "idx": 18,
    "time": "2021-01-23T02:51:47.436Z",
    "type": "execution"
   },
   {
    "id": "2e0734fb6a7740058848289faccd521e",
    "time": "2021-01-23T02:51:47.567Z",
    "type": "completion"
   },
   {
    "code": "# Ignore the code, just play with the slider that appears after running.\ndef plot_income_calculator(income):\n    print('Taxable income:' + ' ' * 4 + '${:,.2f}'.format(income))\n    print('Tax owed:' + ' ' * 10 + '${:,.2f}'.format(tax_owed(income))) # https://stackoverflow.com/questions/21208376/converting-float-to-dollars-and-cents\n    print('Effective tax rate: ' + '{:,.1f}'.format((100 * effective_tax_rate(income))) + '%')\n    \ninteract(plot_income_calculator, income=(0, 200000, 1000));",
    "id": "84e96f38dbc346dd94d13c429f1a7394",
    "idx": 20,
    "time": "2021-01-23T02:51:48.007Z",
    "type": "execution"
   },
   {
    "id": "84e96f38dbc346dd94d13c429f1a7394",
    "time": "2021-01-23T02:51:48.161Z",
    "type": "completion"
   },
   {
    "code": "def single_number(n):\n    # BEGIN SOLUTION\n    if n % 15 == 0:\n        return 'fizz buzz'\n    elif n % 5 == 0:\n        return 'buzz'\n    elif n % 3 == 0:\n        return 'fizz'\n    return str(n)\n    # END SOLUTION",
    "id": "02097907da154360813c984022d83db9",
    "idx": 23,
    "time": "2021-01-23T02:51:49.011Z",
    "type": "execution"
   },
   {
    "id": "02097907da154360813c984022d83db9",
    "time": "2021-01-23T02:51:49.141Z",
    "type": "completion"
   },
   {
    "code": "# TEST\nsingle_number(15) == 'fizz buzz'",
    "id": "680e38ecdc05411989f6fbd5b841b7b0",
    "idx": 24,
    "time": "2021-01-23T02:51:49.432Z",
    "type": "execution"
   },
   {
    "id": "680e38ecdc05411989f6fbd5b841b7b0",
    "time": "2021-01-23T02:51:49.544Z",
    "type": "completion"
   },
   {
    "code": "# TEST\nsingle_number(9) == 'fizz'",
    "id": "156e46351624461685347ec22b430d62",
    "idx": 25,
    "time": "2021-01-23T02:51:49.935Z",
    "type": "execution"
   },
   {
    "id": "156e46351624461685347ec22b430d62",
    "time": "2021-01-23T02:51:50.067Z",
    "type": "completion"
   },
   {
    "code": "# TEST\nsingle_number(10) == 'buzz'",
    "id": "34f9ada93f5e4aa68d109745aace095e",
    "idx": 26,
    "time": "2021-01-23T02:51:50.449Z",
    "type": "execution"
   },
   {
    "id": "34f9ada93f5e4aa68d109745aace095e",
    "time": "2021-01-23T02:51:50.541Z",
    "type": "completion"
   },
   {
    "code": "# TEST\nsingle_number(1) == '1'",
    "id": "19a2dcac63f547a68f3be96b8937a5e4",
    "idx": 27,
    "time": "2021-01-23T02:51:50.858Z",
    "type": "execution"
   },
   {
    "id": "19a2dcac63f547a68f3be96b8937a5e4",
    "time": "2021-01-23T02:51:50.967Z",
    "type": "completion"
   },
   {
    "code": "def fizz_buzz_sequence(n):\n    i = 1\n    sequence = []\n    while i <= n:\n        # BEGIN SOLUTION\n        sequence.append(single_number(i))\n        i += 1\n        # END SOLUTION\n    return sequence",
    "id": "4ce42f9e1cb342a881ce5d3fbdf2dac7",
    "idx": 29,
    "time": "2021-01-23T02:51:51.867Z",
    "type": "execution"
   },
   {
    "id": "4ce42f9e1cb342a881ce5d3fbdf2dac7",
    "time": "2021-01-23T02:51:52.040Z",
    "type": "completion"
   },
   {
    "code": "# TEST\nfizz_buzz_sequence(8) == ['1', '2', 'fizz', '4', 'buzz', 'fizz', '7', '8']",
    "id": "969da19249084a28b085300466fb8092",
    "idx": 30,
    "time": "2021-01-23T02:51:52.476Z",
    "type": "execution"
   },
   {
    "id": "969da19249084a28b085300466fb8092",
    "time": "2021-01-23T02:51:52.582Z",
    "type": "completion"
   },
   {
    "code": "# TEST\nfizz_buzz_sequence(3) == ['1', '2', 'fizz']",
    "id": "837b0476ef6947268141ef9f82349c0e",
    "idx": 31,
    "time": "2021-01-23T02:51:53.819Z",
    "type": "execution"
   },
   {
    "id": "837b0476ef6947268141ef9f82349c0e",
    "time": "2021-01-23T02:51:53.906Z",
    "type": "completion"
   },
   {
    "code": "# TEST\nfizz_buzz_sequence(15)[14] == 'fizz buzz'",
    "id": "e381bb4c9f594cf3878e60c76746f55c",
    "idx": 32,
    "time": "2021-01-23T02:51:54.262Z",
    "type": "execution"
   },
   {
    "id": "e381bb4c9f594cf3878e60c76746f55c",
    "time": "2021-01-23T02:51:54.372Z",
    "type": "completion"
   },
   {
    "code": "# TEST\nfizz_buzz_sequence(1000).count('fizz') == 267",
    "id": "3c90deddad8a4083b4cde662dd02619a",
    "idx": 33,
    "time": "2021-01-23T02:51:54.625Z",
    "type": "execution"
   },
   {
    "id": "3c90deddad8a4083b4cde662dd02619a",
    "time": "2021-01-23T02:51:54.718Z",
    "type": "completion"
   },
   {
    "code": "YouTubeVideo('m4CjXk_b8zo', width = 600, height = 300)",
    "id": "7e6255cbba14409f8e2697e55626235c",
    "idx": 35,
    "time": "2021-01-23T02:51:55.919Z",
    "type": "execution"
   },
   {
    "id": "7e6255cbba14409f8e2697e55626235c",
    "time": "2021-01-23T02:51:56.103Z",
    "type": "completion"
   },
   {
    "code": "def hailstone(n):\n    count = 1\n    while n != 1:\n        count += 1\n        print(n)\n        if n % 2 == 1:\n            n = 3 * n + 1\n        else:\n            n = n // 2\n    return count",
    "id": "f293410e1ff74857b79404ab40f66818",
    "idx": 37,
    "time": "2021-01-23T02:51:56.916Z",
    "type": "execution"
   },
   {
    "id": "f293410e1ff74857b79404ab40f66818",
    "time": "2021-01-23T02:51:57.004Z",
    "type": "completion"
   },
   {
    "code": "hailstone(10)",
    "id": "a16e44b4684845e1b054e7c19101ce32",
    "idx": 38,
    "time": "2021-01-23T02:51:57.431Z",
    "type": "execution"
   },
   {
    "id": "a16e44b4684845e1b054e7c19101ce32",
    "time": "2021-01-23T02:51:57.539Z",
    "type": "completion"
   },
   {
    "code": "x = range(1, 1001)\ny = [hailstone(i) for i in x]",
    "id": "0aaf963479f244bfb04a8f48ed5559e7",
    "idx": 39,
    "time": "2021-01-23T02:54:06.012Z",
    "type": "execution"
   },
   {
    "id": "0aaf963479f244bfb04a8f48ed5559e7",
    "time": "2021-01-23T02:54:12.234Z",
    "type": "completion"
   },
   {
    "code": "x = range(1, 1001)\ny = [hailstone(i) for i in x];",
    "id": "0aaf963479f244bfb04a8f48ed5559e7",
    "idx": 39,
    "time": "2021-01-23T02:54:17.127Z",
    "type": "execution"
   },
   {
    "id": "0aaf963479f244bfb04a8f48ed5559e7",
    "time": "2021-01-23T02:54:32.430Z",
    "type": "completion"
   },
   {
    "code": "def hailstone(n):\n    # BEGIN SOLUTION\n    count = 1\n    while n != 1:\n        count += 1\n        print(n)\n        if n % 2 == 1:\n            n = 3 * n + 1\n        else:\n            n = n // 2\n    return count\n    # END SOLUTION",
    "id": "f293410e1ff74857b79404ab40f66818",
    "idx": 37,
    "time": "2021-01-23T02:55:49.621Z",
    "type": "execution"
   },
   {
    "id": "f293410e1ff74857b79404ab40f66818",
    "time": "2021-01-23T02:55:49.767Z",
    "type": "completion"
   },
   {
    "code": "# TEST\n# Make sure you're returning a string, not an int!\nsingle_number(1) == '1'",
    "id": "19a2dcac63f547a68f3be96b8937a5e4",
    "idx": 27,
    "time": "2021-01-23T02:56:54.196Z",
    "type": "execution"
   },
   {
    "id": "19a2dcac63f547a68f3be96b8937a5e4",
    "time": "2021-01-23T02:56:54.336Z",
    "type": "completion"
   },
   {
    "code": "plt.plot(x, y)",
    "id": "7887569605994e108d327089c914e6a7",
    "idx": 40,
    "time": "2021-01-23T02:57:25.212Z",
    "type": "execution"
   },
   {
    "id": "7887569605994e108d327089c914e6a7",
    "time": "2021-01-23T02:57:25.443Z",
    "type": "completion"
   },
   {
    "code": "import matplotlib.pyplot as plt\n%matplotlib inline",
    "id": "971a990c2d3f4c7588ab9cbbfac0e0fd",
    "idx": 41,
    "time": "2021-01-23T02:57:40.595Z",
    "type": "execution"
   },
   {
    "id": "971a990c2d3f4c7588ab9cbbfac0e0fd",
    "time": "2021-01-23T02:57:40.728Z",
    "type": "completion"
   },
   {
    "code": "plt.plot(x, y)",
    "id": "7887569605994e108d327089c914e6a7",
    "idx": 40,
    "time": "2021-01-23T02:57:42.563Z",
    "type": "execution"
   },
   {
    "id": "7887569605994e108d327089c914e6a7",
    "time": "2021-01-23T02:57:43.178Z",
    "type": "completion"
   },
   {
    "code": "# TEST\nhailstone(10) == 7",
    "id": "a16e44b4684845e1b054e7c19101ce32",
    "idx": 38,
    "time": "2021-01-23T02:58:13.153Z",
    "type": "execution"
   },
   {
    "id": "a16e44b4684845e1b054e7c19101ce32",
    "time": "2021-01-23T02:58:13.287Z",
    "type": "completion"
   },
   {
    "code": "# TEST\nhailstone(14)",
    "id": "0ff0dc4a16bb4160b1360dba0059a306",
    "idx": 39,
    "time": "2021-01-23T02:58:25.526Z",
    "type": "execution"
   },
   {
    "id": "0ff0dc4a16bb4160b1360dba0059a306",
    "time": "2021-01-23T02:58:25.619Z",
    "type": "completion"
   },
   {
    "code": "# TEST\nhailstone(15)",
    "id": "0ff0dc4a16bb4160b1360dba0059a306",
    "idx": 39,
    "time": "2021-01-23T02:58:39.109Z",
    "type": "execution"
   },
   {
    "id": "0ff0dc4a16bb4160b1360dba0059a306",
    "time": "2021-01-23T02:58:39.257Z",
    "type": "completion"
   },
   {
    "code": "def hailstone(n):\n    # BEGIN SOLUTION\n    count = 1\n    while n != 1:\n        count += 1\n        print(n)\n        if n % 2 == 1:\n            n = 3 * n + 1\n        else:\n            n = n // 2\n    return count\n    # END SOLUTION",
    "id": "f293410e1ff74857b79404ab40f66818",
    "idx": 38,
    "time": "2021-01-23T03:00:00.418Z",
    "type": "execution"
   },
   {
    "id": "f293410e1ff74857b79404ab40f66818",
    "time": "2021-01-23T03:00:00.575Z",
    "type": "completion"
   },
   {
    "code": "# TEST\nhailstone(10) == 7",
    "id": "a16e44b4684845e1b054e7c19101ce32",
    "idx": 39,
    "time": "2021-01-23T03:00:00.633Z",
    "type": "execution"
   },
   {
    "code": "# TEST\nhailstone(15) == 18",
    "id": "0ff0dc4a16bb4160b1360dba0059a306",
    "idx": 40,
    "time": "2021-01-23T03:00:01.109Z",
    "type": "execution"
   },
   {
    "id": "a16e44b4684845e1b054e7c19101ce32",
    "time": "2021-01-23T03:00:14.063Z",
    "type": "completion"
   },
   {
    "id": "0ff0dc4a16bb4160b1360dba0059a306",
    "time": "2021-01-23T03:00:14.566Z",
    "type": "completion"
   },
   {
    "code": "hailstone(27)",
    "id": "8374b6893c8e404280cdcf3823aaedf8",
    "idx": 41,
    "time": "2021-01-23T03:03:51.277Z",
    "type": "execution"
   },
   {
    "id": "8374b6893c8e404280cdcf3823aaedf8",
    "time": "2021-01-23T03:03:51.479Z",
    "type": "completion"
   },
   {
    "code": "# TEST\nsingle_number(30) == 'fizz buzz'",
    "id": "680e38ecdc05411989f6fbd5b841b7b0",
    "idx": 24,
    "time": "2021-01-23T03:06:15.919Z",
    "type": "execution"
   },
   {
    "id": "680e38ecdc05411989f6fbd5b841b7b0",
    "time": "2021-01-23T03:06:16.064Z",
    "type": "completion"
   },
   {
    "code": "isinstance(str, False)",
    "id": "490b1a6fe9104c378e0331039b852c28",
    "idx": 44,
    "time": "2021-01-23T03:15:06.688Z",
    "type": "execution"
   },
   {
    "id": "490b1a6fe9104c378e0331039b852c28",
    "time": "2021-01-23T03:15:06.762Z",
    "type": "completion"
   },
   {
    "code": "isinstance('hello', str)",
    "id": "490b1a6fe9104c378e0331039b852c28",
    "idx": 44,
    "time": "2021-01-23T03:15:11.875Z",
    "type": "execution"
   },
   {
    "id": "490b1a6fe9104c378e0331039b852c28",
    "time": "2021-01-23T03:15:11.943Z",
    "type": "completion"
   },
   {
    "code": "isinstance(3, str)",
    "id": "490b1a6fe9104c378e0331039b852c28",
    "idx": 44,
    "time": "2021-01-23T03:15:15.543Z",
    "type": "execution"
   },
   {
    "id": "490b1a6fe9104c378e0331039b852c28",
    "time": "2021-01-23T03:15:15.608Z",
    "type": "completion"
   },
   {
    "code": "def is_ing(s):\n    s = s.lower()\n    return s[-3:] == 'ing'",
    "id": "490b1a6fe9104c378e0331039b852c28",
    "idx": 44,
    "time": "2021-01-23T03:17:31.779Z",
    "type": "execution"
   },
   {
    "id": "490b1a6fe9104c378e0331039b852c28",
    "time": "2021-01-23T03:17:31.832Z",
    "type": "completion"
   },
   {
    "code": "def is_ing(s):\n    s = s.lower()\n    return s[-3:] == 'ing'",
    "id": "490b1a6fe9104c378e0331039b852c28",
    "idx": 44,
    "time": "2021-01-23T03:18:14.256Z",
    "type": "execution"
   },
   {
    "id": "490b1a6fe9104c378e0331039b852c28",
    "time": "2021-01-23T03:18:14.317Z",
    "type": "completion"
   },
   {
    "code": "is_ing('jogging')",
    "id": "7d08a07e63ca4e4ba9293c0ef7c1d853",
    "idx": 45,
    "time": "2021-01-23T03:18:20.464Z",
    "type": "execution"
   },
   {
    "id": "7d08a07e63ca4e4ba9293c0ef7c1d853",
    "time": "2021-01-23T03:18:20.524Z",
    "type": "completion"
   },
   {
    "code": "# TEST\nis_ing('jogging')",
    "id": "7d08a07e63ca4e4ba9293c0ef7c1d853",
    "idx": 45,
    "time": "2021-01-23T03:18:26.261Z",
    "type": "execution"
   },
   {
    "id": "7d08a07e63ca4e4ba9293c0ef7c1d853",
    "time": "2021-01-23T03:18:26.326Z",
    "type": "completion"
   },
   {
    "code": "is_ing('ingjog')",
    "id": "6cb9c3fe320445cc898544e19a423dc8",
    "idx": 46,
    "time": "2021-01-23T03:18:30.899Z",
    "type": "execution"
   },
   {
    "id": "6cb9c3fe320445cc898544e19a423dc8",
    "time": "2021-01-23T03:18:30.985Z",
    "type": "completion"
   },
   {
    "code": "# TEST\nnot is_ing('ingjog')",
    "id": "6cb9c3fe320445cc898544e19a423dc8",
    "idx": 46,
    "time": "2021-01-23T03:18:36.723Z",
    "type": "execution"
   },
   {
    "id": "6cb9c3fe320445cc898544e19a423dc8",
    "time": "2021-01-23T03:18:36.791Z",
    "type": "completion"
   },
   {
    "code": "# TEST\nis_ing('spriNTiNG')",
    "id": "4b02570cc1c84a3e88534364312997be",
    "idx": 47,
    "time": "2021-01-23T03:18:46.695Z",
    "type": "execution"
   },
   {
    "id": "4b02570cc1c84a3e88534364312997be",
    "time": "2021-01-23T03:18:46.746Z",
    "type": "completion"
   },
   {
    "code": "# TEST\nnot is_ing('racingg')",
    "id": "10ee2c019c2c498faa41002965692684",
    "idx": 48,
    "time": "2021-01-23T03:19:27.109Z",
    "type": "execution"
   },
   {
    "id": "10ee2c019c2c498faa41002965692684",
    "time": "2021-01-23T03:19:27.170Z",
    "type": "completion"
   },
   {
    "code": "def is_ing(s):\n    # BEGIN SOLUTION\n    s = s.lower()\n    return s[-3:] == 'ing'\n    # END SOLUTION",
    "id": "490b1a6fe9104c378e0331039b852c28",
    "idx": 44,
    "time": "2021-01-23T03:19:48.384Z",
    "type": "execution"
   },
   {
    "id": "490b1a6fe9104c378e0331039b852c28",
    "time": "2021-01-23T03:19:48.455Z",
    "type": "completion"
   },
   {
    "code": "# TEST\nis_ing('jogging')",
    "id": "7d08a07e63ca4e4ba9293c0ef7c1d853",
    "idx": 45,
    "time": "2021-01-23T03:19:49.493Z",
    "type": "execution"
   },
   {
    "id": "7d08a07e63ca4e4ba9293c0ef7c1d853",
    "time": "2021-01-23T03:19:49.553Z",
    "type": "completion"
   },
   {
    "code": "# TEST\nnot is_ing('ingjog')",
    "id": "6cb9c3fe320445cc898544e19a423dc8",
    "idx": 46,
    "time": "2021-01-23T03:19:49.677Z",
    "type": "execution"
   },
   {
    "id": "6cb9c3fe320445cc898544e19a423dc8",
    "time": "2021-01-23T03:19:49.731Z",
    "type": "completion"
   },
   {
    "code": "# TEST\nis_ing('spriNTiNG')",
    "id": "4b02570cc1c84a3e88534364312997be",
    "idx": 47,
    "time": "2021-01-23T03:19:49.818Z",
    "type": "execution"
   },
   {
    "id": "4b02570cc1c84a3e88534364312997be",
    "time": "2021-01-23T03:19:49.873Z",
    "type": "completion"
   },
   {
    "code": "def is_ing(s):\n    # BEGIN SOLUTION\n    s = s.lower()\n    return s[-3:] == 'ing'\n    # END SOLUTION",
    "id": "490b1a6fe9104c378e0331039b852c28",
    "idx": 44,
    "time": "2021-01-23T03:22:52.749Z",
    "type": "execution"
   },
   {
    "id": "490b1a6fe9104c378e0331039b852c28",
    "time": "2021-01-23T03:22:52.816Z",
    "type": "completion"
   },
   {
    "code": "# TEST\nis_ing('jogging')",
    "id": "7d08a07e63ca4e4ba9293c0ef7c1d853",
    "idx": 45,
    "time": "2021-01-23T03:22:53.067Z",
    "type": "execution"
   },
   {
    "id": "7d08a07e63ca4e4ba9293c0ef7c1d853",
    "time": "2021-01-23T03:22:53.122Z",
    "type": "completion"
   },
   {
    "code": "# TEST\nnot is_ing('ingjog')",
    "id": "6cb9c3fe320445cc898544e19a423dc8",
    "idx": 46,
    "time": "2021-01-23T03:22:53.489Z",
    "type": "execution"
   },
   {
    "id": "6cb9c3fe320445cc898544e19a423dc8",
    "time": "2021-01-23T03:22:53.547Z",
    "type": "completion"
   },
   {
    "code": "'hello'.find('l')",
    "id": "8736474209554b808b9383254ba5631c",
    "idx": 49,
    "time": "2021-01-23T03:23:14.053Z",
    "type": "execution"
   },
   {
    "id": "8736474209554b808b9383254ba5631c",
    "time": "2021-01-23T03:23:14.125Z",
    "type": "completion"
   },
   {
    "code": "'hey|hi|hello'",
    "id": "bd4fccbc52bc460ba4cfda9ce5dc3186",
    "idx": 49,
    "time": "2021-01-23T03:23:55.561Z",
    "type": "execution"
   },
   {
    "id": "bd4fccbc52bc460ba4cfda9ce5dc3186",
    "time": "2021-01-23T03:23:55.642Z",
    "type": "completion"
   },
   {
    "code": "'hey|hi|hello'.split('|')",
    "id": "cc062336e17f42fb850d544f05db378e",
    "idx": 50,
    "time": "2021-01-23T03:24:06.375Z",
    "type": "execution"
   },
   {
    "id": "cc062336e17f42fb850d544f05db378e",
    "time": "2021-01-23T03:24:06.441Z",
    "type": "completion"
   },
   {
    "code": "'hey|hi|hello'.split('|')[2]",
    "id": "cc062336e17f42fb850d544f05db378e",
    "idx": 50,
    "time": "2021-01-23T03:24:13.456Z",
    "type": "execution"
   },
   {
    "id": "cc062336e17f42fb850d544f05db378e",
    "time": "2021-01-23T03:24:13.523Z",
    "type": "completion"
   },
   {
    "code": "'hey|hi|hello'.split('|')",
    "id": "cc062336e17f42fb850d544f05db378e",
    "idx": 50,
    "time": "2021-01-23T03:24:15.343Z",
    "type": "execution"
   },
   {
    "id": "cc062336e17f42fb850d544f05db378e",
    "time": "2021-01-23T03:24:15.405Z",
    "type": "completion"
   },
   {
    "code": "np",
    "id": "1955aa7d648747688afafacb75d2b7cf",
    "idx": 57,
    "time": "2021-01-23T03:28:18.278Z",
    "type": "execution"
   },
   {
    "id": "1955aa7d648747688afafacb75d2b7cf",
    "time": "2021-01-23T03:28:18.345Z",
    "type": "completion"
   },
   {
    "code": "np.random.choice",
    "id": "6b9741bb4eec44e0b910747eca3a1926",
    "idx": 58,
    "time": "2021-01-23T03:28:38.578Z",
    "type": "execution"
   },
   {
    "id": "6b9741bb4eec44e0b910747eca3a1926",
    "time": "2021-01-23T03:28:38.640Z",
    "type": "completion"
   },
   {
    "code": "np.random.choice(100)",
    "id": "6b9741bb4eec44e0b910747eca3a1926",
    "idx": 58,
    "time": "2021-01-23T03:28:50.787Z",
    "type": "execution"
   },
   {
    "id": "6b9741bb4eec44e0b910747eca3a1926",
    "time": "2021-01-23T03:28:50.860Z",
    "type": "completion"
   },
   {
    "code": "np.random.choice(100)",
    "id": "6b9741bb4eec44e0b910747eca3a1926",
    "idx": 58,
    "time": "2021-01-23T03:28:53.059Z",
    "type": "execution"
   },
   {
    "id": "6b9741bb4eec44e0b910747eca3a1926",
    "time": "2021-01-23T03:28:53.134Z",
    "type": "completion"
   },
   {
    "code": "np.random.choice(100)",
    "id": "6b9741bb4eec44e0b910747eca3a1926",
    "idx": 58,
    "time": "2021-01-23T03:28:53.964Z",
    "type": "execution"
   },
   {
    "id": "6b9741bb4eec44e0b910747eca3a1926",
    "time": "2021-01-23T03:28:54.023Z",
    "type": "completion"
   },
   {
    "code": "np.random.choice?",
    "id": "6b9741bb4eec44e0b910747eca3a1926",
    "idx": 58,
    "time": "2021-01-23T03:28:55.961Z",
    "type": "execution"
   },
   {
    "id": "6b9741bb4eec44e0b910747eca3a1926",
    "time": "2021-01-23T03:28:56.034Z",
    "type": "completion"
   },
   {
    "code": "np.random.choice(range(1, 101))",
    "id": "6b9741bb4eec44e0b910747eca3a1926",
    "idx": 58,
    "time": "2021-01-23T03:29:20.399Z",
    "type": "execution"
   },
   {
    "id": "6b9741bb4eec44e0b910747eca3a1926",
    "time": "2021-01-23T03:29:20.490Z",
    "type": "completion"
   },
   {
    "code": "np.random.choice(range(1, 101))",
    "id": "6b9741bb4eec44e0b910747eca3a1926",
    "idx": 58,
    "time": "2021-01-23T03:29:21.309Z",
    "type": "execution"
   },
   {
    "id": "6b9741bb4eec44e0b910747eca3a1926",
    "time": "2021-01-23T03:29:21.366Z",
    "type": "completion"
   },
   {
    "code": "np.random.choice(range(1, 101))",
    "id": "6b9741bb4eec44e0b910747eca3a1926",
    "idx": 58,
    "time": "2021-01-23T03:29:22.535Z",
    "type": "execution"
   },
   {
    "id": "6b9741bb4eec44e0b910747eca3a1926",
    "time": "2021-01-23T03:29:22.594Z",
    "type": "completion"
   },
   {
    "code": "np.random.choice(range(1, 101))",
    "id": "6b9741bb4eec44e0b910747eca3a1926",
    "idx": 58,
    "time": "2021-01-23T03:29:23.510Z",
    "type": "execution"
   },
   {
    "id": "6b9741bb4eec44e0b910747eca3a1926",
    "time": "2021-01-23T03:29:23.577Z",
    "type": "completion"
   },
   {
    "code": "np.random.choice(range(1, 101))",
    "id": "6b9741bb4eec44e0b910747eca3a1926",
    "idx": 58,
    "time": "2021-01-23T03:29:24.381Z",
    "type": "execution"
   },
   {
    "id": "6b9741bb4eec44e0b910747eca3a1926",
    "time": "2021-01-23T03:29:24.441Z",
    "type": "completion"
   },
   {
    "code": "np.random.choice(range(1, 21))",
    "id": "6b9741bb4eec44e0b910747eca3a1926",
    "idx": 58,
    "time": "2021-01-23T03:29:52.129Z",
    "type": "execution"
   },
   {
    "id": "6b9741bb4eec44e0b910747eca3a1926",
    "time": "2021-01-23T03:29:52.212Z",
    "type": "completion"
   },
   {
    "code": "np.random.choice(range(1, 31))",
    "id": "6b9741bb4eec44e0b910747eca3a1926",
    "idx": 58,
    "time": "2021-01-23T03:29:55.142Z",
    "type": "execution"
   },
   {
    "id": "6b9741bb4eec44e0b910747eca3a1926",
    "time": "2021-01-23T03:29:55.203Z",
    "type": "completion"
   },
   {
    "code": "np.random.choice(range(1, 31))",
    "id": "6b9741bb4eec44e0b910747eca3a1926",
    "idx": 58,
    "time": "2021-01-23T03:29:56.102Z",
    "type": "execution"
   },
   {
    "id": "6b9741bb4eec44e0b910747eca3a1926",
    "time": "2021-01-23T03:29:56.164Z",
    "type": "completion"
   },
   {
    "code": "np.random.choice(range(1, 31))",
    "id": "6b9741bb4eec44e0b910747eca3a1926",
    "idx": 58,
    "time": "2021-01-23T03:29:57.015Z",
    "type": "execution"
   },
   {
    "id": "6b9741bb4eec44e0b910747eca3a1926",
    "time": "2021-01-23T03:29:57.073Z",
    "type": "completion"
   },
   {
    "code": "np.random.choice(range(1, 31))",
    "id": "6b9741bb4eec44e0b910747eca3a1926",
    "idx": 58,
    "time": "2021-01-23T03:29:57.884Z",
    "type": "execution"
   },
   {
    "id": "6b9741bb4eec44e0b910747eca3a1926",
    "time": "2021-01-23T03:29:57.937Z",
    "type": "completion"
   },
   {
    "code": "np.random.choice(range(1, 31))",
    "id": "6b9741bb4eec44e0b910747eca3a1926",
    "idx": 58,
    "time": "2021-01-23T03:29:58.743Z",
    "type": "execution"
   },
   {
    "id": "6b9741bb4eec44e0b910747eca3a1926",
    "time": "2021-01-23T03:29:58.804Z",
    "type": "completion"
   },
   {
    "code": "np.random.choice(range(1, 31))",
    "id": "6b9741bb4eec44e0b910747eca3a1926",
    "idx": 58,
    "time": "2021-01-23T03:29:59.658Z",
    "type": "execution"
   },
   {
    "id": "6b9741bb4eec44e0b910747eca3a1926",
    "time": "2021-01-23T03:29:59.725Z",
    "type": "completion"
   },
   {
    "code": "np.random.choice(range(1, 31))",
    "id": "6b9741bb4eec44e0b910747eca3a1926",
    "idx": 58,
    "time": "2021-01-23T03:30:00.527Z",
    "type": "execution"
   },
   {
    "id": "6b9741bb4eec44e0b910747eca3a1926",
    "time": "2021-01-23T03:30:00.584Z",
    "type": "completion"
   },
   {
    "code": "np.random.choice(range(1, 31))",
    "id": "6b9741bb4eec44e0b910747eca3a1926",
    "idx": 58,
    "time": "2021-01-23T03:30:01.540Z",
    "type": "execution"
   },
   {
    "id": "6b9741bb4eec44e0b910747eca3a1926",
    "time": "2021-01-23T03:30:01.604Z",
    "type": "completion"
   },
   {
    "code": "np.random.choice(range(1, 31))",
    "id": "6b9741bb4eec44e0b910747eca3a1926",
    "idx": 58,
    "time": "2021-01-23T03:30:02.982Z",
    "type": "execution"
   },
   {
    "id": "6b9741bb4eec44e0b910747eca3a1926",
    "time": "2021-01-23T03:30:03.052Z",
    "type": "completion"
   },
   {
    "code": "np.random.choice(range(1, 31))",
    "id": "6b9741bb4eec44e0b910747eca3a1926",
    "idx": 58,
    "time": "2021-01-23T03:30:03.955Z",
    "type": "execution"
   },
   {
    "id": "6b9741bb4eec44e0b910747eca3a1926",
    "time": "2021-01-23T03:30:04.021Z",
    "type": "completion"
   },
   {
    "code": "np.random.choice(range(1, 31))",
    "id": "6b9741bb4eec44e0b910747eca3a1926",
    "idx": 58,
    "time": "2021-01-23T03:30:04.890Z",
    "type": "execution"
   },
   {
    "id": "6b9741bb4eec44e0b910747eca3a1926",
    "time": "2021-01-23T03:30:04.954Z",
    "type": "completion"
   },
   {
    "code": "np.random.choice(range(1, 31))",
    "id": "6b9741bb4eec44e0b910747eca3a1926",
    "idx": 58,
    "time": "2021-01-23T03:30:05.842Z",
    "type": "execution"
   },
   {
    "id": "6b9741bb4eec44e0b910747eca3a1926",
    "time": "2021-01-23T03:30:05.899Z",
    "type": "completion"
   },
   {
    "code": "np.random.choice(range(1, 31))",
    "id": "6b9741bb4eec44e0b910747eca3a1926",
    "idx": 58,
    "time": "2021-01-23T03:30:06.702Z",
    "type": "execution"
   },
   {
    "id": "6b9741bb4eec44e0b910747eca3a1926",
    "time": "2021-01-23T03:30:06.759Z",
    "type": "completion"
   },
   {
    "code": "np.random.choice(range(1, 31))",
    "id": "6b9741bb4eec44e0b910747eca3a1926",
    "idx": 58,
    "time": "2021-01-23T03:30:07.556Z",
    "type": "execution"
   },
   {
    "id": "6b9741bb4eec44e0b910747eca3a1926",
    "time": "2021-01-23T03:30:07.609Z",
    "type": "completion"
   },
   {
    "code": "np.random.choice(range(1, 31))",
    "id": "6b9741bb4eec44e0b910747eca3a1926",
    "idx": 58,
    "time": "2021-01-23T03:30:08.414Z",
    "type": "execution"
   },
   {
    "id": "6b9741bb4eec44e0b910747eca3a1926",
    "time": "2021-01-23T03:30:08.475Z",
    "type": "completion"
   },
   {
    "code": "np.random.choice(range(1, 31))",
    "id": "6b9741bb4eec44e0b910747eca3a1926",
    "idx": 58,
    "time": "2021-01-23T03:30:09.338Z",
    "type": "execution"
   },
   {
    "id": "6b9741bb4eec44e0b910747eca3a1926",
    "time": "2021-01-23T03:30:09.400Z",
    "type": "completion"
   },
   {
    "code": "np.random.choice(range(1, 31))",
    "id": "6b9741bb4eec44e0b910747eca3a1926",
    "idx": 58,
    "time": "2021-01-23T03:30:10.229Z",
    "type": "execution"
   },
   {
    "id": "6b9741bb4eec44e0b910747eca3a1926",
    "time": "2021-01-23T03:30:10.288Z",
    "type": "completion"
   },
   {
    "code": "choice",
    "id": "ec1723b020fd457aa02d42058e81f1c8",
    "idx": 59,
    "time": "2021-01-23T03:30:21.842Z",
    "type": "execution"
   },
   {
    "id": "ec1723b020fd457aa02d42058e81f1c8",
    "time": "2021-01-23T03:30:21.921Z",
    "type": "completion"
   },
   {
    "code": "random_integer",
    "id": "ec1723b020fd457aa02d42058e81f1c8",
    "idx": 59,
    "time": "2021-01-23T03:30:23.962Z",
    "type": "execution"
   },
   {
    "id": "ec1723b020fd457aa02d42058e81f1c8",
    "time": "2021-01-23T03:30:24.038Z",
    "type": "completion"
   },
   {
    "code": "random_integer = lambda: np.random.choice(range(1, 31))",
    "id": "ec1723b020fd457aa02d42058e81f1c8",
    "idx": 58,
    "time": "2021-01-23T03:30:31.139Z",
    "type": "execution"
   },
   {
    "id": "ec1723b020fd457aa02d42058e81f1c8",
    "time": "2021-01-23T03:30:31.204Z",
    "type": "completion"
   },
   {
    "code": "random_integer()",
    "id": "6ddc21877870438c85da80e313ef8b07",
    "idx": 59,
    "time": "2021-01-23T03:30:36.305Z",
    "type": "execution"
   },
   {
    "id": "6ddc21877870438c85da80e313ef8b07",
    "time": "2021-01-23T03:30:36.364Z",
    "type": "completion"
   },
   {
    "code": "random_integer()",
    "id": "6ddc21877870438c85da80e313ef8b07",
    "idx": 59,
    "time": "2021-01-23T03:30:38.220Z",
    "type": "execution"
   },
   {
    "id": "6ddc21877870438c85da80e313ef8b07",
    "time": "2021-01-23T03:30:38.297Z",
    "type": "completion"
   },
   {
    "code": "random_integer()",
    "id": "6ddc21877870438c85da80e313ef8b07",
    "idx": 59,
    "time": "2021-01-23T03:30:39.162Z",
    "type": "execution"
   },
   {
    "id": "6ddc21877870438c85da80e313ef8b07",
    "time": "2021-01-23T03:30:39.220Z",
    "type": "completion"
   },
   {
    "code": "random_integer()",
    "id": "6ddc21877870438c85da80e313ef8b07",
    "idx": 59,
    "time": "2021-01-23T03:30:42.322Z",
    "type": "execution"
   },
   {
    "id": "6ddc21877870438c85da80e313ef8b07",
    "time": "2021-01-23T03:30:42.403Z",
    "type": "completion"
   },
   {
    "code": "random_integer()",
    "id": "6ddc21877870438c85da80e313ef8b07",
    "idx": 59,
    "time": "2021-01-23T03:30:43.791Z",
    "type": "execution"
   },
   {
    "id": "6ddc21877870438c85da80e313ef8b07",
    "time": "2021-01-23T03:30:43.861Z",
    "type": "completion"
   },
   {
    "code": "random_integer()",
    "id": "6ddc21877870438c85da80e313ef8b07",
    "idx": 59,
    "time": "2021-01-23T03:30:44.782Z",
    "type": "execution"
   },
   {
    "id": "6ddc21877870438c85da80e313ef8b07",
    "time": "2021-01-23T03:30:44.849Z",
    "type": "completion"
   },
   {
    "code": "random_integer()",
    "id": "6ddc21877870438c85da80e313ef8b07",
    "idx": 59,
    "time": "2021-01-23T03:30:45.800Z",
    "type": "execution"
   },
   {
    "id": "6ddc21877870438c85da80e313ef8b07",
    "time": "2021-01-23T03:30:45.877Z",
    "type": "completion"
   },
   {
    "code": "random_integer()",
    "id": "6ddc21877870438c85da80e313ef8b07",
    "idx": 59,
    "time": "2021-01-23T03:30:46.718Z",
    "type": "execution"
   },
   {
    "id": "6ddc21877870438c85da80e313ef8b07",
    "time": "2021-01-23T03:30:46.780Z",
    "type": "completion"
   },
   {
    "code": "random_integer()",
    "id": "6ddc21877870438c85da80e313ef8b07",
    "idx": 59,
    "time": "2021-01-23T03:30:47.497Z",
    "type": "execution"
   },
   {
    "id": "6ddc21877870438c85da80e313ef8b07",
    "time": "2021-01-23T03:30:47.558Z",
    "type": "completion"
   },
   {
    "code": "random_integer()",
    "id": "6ddc21877870438c85da80e313ef8b07",
    "idx": 59,
    "time": "2021-01-23T03:30:49.354Z",
    "type": "execution"
   },
   {
    "id": "6ddc21877870438c85da80e313ef8b07",
    "time": "2021-01-23T03:30:49.437Z",
    "type": "completion"
   },
   {
    "code": "# Ignore the code, just run the cell.\nrandom_integer = lambda: np.random.choice(range(1, 31))",
    "id": "6e9f10e6848d46c2b3df4eae0b1da353",
    "idx": 58,
    "time": "2021-01-23T03:31:08.129Z",
    "type": "execution"
   },
   {
    "id": "6e9f10e6848d46c2b3df4eae0b1da353",
    "time": "2021-01-23T03:31:08.204Z",
    "type": "completion"
   },
   {
    "code": "# Ignore the code, just run the cell.\ndef random_integer():\n    return np.random.choice(range(1, 31))",
    "id": "6e9f10e6848d46c2b3df4eae0b1da353",
    "idx": 58,
    "time": "2021-01-23T03:31:17.136Z",
    "type": "execution"
   },
   {
    "id": "6e9f10e6848d46c2b3df4eae0b1da353",
    "time": "2021-01-23T03:31:17.193Z",
    "type": "completion"
   },
   {
    "code": "np.seed(42)\nrandom_integer()",
    "id": "ccf76c0aacf74eb8a07ae78c2dc8af3c",
    "idx": 61,
    "time": "2021-01-23T03:31:33.982Z",
    "type": "execution"
   },
   {
    "id": "ccf76c0aacf74eb8a07ae78c2dc8af3c",
    "time": "2021-01-23T03:31:34.072Z",
    "type": "completion"
   },
   {
    "code": "np.random.seed(42)\nrandom_integer()",
    "id": "ccf76c0aacf74eb8a07ae78c2dc8af3c",
    "idx": 61,
    "time": "2021-01-23T03:31:37.479Z",
    "type": "execution"
   },
   {
    "id": "ccf76c0aacf74eb8a07ae78c2dc8af3c",
    "time": "2021-01-23T03:31:37.534Z",
    "type": "completion"
   },
   {
    "code": "np.random.seed(42)\nrandom_integer()",
    "id": "ccf76c0aacf74eb8a07ae78c2dc8af3c",
    "idx": 61,
    "time": "2021-01-23T03:31:38.288Z",
    "type": "execution"
   },
   {
    "id": "ccf76c0aacf74eb8a07ae78c2dc8af3c",
    "time": "2021-01-23T03:31:38.345Z",
    "type": "completion"
   },
   {
    "code": "np.random.seed(42)\nrandom_integer()",
    "id": "ccf76c0aacf74eb8a07ae78c2dc8af3c",
    "idx": 61,
    "time": "2021-01-23T03:31:39.040Z",
    "type": "execution"
   },
   {
    "id": "ccf76c0aacf74eb8a07ae78c2dc8af3c",
    "time": "2021-01-23T03:31:39.112Z",
    "type": "completion"
   },
   {
    "code": "random_integer()",
    "id": "6ddc21877870438c85da80e313ef8b07",
    "idx": 60,
    "time": "2021-01-23T03:31:55.801Z",
    "type": "execution"
   },
   {
    "id": "6ddc21877870438c85da80e313ef8b07",
    "time": "2021-01-23T03:31:55.860Z",
    "type": "completion"
   },
   {
    "code": "np.random.seed(42)\nrandom_integer()",
    "id": "ccf76c0aacf74eb8a07ae78c2dc8af3c",
    "idx": 61,
    "time": "2021-01-23T03:31:56.110Z",
    "type": "execution"
   },
   {
    "id": "ccf76c0aacf74eb8a07ae78c2dc8af3c",
    "time": "2021-01-23T03:31:56.171Z",
    "type": "completion"
   },
   {
    "code": "# Run this cell a few times to see what you get!\nrandom_integer()",
    "id": "6ddc21877870438c85da80e313ef8b07",
    "idx": 60,
    "time": "2021-01-23T03:32:08.794Z",
    "type": "execution"
   },
   {
    "id": "6ddc21877870438c85da80e313ef8b07",
    "time": "2021-01-23T03:32:08.856Z",
    "type": "completion"
   },
   {
    "code": "# Run this cell a few times to see what you get!\nrandom_integer()",
    "id": "6ddc21877870438c85da80e313ef8b07",
    "idx": 60,
    "time": "2021-01-23T03:32:10.061Z",
    "type": "execution"
   },
   {
    "id": "6ddc21877870438c85da80e313ef8b07",
    "time": "2021-01-23T03:32:10.130Z",
    "type": "completion"
   },
   {
    "code": "# Run this cell a few times to see what you get!\nrandom_integer()",
    "id": "6ddc21877870438c85da80e313ef8b07",
    "idx": 60,
    "time": "2021-01-23T03:32:10.984Z",
    "type": "execution"
   },
   {
    "id": "6ddc21877870438c85da80e313ef8b07",
    "time": "2021-01-23T03:32:11.048Z",
    "type": "completion"
   },
   {
    "code": "# Run this cell a few times to see what you get!\nrandom_integer()",
    "id": "6ddc21877870438c85da80e313ef8b07",
    "idx": 60,
    "time": "2021-01-23T03:32:12.079Z",
    "type": "execution"
   },
   {
    "id": "6ddc21877870438c85da80e313ef8b07",
    "time": "2021-01-23T03:32:12.134Z",
    "type": "completion"
   },
   {
    "code": "np.random.seed(42)\ndef five_non_prime():\n    nums = []\n    while len(nums) < 5:\n        n = random_integer()\n        if not is_prime(n) and not n in nums:\n            nums.append(n)",
    "id": "ed69607fe8234daa8502b6aa02296ca3",
    "idx": 61,
    "time": "2021-01-23T03:33:33.221Z",
    "type": "execution"
   },
   {
    "id": "ed69607fe8234daa8502b6aa02296ca3",
    "time": "2021-01-23T03:33:33.306Z",
    "type": "completion"
   },
   {
    "code": "def five_non_prime():\n    nums = []\n    while len(nums) < 5:\n        n = random_integer()\n        if not is_prime(n) and not n in nums:\n            nums.append(n)\n    return nums",
    "id": "ed69607fe8234daa8502b6aa02296ca3",
    "idx": 61,
    "time": "2021-01-23T03:33:38.816Z",
    "type": "execution"
   },
   {
    "id": "ed69607fe8234daa8502b6aa02296ca3",
    "time": "2021-01-23T03:33:38.875Z",
    "type": "completion"
   },
   {
    "code": "five_non_prime()",
    "id": "400631b61add45a88cc5f243b7b70d7d",
    "idx": 62,
    "time": "2021-01-23T03:33:44.239Z",
    "type": "execution"
   },
   {
    "id": "400631b61add45a88cc5f243b7b70d7d",
    "time": "2021-01-23T03:33:44.311Z",
    "type": "completion"
   },
   {
    "code": "# Ignore the code, just run the cell.\ndef random_integer():\n    return np.random.choice(range(1, 31))\n\ndef is_prime(n):\n    i = 2\n    while i < n:\n        if n % i == 0:\n            return False\n    return True",
    "id": "6e9f10e6848d46c2b3df4eae0b1da353",
    "idx": 58,
    "time": "2021-01-23T03:34:10.891Z",
    "type": "execution"
   },
   {
    "id": "6e9f10e6848d46c2b3df4eae0b1da353",
    "time": "2021-01-23T03:34:10.968Z",
    "type": "completion"
   },
   {
    "code": "# Ignore the code, just run the cell.\ndef random_integer():\n    return np.random.choice(range(1, 31))\n\ndef is_prime(n):\n    i = 2\n    while i < n:\n        if n % i == 0:\n            return False\n        i += 1\n    return True",
    "id": "6e9f10e6848d46c2b3df4eae0b1da353",
    "idx": 58,
    "time": "2021-01-23T03:34:17.284Z",
    "type": "execution"
   },
   {
    "id": "6e9f10e6848d46c2b3df4eae0b1da353",
    "time": "2021-01-23T03:34:17.343Z",
    "type": "completion"
   },
   {
    "code": "is_prime(15)",
    "id": "ffcfef7ac0224a208d36f34d680cc5f5",
    "idx": 59,
    "time": "2021-01-23T03:34:26.561Z",
    "type": "execution"
   },
   {
    "id": "ffcfef7ac0224a208d36f34d680cc5f5",
    "time": "2021-01-23T03:34:26.620Z",
    "type": "completion"
   },
   {
    "code": "is_prime(17)",
    "id": "ffcfef7ac0224a208d36f34d680cc5f5",
    "idx": 59,
    "time": "2021-01-23T03:34:28.846Z",
    "type": "execution"
   },
   {
    "id": "ffcfef7ac0224a208d36f34d680cc5f5",
    "time": "2021-01-23T03:34:28.907Z",
    "type": "completion"
   },
   {
    "code": "is_prime(2)",
    "id": "ffcfef7ac0224a208d36f34d680cc5f5",
    "idx": 59,
    "time": "2021-01-23T03:34:31.591Z",
    "type": "execution"
   },
   {
    "id": "ffcfef7ac0224a208d36f34d680cc5f5",
    "time": "2021-01-23T03:34:31.648Z",
    "type": "completion"
   },
   {
    "code": "is_prime(1)",
    "id": "ffcfef7ac0224a208d36f34d680cc5f5",
    "idx": 59,
    "time": "2021-01-23T03:34:33.545Z",
    "type": "execution"
   },
   {
    "id": "ffcfef7ac0224a208d36f34d680cc5f5",
    "time": "2021-01-23T03:34:33.614Z",
    "type": "completion"
   },
   {
    "code": "is_prime(-15)",
    "id": "ffcfef7ac0224a208d36f34d680cc5f5",
    "idx": 59,
    "time": "2021-01-23T03:34:42.819Z",
    "type": "execution"
   },
   {
    "id": "ffcfef7ac0224a208d36f34d680cc5f5",
    "time": "2021-01-23T03:34:42.877Z",
    "type": "completion"
   },
   {
    "code": "# Ignore the code, just run the cell.\ndef random_integer():\n    return np.random.choice(range(1, 31))\n\ndef is_prime(n):\n    i = 2\n    while i < n:\n        if n % i == 0:\n            return False\n        i += 1\n    return True",
    "id": "6e9f10e6848d46c2b3df4eae0b1da353",
    "idx": 58,
    "time": "2021-01-23T03:34:51.259Z",
    "type": "execution"
   },
   {
    "id": "6e9f10e6848d46c2b3df4eae0b1da353",
    "time": "2021-01-23T03:34:51.333Z",
    "type": "completion"
   },
   {
    "code": "# Ignore the code, just run the cell.\ndef random_integer():\n    return np.random.choice(range(1, 31))\n\ndef is_prime(n):\n    if i <= 1:\n        return False\n    i = 2\n    while i < n:\n        if n % i == 0:\n            return False\n        i += 1\n    return True",
    "id": "6e9f10e6848d46c2b3df4eae0b1da353",
    "idx": 58,
    "time": "2021-01-23T03:35:06.995Z",
    "type": "execution"
   },
   {
    "id": "6e9f10e6848d46c2b3df4eae0b1da353",
    "time": "2021-01-23T03:35:07.053Z",
    "type": "completion"
   },
   {
    "code": "def five_non_prime():\n    nums = []\n    while len(nums) < 5:\n        n = random_integer()\n        if not is_prime(n) and not n in nums:\n            nums.append(n)\n    return nums",
    "id": "ed69607fe8234daa8502b6aa02296ca3",
    "idx": 61,
    "time": "2021-01-23T03:35:08.948Z",
    "type": "execution"
   },
   {
    "id": "ed69607fe8234daa8502b6aa02296ca3",
    "time": "2021-01-23T03:35:09.010Z",
    "type": "completion"
   },
   {
    "code": "five_non_prime()",
    "id": "400631b61add45a88cc5f243b7b70d7d",
    "idx": 62,
    "time": "2021-01-23T03:35:09.064Z",
    "type": "execution"
   },
   {
    "id": "400631b61add45a88cc5f243b7b70d7d",
    "time": "2021-01-23T03:35:09.136Z",
    "type": "completion"
   },
   {
    "code": "# Ignore the code, just run the cell.\ndef random_integer():\n    return np.random.choice(range(1, 31))\n\ndef is_prime(n):\n    if n <= 1:\n        return False\n    i = 2\n    while i < n:\n        if n % i == 0:\n            return False\n        i += 1\n    return True",
    "id": "6e9f10e6848d46c2b3df4eae0b1da353",
    "idx": 58,
    "time": "2021-01-23T03:35:16.627Z",
    "type": "execution"
   },
   {
    "id": "6e9f10e6848d46c2b3df4eae0b1da353",
    "time": "2021-01-23T03:35:16.703Z",
    "type": "completion"
   },
   {
    "code": "# Run this cell a few times to see what you get!\nrandom_integer()",
    "id": "6ddc21877870438c85da80e313ef8b07",
    "idx": 60,
    "time": "2021-01-23T03:35:17.225Z",
    "type": "execution"
   },
   {
    "id": "6ddc21877870438c85da80e313ef8b07",
    "time": "2021-01-23T03:35:17.287Z",
    "type": "completion"
   },
   {
    "code": "def five_non_prime():\n    nums = []\n    while len(nums) < 5:\n        n = random_integer()\n        if not is_prime(n) and not n in nums:\n            nums.append(n)\n    return nums",
    "id": "ed69607fe8234daa8502b6aa02296ca3",
    "idx": 61,
    "time": "2021-01-23T03:35:17.564Z",
    "type": "execution"
   },
   {
    "id": "ed69607fe8234daa8502b6aa02296ca3",
    "time": "2021-01-23T03:35:17.624Z",
    "type": "completion"
   },
   {
    "code": "five_non_prime()",
    "id": "400631b61add45a88cc5f243b7b70d7d",
    "idx": 62,
    "time": "2021-01-23T03:35:18.504Z",
    "type": "execution"
   },
   {
    "id": "400631b61add45a88cc5f243b7b70d7d",
    "time": "2021-01-23T03:35:18.570Z",
    "type": "completion"
   },
   {
    "code": "five_non_prime()",
    "id": "400631b61add45a88cc5f243b7b70d7d",
    "idx": 62,
    "time": "2021-01-23T03:35:21.979Z",
    "type": "execution"
   },
   {
    "id": "400631b61add45a88cc5f243b7b70d7d",
    "time": "2021-01-23T03:35:22.060Z",
    "type": "completion"
   },
   {
    "code": "five_non_prime()",
    "id": "400631b61add45a88cc5f243b7b70d7d",
    "idx": 62,
    "time": "2021-01-23T03:35:23.527Z",
    "type": "execution"
   },
   {
    "id": "400631b61add45a88cc5f243b7b70d7d",
    "time": "2021-01-23T03:35:23.613Z",
    "type": "completion"
   },
   {
    "code": "five_non_prime()",
    "id": "400631b61add45a88cc5f243b7b70d7d",
    "idx": 62,
    "time": "2021-01-23T03:35:24.887Z",
    "type": "execution"
   },
   {
    "id": "400631b61add45a88cc5f243b7b70d7d",
    "time": "2021-01-23T03:35:24.970Z",
    "type": "completion"
   },
   {
    "code": "np.random.seed(42)\nfive_non_prime()",
    "id": "400631b61add45a88cc5f243b7b70d7d",
    "idx": 62,
    "time": "2021-01-23T03:35:30.502Z",
    "type": "execution"
   },
   {
    "id": "400631b61add45a88cc5f243b7b70d7d",
    "time": "2021-01-23T03:35:30.582Z",
    "type": "completion"
   },
   {
    "code": "np.random.seed(42)\nfive_non_prime()",
    "id": "400631b61add45a88cc5f243b7b70d7d",
    "idx": 62,
    "time": "2021-01-23T03:35:32.195Z",
    "type": "execution"
   },
   {
    "id": "400631b61add45a88cc5f243b7b70d7d",
    "time": "2021-01-23T03:35:32.254Z",
    "type": "completion"
   },
   {
    "code": "np.random.seed(42)\nfive_non_prime()",
    "id": "400631b61add45a88cc5f243b7b70d7d",
    "idx": 62,
    "time": "2021-01-23T03:35:32.961Z",
    "type": "execution"
   },
   {
    "id": "400631b61add45a88cc5f243b7b70d7d",
    "time": "2021-01-23T03:35:33.014Z",
    "type": "completion"
   },
   {
    "code": "np.random.seed(42)\nfive_non_prime()",
    "id": "400631b61add45a88cc5f243b7b70d7d",
    "idx": 62,
    "time": "2021-01-23T03:35:33.734Z",
    "type": "execution"
   },
   {
    "id": "400631b61add45a88cc5f243b7b70d7d",
    "time": "2021-01-23T03:35:33.808Z",
    "type": "completion"
   },
   {
    "code": "np.random.seed(42)\nfive_non_prime()",
    "id": "400631b61add45a88cc5f243b7b70d7d",
    "idx": 62,
    "time": "2021-01-23T03:35:34.539Z",
    "type": "execution"
   },
   {
    "id": "400631b61add45a88cc5f243b7b70d7d",
    "time": "2021-01-23T03:35:34.602Z",
    "type": "completion"
   },
   {
    "code": "np.random.seed(45)\nfive_non_prime()",
    "id": "400631b61add45a88cc5f243b7b70d7d",
    "idx": 62,
    "time": "2021-01-23T03:35:36.092Z",
    "type": "execution"
   },
   {
    "id": "400631b61add45a88cc5f243b7b70d7d",
    "time": "2021-01-23T03:35:36.157Z",
    "type": "completion"
   },
   {
    "code": "np.random.seed(45)\nfive_non_prime()",
    "id": "400631b61add45a88cc5f243b7b70d7d",
    "idx": 62,
    "time": "2021-01-23T03:35:37.523Z",
    "type": "execution"
   },
   {
    "id": "400631b61add45a88cc5f243b7b70d7d",
    "time": "2021-01-23T03:35:37.636Z",
    "type": "completion"
   },
   {
    "code": "np.random.seed(45)\nfive_non_prime()",
    "id": "400631b61add45a88cc5f243b7b70d7d",
    "idx": 62,
    "time": "2021-01-23T03:35:38.532Z",
    "type": "execution"
   },
   {
    "id": "400631b61add45a88cc5f243b7b70d7d",
    "time": "2021-01-23T03:35:38.593Z",
    "type": "completion"
   },
   {
    "code": "is_prime(5)",
    "id": "fea437d5582f4f1c8e48b26d7e8f0a05",
    "idx": 62,
    "time": "2021-01-23T03:36:29.085Z",
    "type": "execution"
   },
   {
    "id": "fea437d5582f4f1c8e48b26d7e8f0a05",
    "time": "2021-01-23T03:36:29.142Z",
    "type": "completion"
   },
   {
    "code": "print(5, is_prime(5))\nprint(14, is_prime(14))",
    "id": "fea437d5582f4f1c8e48b26d7e8f0a05",
    "idx": 62,
    "time": "2021-01-23T03:36:42.449Z",
    "type": "execution"
   },
   {
    "id": "fea437d5582f4f1c8e48b26d7e8f0a05",
    "time": "2021-01-23T03:36:42.510Z",
    "type": "completion"
   },
   {
    "code": "char",
    "id": "a13cc46ef6bf45b8bc5709a6fdc763d0",
    "idx": 50,
    "time": "2021-01-23T03:41:37.656Z",
    "type": "execution"
   },
   {
    "id": "a13cc46ef6bf45b8bc5709a6fdc763d0",
    "time": "2021-01-23T03:41:37.729Z",
    "type": "completion"
   },
   {
    "code": "'hello'.find?",
    "id": "5ab694ba300f45b985c7e570573cde95",
    "idx": 50,
    "time": "2021-01-23T03:41:53.513Z",
    "type": "execution"
   },
   {
    "id": "5ab694ba300f45b985c7e570573cde95",
    "time": "2021-01-23T03:41:53.575Z",
    "type": "completion"
   },
   {
    "code": "'hello'.find('l')",
    "id": "5ab694ba300f45b985c7e570573cde95",
    "idx": 50,
    "time": "2021-01-23T03:41:57.392Z",
    "type": "execution"
   },
   {
    "id": "5ab694ba300f45b985c7e570573cde95",
    "time": "2021-01-23T03:41:57.453Z",
    "type": "completion"
   },
   {
    "code": "'hello'.find('o')",
    "id": "5ab694ba300f45b985c7e570573cde95",
    "idx": 50,
    "time": "2021-01-23T03:42:00.771Z",
    "type": "execution"
   },
   {
    "id": "5ab694ba300f45b985c7e570573cde95",
    "time": "2021-01-23T03:42:00.828Z",
    "type": "completion"
   },
   {
    "code": "def extract(s, char):\n    if s.count(char) != 2:\n        return None\n    \n    pos1 = s.index('char')\n    pos2 = s.rfind('char')\n    return s[pos1 + 1 : pos2]",
    "id": "ed747f8843d845c28c8ea373c565eb4a",
    "idx": 53,
    "time": "2021-01-23T03:43:02.928Z",
    "type": "execution"
   },
   {
    "id": "ed747f8843d845c28c8ea373c565eb4a",
    "time": "2021-01-23T03:43:03.007Z",
    "type": "completion"
   },
   {
    "code": "extract('510-642-1000','-')",
    "id": "c2808b23bff144eda6e093f44cee90f6",
    "idx": 54,
    "time": "2021-01-23T03:43:16.189Z",
    "type": "execution"
   },
   {
    "id": "c2808b23bff144eda6e093f44cee90f6",
    "time": "2021-01-23T03:43:16.269Z",
    "type": "completion"
   },
   {
    "code": "def extract(s, char):\n    if s.count(char) != 2:\n        return None\n    \n    pos1 = s.index(char)\n    pos2 = s.rfind(char)\n    return s[pos1 + 1 : pos2]",
    "id": "ed747f8843d845c28c8ea373c565eb4a",
    "idx": 53,
    "time": "2021-01-23T03:43:31.365Z",
    "type": "execution"
   },
   {
    "id": "ed747f8843d845c28c8ea373c565eb4a",
    "time": "2021-01-23T03:43:31.425Z",
    "type": "completion"
   },
   {
    "code": "extract('510-642-1000','-')",
    "id": "c2808b23bff144eda6e093f44cee90f6",
    "idx": 54,
    "time": "2021-01-23T03:43:31.678Z",
    "type": "execution"
   },
   {
    "id": "c2808b23bff144eda6e093f44cee90f6",
    "time": "2021-01-23T03:43:31.731Z",
    "type": "completion"
   },
   {
    "code": "extract('510-', '-')",
    "id": "3bd2ecf9f2724baf828e15e9fa4a0267",
    "idx": 55,
    "time": "2021-01-23T03:43:50.051Z",
    "type": "execution"
   },
   {
    "id": "3bd2ecf9f2724baf828e15e9fa4a0267",
    "time": "2021-01-23T03:43:50.112Z",
    "type": "completion"
   },
   {
    "code": "extract('510-', '-') == None",
    "id": "3bd2ecf9f2724baf828e15e9fa4a0267",
    "idx": 55,
    "time": "2021-01-23T03:43:52.157Z",
    "type": "execution"
   },
   {
    "id": "3bd2ecf9f2724baf828e15e9fa4a0267",
    "time": "2021-01-23T03:43:52.237Z",
    "type": "completion"
   },
   {
    "code": "def extract(s, char):\n    if s.count(char) != 2:\n        return ''\n    \n    pos1 = s.index(char)\n    pos2 = s.rfind(char)\n    return s[pos1 + 1 : pos2]",
    "id": "ed747f8843d845c28c8ea373c565eb4a",
    "idx": 53,
    "time": "2021-01-23T03:44:03.362Z",
    "type": "execution"
   },
   {
    "id": "ed747f8843d845c28c8ea373c565eb4a",
    "time": "2021-01-23T03:44:03.453Z",
    "type": "completion"
   },
   {
    "code": "extract('510-642-1000','-')",
    "id": "c2808b23bff144eda6e093f44cee90f6",
    "idx": 54,
    "time": "2021-01-23T03:44:03.906Z",
    "type": "execution"
   },
   {
    "id": "c2808b23bff144eda6e093f44cee90f6",
    "time": "2021-01-23T03:44:03.963Z",
    "type": "completion"
   },
   {
    "code": "extract('510-', '-') == None",
    "id": "3bd2ecf9f2724baf828e15e9fa4a0267",
    "idx": 55,
    "time": "2021-01-23T03:44:04.294Z",
    "type": "execution"
   },
   {
    "id": "3bd2ecf9f2724baf828e15e9fa4a0267",
    "time": "2021-01-23T03:44:04.358Z",
    "type": "completion"
   },
   {
    "code": "extract('510-', '-') == ''",
    "id": "3bd2ecf9f2724baf828e15e9fa4a0267",
    "idx": 55,
    "time": "2021-01-23T03:44:06.966Z",
    "type": "execution"
   },
   {
    "id": "3bd2ecf9f2724baf828e15e9fa4a0267",
    "time": "2021-01-23T03:44:07.019Z",
    "type": "completion"
   },
   {
    "code": "# TEST\nextract('hey,there,mynameis', ',') == 'there'",
    "id": "3722e0af0aff485b944289f3cc17248e",
    "idx": 56,
    "time": "2021-01-23T03:44:44.128Z",
    "type": "execution"
   },
   {
    "id": "3722e0af0aff485b944289f3cc17248e",
    "time": "2021-01-23T03:44:44.199Z",
    "type": "completion"
   },
   {
    "code": "def extract(s, char):\n    # Check for the number of occurrences of char here\n    # BEGIN SOLUTION\n    if s.count(char) != 2:\n        return ''\n    # END SOLUTION\n    \n    pos1 = s.index(char) # SOLUTION\n    pos2 = s.rfind(char) # SOLUTION\n    return s[pos1 + 1 : pos2] # SOLUTION",
    "id": "ed747f8843d845c28c8ea373c565eb4a",
    "idx": 50,
    "time": "2021-01-23T03:49:05.812Z",
    "type": "execution"
   },
   {
    "id": "ed747f8843d845c28c8ea373c565eb4a",
    "time": "2021-01-23T03:49:05.909Z",
    "type": "completion"
   },
   {
    "code": "# TEST\nextract('510-642-1000','-')",
    "id": "c2808b23bff144eda6e093f44cee90f6",
    "idx": 51,
    "time": "2021-01-23T03:49:07.279Z",
    "type": "execution"
   },
   {
    "id": "c2808b23bff144eda6e093f44cee90f6",
    "time": "2021-01-23T03:49:07.359Z",
    "type": "completion"
   },
   {
    "code": "# TEST\nextract('510-', '-') == ''",
    "id": "3bd2ecf9f2724baf828e15e9fa4a0267",
    "idx": 52,
    "time": "2021-01-23T03:49:07.466Z",
    "type": "execution"
   },
   {
    "id": "3bd2ecf9f2724baf828e15e9fa4a0267",
    "time": "2021-01-23T03:49:07.529Z",
    "type": "completion"
   },
   {
    "code": "# TEST\nextract('hey,there,mynameis', ',') == 'there'",
    "id": "3722e0af0aff485b944289f3cc17248e",
    "idx": 53,
    "time": "2021-01-23T03:49:07.710Z",
    "type": "execution"
   },
   {
    "id": "3722e0af0aff485b944289f3cc17248e",
    "time": "2021-01-23T03:49:07.763Z",
    "type": "completion"
   },
   {
    "code": "# TEST\nextract('510-642-1000','-') == '642'",
    "id": "c2808b23bff144eda6e093f44cee90f6",
    "idx": 51,
    "time": "2021-01-23T03:49:17.033Z",
    "type": "execution"
   },
   {
    "id": "c2808b23bff144eda6e093f44cee90f6",
    "time": "2021-01-23T03:49:17.093Z",
    "type": "completion"
   },
   {
    "code": "# TEST\nextract('510-', '-') == ''",
    "id": "3bd2ecf9f2724baf828e15e9fa4a0267",
    "idx": 52,
    "time": "2021-01-23T03:49:17.671Z",
    "type": "execution"
   },
   {
    "id": "3bd2ecf9f2724baf828e15e9fa4a0267",
    "time": "2021-01-23T03:49:17.736Z",
    "type": "completion"
   },
   {
    "code": "# TEST\nextract('hey,there,mynameis', ',') == 'there'",
    "id": "3722e0af0aff485b944289f3cc17248e",
    "idx": 53,
    "time": "2021-01-23T03:49:17.878Z",
    "type": "execution"
   },
   {
    "id": "3722e0af0aff485b944289f3cc17248e",
    "time": "2021-01-23T03:49:17.932Z",
    "type": "completion"
   },
   {
    "code": "def pump(base, rep):\n    first = base[0]\n    last = base[-1]\n    middle = base[1:-1]\n    middle_repeated = middle * rep\n    return first + middle_repeated + last",
    "id": "2914174ec1a24c599b0ec2b7d0a11e9b",
    "idx": 55,
    "time": "2021-01-23T03:52:54.685Z",
    "type": "execution"
   },
   {
    "id": "2914174ec1a24c599b0ec2b7d0a11e9b",
    "time": "2021-01-23T03:52:54.752Z",
    "type": "completion"
   },
   {
    "code": "pump('zebra', 4)",
    "id": "279a1a8c71264f7989123f95d05a6971",
    "idx": 56,
    "time": "2021-01-23T03:52:59.046Z",
    "type": "execution"
   },
   {
    "id": "279a1a8c71264f7989123f95d05a6971",
    "time": "2021-01-23T03:52:59.113Z",
    "type": "completion"
   },
   {
    "code": "# TEST\npump('zebra', 4) == 'zebrebrebrebra'",
    "id": "279a1a8c71264f7989123f95d05a6971",
    "idx": 56,
    "time": "2021-01-23T03:53:14.852Z",
    "type": "execution"
   },
   {
    "id": "279a1a8c71264f7989123f95d05a6971",
    "time": "2021-01-23T03:53:14.912Z",
    "type": "completion"
   },
   {
    "code": "# TEST\npump('hello', 1) == 'zebrebrebrebra'",
    "id": "14dfa9c5ccdc4aeb9d84d21d20dcadba",
    "idx": 57,
    "time": "2021-01-23T03:53:20.795Z",
    "type": "execution"
   },
   {
    "id": "14dfa9c5ccdc4aeb9d84d21d20dcadba",
    "time": "2021-01-23T03:53:20.859Z",
    "type": "completion"
   },
   {
    "code": "# TEST\npump('hello', 1) == 'hello'",
    "id": "14dfa9c5ccdc4aeb9d84d21d20dcadba",
    "idx": 57,
    "time": "2021-01-23T03:53:24.711Z",
    "type": "execution"
   },
   {
    "id": "14dfa9c5ccdc4aeb9d84d21d20dcadba",
    "time": "2021-01-23T03:53:24.767Z",
    "type": "completion"
   },
   {
    "code": "# TEST\npump('berkeley', 15)",
    "id": "5b3be0abb6d140e8883ac8c84563013c",
    "idx": 58,
    "time": "2021-01-23T03:53:32.756Z",
    "type": "execution"
   },
   {
    "id": "5b3be0abb6d140e8883ac8c84563013c",
    "time": "2021-01-23T03:53:32.822Z",
    "type": "completion"
   },
   {
    "code": "# TEST\npump('berkeley', 15).count('leer')",
    "id": "5b3be0abb6d140e8883ac8c84563013c",
    "idx": 58,
    "time": "2021-01-23T03:53:39.348Z",
    "type": "execution"
   },
   {
    "id": "5b3be0abb6d140e8883ac8c84563013c",
    "time": "2021-01-23T03:53:39.417Z",
    "type": "completion"
   },
   {
    "code": "# TEST\npump('berkeley', 15).count('erkel')",
    "id": "5b3be0abb6d140e8883ac8c84563013c",
    "idx": 58,
    "time": "2021-01-23T03:53:45.588Z",
    "type": "execution"
   },
   {
    "id": "5b3be0abb6d140e8883ac8c84563013c",
    "time": "2021-01-23T03:53:45.652Z",
    "type": "completion"
   },
   {
    "code": "# TEST\npump('berkeley', 15).count('erkel') == 15",
    "id": "5b3be0abb6d140e8883ac8c84563013c",
    "idx": 58,
    "time": "2021-01-23T03:53:51.662Z",
    "type": "execution"
   },
   {
    "id": "5b3be0abb6d140e8883ac8c84563013c",
    "time": "2021-01-23T03:53:51.722Z",
    "type": "completion"
   },
   {
    "code": "# TEST\npump('california')",
    "id": "7387efc4ec244f2ab8ab985d629494d1",
    "idx": 59,
    "time": "2021-01-23T03:53:58.162Z",
    "type": "execution"
   },
   {
    "id": "7387efc4ec244f2ab8ab985d629494d1",
    "time": "2021-01-23T03:53:58.239Z",
    "type": "completion"
   },
   {
    "code": "# TEST\npump('california', 5)",
    "id": "7387efc4ec244f2ab8ab985d629494d1",
    "idx": 59,
    "time": "2021-01-23T03:54:00.702Z",
    "type": "execution"
   },
   {
    "id": "7387efc4ec244f2ab8ab985d629494d1",
    "time": "2021-01-23T03:54:00.762Z",
    "type": "completion"
   },
   {
    "code": "# TEST\npump('california', 5) == 'californialifornialifornialifornialifornia'",
    "id": "7387efc4ec244f2ab8ab985d629494d1",
    "idx": 59,
    "time": "2021-01-23T03:54:05.241Z",
    "type": "execution"
   },
   {
    "id": "7387efc4ec244f2ab8ab985d629494d1",
    "time": "2021-01-23T03:54:05.303Z",
    "type": "completion"
   },
   {
    "code": "def pump(base, rep):\n    first = base[0] # SOLUTION\n    last = base[-1]\n    middle = base[1:-1] # SOLUTION\n    middle_repeated = middle * rep # SOLUTION\n    output = first + middle_repeated + last # SOLUTION\n    return output",
    "id": "2914174ec1a24c599b0ec2b7d0a11e9b",
    "idx": 55,
    "time": "2021-01-23T03:54:49.304Z",
    "type": "execution"
   },
   {
    "id": "2914174ec1a24c599b0ec2b7d0a11e9b",
    "time": "2021-01-23T03:54:49.383Z",
    "type": "completion"
   },
   {
    "code": "# TEST\npump('zebra', 4) == 'zebrebrebrebra'",
    "id": "279a1a8c71264f7989123f95d05a6971",
    "idx": 56,
    "time": "2021-01-23T03:54:49.584Z",
    "type": "execution"
   },
   {
    "id": "279a1a8c71264f7989123f95d05a6971",
    "time": "2021-01-23T03:54:49.636Z",
    "type": "completion"
   },
   {
    "code": "basket = ['suraj', 15, 'isaac', 9, 'angela', 19]",
    "id": "55979173cb0a4edd8a3d9f1801e4eda1",
    "idx": 61,
    "time": "2021-01-23T03:57:20.674Z",
    "type": "execution"
   },
   {
    "id": "55979173cb0a4edd8a3d9f1801e4eda1",
    "time": "2021-01-23T03:57:20.764Z",
    "type": "completion"
   },
   {
    "code": "def big_spenders(tips):\n    i = 0\n    names = []\n    while i <= len(tips):\n        if tips[i + 1] > 10:\n            names.append(tips[i])\n        i += 2\n    return basket",
    "id": "1501b729966b4bcd95eb5f235a0b7b7d",
    "idx": 62,
    "time": "2021-01-23T03:58:38.906Z",
    "type": "execution"
   },
   {
    "id": "1501b729966b4bcd95eb5f235a0b7b7d",
    "time": "2021-01-23T03:58:38.998Z",
    "type": "completion"
   },
   {
    "code": "big_spenders(basket)",
    "id": "a981fdd8934943edaba0e110ae17d598",
    "idx": 63,
    "time": "2021-01-23T03:58:42.932Z",
    "type": "execution"
   },
   {
    "id": "a981fdd8934943edaba0e110ae17d598",
    "time": "2021-01-23T03:58:43.014Z",
    "type": "completion"
   },
   {
    "code": "def big_spenders(tips):\n    i = 0\n    names = []\n    while i < len(tips):\n        if tips[i + 1] > 10:\n            names.append(tips[i])\n        i += 2\n    return basket",
    "id": "1501b729966b4bcd95eb5f235a0b7b7d",
    "idx": 62,
    "time": "2021-01-23T03:58:46.780Z",
    "type": "execution"
   },
   {
    "id": "1501b729966b4bcd95eb5f235a0b7b7d",
    "time": "2021-01-23T03:58:46.841Z",
    "type": "completion"
   },
   {
    "code": "big_spenders(basket)",
    "id": "a981fdd8934943edaba0e110ae17d598",
    "idx": 63,
    "time": "2021-01-23T03:58:47.051Z",
    "type": "execution"
   },
   {
    "id": "a981fdd8934943edaba0e110ae17d598",
    "time": "2021-01-23T03:58:47.108Z",
    "type": "completion"
   },
   {
    "code": "def big_spenders(tips):\n    i = 0\n    names = []\n    while i < len(tips):\n        print(tips[i + 1])\n        if tips[i + 1] > 10:\n            names.append(tips[i])\n        i += 2\n    return basket",
    "id": "1501b729966b4bcd95eb5f235a0b7b7d",
    "idx": 62,
    "time": "2021-01-23T03:59:14.165Z",
    "type": "execution"
   },
   {
    "id": "1501b729966b4bcd95eb5f235a0b7b7d",
    "time": "2021-01-23T03:59:14.224Z",
    "type": "completion"
   },
   {
    "code": "big_spenders(basket)",
    "id": "a981fdd8934943edaba0e110ae17d598",
    "idx": 63,
    "time": "2021-01-23T03:59:14.791Z",
    "type": "execution"
   },
   {
    "id": "a981fdd8934943edaba0e110ae17d598",
    "time": "2021-01-23T03:59:14.845Z",
    "type": "completion"
   },
   {
    "code": "def big_spenders(tips):\n    i = 0\n    names = []\n    while i < len(tips):\n        if tips[i + 1] > 10:\n            names.append(tips[i])\n        i += 2\n    return names",
    "id": "1501b729966b4bcd95eb5f235a0b7b7d",
    "idx": 62,
    "time": "2021-01-23T03:59:24.013Z",
    "type": "execution"
   },
   {
    "id": "1501b729966b4bcd95eb5f235a0b7b7d",
    "time": "2021-01-23T03:59:24.073Z",
    "type": "completion"
   },
   {
    "code": "big_spenders(basket)",
    "id": "a981fdd8934943edaba0e110ae17d598",
    "idx": 63,
    "time": "2021-01-23T03:59:24.410Z",
    "type": "execution"
   },
   {
    "id": "a981fdd8934943edaba0e110ae17d598",
    "time": "2021-01-23T03:59:24.474Z",
    "type": "completion"
   },
   {
    "code": "basketr",
    "id": "2dd1c941d97549a587e890e64ba6952b",
    "idx": 61,
    "time": "2021-01-23T04:03:44.486Z",
    "type": "execution"
   },
   {
    "id": "2dd1c941d97549a587e890e64ba6952b",
    "time": "2021-01-23T04:03:44.569Z",
    "type": "completion"
   },
   {
    "code": "basket",
    "id": "2dd1c941d97549a587e890e64ba6952b",
    "idx": 61,
    "time": "2021-01-23T04:03:45.692Z",
    "type": "execution"
   },
   {
    "id": "2dd1c941d97549a587e890e64ba6952b",
    "time": "2021-01-23T04:03:45.748Z",
    "type": "completion"
   },
   {
    "code": "basket[1:-1:2]",
    "id": "2dd1c941d97549a587e890e64ba6952b",
    "idx": 61,
    "time": "2021-01-23T04:03:51.369Z",
    "type": "execution"
   },
   {
    "id": "2dd1c941d97549a587e890e64ba6952b",
    "time": "2021-01-23T04:03:51.426Z",
    "type": "completion"
   },
   {
    "code": "basket[1::2]",
    "id": "2dd1c941d97549a587e890e64ba6952b",
    "idx": 61,
    "time": "2021-01-23T04:03:55.081Z",
    "type": "execution"
   },
   {
    "id": "2dd1c941d97549a587e890e64ba6952b",
    "time": "2021-01-23T04:03:55.135Z",
    "type": "completion"
   },
   {
    "code": "def big_tippers(tips):\n    i = 0\n    total_tips = 0\n    \n    while i <= len(tips):\n        total_tips += tips[i]\n        \n    average_tip = total_tips / len(tips)\n    \n    \n    i = 0\n    names = []\n    while i < len(tips):\n        if tips[i + 1] > average_tip:\n            names.append(tips[i])\n        i += 2\n    return names",
    "id": "1501b729966b4bcd95eb5f235a0b7b7d",
    "idx": 62,
    "time": "2021-01-23T04:08:05.204Z",
    "type": "execution"
   },
   {
    "id": "1501b729966b4bcd95eb5f235a0b7b7d",
    "time": "2021-01-23T04:08:05.282Z",
    "type": "completion"
   },
   {
    "code": "big_spenders(basket)",
    "id": "a981fdd8934943edaba0e110ae17d598",
    "idx": 63,
    "time": "2021-01-23T04:08:05.545Z",
    "type": "execution"
   },
   {
    "id": "a981fdd8934943edaba0e110ae17d598",
    "time": "2021-01-23T04:08:05.734Z",
    "type": "completion"
   },
   {
    "code": "big_spenders(['lisa', 10000, 'sarah', 5, 'marco', 250])",
    "id": "a981fdd8934943edaba0e110ae17d598",
    "idx": 63,
    "time": "2021-01-23T04:08:30.870Z",
    "type": "execution"
   },
   {
    "id": "a981fdd8934943edaba0e110ae17d598",
    "time": "2021-01-23T04:08:30.942Z",
    "type": "completion"
   },
   {
    "code": "def big_tippers(tips):\n    i = 0\n    total_tips = 0\n    \n    while i <= len(tips):\n        total_tips += tips[i]\n        \n    average_tip = total_tips / len(tips)\n    \n    \n    i = 0\n    names = []\n    while i < len(tips):\n        if tips[i + 1] > average_tip:\n            names.append(tips[i])\n        i += 2\n    return names",
    "id": "1501b729966b4bcd95eb5f235a0b7b7d",
    "idx": 62,
    "time": "2021-01-23T04:08:35.795Z",
    "type": "execution"
   },
   {
    "id": "1501b729966b4bcd95eb5f235a0b7b7d",
    "time": "2021-01-23T04:08:35.872Z",
    "type": "completion"
   },
   {
    "code": "big_spenders(['lisa', 10000, 'sarah', 5, 'marco', 250])",
    "id": "a981fdd8934943edaba0e110ae17d598",
    "idx": 63,
    "time": "2021-01-23T04:08:36.861Z",
    "type": "execution"
   },
   {
    "id": "a981fdd8934943edaba0e110ae17d598",
    "time": "2021-01-23T04:08:36.917Z",
    "type": "completion"
   },
   {
    "code": "sum(['lisa', 10000, 'sarah', 5, 'marco', 250])",
    "id": "a981fdd8934943edaba0e110ae17d598",
    "idx": 63,
    "time": "2021-01-23T04:09:24.031Z",
    "type": "execution"
   },
   {
    "id": "a981fdd8934943edaba0e110ae17d598",
    "time": "2021-01-23T04:09:24.121Z",
    "type": "completion"
   },
   {
    "code": "big_tippers(['lisa', 10000, 'sarah', 5, 'marco', 250])",
    "id": "a981fdd8934943edaba0e110ae17d598",
    "idx": 63,
    "time": "2021-01-23T04:09:27.879Z",
    "type": "execution"
   },
   {
    "id": "a981fdd8934943edaba0e110ae17d598",
    "time": "2021-01-23T04:09:27.963Z",
    "type": "completion"
   },
   {
    "code": "def big_tippers(tips):\n    i = 0\n    total_tips = 0\n    \n    while i <= len(tips):\n        total_tips += tips[i]\n        \n    average_tip = total_tips / len(tips)\n    \n    \n    i = 0\n    names = []\n    while i < len(tips):\n        if tips[i + 1] > average_tip:\n            names.append(tips[i])\n        i += 2\n    return names",
    "id": "1501b729966b4bcd95eb5f235a0b7b7d",
    "idx": 62,
    "time": "2021-01-23T04:09:31.667Z",
    "type": "execution"
   },
   {
    "id": "1501b729966b4bcd95eb5f235a0b7b7d",
    "time": "2021-01-23T04:09:31.748Z",
    "type": "completion"
   },
   {
    "code": "big_tippers(['lisa', 10000, 'sarah', 5, 'marco', 250])",
    "id": "a981fdd8934943edaba0e110ae17d598",
    "idx": 63,
    "time": "2021-01-23T04:09:31.972Z",
    "type": "execution"
   },
   {
    "id": "a981fdd8934943edaba0e110ae17d598",
    "time": "2021-01-23T04:09:32.076Z",
    "type": "completion"
   },
   {
    "code": "def big_tippers(tips):\n    i = 0\n    total_tips = 0\n    \n    while i < len(tips):\n        total_tips += tips[i]\n        i += 2\n        \n    average_tip = total_tips / len(tips)\n    \n    \n    i = 0\n    names = []\n    while i < len(tips):\n        if tips[i + 1] > average_tip:\n            names.append(tips[i])\n        i += 2\n    return names",
    "id": "1501b729966b4bcd95eb5f235a0b7b7d",
    "idx": 62,
    "time": "2021-01-23T04:09:46.941Z",
    "type": "execution"
   },
   {
    "id": "1501b729966b4bcd95eb5f235a0b7b7d",
    "time": "2021-01-23T04:09:47.009Z",
    "type": "completion"
   },
   {
    "code": "big_tippers(['lisa', 10000, 'sarah', 5, 'marco', 250])",
    "id": "a981fdd8934943edaba0e110ae17d598",
    "idx": 63,
    "time": "2021-01-23T04:09:47.527Z",
    "type": "execution"
   },
   {
    "id": "a981fdd8934943edaba0e110ae17d598",
    "time": "2021-01-23T04:09:47.608Z",
    "type": "completion"
   },
   {
    "code": "def big_tippers(tips):\n    i = 1\n    total_tips = 0\n    while i < len(tips):\n        total_tips += tips[i]\n        i += 2\n        \n    average_tip = total_tips / len(tips)\n    \n    \n    i = 0\n    names = []\n    while i < len(tips):\n        if tips[i + 1] > average_tip:\n            names.append(tips[i])\n        i += 2\n    return names",
    "id": "1501b729966b4bcd95eb5f235a0b7b7d",
    "idx": 62,
    "time": "2021-01-23T04:09:57.547Z",
    "type": "execution"
   },
   {
    "id": "1501b729966b4bcd95eb5f235a0b7b7d",
    "time": "2021-01-23T04:09:57.619Z",
    "type": "completion"
   },
   {
    "code": "big_tippers(['lisa', 10000, 'sarah', 5, 'marco', 250])",
    "id": "a981fdd8934943edaba0e110ae17d598",
    "idx": 63,
    "time": "2021-01-23T04:09:57.775Z",
    "type": "execution"
   },
   {
    "id": "a981fdd8934943edaba0e110ae17d598",
    "time": "2021-01-23T04:09:57.831Z",
    "type": "completion"
   },
   {
    "code": "big_tippers(['lisa', 10000, 'sarah', 5, 'marco', 2500000])",
    "id": "a981fdd8934943edaba0e110ae17d598",
    "idx": 63,
    "time": "2021-01-23T04:10:04.030Z",
    "type": "execution"
   },
   {
    "id": "a981fdd8934943edaba0e110ae17d598",
    "time": "2021-01-23T04:10:04.103Z",
    "type": "completion"
   },
   {
    "code": "def big_tippers(tips):\n    i = 1\n    total_tips = 0\n    while i < len(tips):\n        total_tips += tips[i]\n        i += 2\n        \n    average_tip = total_tips / len(tips)\n    \n    \n    i = 0\n    names = []\n    while i < len(tips):\n        if tips[i + 1] > average_tip:\n            names.append(tips[i])\n        i += 2\n    return names",
    "id": "1501b729966b4bcd95eb5f235a0b7b7d",
    "idx": 62,
    "time": "2021-01-23T04:10:06.119Z",
    "type": "execution"
   },
   {
    "id": "1501b729966b4bcd95eb5f235a0b7b7d",
    "time": "2021-01-23T04:10:06.187Z",
    "type": "completion"
   },
   {
    "code": "big_tippers(['lisa', 10000, 'sarah', 5, 'marco', 2500000])",
    "id": "a981fdd8934943edaba0e110ae17d598",
    "idx": 63,
    "time": "2021-01-23T04:10:06.340Z",
    "type": "execution"
   },
   {
    "id": "a981fdd8934943edaba0e110ae17d598",
    "time": "2021-01-23T04:10:06.399Z",
    "type": "completion"
   },
   {
    "code": "big_tippers(['lisa', 10000, 'sarah', 5, 'marco', 250000])",
    "id": "a981fdd8934943edaba0e110ae17d598",
    "idx": 63,
    "time": "2021-01-23T04:10:09.355Z",
    "type": "execution"
   },
   {
    "id": "a981fdd8934943edaba0e110ae17d598",
    "time": "2021-01-23T04:10:09.431Z",
    "type": "completion"
   },
   {
    "code": "def big_tippers(tips):\n    i = 1\n    total_tips = 0\n    # Hint: Use a while loop here\n    # BEGIN SOLUTION\n    while i < len(tips):\n        total_tips += tips[i]\n        i += 2\n    # END SOLUTION\n    average_tip = total_tips / len(tips)\n    \n    \n    i = 0\n    names = []\n    while i < len(tips):\n        if tips[i + 1] > average_tip:\n            names.append(tips[i])\n        i += 2\n    return names",
    "id": "1501b729966b4bcd95eb5f235a0b7b7d",
    "idx": 62,
    "time": "2021-01-23T04:10:58.295Z",
    "type": "execution"
   },
   {
    "id": "1501b729966b4bcd95eb5f235a0b7b7d",
    "time": "2021-01-23T04:10:58.386Z",
    "type": "completion"
   },
   {
    "code": "def big_tippers(tips):\n    i = 1\n    total_tips = 0\n    # Hint: Use a while loop here\n    # BEGIN SOLUTION\n    while i < len(tips):\n        total_tips += tips[i]\n        i += 2\n    # END SOLUTION\n    average_tip = total_tips / len(tips)\n    \n    i = 1\n    names = []\n    # Hint: Use a second while loop here\n    # BEGIN SOLUTION\n    while i < len(tips):\n        if tips[i] > average_tip:\n            names.append(tips[i])\n        i += 2\n    # END SOLUTION\n\n    return names",
    "id": "1501b729966b4bcd95eb5f235a0b7b7d",
    "idx": 62,
    "time": "2021-01-23T04:11:48.614Z",
    "type": "execution"
   },
   {
    "id": "1501b729966b4bcd95eb5f235a0b7b7d",
    "time": "2021-01-23T04:11:48.675Z",
    "type": "completion"
   },
   {
    "code": "big_tippers(['lisa', 10000, 'sarah', 5, 'marco', 250000])",
    "id": "a981fdd8934943edaba0e110ae17d598",
    "idx": 63,
    "time": "2021-01-23T04:11:49.043Z",
    "type": "execution"
   },
   {
    "id": "a981fdd8934943edaba0e110ae17d598",
    "time": "2021-01-23T04:11:49.112Z",
    "type": "completion"
   },
   {
    "code": "def big_tippers(tips):\n    i = 1\n    total_tips = 0\n    # Hint: Use a while loop here\n    # BEGIN SOLUTION\n    while i < len(tips):\n        total_tips += tips[i]\n        i += 2\n    # END SOLUTION\n    average_tip = total_tips / len(tips)\n    \n    i = 0\n    names = []\n    # Hint: Use a second while loop here\n    # BEGIN SOLUTION\n    while i < len(tips):\n        if tips[i + 1] > average_tip:\n            names.append(tips[i])\n        i += 2\n    # END SOLUTION\n\n    return names",
    "id": "1501b729966b4bcd95eb5f235a0b7b7d",
    "idx": 62,
    "time": "2021-01-23T04:12:04.571Z",
    "type": "execution"
   },
   {
    "id": "1501b729966b4bcd95eb5f235a0b7b7d",
    "time": "2021-01-23T04:12:04.659Z",
    "type": "completion"
   },
   {
    "code": "big_tippers(['lisa', 10000, 'sarah', 5, 'marco', 250000])",
    "id": "a981fdd8934943edaba0e110ae17d598",
    "idx": 63,
    "time": "2021-01-23T04:12:04.981Z",
    "type": "execution"
   },
   {
    "id": "a981fdd8934943edaba0e110ae17d598",
    "time": "2021-01-23T04:12:05.035Z",
    "type": "completion"
   },
   {
    "code": "def big_tippers(tips):\n    i = 1\n    total_tips = 0\n    # Hint: Use a while loop here\n    # BEGIN SOLUTION\n    while i < len(tips):\n        total_tips += tips[i]\n        i += 2\n    # END SOLUTION\n    average_tip = total_tips / len(tips)\n    \n    i = 0 # Notice here we start at i = 0 instead of 1  why is that?\n    names = []\n    # Hint: Use a second while loop here\n    # BEGIN SOLUTION\n    while i < len(tips):\n        if tips[i + 1] > average_tip:\n            names.append(tips[i])\n        i += 2\n    # END SOLUTION\n\n    return names",
    "id": "1501b729966b4bcd95eb5f235a0b7b7d",
    "idx": 62,
    "time": "2021-01-23T04:12:19.299Z",
    "type": "execution"
   },
   {
    "id": "1501b729966b4bcd95eb5f235a0b7b7d",
    "time": "2021-01-23T04:12:19.361Z",
    "type": "completion"
   },
   {
    "code": "big_tippers(['lisa', 10000, 'sarah', 5, 'marco', 250000])",
    "id": "a981fdd8934943edaba0e110ae17d598",
    "idx": 63,
    "time": "2021-01-23T04:12:23.722Z",
    "type": "execution"
   },
   {
    "id": "a981fdd8934943edaba0e110ae17d598",
    "time": "2021-01-23T04:12:23.793Z",
    "type": "completion"
   },
   {
    "code": "def big_tippers(tips):\n    i = 1\n    total_tips = 0\n    # Hint: Use a while loop here\n    # BEGIN SOLUTION\n    while i < len(tips):\n        total_tips += tips[i]\n        i += 2\n    # END SOLUTION\n    average_tip = total_tips / len(tips)\n    \n    i = 0 # Notice here we start at i = 0 instead of 1  why is that?\n    names = []\n    # Hint: Use a second while loop here\n    # BEGIN SOLUTION\n    while i < len(tips):\n        if tips[i + 1] > average_tip:\n            names.append(tips[i])\n        i += 2\n    # END SOLUTION\n\n    return names",
    "id": "1501b729966b4bcd95eb5f235a0b7b7d",
    "idx": 61,
    "time": "2021-01-23T04:14:24.051Z",
    "type": "execution"
   },
   {
    "id": "1501b729966b4bcd95eb5f235a0b7b7d",
    "time": "2021-01-23T04:14:24.123Z",
    "type": "completion"
   },
   {
    "code": "big_tippers(['lisa', 10000, 'sarah', 5, 'marco', 250000])",
    "id": "a981fdd8934943edaba0e110ae17d598",
    "idx": 62,
    "time": "2021-01-23T04:14:25.701Z",
    "type": "execution"
   },
   {
    "id": "a981fdd8934943edaba0e110ae17d598",
    "time": "2021-01-23T04:14:25.770Z",
    "type": "completion"
   },
   {
    "code": "# TEST\nbig_tippers(['lisa', 10000, 'sarah', 5, 'marco', 250000]) == ['marco']",
    "id": "a981fdd8934943edaba0e110ae17d598",
    "idx": 62,
    "time": "2021-01-23T04:14:44.671Z",
    "type": "execution"
   },
   {
    "id": "a981fdd8934943edaba0e110ae17d598",
    "time": "2021-01-23T04:14:44.730Z",
    "type": "completion"
   },
   {
    "code": "# TEST\nbig_tippers(['suraj', 15, 'isaac', 9, 'angela', 19]) == ['suraj', 'angela']",
    "id": "fd0dc5cbe35c48f79fd8db2218148587",
    "idx": 63,
    "time": "2021-01-23T04:15:01.477Z",
    "type": "execution"
   },
   {
    "id": "fd0dc5cbe35c48f79fd8db2218148587",
    "time": "2021-01-23T04:15:01.590Z",
    "type": "completion"
   },
   {
    "code": "# TEST\nbig_tippers(['suraj', 15, 'isaac', 9, 'angela', 19])",
    "id": "fd0dc5cbe35c48f79fd8db2218148587",
    "idx": 63,
    "time": "2021-01-23T04:15:06.965Z",
    "type": "execution"
   },
   {
    "id": "fd0dc5cbe35c48f79fd8db2218148587",
    "time": "2021-01-23T04:15:07.025Z",
    "type": "completion"
   },
   {
    "code": "def big_tippers(tips):\n    i = 1\n    total_tips = 0\n    # Hint: Use a while loop here\n    # BEGIN SOLUTION\n    while i < len(tips):\n        total_tips += tips[i]\n        i += 2\n    # END SOLUTION\n    average_tip = total_tips / len(tips)\n    \n    i = 0 # Notice here we start at i = 0 instead of 1  why is that?\n    names = []\n    # Hint: Use a second while loop here\n    # BEGIN SOLUTION\n    while i < len(tips):\n        if tips[i + 1] > average_tip:\n            names.append(tips[i])\n        i += 2\n    # END SOLUTION\n\n    return names",
    "id": "1501b729966b4bcd95eb5f235a0b7b7d",
    "idx": 61,
    "time": "2021-01-23T04:15:12.791Z",
    "type": "execution"
   },
   {
    "id": "1501b729966b4bcd95eb5f235a0b7b7d",
    "time": "2021-01-23T04:15:12.851Z",
    "type": "completion"
   },
   {
    "code": "# TEST\nbig_tippers(['lisa', 10000, 'sarah', 5, 'marco', 250000]) == ['marco']",
    "id": "a981fdd8934943edaba0e110ae17d598",
    "idx": 62,
    "time": "2021-01-23T04:15:13.202Z",
    "type": "execution"
   },
   {
    "id": "a981fdd8934943edaba0e110ae17d598",
    "time": "2021-01-23T04:15:13.264Z",
    "type": "completion"
   },
   {
    "code": "# TEST\nbig_tippers(['suraj', 15, 'isaac', 9, 'angela', 19])",
    "id": "fd0dc5cbe35c48f79fd8db2218148587",
    "idx": 63,
    "time": "2021-01-23T04:15:14.730Z",
    "type": "execution"
   },
   {
    "id": "fd0dc5cbe35c48f79fd8db2218148587",
    "time": "2021-01-23T04:15:14.793Z",
    "type": "completion"
   },
   {
    "code": "def big_tippers(tips):\n    i = 1\n    total_tips = 0\n    # Hint: Use a while loop here\n    # BEGIN SOLUTION\n    while i < len(tips):\n        total_tips += tips[i]\n        i += 2\n    # END SOLUTION\n    average_tip = total_tips / len(tips)\n    print(average_tip)\n    \n    i = 0 # Notice here we start at i = 0 instead of 1  why is that?\n    names = []\n    # Hint: Use a second while loop here\n    # BEGIN SOLUTION\n    while i < len(tips):\n        if tips[i + 1] > average_tip:\n            names.append(tips[i])\n        i += 2\n    # END SOLUTION\n\n    return names",
    "id": "1501b729966b4bcd95eb5f235a0b7b7d",
    "idx": 61,
    "time": "2021-01-23T04:15:22.400Z",
    "type": "execution"
   },
   {
    "id": "1501b729966b4bcd95eb5f235a0b7b7d",
    "time": "2021-01-23T04:15:22.479Z",
    "type": "completion"
   },
   {
    "code": "# TEST\nbig_tippers(['lisa', 10000, 'sarah', 5, 'marco', 250000]) == ['marco']",
    "id": "a981fdd8934943edaba0e110ae17d598",
    "idx": 62,
    "time": "2021-01-23T04:15:22.678Z",
    "type": "execution"
   },
   {
    "id": "a981fdd8934943edaba0e110ae17d598",
    "time": "2021-01-23T04:15:22.732Z",
    "type": "completion"
   },
   {
    "code": "# TEST\nbig_tippers(['suraj', 15, 'isaac', 9, 'angela', 19])",
    "id": "fd0dc5cbe35c48f79fd8db2218148587",
    "idx": 63,
    "time": "2021-01-23T04:15:23.063Z",
    "type": "execution"
   },
   {
    "id": "fd0dc5cbe35c48f79fd8db2218148587",
    "time": "2021-01-23T04:15:23.119Z",
    "type": "completion"
   },
   {
    "code": "def big_tippers(tips):\n    i = 1\n    total_tips = 0\n    # Hint: Use a while loop here\n    # BEGIN SOLUTION\n    while i < len(tips):\n        total_tips += tips[i]\n        i += 2\n    # END SOLUTION\n    average_tip = total_tips / (len(tips) / 2)\n    print(average_tip)\n    \n    i = 0 # Notice here we start at i = 0 instead of 1  why is that?\n    names = []\n    # Hint: Use a second while loop here\n    # BEGIN SOLUTION\n    while i < len(tips):\n        if tips[i + 1] > average_tip:\n            names.append(tips[i])\n        i += 2\n    # END SOLUTION\n\n    return names",
    "id": "1501b729966b4bcd95eb5f235a0b7b7d",
    "idx": 61,
    "time": "2021-01-23T04:15:58.150Z",
    "type": "execution"
   },
   {
    "id": "1501b729966b4bcd95eb5f235a0b7b7d",
    "time": "2021-01-23T04:15:58.251Z",
    "type": "completion"
   },
   {
    "code": "# TEST\nbig_tippers(['lisa', 10000, 'sarah', 5, 'marco', 250000]) == ['marco']",
    "id": "a981fdd8934943edaba0e110ae17d598",
    "idx": 62,
    "time": "2021-01-23T04:15:58.573Z",
    "type": "execution"
   },
   {
    "id": "a981fdd8934943edaba0e110ae17d598",
    "time": "2021-01-23T04:15:58.634Z",
    "type": "completion"
   },
   {
    "code": "# TEST\nbig_tippers(['suraj', 15, 'isaac', 9, 'angela', 19])",
    "id": "fd0dc5cbe35c48f79fd8db2218148587",
    "idx": 63,
    "time": "2021-01-23T04:15:59.243Z",
    "type": "execution"
   },
   {
    "id": "fd0dc5cbe35c48f79fd8db2218148587",
    "time": "2021-01-23T04:15:59.314Z",
    "type": "completion"
   },
   {
    "code": "def big_tippers(tips):\n    i = 1\n    total_tips = 0\n    # Hint: Use a while loop here\n    # BEGIN SOLUTION\n    while i < len(tips):\n        total_tips += tips[i]\n        i += 2\n    # END SOLUTION\n    average_tip = total_tips / (len(tips) / 2)\n    print(average_tip)\n    \n    i = 0 # Notice here we start at i = 0 instead of 1  why is that?\n    names = []\n    # Hint: Use a second while loop here\n    # BEGIN SOLUTION\n    while i < len(tips):\n        if tips[i + 1] > average_tip:\n            names.append(tips[i])\n        i += 2\n    # END SOLUTION\n\n    return names",
    "id": "1501b729966b4bcd95eb5f235a0b7b7d",
    "idx": 61,
    "time": "2021-01-23T04:16:36.165Z",
    "type": "execution"
   },
   {
    "id": "1501b729966b4bcd95eb5f235a0b7b7d",
    "time": "2021-01-23T04:16:36.236Z",
    "type": "completion"
   },
   {
    "code": "# TEST\nbig_tippers(['lisa', 10000, 'sarah', 5, 'marco', 250000]) == ['marco']",
    "id": "a981fdd8934943edaba0e110ae17d598",
    "idx": 62,
    "time": "2021-01-23T04:16:36.718Z",
    "type": "execution"
   },
   {
    "id": "a981fdd8934943edaba0e110ae17d598",
    "time": "2021-01-23T04:16:36.775Z",
    "type": "completion"
   },
   {
    "code": "# TEST\nbig_tippers(['suraj', 15, 'isaac', 9, 'angela', 19])",
    "id": "fd0dc5cbe35c48f79fd8db2218148587",
    "idx": 63,
    "time": "2021-01-23T04:16:37.203Z",
    "type": "execution"
   },
   {
    "id": "fd0dc5cbe35c48f79fd8db2218148587",
    "time": "2021-01-23T04:16:37.337Z",
    "type": "completion"
   },
   {
    "code": "big_tippers(['suraj', 15, 'isaac', 25, 'angela', 19, 'anna', 21, 'aayush', 14, 'sukrit', 8])",
    "id": "3aef557341454f99868a96a0ef3e2675",
    "idx": 64,
    "time": "2021-01-23T04:17:09.689Z",
    "type": "execution"
   },
   {
    "id": "3aef557341454f99868a96a0ef3e2675",
    "time": "2021-01-23T04:17:09.861Z",
    "type": "completion"
   },
   {
    "code": "big_tippers(['suraj', 15, 'isaac', 25, 'angela', 19, 'anna', 21, 'aayush', 14, 'sukrit', 8]) == ['isaac', 'angela', 'anna']",
    "id": "3aef557341454f99868a96a0ef3e2675",
    "idx": 64,
    "time": "2021-01-23T04:17:18.795Z",
    "type": "execution"
   },
   {
    "id": "3aef557341454f99868a96a0ef3e2675",
    "time": "2021-01-23T04:17:18.861Z",
    "type": "completion"
   },
   {
    "code": "# TEST\nbig_tippers(['suraj', 15, 'isaac', 25, 'angela', 19, 'anna', 21, 'aayush', 14, 'sukrit', 8]) == ['isaac', 'angela', 'anna']",
    "id": "3aef557341454f99868a96a0ef3e2675",
    "idx": 64,
    "time": "2021-01-23T04:17:23.961Z",
    "type": "execution"
   },
   {
    "id": "3aef557341454f99868a96a0ef3e2675",
    "time": "2021-01-23T04:17:24.071Z",
    "type": "completion"
   },
   {
    "code": "big_tippers(['a', 2, 'a', 2, 'a', 2])",
    "id": "638b324ea11240968b6e5ef2f2d003af",
    "idx": 65,
    "time": "2021-01-23T04:17:45.751Z",
    "type": "execution"
   },
   {
    "id": "638b324ea11240968b6e5ef2f2d003af",
    "time": "2021-01-23T04:17:45.901Z",
    "type": "completion"
   },
   {
    "code": "big_tippers(['a', 2, 'a', 2, 'a', 2]) == []",
    "id": "638b324ea11240968b6e5ef2f2d003af",
    "idx": 65,
    "time": "2021-01-23T04:17:49.191Z",
    "type": "execution"
   },
   {
    "id": "638b324ea11240968b6e5ef2f2d003af",
    "time": "2021-01-23T04:17:49.259Z",
    "type": "completion"
   },
   {
    "code": "def effective_tax_rate(income):\n    # BEGIN SOLUTION\n    if income <= 0:\n        return 0\n    return tax_owed(income) / income\n    # END SOLUTION",
    "id": "9172728a52c04755936617e5631b7d8e",
    "idx": 14,
    "time": "2021-01-23T04:22:59.404Z",
    "type": "execution"
   },
   {
    "id": "9172728a52c04755936617e5631b7d8e",
    "time": "2021-01-23T04:22:59.566Z",
    "type": "completion"
   }
  ],
  "kernelspec": {
   "display_name": "Python 3",
   "language": "python",
   "name": "python3"
  },
  "language_info": {
   "codemirror_mode": {
    "name": "ipython",
    "version": 3
   },
   "file_extension": ".py",
   "mimetype": "text/x-python",
   "name": "python",
   "nbconvert_exporter": "python",
   "pygments_lexer": "ipython3",
   "version": "3.9.1"
  }
 },
 "nbformat": 4,
 "nbformat_minor": 4
}

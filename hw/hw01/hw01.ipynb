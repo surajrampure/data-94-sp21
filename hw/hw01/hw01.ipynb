{
 "cells": [
  {
   "cell_type": "code",
   "execution_count": null,
   "metadata": {
    "deletable": false,
    "editable": false
   },
   "outputs": [],
   "source": [
    "# Initialize Otter\n",
    "import otter\n",
    "grader = otter.Notebook(\"hw01.ipynb\")"
   ]
  },
  {
   "cell_type": "markdown",
   "metadata": {},
   "source": [
    "# Homework 1 – Python Fundamentals\n",
    "\n",
    "## Data 94, Spring 2021\n",
    "\n",
    "In this homework assignment, you will apply what you've learned about arithmetic expressions, data types, boolean expressions, and functions. Your job is to write code anywhere you see `...`.\n",
    "\n",
    "This homework is due on **Wednesday, February 3rd at 11:59PM**. You must submit the assignment to Gradescope. Submission instructions can be found at the bottom of this notebook and on Ed. See the [syllabus](http://data94.org/syllabus/#late-policy-and-extensions) for our late submission policy."
   ]
  },
  {
   "cell_type": "code",
   "execution_count": null,
   "metadata": {},
   "outputs": [],
   "source": [
    "# Don't worry about this cell, just run it.\n",
    "import numpy as np\n",
    "from datascience import *\n",
    "\n",
    "import matplotlib.pyplot as plt\n",
    "%matplotlib inline\n",
    "import plotly.graph_objects as go\n",
    "import plotly.express as px\n",
    "\n",
    "from ipywidgets import interact\n",
    "import ipywidgets as widgets"
   ]
  },
  {
   "cell_type": "markdown",
   "metadata": {},
   "source": [
    "## Question 1 – Errors\n",
    "\n",
    "In this question, you will identify why certain lines of code cause an error or have unexpected behavior."
   ]
  },
  {
   "cell_type": "markdown",
   "metadata": {},
   "source": [
    "### Question 1a\n",
    "\n",
    "The following cell contains an error."
   ]
  },
  {
   "cell_type": "code",
   "execution_count": null,
   "metadata": {},
   "outputs": [],
   "source": [
    "8 = 10 - 2"
   ]
  },
  {
   "cell_type": "markdown",
   "metadata": {
    "deletable": false,
    "editable": false
   },
   "source": [
    "Choose the best explanation of what's wrong with the code, and then assign the integer 1, 2, 3, or 4 to `reason_1a` below to indicate your answer.\n",
    "\n",
    "1. Python already knows `8 = 10 - 2`.\n",
    "\n",
    "2. `8` is a number, and numbers can't be variable names. In Python, \"`x = 10 - 2`\" means \"assign `x` as the name for the value of `10 - 2`.\"\n",
    "\n",
    "3. It should be `10 - 2 = 8`.\n",
    "\n",
    "4. I don't get an error message. This is a trick question.\n",
    "\n",
    "<!--\n",
    "BEGIN QUESTION\n",
    "name: q1a\n",
    "points: 1\n",
    "-->"
   ]
  },
  {
   "cell_type": "code",
   "execution_count": null,
   "metadata": {},
   "outputs": [],
   "source": [
    "# Your answer should be in the format reason_1a = n, where n is either 1, 2, 3, or 4\n",
    "\n",
    "\n",
    "reason_1a = ..."
   ]
  },
  {
   "cell_type": "code",
   "execution_count": null,
   "metadata": {
    "deletable": false,
    "editable": false
   },
   "outputs": [],
   "source": [
    "grader.check(\"q1a\")"
   ]
  },
  {
   "cell_type": "markdown",
   "metadata": {},
   "source": [
    "### Question 1b\n",
    "\n",
    "The following cell contains an error."
   ]
  },
  {
   "cell_type": "code",
   "execution_count": null,
   "metadata": {},
   "outputs": [],
   "source": [
    "four = 3\n",
    "nine = four times four"
   ]
  },
  {
   "cell_type": "markdown",
   "metadata": {
    "deletable": false,
    "editable": false
   },
   "source": [
    "Choose the best explanation of what's wrong with the code and assign the integer 1, 2, 3, or 4 to `reason_1b` below to indicate your answer.\n",
    "\n",
    "1. The `times` operation only applies to numbers, not the word `four`.\n",
    "\n",
    "2. The variable name `four` cannot be assigned to the number 3.\n",
    "\n",
    "3. four times four is sixteen, not nine.\n",
    "\n",
    "4. The variable name `four` cannot be followed directly by another variable name.\n",
    "\n",
    "<!--\n",
    "BEGIN QUESTION\n",
    "name: q1b\n",
    "points: 1\n",
    "-->"
   ]
  },
  {
   "cell_type": "code",
   "execution_count": null,
   "metadata": {},
   "outputs": [],
   "source": [
    "# Your answer should be in the format reason_1b = n, where n is either 1, 2, 3, or 4\n",
    "\n",
    "reason_1b = ..."
   ]
  },
  {
   "cell_type": "code",
   "execution_count": null,
   "metadata": {
    "deletable": false,
    "editable": false
   },
   "outputs": [],
   "source": [
    "grader.check(\"q1b\")"
   ]
  },
  {
   "cell_type": "markdown",
   "metadata": {},
   "source": [
    "### Question 1c\n",
    "\n",
    "When Amelia runs the following cell, she expects the value of `eight` to be `8`, stored as an `int`."
   ]
  },
  {
   "cell_type": "code",
   "execution_count": null,
   "metadata": {},
   "outputs": [],
   "source": [
    "def add(a, b):\n",
    "    print(a + b)\n",
    "    \n",
    "eight = add(3, 5)"
   ]
  },
  {
   "cell_type": "markdown",
   "metadata": {
    "deletable": false,
    "editable": false
   },
   "source": [
    "What data type does the variable `eight` contain? In other words, is `eight` an `int`, `float`, `str`, `bool`, or `NoneType`? Assign your answer to the variable name `eight_type` below **as a string**, i.e. if you think the answer is `int`, write `eight_type = 'int'` below.\n",
    "\n",
    "<!--\n",
    "BEGIN QUESTION\n",
    "name: q1c\n",
    "points: 1\n",
    "-->"
   ]
  },
  {
   "cell_type": "code",
   "execution_count": null,
   "metadata": {},
   "outputs": [],
   "source": [
    "eight_type = ..."
   ]
  },
  {
   "cell_type": "code",
   "execution_count": null,
   "metadata": {
    "deletable": false,
    "editable": false
   },
   "outputs": [],
   "source": [
    "grader.check(\"q1c\")"
   ]
  },
  {
   "cell_type": "markdown",
   "metadata": {},
   "source": [
    "### Question 1d\n",
    "\n",
    "Sam wants to create and print a string consisting of his name, age, and house address, as follows."
   ]
  },
  {
   "cell_type": "code",
   "execution_count": null,
   "metadata": {},
   "outputs": [],
   "source": [
    "name = 'Sam'\n",
    "age = 51\n",
    "house_number = 1436\n",
    "house_street = 'Durant Avenue'\n",
    "\n",
    "sam_greeting = 'My name is ' + name + ', I am ' + age + ' years old, and I live at ' + house_number + ' ' + house_street\n",
    "print(sam_greeting)"
   ]
  },
  {
   "cell_type": "markdown",
   "metadata": {
    "deletable": false,
    "editable": false
   },
   "source": [
    "However, it errors. In the cell below, assign `sam_greeting_fixed` to a fixed version of `sam_greeting` that doesn't error. Start by copying the right-hand side of the `sam_greeting` assignment statement above. Your answer must still involve `+`.\n",
    "\n",
    "<!--\n",
    "BEGIN QUESTION\n",
    "name: q1d\n",
    "points: 1\n",
    "-->"
   ]
  },
  {
   "cell_type": "code",
   "execution_count": null,
   "metadata": {},
   "outputs": [],
   "source": [
    "sam_greeting_fixed = ...\n",
    "\n",
    "# If your sam_greeting_fixed is correct, the following print statement should print\n",
    "# 'My name is Sam, I am 51 years old, and I live at 1436 Durant Avenue'\n",
    "print(sam_greeting_fixed)"
   ]
  },
  {
   "cell_type": "code",
   "execution_count": null,
   "metadata": {
    "deletable": false,
    "editable": false
   },
   "outputs": [],
   "source": [
    "grader.check(\"q1d\")"
   ]
  },
  {
   "cell_type": "markdown",
   "metadata": {},
   "source": [
    "## Question 2 – BMI"
   ]
  },
  {
   "cell_type": "markdown",
   "metadata": {},
   "source": [
    "From Wikipedia, a human's [Body Mass Index](https://en.wikipedia.org/wiki/Body_mass_index) (BMI) \"is a convenient rule of thumb used to broadly categorize a person as underweight, normal weight, overweight, or obese based on tissue mass (muscle, fat, and bone) and height.\"\n",
    "\n",
    "BMI is defined according to the following formula:\n",
    "\n",
    "$$\\text{BMI} = \\frac{\\text{mass in kg}}{\\text{height in meters}^2}$$\n",
    "\n",
    "Unfortunately, we've been provided with a dataset that contains weights in pounds (lbs) and heights in inches. Fortunately, we can use the following conversion factors to convert from weights in pounds to masses in kilograms, and from heights in inches to heights in meters."
   ]
  },
  {
   "cell_type": "code",
   "execution_count": null,
   "metadata": {},
   "outputs": [],
   "source": [
    "in_to_cm = 2.54 # Don't change this!\n",
    "cm_to_m = 1 / 100 # Don't change this!"
   ]
  },
  {
   "cell_type": "code",
   "execution_count": null,
   "metadata": {},
   "outputs": [],
   "source": [
    "in_to_cm * cm_to_m"
   ]
  },
  {
   "cell_type": "code",
   "execution_count": null,
   "metadata": {},
   "outputs": [],
   "source": [
    "lb_to_kg = 1 / 2.2 # Don't change this!\n",
    "lb_to_kg"
   ]
  },
  {
   "cell_type": "markdown",
   "metadata": {
    "deletable": false,
    "editable": false
   },
   "source": [
    "### Question 2a\n",
    "\n",
    "Joe Biden is 5'11\" and weighs 178 pounds ([source](https://www.serialupdates.me/joe-biden-us-new-president-real-name-wiki-height-weight-age-wife/)... questionable, we know). Using the above conversion factors and the provided variables below, determine Joe Biden's height in meters (`biden_height_m`) and mass in kilograms (`biden_mass_kg`). Your answers should only involve variable names and arithmetic operators; no numerical constants.\n",
    "\n",
    "<!--\n",
    "BEGIN QUESTION\n",
    "name: q2a\n",
    "points: 1\n",
    "-->"
   ]
  },
  {
   "cell_type": "code",
   "execution_count": null,
   "metadata": {},
   "outputs": [],
   "source": [
    "biden_height_in = 5 * 12 + 11 # Don't change this!\n",
    "biden_weight_lb = 178 # Don't change this!\n",
    "\n",
    "biden_height_m = ...\n",
    "biden_mass_kg = ..."
   ]
  },
  {
   "cell_type": "code",
   "execution_count": null,
   "metadata": {
    "deletable": false,
    "editable": false
   },
   "outputs": [],
   "source": [
    "grader.check(\"q2a\")"
   ]
  },
  {
   "cell_type": "markdown",
   "metadata": {
    "deletable": false,
    "editable": false
   },
   "source": [
    "### Question 2b\n",
    "\n",
    "Assign `biden_bmi` to Joe Biden's BMI, calculated according to the formula provided in the question.\n",
    "\n",
    "<!--\n",
    "BEGIN QUESTION\n",
    "name: q2b\n",
    "points: 1\n",
    "-->"
   ]
  },
  {
   "cell_type": "code",
   "execution_count": null,
   "metadata": {},
   "outputs": [],
   "source": [
    "biden_bmi = ...\n",
    "biden_bmi"
   ]
  },
  {
   "cell_type": "code",
   "execution_count": null,
   "metadata": {
    "deletable": false,
    "editable": false
   },
   "outputs": [],
   "source": [
    "grader.check(\"q2b\")"
   ]
  },
  {
   "cell_type": "markdown",
   "metadata": {
    "deletable": false,
    "editable": false
   },
   "source": [
    "### Question 2c\n",
    "\n",
    "As we covered in Lecture 5, we use functions to encapsulate computation so that we don't write repetitive code. Below, complete the implementation of the function `bmi_from_in_lb`, which takes in a person's height in inches and weight in pounds and returns their BMI. You will need to use the logic you wrote in 2a and 2b. If your implementation is correct, `bmi_from_in_lb(biden_height_in, biden_weight_lb)` should evaluate to the correct answer for 2b. We will also test your function with other arguments, so you need to make sure it works in all cases.\n",
    "\n",
    "**This occurs commonly when writing code – first you test out a calculation for just one example, then you write it as a function so that it can be used for any example. That's what you're practicing here.**\n",
    "\n",
    "**Hint:** We've defined the variables `height_m`, `mass_kg`, and `bmi` to break your calculation into smaller steps. Use them!\n",
    "\n",
    "<!--\n",
    "BEGIN QUESTION\n",
    "name: q2c\n",
    "points: 2\n",
    "-->"
   ]
  },
  {
   "cell_type": "code",
   "execution_count": null,
   "metadata": {},
   "outputs": [],
   "source": [
    "def bmi_from_in_lb(height_in, weight_lb):\n",
    "    height_m = ...\n",
    "    mass_kg = ...\n",
    "    bmi = ...\n",
    "    return bmi\n",
    "\n",
    "# Uncomment this after you've implemented the function to see if you're on the right track!\n",
    "# You should also test it out with other values.\n",
    "# bmi_from_in_lb(biden_height_in, biden_weight_lb) "
   ]
  },
  {
   "cell_type": "code",
   "execution_count": null,
   "metadata": {
    "deletable": false,
    "editable": false
   },
   "outputs": [],
   "source": [
    "grader.check(\"q2c\")"
   ]
  },
  {
   "cell_type": "markdown",
   "metadata": {
    "deletable": false,
    "editable": false
   },
   "source": [
    "### Question 2d\n",
    "\n",
    "Below, complete the implementation of the function `is_extreme`. This function should take in a person's height in inches and weight in pounds, and return:\n",
    "- `True` if their bmi is above 32 **and** height is under 62 inches\n",
    "- `True` if their bmi is below 18 **and** height is above 74 inches\n",
    "- `False` in all other cases\n",
    "\n",
    "You will need to use your `bmi_from_in_lb` implementation from 2c.\n",
    "\n",
    "**Hint:** Consider coming back to this part after you complete Question 4.\n",
    "\n",
    "<!--\n",
    "BEGIN QUESTION\n",
    "name: q2d\n",
    "points: 2\n",
    "-->"
   ]
  },
  {
   "cell_type": "code",
   "execution_count": null,
   "metadata": {},
   "outputs": [],
   "source": [
    "def is_extreme(height_in, weight_lb):\n",
    "    bmi = ...\n",
    "    short = ...\n",
    "    tall = ...\n",
    "    return short or tall"
   ]
  },
  {
   "cell_type": "code",
   "execution_count": null,
   "metadata": {
    "deletable": false,
    "editable": false
   },
   "outputs": [],
   "source": [
    "grader.check(\"q2d\")"
   ]
  },
  {
   "cell_type": "markdown",
   "metadata": {},
   "source": [
    "Now run the cell below. You don't need to understand any of the code in it."
   ]
  },
  {
   "cell_type": "code",
   "execution_count": null,
   "metadata": {
    "scrolled": true
   },
   "outputs": [],
   "source": [
    "humans = Table.read_table('data/weight-height.csv')\n",
    "\n",
    "def bmi_on_humans(r):\n",
    "    return bmi_from_in_lb(r[1], r[2])\n",
    "\n",
    "humans = humans.with_columns(\n",
    "    'BMI', humans.apply(bmi_on_humans)\n",
    ")\n",
    "\n",
    "np.random.seed(55)\n",
    "small_humans = humans.sample(25)\n",
    "\n",
    "\n",
    "df = small_humans.to_df()\n",
    "fig = px.scatter(df, x=\"Height\", y=\"Weight\", color=\"BMI\", size=\"BMI\",\n",
    "                 title=\"Height, Weight, and BMI\",\n",
    "                 labels = {'Weight': 'Weight (lbs)', 'Height': 'Height (in)'})"
   ]
  },
  {
   "cell_type": "markdown",
   "metadata": {},
   "source": [
    "We've loaded in heights and weights of real people, downloaded from [here]( https://www.kaggle.com/mustafaali96/weight-height?select=weight-height.csv). Using your `bmi_from_in_lb` function, we will calculate and plot their BMIs below."
   ]
  },
  {
   "cell_type": "code",
   "execution_count": null,
   "metadata": {},
   "outputs": [],
   "source": [
    "fig.show()"
   ]
  },
  {
   "cell_type": "markdown",
   "metadata": {
    "deletable": false,
    "editable": false
   },
   "source": [
    "<!-- BEGIN QUESTION -->\n",
    "\n",
    "### Question 2e\n",
    "\n",
    "Each point in the scatter plot above corresponds to one person from (a randomly selected subset of) our dataset. The above plot is interactive, so if you hover over a point it will tell you the exact height, weight, and BMI of that person. The colors and sizes of the dots are a function of BMI.\n",
    "\n",
    "**As height increases, does BMI tend to increase or decrease?** Answer in one sentence in the cell below. (Note, this is the first question in this homework where we will read and grade your answer manually, instead of relying on an autograder.)\n",
    "\n",
    "<!--\n",
    "BEGIN QUESTION\n",
    "name: q2e\n",
    "points: 1\n",
    "manual: true\n",
    "-->"
   ]
  },
  {
   "cell_type": "markdown",
   "metadata": {},
   "source": [
    "_Type your answer here, replacing this text._"
   ]
  },
  {
   "cell_type": "markdown",
   "metadata": {},
   "source": [
    "<!-- END QUESTION -->\n",
    "\n",
    "\n",
    "\n",
    "## Question 3 – Interest Rates\n",
    "\n",
    "Throughout this question, you can refer to [this](https://www.getsmarteraboutmoney.ca/calculators/compound-interest-calculator/) calculator to see if your calculations are correct."
   ]
  },
  {
   "cell_type": "markdown",
   "metadata": {
    "deletable": false,
    "editable": false
   },
   "source": [
    "### Question 3a\n",
    "\n",
    "Recall the formula for the \"future value\" of an investment given an initial investment (or \"present value\") $\\text{PV}$, average annual growth rate $i$, and number of years $t$:\n",
    "\n",
    "$$\\text{FV} = \\text{PV} \\cdot (1 + i)^t$$\n",
    "\n",
    "Suppose I invest $30420 in the stock market on my 25th birthday, and suppose my investment grows on average 12% per year. How much will my investment be worth on my 65th birthday? Assign the answer to `fv_q3a` below.\n",
    "\n",
    "<!--\n",
    "BEGIN QUESTION\n",
    "name: q3a\n",
    "points: 1\n",
    "-->"
   ]
  },
  {
   "cell_type": "code",
   "execution_count": null,
   "metadata": {},
   "outputs": [],
   "source": [
    "fv_q3a = ...\n",
    "fv_q3a"
   ]
  },
  {
   "cell_type": "code",
   "execution_count": null,
   "metadata": {
    "deletable": false,
    "editable": false
   },
   "outputs": [],
   "source": [
    "grader.check(\"q3a\")"
   ]
  },
  {
   "cell_type": "markdown",
   "metadata": {
    "deletable": false,
    "editable": false
   },
   "source": [
    "### Question 3b\n",
    "\n",
    "Similar to what we did in Question 2, let's encapsulate the above calculation in a function, so that we can easily repeat it for any initial investment, growth rate, and time period.\n",
    "\n",
    "Complete the implementation of `future_value_calculator` below. If your implementation is correct, `future_value_calculator(30420, 0.12, 25, 65)` should evaluate to the correct answer from Question 3a. We will also test your function with other arguments, so you need to make sure it works in all cases.\n",
    "\n",
    "<!--\n",
    "BEGIN QUESTION\n",
    "name: q3b\n",
    "points: 2\n",
    "-->"
   ]
  },
  {
   "cell_type": "code",
   "execution_count": null,
   "metadata": {},
   "outputs": [],
   "source": [
    "def future_value_calculator(present_value, growth_rate, year_1, year_2):\n",
    "    time = ...\n",
    "    multiplier = ...\n",
    "    ...\n",
    "\n",
    "# Uncomment this after you've implemented the function to see if you're on the right track!\n",
    "# You should also test it out with other values.\n",
    "# future_value_calculator(30420, 0.12, 25, 65)"
   ]
  },
  {
   "cell_type": "code",
   "execution_count": null,
   "metadata": {
    "deletable": false,
    "editable": false
   },
   "outputs": [],
   "source": [
    "grader.check(\"q3b\")"
   ]
  },
  {
   "cell_type": "markdown",
   "metadata": {
    "deletable": false,
    "editable": false
   },
   "source": [
    "### Question 3c\n",
    "\n",
    "Suppose we're now interested in determining the **amount an investment grew**. For example, if I invest \\\\$100 and it turns into \\\\$500, I profited \\\\$500 - \\\\$100 = \\\\$400 through that investment.\n",
    "\n",
    "Below, complete the implementation of `profit_calculator`, which takes in the same arguments as `future_value_calculator` but returns the amount that investment grew.\n",
    "\n",
    "**Hint:** You will need to call `future_value_calculator`.\n",
    "\n",
    "<!--\n",
    "BEGIN QUESTION\n",
    "name: q3c\n",
    "points: 1\n",
    "-->"
   ]
  },
  {
   "cell_type": "code",
   "execution_count": null,
   "metadata": {},
   "outputs": [],
   "source": [
    "def profit_calculator(present_value, growth_rate, year_1, year_2):\n",
    "    future_value = ...\n",
    "    profit = ...\n",
    "    return profit\n",
    "\n",
    "# Uncomment this after you've implemented the function to see if you're on the right track!\n",
    "# You should also test it out with other values.\n",
    "# profit_calculator(30420, 0.12, 25, 65)"
   ]
  },
  {
   "cell_type": "code",
   "execution_count": null,
   "metadata": {
    "deletable": false,
    "editable": false
   },
   "outputs": [],
   "source": [
    "grader.check(\"q3c\")"
   ]
  },
  {
   "cell_type": "markdown",
   "metadata": {},
   "source": [
    "### Fun Demo \n",
    "\n",
    "Run the following cell. It will present you with a graph and a slider. Change the slider to see what happens to the graph."
   ]
  },
  {
   "cell_type": "code",
   "execution_count": null,
   "metadata": {},
   "outputs": [],
   "source": [
    "# Don't worry about the code, just play with the slider that appears after running.\n",
    "def plot_growth_rate(growth_rate):\n",
    "    T = 25\n",
    "    x = np.arange(1, T + 1)\n",
    "    y = [profit_calculator(100, growth_rate, 0, xi) for xi in x]\n",
    "    \n",
    "    if y[-1] > 60000:\n",
    "        color = 'green'\n",
    "    elif y[-1] > 20000:\n",
    "        color = 'blue'\n",
    "    else:\n",
    "        color = 'red'\n",
    "    \n",
    "    plt.figure(figsize = (10, 5))\n",
    "    plt.plot(x, y, color = color)\n",
    "    plt.xlim(0, 25)\n",
    "    plt.ylim(0, 100000)\n",
    "    plt.xlabel('Number of Years')\n",
    "    plt.ylabel('Profit on Investment');\n",
    "    plt.title('Profit on $100 investment over time')\n",
    "    \n",
    "interact(plot_growth_rate, growth_rate=(0.0, 0.5, 0.01));"
   ]
  },
  {
   "cell_type": "markdown",
   "metadata": {},
   "source": [
    "You did all of the calculation necessary above – we just provided you with the plotting code. Nice work!"
   ]
  },
  {
   "cell_type": "markdown",
   "metadata": {},
   "source": [
    "## Question 4 – COVID Data\n",
    "\n",
    "Below, we load in COVID case data from [Our World in Data](https://ourworldindata.org/coronavirus-source-data). Run the following two cells."
   ]
  },
  {
   "cell_type": "code",
   "execution_count": null,
   "metadata": {},
   "outputs": [],
   "source": [
    "# Don't worry about this code\n",
    "covid_all = Table.read_table('data/owid-covid-data.csv').select(['location', 'date', 'total_cases', 'new_cases', 'total_deaths', 'new_deaths'])\n",
    "\n",
    "get_year_string = lambda s: s[:s.index('-')]\n",
    "get_month_string = lambda s: s[s.index('-')+1:s.rfind('-')]\n",
    "get_day_string = lambda s: s[s.rfind('-')+1:]\n",
    "\n",
    "month_dict = {1: 'January', 2: 'February', 3: 'March', 4: 'April', 5: 'May', 6: 'June', 7: 'July', 8: 'August', 9: 'September', 10: 'October', 11: 'November', 12: 'December'}\n",
    "get_month_name = lambda i: month_dict[i]"
   ]
  },
  {
   "cell_type": "code",
   "execution_count": null,
   "metadata": {},
   "outputs": [],
   "source": [
    "covid_all"
   ]
  },
  {
   "cell_type": "markdown",
   "metadata": {},
   "source": [
    "This dataset is absolutely massive – to see it all, click [this link](https://covid.ourworldindata.org/data/owid-covid-data.csv) (don't worry, it won't download anything to your computer).\n",
    "\n",
    "In this question, we will use our knowledge of strings and boolean expressions to simplify this dataset. This only requires knowledge of what we've already covered; don't worry about the tables or plotting code."
   ]
  },
  {
   "cell_type": "markdown",
   "metadata": {},
   "source": [
    "### Question 4a\n",
    "\n",
    "The dates in our table are formatted like this:"
   ]
  },
  {
   "cell_type": "code",
   "execution_count": null,
   "metadata": {},
   "outputs": [],
   "source": [
    "'2020-02-24'"
   ]
  },
  {
   "cell_type": "markdown",
   "metadata": {},
   "source": [
    "Each date contains two dashes, that separate the year, month, and day components:"
   ]
  },
  {
   "cell_type": "code",
   "execution_count": null,
   "metadata": {},
   "outputs": [],
   "source": [
    "'2020-02-24'.count('-')"
   ]
  },
  {
   "cell_type": "markdown",
   "metadata": {},
   "source": [
    "For your convenience, we have provided three \"helper\" functions, `get_year_string`, `get_month_string`, and `get_day_string`, that work as follows:"
   ]
  },
  {
   "cell_type": "code",
   "execution_count": null,
   "metadata": {},
   "outputs": [],
   "source": [
    "get_year_string('2020-02-24')"
   ]
  },
  {
   "cell_type": "code",
   "execution_count": null,
   "metadata": {},
   "outputs": [],
   "source": [
    "get_month_string('2020-02-24')"
   ]
  },
  {
   "cell_type": "code",
   "execution_count": null,
   "metadata": {},
   "outputs": [],
   "source": [
    "get_day_string('2020-02-24')"
   ]
  },
  {
   "cell_type": "markdown",
   "metadata": {
    "deletable": false,
    "editable": false
   },
   "source": [
    "The beauty of programming is that you don't need to know how those functions work in order to use them. This principle is known as abstraction, and it is one we will emphasize in the coming weeks. \n",
    "\n",
    "Below, complete the implementation of the function `is_november_2020`, which takes in a date, formatted like the example given above, and returns `True` if that date is in November of 2020, and `False` if it is not. You should use the three helper functions above to help you.\n",
    "\n",
    "<!--\n",
    "BEGIN QUESTION\n",
    "name: q4a\n",
    "points: 2\n",
    "-->"
   ]
  },
  {
   "cell_type": "code",
   "execution_count": null,
   "metadata": {},
   "outputs": [],
   "source": [
    "def is_november_2020(date):\n",
    "    year_string = ...\n",
    "    month_string = ...\n",
    "    ...\n",
    "\n",
    "# Uncomment this after you've implemented the function to see if you're on the right track!\n",
    "# You should also test it out with other values.\n",
    "# is_november_2020('2020-02-24')"
   ]
  },
  {
   "cell_type": "code",
   "execution_count": null,
   "metadata": {
    "deletable": false,
    "editable": false
   },
   "outputs": [],
   "source": [
    "grader.check(\"q4a\")"
   ]
  },
  {
   "cell_type": "markdown",
   "metadata": {},
   "source": [
    "### Question 4b\n",
    "\n",
    "If you did 4a correctly, the following function call should evaluate to `True`:"
   ]
  },
  {
   "cell_type": "code",
   "execution_count": null,
   "metadata": {},
   "outputs": [],
   "source": [
    "is_november_2020('2020-11-302')"
   ]
  },
  {
   "cell_type": "markdown",
   "metadata": {
    "deletable": false,
    "editable": false
   },
   "source": [
    "However, November only has 30 days. This shouldn't be a valid date. While this date is unlikely to appear in our dataset, it's not uncommon for corrupted data to appear once in a while.\n",
    "\n",
    "Below, complete the implementation of `is_valid_november_2020`, which takes in a date and returns `True` if it corresponds to a **valid** date in November of 2020, and `False` if it does not. A date is valid if it appears on the calendar; in November, that means the \"day\" component needs to be between 1 and 30.\n",
    "\n",
    "**Hint:** In addition to using your `is_november_2020` function from 4a, you should also `get_day_string`. Consider casting to an integer.\n",
    "\n",
    "<!--\n",
    "BEGIN QUESTION\n",
    "name: q4b\n",
    "points: 2\n",
    "-->"
   ]
  },
  {
   "cell_type": "code",
   "execution_count": null,
   "metadata": {},
   "outputs": [],
   "source": [
    "def is_valid_november_2020(date):\n",
    "    november_2020 = ...\n",
    "    day_is_valid = ...\n",
    "    return november_2020 and day_is_valid\n",
    "\n",
    "# Uncomment this after you've implemented the function to see if you're on the right track!\n",
    "# You should also test it out with other values.\n",
    "# is_valid_november_2020('2020-11-302')"
   ]
  },
  {
   "cell_type": "code",
   "execution_count": null,
   "metadata": {
    "deletable": false,
    "editable": false
   },
   "outputs": [],
   "source": [
    "grader.check(\"q4b\")"
   ]
  },
  {
   "cell_type": "markdown",
   "metadata": {
    "deletable": false,
    "editable": false
   },
   "source": [
    "### Question 4c\n",
    "\n",
    "The dataset that we imported contains COVID data for all countries. Suppose we're interested in looking at the number of COVID cases and deaths in November of 2020 in Sweden, a country that [experienced a strong second wave](https://www.thelocal.se/20201203/fact-check-what-was-swedens-covid-19-death-rate-in-mid-november).\n",
    "\n",
    "Below, complete the implementation of `is_valid_november_2020_sweden`, which takes in a location and date and returns `True` if the date is a valid date from November 2020 (according to `is_valid_november_2020`) and if the location is `'Sweden'`.\n",
    "\n",
    "We have not provided any variable name definitions as we did in earlier questions; it's up to you to figure out how to answer the question. Refer to what we did in previous questions for an idea!\n",
    "\n",
    "<!--\n",
    "BEGIN QUESTION\n",
    "name: q4c\n",
    "points: 1\n",
    "-->"
   ]
  },
  {
   "cell_type": "code",
   "execution_count": null,
   "metadata": {},
   "outputs": [],
   "source": [
    "def is_valid_november_2020_sweden(location, date):\n",
    "    ...\n",
    "\n",
    "# Uncomment this after you've implemented the function to see if you're on the right track!\n",
    "# You should also test it out with other values.\n",
    "# is_valid_november_2020_sweden('Sweden', '2020-11-04')"
   ]
  },
  {
   "cell_type": "code",
   "execution_count": null,
   "metadata": {
    "deletable": false,
    "editable": false
   },
   "outputs": [],
   "source": [
    "grader.check(\"q4c\")"
   ]
  },
  {
   "cell_type": "markdown",
   "metadata": {},
   "source": [
    "### Fun Demo\n",
    "\n",
    "We will now plot the number of COVID cases in Sweden in November 2020, based on the work you did above. Run the cell below."
   ]
  },
  {
   "cell_type": "code",
   "execution_count": null,
   "metadata": {},
   "outputs": [],
   "source": [
    "sweden_november = covid_all.where(covid_all.apply(lambda r: is_valid_november_2020_sweden(r[0], r[1]))).with_columns('day in november', np.arange(1, 31))\n",
    "\n",
    "fig = go.Figure()\n",
    "fig.add_trace(go.Scatter(x=np.arange(1, 31), y=sweden_november.column('new_cases')))\n",
    "\n",
    "fig.update_layout(\n",
    "    title=\"Number of new COVID cases each day in November in Sweden\",\n",
    "    xaxis_title=\"Day in November\",\n",
    "    yaxis_title=\"Number of New Cases\"\n",
    ")\n",
    "\n",
    "fig.show()"
   ]
  },
  {
   "cell_type": "markdown",
   "metadata": {},
   "source": [
    "Think about why you see flat lines every five or so days. Hover over those dates, and look those dates up in a calendar. What days of the week are they?\n",
    "\n",
    "(This is not a question you need to answer, just something that you should think about.)"
   ]
  },
  {
   "cell_type": "markdown",
   "metadata": {
    "deletable": false,
    "editable": false
   },
   "source": [
    "<!-- BEGIN QUESTION -->\n",
    "\n",
    "## Question 5 – Markdown\n",
    "\n",
    "[Markdown](https://en.wikipedia.org/wiki/Markdown) isn't a programming language – it's a \"markup language\", which means that it is designed to format text to look nice. But like a programming language, Markdown has a set of rules (syntax) that govern how it works. Think of it like a fancy Google Docs.\n",
    "\n",
    "Here are some of the most important rules in Markdown:\n",
    "\n",
    "- Double asterisks (`**`) are how we make words bold. `My name is **Billy**` renders to \"My name is **Billy**.\n",
    "- Underscores (`_`) are how we make words italicized. `How are _you_?` renders to How are _you_?, and `what is **_up_**` renders to what is **_up_**.\n",
    "- Hashtags (`#`, `##`, `###`) are how we create titles/headings. The more hashtags you include, the smaller the title is. The title for this question was generated using `## Question 5 – Markdown`.\n",
    "- Unbulleted and bulleted lists are created the same way they're created in a standard word processor, like Google Docs.\n",
    "\n",
    "Markdown is important to learn because Jupyter Notebooks are often full of Markdown cells (just like this assignment). In future assignments, we will ask you to write answers to written questions using Markdown, and while the majority of your answers will be in plaintext (i.e. with none of the special characters above), learning Markdown is valuable nonetheless.\n",
    "\n",
    "### Task\n",
    "\n",
    "Your job is to recreate the output in the following screenshot, using the Markdown cell below. Feel free to replace \"Taco Bell\" and \"country\" with your own favorite food and music genre, but make sure the formatting is the same.\n",
    "\n",
    "<img src='images/markdown.png' width=300>\n",
    "\n",
    "This is the second question in this homework where we will grade your work manually instead of relying on an autograder.\n",
    "\n",
    "<!--\n",
    "BEGIN QUESTION\n",
    "name: q5\n",
    "points: 2\n",
    "manual: true\n",
    "-->"
   ]
  },
  {
   "cell_type": "markdown",
   "metadata": {},
   "source": [
    "_Type your answer here, replacing this text._"
   ]
  },
  {
   "cell_type": "markdown",
   "metadata": {},
   "source": [
    "<!-- END QUESTION -->\n",
    "\n",
    "\n",
    "\n",
    "## Done!\n",
    "\n",
    "Congrats! You've finished your first Data 94 homework assignment.\n",
    "\n",
    "To submit your work, follow the steps outlined on Ed.\n",
    "\n",
    "The point breakdown for this assignment is given in the table below:\n",
    "\n",
    "| Category | Points |\n",
    "| --- | --- |\n",
    "| Autograder (Coding questions) | 19 |\n",
    "| Written (Question 2e and Question 5) | 3  |\n",
    "| **Total** | 22 |"
   ]
  },
  {
   "cell_type": "markdown",
   "metadata": {
    "deletable": false,
    "editable": false
   },
   "source": [
    "---\n",
    "\n",
    "To double-check your work, the cell below will rerun all of the autograder tests."
   ]
  },
  {
   "cell_type": "code",
   "execution_count": null,
   "metadata": {
    "deletable": false,
    "editable": false
   },
   "outputs": [],
   "source": [
    "grader.check_all()"
   ]
  },
  {
   "cell_type": "markdown",
   "metadata": {
    "deletable": false,
    "editable": false
   },
   "source": [
    "## Submission\n",
    "\n",
    "Make sure you have run all cells in your notebook in order before running the cell below, so that all images/graphs appear in the output. The cell below will generate a zip file for you to submit. **Please save before exporting!**"
   ]
  },
  {
   "cell_type": "code",
   "execution_count": null,
   "metadata": {
    "deletable": false,
    "editable": false
   },
   "outputs": [],
   "source": [
    "# Save your notebook first, then run this cell to export your submission.\n",
    "grader.export()"
   ]
  },
  {
   "cell_type": "markdown",
   "metadata": {},
   "source": [
    " "
   ]
  }
 ],
 "metadata": {
  "kernelspec": {
   "display_name": "Python 3",
   "language": "python",
   "name": "python3"
  },
  "language_info": {
   "codemirror_mode": {
    "name": "ipython",
    "version": 3
   },
   "file_extension": ".py",
   "mimetype": "text/x-python",
   "name": "python",
   "nbconvert_exporter": "python",
   "pygments_lexer": "ipython3",
   "version": "3.9.1"
  }
 },
 "nbformat": 4,
 "nbformat_minor": 4
}

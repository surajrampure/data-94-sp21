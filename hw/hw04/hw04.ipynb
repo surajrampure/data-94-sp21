{
 "cells": [
  {
   "cell_type": "code",
   "execution_count": null,
   "metadata": {
    "deletable": false,
    "editable": false
   },
   "outputs": [],
   "source": [
    "# Initialize Otter\n",
    "import otter\n",
    "grader = otter.Notebook(\"hw04.ipynb\")"
   ]
  },
  {
   "cell_type": "markdown",
   "metadata": {},
   "source": [
    "# Homework 4 – Dictionaries and NumPy\n",
    "\n",
    "## Data 94, Spring 2021\n",
    "\n",
    "In this homework assignment, you will solve problems involving dictionaries and NumPy arrays, both of which will be key data structures you'll need to be familiar with moving forward. You'll also gain some experience with reading in real data.\n",
    "\n",
    "This homework is due on **Wednesday, March 3rd at 11:59PM**. You must submit the assignment to Gradescope. Submission instructions can be found at the bottom of this notebook. See the [syllabus](http://data94.org/syllabus/#late-policy-and-extensions) for our late submission policy."
   ]
  },
  {
   "cell_type": "code",
   "execution_count": null,
   "metadata": {},
   "outputs": [],
   "source": [
    "# You should be able to understanding most of what is in this cell now!\n",
    "# Either way, run it.\n",
    "\n",
    "from datascience import *\n",
    "import numpy as np\n",
    "import json\n",
    "from data94_utils import *\n",
    "import plotly.express as px\n",
    "from ipywidgets import interact, widgets\n",
    "from IPython.display import HTML, display, clear_output, Image\n",
    "import skimage.io as skio\n",
    "import io\n",
    "from PIL import Image\n",
    "import seaborn as sns\n",
    "import matplotlib.pyplot as plt\n",
    "%matplotlib inline\n",
    "\n",
    "# You can definitely ignore this.\n",
    "def read_json(path):\n",
    "    f = open(path, 'r')\n",
    "    return json.load(f)"
   ]
  },
  {
   "cell_type": "markdown",
   "metadata": {},
   "source": [
    "## Question 1 – Dictionary Fundamentals\n",
    "\n",
    "In this question, you will solidify your understanding of the syntax necessary for working with dictionaries. You'll also learn how to read in data from external files."
   ]
  },
  {
   "cell_type": "markdown",
   "metadata": {},
   "source": [
    "### Question 1a\n",
    "\n",
    "Below, we create a dictionary that we first looked at in Lecture 13."
   ]
  },
  {
   "cell_type": "code",
   "execution_count": null,
   "metadata": {},
   "outputs": [],
   "source": [
    "# DO NOT EDIT THIS CELL – just run it!\n",
    "\n",
    "more_slang = {\n",
    "    'haha': 'that was not funny',\n",
    "    'smh': 'shake my head',\n",
    "    'lol': 'laugh out loud',\n",
    "    'GOAT': 'greatest of all time'\n",
    "}"
   ]
  },
  {
   "cell_type": "markdown",
   "metadata": {
    "deletable": false,
    "editable": false
   },
   "source": [
    "In the cell below, add a new key-value pair to `more_slang`, corresponding to the abbreviation `'ofr'`. The value can be any string consisting of three words whose first letter is `'o'`, second letter is `'f'`, and third letter is `'o'`. You should not change the cell above.\n",
    "\n",
    "<!--\n",
    "BEGIN QUESTION\n",
    "name: q1a\n",
    "points: 1\n",
    "-->"
   ]
  },
  {
   "cell_type": "code",
   "execution_count": null,
   "metadata": {},
   "outputs": [],
   "source": [
    "..."
   ]
  },
  {
   "cell_type": "code",
   "execution_count": null,
   "metadata": {
    "deletable": false,
    "editable": false
   },
   "outputs": [],
   "source": [
    "grader.check(\"q1a\")"
   ]
  },
  {
   "cell_type": "markdown",
   "metadata": {
    "deletable": false,
    "editable": false
   },
   "source": [
    "### Question 1b\n",
    "\n",
    "**Reminder:** The keys of a dictionary can be strings, numbers, bools, or even `None` – just not a list or other dictionary. On the other hand, values in a dictionary can be anything!\n",
    "\n",
    "In the cell below, we've created a new dictionary `even_more_slang` which is a copy of your `more_slang` from 1a. (We did this in order to make the autograder work correctly.)\n",
    "\n",
    "Your job is to add another key-value pair to `even_more_slang`. The key should be the string `'explicit'`, and the value should be another dictionary. In this nested dictionary, the two keys should be the strings `'lmao'` and `'fml'`, and the values should be four-word and three-word strings that abbreviate to `'lmao'` and `'fml'`, respectively. Don't use any swear words – we don't want to lose our jobs! 😅\n",
    "\n",
    "That is, after running your cell, `even_more_slang['explicit']['fml']` should be a string consisting of three words.\n",
    "\n",
    "<!--\n",
    "BEGIN QUESTION\n",
    "name: q1b\n",
    "points: 1\n",
    "-->"
   ]
  },
  {
   "cell_type": "code",
   "execution_count": null,
   "metadata": {},
   "outputs": [],
   "source": [
    "even_more_slang = more_slang.copy() # Don't change this\n",
    "\n",
    "explicit_dict = {\n",
    "    ...\n",
    "}\n",
    "\n",
    "..."
   ]
  },
  {
   "cell_type": "code",
   "execution_count": null,
   "metadata": {
    "deletable": false,
    "editable": false
   },
   "outputs": [],
   "source": [
    "grader.check(\"q1b\")"
   ]
  },
  {
   "cell_type": "markdown",
   "metadata": {
    "deletable": false,
    "editable": false
   },
   "source": [
    "### Question 1c\n",
    "\n",
    "We can also read and convert JSON files into Python dictionaries. That's what you'll do in this question.\n",
    "\n",
    "Before following these instructions, make sure to save your notebook (which you should be doing frequently anyways)!\n",
    "\n",
    "1. Right click the Jupyter logo in the top left of your screen, and click \"Open Link in New Tab\".\n",
    "2. Click the `data` folder.\n",
    "3. Identify the name of the `.json` file that contains Google Maps data. You may have to open both `.json` files to determine which one it is; you can open files by clicking on them.\n",
    "4. Set the string `maps_path` below equal to the path to that file. `maps_path` should start with `'data/'` and end with `'.json'`.\n",
    "\n",
    "<!--\n",
    "BEGIN QUESTION\n",
    "name: q1c\n",
    "points: 1\n",
    "-->"
   ]
  },
  {
   "cell_type": "code",
   "execution_count": null,
   "metadata": {},
   "outputs": [],
   "source": [
    "maps_path = ..."
   ]
  },
  {
   "cell_type": "code",
   "execution_count": null,
   "metadata": {
    "deletable": false,
    "editable": false
   },
   "outputs": [],
   "source": [
    "grader.check(\"q1c\")"
   ]
  },
  {
   "cell_type": "markdown",
   "metadata": {},
   "source": [
    "If you answered the previous part correctly, you should be able to run the following cell:"
   ]
  },
  {
   "cell_type": "code",
   "execution_count": null,
   "metadata": {},
   "outputs": [],
   "source": [
    "maps_data = read_json(maps_path)\n",
    "maps_data"
   ]
  },
  {
   "cell_type": "markdown",
   "metadata": {
    "deletable": false,
    "editable": false
   },
   "source": [
    "### Question 1d\n",
    "\n",
    "The dictionary above is quite unwieldy, and contains many nested dictionaries! Let's try and extract some data from it programatically (that is, using code).\n",
    "\n",
    "Assign `maps_data_keys` to the list of all of `maps_data`'s keys. \n",
    "\n",
    "_Hint: `len(maps_data_keys)` will tell you that there are 6 keys, so the list you create should have length 6. `'long_name'` is not a key of `maps_data`. Also, we looked at a way to compute this list in Lecture 13 without having to create it manually._\n",
    "\n",
    "<!--\n",
    "BEGIN QUESTION\n",
    "name: q1d\n",
    "points: 1\n",
    "-->"
   ]
  },
  {
   "cell_type": "code",
   "execution_count": null,
   "metadata": {},
   "outputs": [],
   "source": [
    "maps_data_keys = ...\n",
    "maps_data_keys"
   ]
  },
  {
   "cell_type": "code",
   "execution_count": null,
   "metadata": {
    "deletable": false,
    "editable": false
   },
   "outputs": [],
   "source": [
    "grader.check(\"q1d\")"
   ]
  },
  {
   "cell_type": "markdown",
   "metadata": {
    "deletable": false,
    "editable": false
   },
   "source": [
    "### Question 1e\n",
    "\n",
    "Finally, assign `key_1`, `key_2`, and `key_3` below so that `maps_data[key_1][key_2][key_3]` evaluates to the latitude of the location whose data is stored in `maps_data`. We've done `key_2` for you.\n",
    "\n",
    "_Hint: Work one step at a time. You know that `key_1` must be one of the six keys in `maps_data_keys`, which you found above. Then, given what we've set `key_2` to, what must `key_3` be?_\n",
    "\n",
    "<!--\n",
    "BEGIN QUESTION\n",
    "name: q1e\n",
    "points: 1\n",
    "-->"
   ]
  },
  {
   "cell_type": "code",
   "execution_count": null,
   "metadata": {},
   "outputs": [],
   "source": [
    "key_1 = ...\n",
    "key_2 = 'location'\n",
    "key_3 = ...\n",
    "\n",
    "maps_data[key_1][key_2][key_3]"
   ]
  },
  {
   "cell_type": "code",
   "execution_count": null,
   "metadata": {
    "deletable": false,
    "editable": false
   },
   "outputs": [],
   "source": [
    "grader.check(\"q1e\")"
   ]
  },
  {
   "cell_type": "markdown",
   "metadata": {},
   "source": [
    "By the way, `maps_data` contains location information for Bonchon, a Korean fried chicken restaurant in Downtown Berkeley. It's quite good, you should try it!"
   ]
  },
  {
   "cell_type": "markdown",
   "metadata": {},
   "source": [
    "## Question 2 – Emojify \n",
    "\n",
    "The default keyboard on iOS suggests emojis for you to use in place of boring, ordinary words.\n",
    "\n",
    "<img src = \"https://support.apple.com/library/content/dam/edam/applecare/images/en_US/iOS/ios12-iphone-x-messages-replace-words-with-emoji.jpg\" width=200>\n",
    "\n",
    "In this question, you will replicate some of that behavior using dictionaries!\n",
    "\n",
    "In Python, emojis can be included as part of a string. For example:"
   ]
  },
  {
   "cell_type": "code",
   "execution_count": null,
   "metadata": {},
   "outputs": [],
   "source": [
    "'🤤'"
   ]
  },
  {
   "cell_type": "markdown",
   "metadata": {},
   "source": [
    "If you remove the quotes from the emoji above, you will see `SyntaxError: invalid character in identifier`. Make sure that throughout this question, your emojis are contained within strings! (Fun fact, they cannot currently be used as variable names. Try it and see what error you get!)"
   ]
  },
  {
   "cell_type": "markdown",
   "metadata": {
    "deletable": false,
    "editable": false
   },
   "source": [
    "### Question 2a\n",
    "\n",
    "[getemoji.com](https://getemoji.com) allows you to copy and paste emojis. To select an emoji, double click it to highlight it.\n",
    "\n",
    "In the cell below, define a dictionary `fav_emojis` that has the following five keys:\n",
    "- `'happy'`\n",
    "- `'annoyed'`\n",
    "- `'tired'`\n",
    "- `'love'`\n",
    "- `'food'`\n",
    "\n",
    "The values corresponding to these five keys must be an emoji, but they can be any emoji you want, **as long as**:\n",
    "- it is copied from the site above\n",
    "- it is not in the \"New Emojis\" category at the bottom\n",
    "\n",
    "Have fun with it! We've chosen an emoji for `'happy'` for you, but feel free to change it.\n",
    "\n",
    "Some troubleshooting tips:\n",
    "- After defining your dictionary, you may see some emoijs displayed with `'\\U001...'` instead of their actual graphic. **If this happens, pick different emojis**.\n",
    "- If you fail the test case that says your emojis are invalid, and you're certain you correctly defined your dictionary, you may consider choosing other emojis that are more generic that are more likely to be recognized by our autograder. This most likely won't be a problem.\n",
    "\n",
    "<!--\n",
    "BEGIN QUESTION\n",
    "name: q2a\n",
    "points: 2\n",
    "-->"
   ]
  },
  {
   "cell_type": "code",
   "execution_count": null,
   "metadata": {},
   "outputs": [],
   "source": [
    "fav_emojis = {\n",
    "    'happy': '😀',\n",
    "    ...\n",
    "}\n",
    "\n",
    "fav_emojis"
   ]
  },
  {
   "cell_type": "code",
   "execution_count": null,
   "metadata": {
    "deletable": false,
    "editable": false
   },
   "outputs": [],
   "source": [
    "grader.check(\"q2a\")"
   ]
  },
  {
   "cell_type": "markdown",
   "metadata": {
    "deletable": false,
    "editable": false
   },
   "source": [
    "### Question 2b\n",
    "\n",
    "Now, complete the implementation of the function `emojify`, which takes in a string `message` and returns a new string with all instances of any of the keys in `fav_emojis` replaced with their corresponding emoji value. Example behavior is shown below, though the emojis will be different, depending on what you put in `fav_emojis`. (If you passed the previous question, you don't need to change your emojis!)\n",
    "\n",
    "```py\n",
    ">>> emojify('Filing taxes makes me tired and want food.')\n",
    "'Filing taxes makes me 😵 and want 🌽.'\n",
    "\n",
    ">>> emojify('I LOVE love life right now. I am so happy – why do you look so annoyed?!')\n",
    "'I 💋 💋 life right now. I am so 😀 – why do you look so 💀?!'\n",
    "\n",
    ">>> emojify(\"It's not you, it's me... I don't make you haPPy, I make you tired.\")\n",
    "\"It's not you, it's me... I don't make you 😀, I make you 😵.\"\n",
    "```\n",
    "\n",
    "**_Hint: This is very similar to an example in Lecture 13._**\n",
    "\n",
    "<!--\n",
    "BEGIN QUESTION\n",
    "name: q2b\n",
    "points: 2\n",
    "-->"
   ]
  },
  {
   "cell_type": "code",
   "execution_count": null,
   "metadata": {},
   "outputs": [],
   "source": [
    "def emojify(message):\n",
    "    # This line ensures your code replaces correctly if any of\n",
    "    # the keys in fav_emojis appears in uppercase in the message\n",
    "    message = message.lower()\n",
    "\n",
    "    ...\n",
    "    \n",
    "    # Don't change this\n",
    "    return message"
   ]
  },
  {
   "cell_type": "code",
   "execution_count": null,
   "metadata": {
    "deletable": false,
    "editable": false
   },
   "outputs": [],
   "source": [
    "grader.check(\"q2b\")"
   ]
  },
  {
   "cell_type": "markdown",
   "metadata": {},
   "source": [
    "### Fun Demo\n",
    "\n",
    "Run the cell below to produce a text box (don't worry about the code itself). Type text in the text box and watch it get emojified live!"
   ]
  },
  {
   "cell_type": "code",
   "execution_count": null,
   "metadata": {},
   "outputs": [],
   "source": [
    "def emojify_live(type_here):\n",
    "    display(HTML('<h2>' + emojify(type_here) + '</h2>'))\n",
    "interact(emojify_live, type_here=\"I LOVE food\");"
   ]
  },
  {
   "cell_type": "markdown",
   "metadata": {},
   "source": [
    "## Question 3 – Value Counts and State of the Union\n",
    "\n",
    "In this question you will implement one function, `value_counts`, and we will use it for a particularly interesting application – analyzing State of the Union speeches from recent US Presidents.\n",
    "\n",
    "### Question 3a\n",
    "\n",
    "`value_counts` will take in a list `vals` and return a dictionary describing the number of times each element in `vals` appeared. Specifically, the keys of the returned dictionary should be the elements of `vals`, and the values of the returned dictionary should be the number of times the keys occurred in `vals`.\n",
    "\n",
    "Example behavior is shown below.\n",
    "\n",
    "```py\n",
    ">>> value_counts(['the', 'dog', 'jumped', 'over', 'the', 'fence', 'over', 'there'])\n",
    "{'fence': 1, 'there': 1, 'jumped': 1, 'the': 2, 'dog': 1, 'over': 2}\n",
    "\n",
    ">>> value_counts(['just dance', 'down', 'dancing queen', 'dancing queen', 'dancing queen', 'just dance'])\n",
    "{'dancing queen': 3, 'down': 1, 'just dance': 2}\n",
    "\n",
    ">>> value_counts([4, 5, 1, 9, 9, 3, 2, 4, 9, 9, '9', 5])\n",
    "{1: 1, 2: 1, 3: 1, 4: 2, 5: 2, 9: 4, '9': 1}\n",
    "```\n",
    "\n",
    "In the second example, the value for `'dancing queen'` is 3 because `'dancing queen'` appeared three times in the list `['just dance', 'down', 'dancing queen', 'dancing queen', 'dancing queen', 'just dance']`. Note, the order in which the keys are displayed in your dictionary is not important.\n",
    "\n",
    "**To help you,** we want to point you to two functions/methods. One is `unique`, which we define below. `unique` takes in a list `lst` and returns exactly one copy of every value in `lst`."
   ]
  },
  {
   "cell_type": "code",
   "execution_count": null,
   "metadata": {},
   "outputs": [],
   "source": [
    "# Don't worry about how this function works.\n",
    "def unique(lst):\n",
    "    return list(set(lst))"
   ]
  },
  {
   "cell_type": "code",
   "execution_count": null,
   "metadata": {},
   "outputs": [],
   "source": [
    "unique([4, 5, 1, 9, 9, 3, 2, 4, 9, 9, '9', 5])"
   ]
  },
  {
   "cell_type": "markdown",
   "metadata": {},
   "source": [
    "Another useful method is `.count(...)`, which can be used to determine the number of appearances of a particular value in a list."
   ]
  },
  {
   "cell_type": "code",
   "execution_count": null,
   "metadata": {},
   "outputs": [],
   "source": [
    "[4, 5, 1, 9, 9, 3, 2, 4, 9, 9, '9', 5].count(9)"
   ]
  },
  {
   "cell_type": "markdown",
   "metadata": {
    "deletable": false,
    "editable": false
   },
   "source": [
    "You should use both of the above techniques (`unique` and `.count`) in your implementation of `value_counts`.\n",
    "\n",
    "**In the cell below, implement `value_counts` so that it matches the behavior described above.**\n",
    "\n",
    "<!--\n",
    "BEGIN QUESTION\n",
    "name: q3a\n",
    "points: 2\n",
    "-->"
   ]
  },
  {
   "cell_type": "code",
   "execution_count": null,
   "metadata": {},
   "outputs": [],
   "source": [
    "def value_counts(vals):\n",
    "    unique_vals = ...\n",
    "    frequencies = ...\n",
    "    for val in unique_vals:\n",
    "        ...\n",
    "    return frequencies"
   ]
  },
  {
   "cell_type": "code",
   "execution_count": null,
   "metadata": {
    "deletable": false,
    "editable": false
   },
   "outputs": [],
   "source": [
    "grader.check(\"q3a\")"
   ]
  },
  {
   "cell_type": "markdown",
   "metadata": {},
   "source": [
    "### State of the Union Addresses\n",
    "\n",
    "**Note:** The rest of the cells in this question rely on your `value_counts` function being completed and correct. You will not have to write code in the rest of this question, but you'll need to answer a written question.\n",
    "\n",
    "Each year, the sitting US President delivers a [State of the Union](https://en.wikipedia.org/wiki/State_of_the_Union) (SOTU) address detailing the \"current condition of the nation\". In the remainder of this question, we will use your `value_counts` function to visualize the most common words in speeches by Presidents George (W.) Bush, Barack Obama, and Donald Trump.\n",
    "\n",
    "We will load in three lists:\n",
    "- `bush_sotu`, which contains all of the words used by George Bush in his **eight** SOTU speeches\n",
    "- `obama_sotu`, which contains all of the words used by Barack Obama in his **eight** SOTU speeches\n",
    "- `trump_sotu`, which contains all of the words used by Donald Trump in his **2017** SOTU speech only\n",
    "\n",
    "Run the cell below to read this information."
   ]
  },
  {
   "cell_type": "code",
   "execution_count": null,
   "metadata": {},
   "outputs": [],
   "source": [
    "bush_sotu = load_clean_split('data/bush-sotu.txt')\n",
    "print('words by Bush: ', len(bush_sotu))\n",
    "\n",
    "obama_sotu = load_clean_split('data/obama-sotu.txt')\n",
    "print('words by Obama: ', len(obama_sotu))\n",
    "\n",
    "trump_sotu = load_clean_split('data/trump-sotu.txt')\n",
    "print('words by Trump: ', len(trump_sotu))"
   ]
  },
  {
   "cell_type": "markdown",
   "metadata": {},
   "source": [
    "Let's take a look at `bush_sotu`:"
   ]
  },
  {
   "cell_type": "code",
   "execution_count": null,
   "metadata": {},
   "outputs": [],
   "source": [
    "bush_sotu"
   ]
  },
  {
   "cell_type": "markdown",
   "metadata": {},
   "source": [
    "There are lots of words here! As we mentioned before, we want to determine the number of occurrences of each word. Run the cell below to compute the frequency of each word in the speeches of Bush, Obama, and Trump. This cell may take up to 30 seconds to run."
   ]
  },
  {
   "cell_type": "code",
   "execution_count": null,
   "metadata": {},
   "outputs": [],
   "source": [
    "bush_dict = value_counts(bush_sotu)\n",
    "print('unique words by Bush: ', len(bush_dict))\n",
    "\n",
    "obama_dict = value_counts(obama_sotu)\n",
    "print('unique words by Obama: ', len(obama_dict))\n",
    "\n",
    "trump_dict = value_counts(trump_sotu)\n",
    "print('unique words by Trump: ', len(trump_dict))"
   ]
  },
  {
   "cell_type": "markdown",
   "metadata": {},
   "source": [
    "Note, there are far fewer unique words by Trump since we're only using the text of one of his speeches, while we're using the text from all eight of both Bush and Obama's speeches.\n",
    "\n",
    "Let's look at `bush_dict`:"
   ]
  },
  {
   "cell_type": "code",
   "execution_count": null,
   "metadata": {},
   "outputs": [],
   "source": [
    "bush_dict"
   ]
  },
  {
   "cell_type": "markdown",
   "metadata": {},
   "source": [
    "Dictionaries aren't ordered. However, we can extract two lists from the above dictionary, corresponding to words and their frequencies in sorted order. After doing so, we can visualize the frequencies of the most common words used by each President.\n",
    "\n",
    "Note, we're going to ignore some of the more common words like \"the\", \"that\", and \"its\" because they won't really tell us anything about the content of a President's speeches.\n",
    "\n",
    "Run the cell below to get things set up; don't worry about the code itself."
   ]
  },
  {
   "cell_type": "code",
   "execution_count": null,
   "metadata": {},
   "outputs": [],
   "source": [
    "words_to_ignore = ['the', 'and', 'to', 'of', 'in', 'we', 'a', 'our', 'is', 'that', 'will', 'for',\n",
    "                   'are', 'have', 'this', 'i', 'on', 'with', 'by', 'their', 'it', 'you', 'be', 'they',\n",
    "                   'not', 'from', 'must', 'all', 'has', 'so', 'as', 'can', 's', 'us', 'who', 'or', 'at',\n",
    "                   'them', 'these', 'an', 'new', 'he', 'him', 'his', 'she', 'her', 'hers', \n",
    "                   'but', 'was', 'my', 've', 'do', 'than', 'its', 't', 'nt', 're', 'if', 'also']\n",
    "\n",
    "def create_freq_df(words, counts):\n",
    "    df = Table().with_columns('word', words, 'count', counts).to_df()\n",
    "    return df[~df['word'].isin(words_to_ignore)].head(50)\n",
    "\n",
    "bush_table = create_freq_df(*sort_by_value(bush_dict))\n",
    "obama_table = create_freq_df(*sort_by_value(obama_dict))\n",
    "trump_table = create_freq_df(*sort_by_value(trump_dict))\n",
    "\n",
    "def plot_frequency(name):\n",
    "    name_to_table = {\n",
    "        'George Bush': bush_table,\n",
    "        'Barack Obama': obama_table,\n",
    "        'Donald Trump': trump_table\n",
    "    }\n",
    "    fig = px.bar(name_to_table[name], x = 'word', y = 'count', title = 'Frequency of words used by ' + name)\n",
    "    fig.show()\n",
    "    \n",
    "DEFAULT = 'George Bush'\n",
    "\n",
    "dropdown_pres = widgets.Dropdown(options = ['George Bush', 'Barack Obama', 'Donald Trump'],\n",
    "                                   value = DEFAULT)\n",
    "\n",
    "def dropdown_pres_eventhandler(change):\n",
    "    if change['name'] == 'value' and (change['new'] != change['old']):\n",
    "        clear_output()\n",
    "        display(dropdown_pres)\n",
    "        plot_frequency(change['new'])"
   ]
  },
  {
   "cell_type": "markdown",
   "metadata": {},
   "source": [
    "Finally, run this cell to produce an interactive visualization of word frequencies. You'll be able to change the President whose word counts we've visualizing via a dropdown menu."
   ]
  },
  {
   "cell_type": "code",
   "execution_count": null,
   "metadata": {},
   "outputs": [],
   "source": [
    "display(dropdown_pres)\n",
    "\n",
    "plot_frequency(DEFAULT)\n",
    "    \n",
    "dropdown_pres.observe(dropdown_pres_eventhandler)"
   ]
  },
  {
   "cell_type": "markdown",
   "metadata": {
    "deletable": false,
    "editable": false
   },
   "source": [
    "<!-- BEGIN QUESTION -->\n",
    "\n",
    "### Question 3b\n",
    "\n",
    "Look at the word frequencies for all three US Presidents in the plot above. Did you notice anything interesting? Try and find a word or two that one President used very frequently that other Presidents did not use very often. In the cell below, tell us which President and word(s) you found, and try and give a reason why.\n",
    "\n",
    "Note: there's no right answer here – we're just looking to make sure you played around with the plots above and thought about your answer. Have fun with it!\n",
    "\n",
    "<!--\n",
    "BEGIN QUESTION\n",
    "name: q3b\n",
    "points: 2\n",
    "manual: true\n",
    "-->"
   ]
  },
  {
   "cell_type": "markdown",
   "metadata": {},
   "source": [
    "_Type your answer here, replacing this text._"
   ]
  },
  {
   "cell_type": "markdown",
   "metadata": {},
   "source": [
    "<!-- END QUESTION -->\n",
    "\n",
    "\n",
    "\n",
    "## Question 4 – NumPy Fundamentals\n",
    "\n",
    "As we discussed in lecture, NumPy (pronounced \"num pie\") is one of the most important packages in Python for data science work. In this question, we'll take a closer look at a few functions in NumPy.\n",
    "\n",
    "Before working on this section you may want to make sure you understand the following key examples:"
   ]
  },
  {
   "cell_type": "code",
   "execution_count": null,
   "metadata": {},
   "outputs": [],
   "source": [
    "x = np.array([5, 9, 1, 0, -8, 6])\n",
    "y = np.arange(6)"
   ]
  },
  {
   "cell_type": "code",
   "execution_count": null,
   "metadata": {},
   "outputs": [],
   "source": [
    "2 * x - 5"
   ]
  },
  {
   "cell_type": "code",
   "execution_count": null,
   "metadata": {},
   "outputs": [],
   "source": [
    "x + y"
   ]
  },
  {
   "cell_type": "markdown",
   "metadata": {
    "deletable": false,
    "editable": false
   },
   "source": [
    "### Question 4a\n",
    "\n",
    "It is often said that \"one dog year is equal to seven human years.\" [This isn't entirely accurate](https://www.akc.org/expert-advice/health/how-to-calculate-dog-years-to-human-years/), but we will assume it is true for this question.\n",
    "\n",
    "Below, implement the function `dog_to_human`, which takes in an array of ages in dog years and outputs an array of human years (these are arrays – not lists!). Example behavior is shown below.\n",
    "\n",
    "```py\n",
    ">>> dog_to_human(np.array([3, 8, 11, 4, 9]))\n",
    "array([21, 56, 77, 28, 63])\n",
    "\n",
    ">>> dog_to_human(np.arange(10))\n",
    "array([0, 7, 14, 21, 28, 35, 42, 49, 56, 63, 72, 81])\n",
    "```\n",
    "\n",
    "\n",
    "**Here's the catch: you cannot use a for loop, and your function can only have one line.** This is not a trick question; it should be very straightforward given what we covered in lecture.\n",
    "\n",
    "_Hint: review how arithmetic operations work with arrays._\n",
    "\n",
    "<!--\n",
    "BEGIN QUESTION\n",
    "name: q4a\n",
    "points: 1\n",
    "-->"
   ]
  },
  {
   "cell_type": "code",
   "execution_count": null,
   "metadata": {},
   "outputs": [],
   "source": [
    "def dog_to_human(ages):\n",
    "    ..."
   ]
  },
  {
   "cell_type": "code",
   "execution_count": null,
   "metadata": {
    "deletable": false,
    "editable": false
   },
   "outputs": [],
   "source": [
    "grader.check(\"q4a\")"
   ]
  },
  {
   "cell_type": "markdown",
   "metadata": {
    "deletable": false,
    "editable": false
   },
   "source": [
    "### Question 4b\n",
    "\n",
    "Suppose you're a waiter, and you've kept track of all of the bills you've given to tables along with the tips they gave you over a period of time in two separate arrays, `bills` and `tips`. One number of interest to you is the tip percentage each table gave you. Tip percentages are calculated according to the formula\n",
    "\n",
    "$$\\text{Tip Percentage} = 100 \\cdot \\frac{\\text{Tip}}{\\text{Bill}}$$\n",
    "\n",
    "Below, implement the function `tip_percentage`, which takes in two arrays `bills` and `tips` and returns an array of tip percentages. Example behavior is shown below.\n",
    "\n",
    "```py\n",
    ">>> tip_percentage(np.array([25, 50, 75]), np.array([15, 15, 15]))\n",
    "array([60., 30., 20.])\n",
    "# Note: 60. is the same as 60.0; numpy is just weird\n",
    "\n",
    ">>> tip_percentage(np.array([50, 70, 100, 95, 25]), np.array([10, 10, 25, 35, 7]))\n",
    "array([20., 14.28571429, 25., 36.84210526, 28.])\n",
    "```\n",
    "\n",
    "**Again, you cannot use a for loop, and your function can only have one line.**\n",
    "\n",
    "<!--\n",
    "BEGIN QUESTION\n",
    "name: q4b\n",
    "points: 1\n",
    "-->"
   ]
  },
  {
   "cell_type": "code",
   "execution_count": null,
   "metadata": {},
   "outputs": [],
   "source": [
    "def tip_percentage(bills, tips):\n",
    "    ..."
   ]
  },
  {
   "cell_type": "code",
   "execution_count": null,
   "metadata": {
    "deletable": false,
    "editable": false
   },
   "outputs": [],
   "source": [
    "grader.check(\"q4b\")"
   ]
  },
  {
   "cell_type": "markdown",
   "metadata": {},
   "source": [
    "### Question 4c\n",
    "\n",
    "The [Basel problem](https://en.wikipedia.org/wiki/Basel_problem) was a mathematical challenge first issued in 1650. The challenge was to determine the value of the following infinite sum, which we'll call the \"Basel sum\":\n",
    "\n",
    "$$\\sum_{k = 1}^n \\frac{1}{k^2} = \\frac{1}{1^2} + \\frac{1}{2^2} + \\frac{1}{3^2} + \\frac{1}{4^2} + \\frac{1}{5^2} + ... + \\frac{1}{10000^2} + ...$$"
   ]
  },
  {
   "cell_type": "markdown",
   "metadata": {},
   "source": [
    "Leonard Euler (the same person who $e$ is named after) determined the value of the Basel sum is exactly $\\frac{\\pi^2}{6}$.\n",
    "\n",
    "In this subpart, we'll try and prove to ourselves that Euler is right, without using any fancy math. Instead, we'll use what we know about for loops and arrays – and along the way, we'll show you how much faster `numpy` arrays are at certain tasks than for loops.\n",
    "\n",
    "First, we should acknowledge that while the above sum is infinite, computers don't understand the idea of infinity. So we'll have to settle for summing a lot terms of the above summation and checking to see if the result is close to $\\frac{\\pi^2}{6}$. We'll sum ten million (`10**7`) terms.\n",
    "\n",
    "#### For Loop\n",
    "\n",
    "First, we'll sum ten million terms of the Basel sum using a for loop, and store our answer in `basel_sum_for`. This has already been done for you, just run the following cell."
   ]
  },
  {
   "cell_type": "code",
   "execution_count": null,
   "metadata": {},
   "outputs": [],
   "source": [
    "%%time\n",
    "\n",
    "basel_sum_for = 0\n",
    "for i in range(1, 10**7 + 1):\n",
    "    basel_sum_for += 1 / (i**2)\n",
    "    \n",
    "print('result using for loop: ', basel_sum_for, '\\n\\n')"
   ]
  },
  {
   "cell_type": "markdown",
   "metadata": {},
   "source": [
    "The number next to `total:` above tells us the amount of time it took to run the above cell.\n",
    "\n",
    "The resulting value does look pretty close to $\\frac{\\pi^2}{6}$:"
   ]
  },
  {
   "cell_type": "code",
   "execution_count": null,
   "metadata": {},
   "outputs": [],
   "source": [
    "# np.pi is a variable built into numpy\n",
    "\n",
    "(np.pi ** 2) / 6"
   ]
  },
  {
   "cell_type": "markdown",
   "metadata": {
    "deletable": false,
    "editable": false
   },
   "source": [
    "#### Arrays\n",
    "\n",
    "Now, instead of using a for loop, it's your turn to compute the Basel sum using an array.\n",
    "\n",
    "Below, assign `basel_array` to an array with ten million elements, each of which is one term of the Basel sum sequence. `basel_array[0]` should be $\\frac{1}{1^2}$, `basel_array[1]` should be $\\frac{1}{2^2}$, and so on.\n",
    "\n",
    "After you assign `basel_array` correctly, assign `basel_sum_arr` to the sum of your ten million-element array `basel_arr`, using `np.sum`. The result you get should be very close to `basel_sum_for`.\n",
    "\n",
    "**To compute `basel_arr`, start by calling `np.arange` with the arguments that were used with `range` in the for loop above. Both `basel_arr` and `basel_arr_sum` should be computed in one line each!**\n",
    "\n",
    "<!--\n",
    "BEGIN QUESTION\n",
    "name: q4c\n",
    "points: 2\n",
    "-->"
   ]
  },
  {
   "cell_type": "code",
   "execution_count": null,
   "metadata": {},
   "outputs": [],
   "source": [
    "%%time\n",
    "\n",
    "basel_arr = ...\n",
    "    \n",
    "basel_sum_arr = ...\n",
    "print('result using numpy arrays: ', basel_sum_arr, '\\n\\n')"
   ]
  },
  {
   "cell_type": "code",
   "execution_count": null,
   "metadata": {
    "deletable": false,
    "editable": false
   },
   "outputs": [],
   "source": [
    "grader.check(\"q4c\")"
   ]
  },
  {
   "cell_type": "markdown",
   "metadata": {},
   "source": [
    "If you did things correctly, you should see that `basel_sum_arr` is pretty close to `basel_sum_for`. However, the time it took for `basel_sum_arr` to be computed is roughly a quarter of the time it took for `basel_sum_for` to be computed! Hopefully, this drives home the point that `numpy` arrays are quite powerful."
   ]
  },
  {
   "cell_type": "markdown",
   "metadata": {},
   "source": [
    "## Question 5 – #nofilter\n",
    "\n",
    "In this question, you will write code that applies greyscale, sepia, and x-ray filters to images! Run the cell below to get started."
   ]
  },
  {
   "cell_type": "code",
   "execution_count": null,
   "metadata": {
    "scrolled": true
   },
   "outputs": [],
   "source": [
    "# Don't worry about what this code is doing, just run it.\n",
    "def show_image(image_array):\n",
    "    plt.figure(figsize = (10, 5))\n",
    "    plt.imshow(image_array)\n",
    "    plt.axis('off');\n",
    "    \n",
    "campanile = skio.imread('images/campanile.jpg')\n",
    "show_image(campanile)\n",
    "print('Our beautiful campus.')"
   ]
  },
  {
   "cell_type": "markdown",
   "metadata": {},
   "source": [
    "Images are made up of pixels. One of the most common ways to represent the color of a pixel is using the RGB format. In RGB, each color is described by three numbers – a red (R) value, a green (G) value, and a blue (B) value – each describing the \"amount\" of that base color that is present. The larger R is, the more red there is.\n",
    "\n",
    "R, G, and B are each numbers between 0 and 255 inclusive, and we often express them together in a list or array (in the order R, then G, then B). So for example, `[255, 0, 0]` refers to the color red, and `[92, 45, 99]` refers to a dark-ish purple. [This tool](https://convertingcolors.com/rgb-color-92_45_99.html?search=RGB(92,%2045,%2099)) helps visualize what different RGB values look like.\n",
    "\n",
    "<img src='images/rgbmodel.jpg' width = 250>\n",
    "\n",
    "One way to apply filters to images is to apply mathematical functions to R, G, and B to calculate a new color for each pixel. That's exactly what you'll do in this question.\n",
    "\n",
    "**Note:** The code in this problem looks deceptively long and complicated – you only have to fill in ~7 lines total."
   ]
  },
  {
   "cell_type": "markdown",
   "metadata": {
    "deletable": false,
    "editable": false
   },
   "source": [
    "### Question 5a – Greyscale filter\n",
    "\n",
    "The greyscale filter works like this:\n",
    "\n",
    "$$\n",
    "\\begin{align*}\n",
    "\\text{new R} &= \\frac{\\text{old R} + \\text{old G} + \\text{old B}}{3} \\\\\n",
    "\\text{new G} &= \\text{new B} = \\text{new R}\n",
    "\\end{align*}\n",
    "$$\n",
    "\n",
    "That is, to convert a pixel to greyscale, you average its R, G, and B values.\n",
    "\n",
    "Below, complete the implementation of `greyscale_filter`, which takes in an `np.array` `pixel` and returns a new `np.array` whose values are converted to greyscale. Example behavior is shown below.\n",
    "\n",
    "```py\n",
    ">>> greyscale_filter(np.array([50, 100, 150]))\n",
    "array([100., 100., 100.])\n",
    "\n",
    ">>> greyscale_filter(np.array([132, 213, 100]))\n",
    "array([148.33333333, 148.33333333, 148.33333333])\n",
    "```\n",
    "\n",
    "**Note:** Do not write `(pixel[0] + pixel[1] + pixel[2]) / 3`! Instead, use `np.mean`, a function which takes in an array and returns the mean of all values in the array.\n",
    "\n",
    "<!--\n",
    "BEGIN QUESTION\n",
    "name: q5a\n",
    "points: 1\n",
    "-->"
   ]
  },
  {
   "cell_type": "code",
   "execution_count": null,
   "metadata": {},
   "outputs": [],
   "source": [
    "def greyscale_filter(pixel):\n",
    "    # Don't add any more lines!\n",
    "    average = ...\n",
    "    return np.array([average, average, average])"
   ]
  },
  {
   "cell_type": "code",
   "execution_count": null,
   "metadata": {
    "deletable": false,
    "editable": false
   },
   "outputs": [],
   "source": [
    "grader.check(\"q5a\")"
   ]
  },
  {
   "cell_type": "markdown",
   "metadata": {},
   "source": [
    "Now that you've implemented your first filter function, it's time to see it in action. Run the cell below to convert our Campanile image to greyscale and display it. It may take ~10 seconds."
   ]
  },
  {
   "cell_type": "code",
   "execution_count": null,
   "metadata": {},
   "outputs": [],
   "source": [
    "# Don't worry about what this code is doing, just run it.\n",
    "def apply_filter_to_image(image, filter_fn):\n",
    "    new_image = np.zeros(image.shape)\n",
    "    for x in range(image.shape[0]):\n",
    "        for y in range(image.shape[1]):\n",
    "            new_image[x][y] = filter_fn(image[x][y])\n",
    "    \n",
    "    return new_image.astype(int)\n",
    "\n",
    "campanile_greyscale = apply_filter_to_image(campanile, greyscale_filter)\n",
    "\n",
    "show_image(campanile_greyscale)"
   ]
  },
  {
   "cell_type": "markdown",
   "metadata": {},
   "source": [
    "Cool!"
   ]
  },
  {
   "cell_type": "markdown",
   "metadata": {
    "deletable": false,
    "editable": false
   },
   "source": [
    "### Question 5b – X-Ray filter\n",
    "\n",
    "Another fun filter is the x-ray filter, which follows this rule:\n",
    "\n",
    "$$\n",
    "\\begin{align*}\n",
    "\\text{new R} &= 255 - \\frac{\\text{old R} + \\text{old G} + \\text{old B}}{3} \\\\\n",
    "\\text{new G} &= \\text{new B} = \\text{new R}\n",
    "\\end{align*}\n",
    "$$\n",
    "\n",
    "\n",
    "Below, complete the implementation of `xray_filter`, which takes in an `np.array` `pixel` and returns a new `np.array` whose values are converted to x-ray. Example behavior is shown below.\n",
    "\n",
    "```py\n",
    ">>> xray_filter(np.array([50, 100, 150]))\n",
    "array([155., 155., 155.])\n",
    "\n",
    ">>> xray_filter(np.array([132, 213, 100]))\n",
    "array([106.66666667, 106.66666667, 106.66666667])\n",
    "```\n",
    "\n",
    "**Note:** `xray_filter` can be written in terms of `greyscale_filter`! In your work, you should not call `np.mean` or index into `pixel` at all. Instead, call `xray_filter` and see how you can use the properties of arrays to compute the rule above.\n",
    "\n",
    "_Hint: `5 - np.array([1, 2, 3])` evaluates to `np.array([4, 3, 2])`._\n",
    "\n",
    "<!--\n",
    "BEGIN QUESTION\n",
    "name: q5b\n",
    "points: 1\n",
    "-->"
   ]
  },
  {
   "cell_type": "code",
   "execution_count": null,
   "metadata": {},
   "outputs": [],
   "source": [
    "def xray_filter(pixel):\n",
    "    # Don't add any more lines!\n",
    "    greyscale = ...\n",
    "    xray = ...\n",
    "    return xray"
   ]
  },
  {
   "cell_type": "code",
   "execution_count": null,
   "metadata": {
    "deletable": false,
    "editable": false
   },
   "outputs": [],
   "source": [
    "grader.check(\"q5b\")"
   ]
  },
  {
   "cell_type": "markdown",
   "metadata": {},
   "source": [
    "Let's see what the x-ray filter looks like:"
   ]
  },
  {
   "cell_type": "code",
   "execution_count": null,
   "metadata": {},
   "outputs": [],
   "source": [
    "# Run this cell.\n",
    "campanile_xray = apply_filter_to_image(campanile, xray_filter)\n",
    "show_image(campanile_xray)"
   ]
  },
  {
   "cell_type": "markdown",
   "metadata": {},
   "source": [
    "Spooky!"
   ]
  },
  {
   "cell_type": "markdown",
   "metadata": {},
   "source": [
    "### Question 5c – Sepia filter\n",
    "\n",
    "The last filter we will apply is the [sepia](https://raw.pics.io/sepia-image) filter, which will give our images a \"historic\" feel. The sepia filter follows this more complicated rule:\n",
    "\n",
    "$$\n",
    "\\begin{align*}\n",
    "\\text{new R} &= (0.393 \\cdot \\text{old R}) + (0.769 \\cdot \\text{old G}) + (0.189 \\cdot \\text{old B}) \\\\\n",
    "\\text{new G} &= (0.349 \\cdot \\text{old R}) + (0.686 \\cdot \\text{old G}) + (0.168 \\cdot \\text{old B}) \\\\\n",
    "\\text{new B} &= (0.272 \\cdot \\text{old R}) + (0.534 \\cdot \\text{old G}) + (0.131 \\cdot \\text{old B})\n",
    "\\end{align*}\n",
    "$$\n",
    "\n",
    "If any of $\\text{new R}$, $\\text{new G}$, or $\\text{new B}$ are greater than 255, we set them equal to 255.\n",
    "\n",
    "In this question you will implement `sepia_filter` – but we want to let you know of a few `numpy` functions that you need to use (that will make your life easy)!\n",
    "\n",
    "The first of these is `np.dot`. `np.dot` takes in two arrays, multiplies their elements pairwise, and sums together the result. If `x` and `y` are two arrays, `np.dot(x, y)` calculates `x[0]*y[0] + x[1]*y[1] + x[2]*y[2] + ...`. Here's an example:"
   ]
  },
  {
   "cell_type": "code",
   "execution_count": null,
   "metadata": {},
   "outputs": [],
   "source": [
    "a = np.array([5, 1, 2])\n",
    "b = np.array([1, -1, 4])\n",
    "\n",
    "# Equal to 5*1 + 1*(-1) + 2 * 4\n",
    "np.dot(a, b)"
   ]
  },
  {
   "cell_type": "markdown",
   "metadata": {},
   "source": [
    "You should use `np.dot` to calculate $\\text{new R}$, $\\text{new G}$, and $\\text{new B}$; it is **way** easier than manually writing out the formulas.\n",
    "\n",
    "The other function we want you to know about is `np.clip`. `np.clip` takes in three arguments: an array, a lower bound, and an upper bound. It returns a new array where every element less than the lower bound is replaced with the lower bound, and every element greater than the upper bound is replaced with the upper bound. Here's an example:"
   ]
  },
  {
   "cell_type": "code",
   "execution_count": null,
   "metadata": {},
   "outputs": [],
   "source": [
    "numbers = np.array([15, -1, 25, 18, 26, 4, 5, -4])\n",
    "\n",
    "np.clip(numbers, 0, 20)"
   ]
  },
  {
   "cell_type": "markdown",
   "metadata": {
    "deletable": false,
    "editable": false
   },
   "source": [
    "In the cell below, complete the implementation of `sepia_filter`. Example behavior is shown below.\n",
    "\n",
    "```py\n",
    ">>> sepia_filter(np.array([50, 100, 150]))\n",
    "array([124.9 , 111.25,  86.65])\n",
    "\n",
    ">>> sepia_filter(np.array([132, 213, 100]))\n",
    "array([234.573, 208.986, 162.746])\n",
    "```\n",
    "\n",
    "<!--\n",
    "BEGIN QUESTION\n",
    "name: q5c\n",
    "points: 2\n",
    "-->"
   ]
  },
  {
   "cell_type": "code",
   "execution_count": null,
   "metadata": {},
   "outputs": [],
   "source": [
    "def sepia_filter(pixel):\n",
    "    # Don't change any of red_coef, green_coef, or blue_coef\n",
    "    red_coef = np.array([0.393, 0.769, 0.189])\n",
    "    green_coef = np.array([0.349, 0.686, 0.168])\n",
    "    blue_coef = np.array([0.272, 0.534, 0.131])\n",
    "    \n",
    "    # Use np.dot somewhere here!\n",
    "    new_red = np.dot(pixel, red_coef)\n",
    "    new_green = ...\n",
    "    new_blue = ...\n",
    "    \n",
    "    new_pixel = np.array([new_red, new_green, new_blue])\n",
    "    \n",
    "    # Use np.clip somewhere here!\n",
    "    new_pixel_clipped = ...\n",
    "\n",
    "    # Don't change this\n",
    "    return new_pixel_clipped"
   ]
  },
  {
   "cell_type": "code",
   "execution_count": null,
   "metadata": {
    "deletable": false,
    "editable": false
   },
   "outputs": [],
   "source": [
    "grader.check(\"q5c\")"
   ]
  },
  {
   "cell_type": "markdown",
   "metadata": {},
   "source": [
    "Time to enjoy the fruits of our labor once again:"
   ]
  },
  {
   "cell_type": "code",
   "execution_count": null,
   "metadata": {},
   "outputs": [],
   "source": [
    "# Run this cell\n",
    "campanile_sepia = apply_filter_to_image(campanile, sepia_filter)\n",
    "show_image(campanile_sepia)"
   ]
  },
  {
   "cell_type": "markdown",
   "metadata": {},
   "source": [
    "### Fun Demo\n",
    "\n",
    "Now that you've done all of the work necessary to implement three cool filters, it's only right that you get the chance to try them out on your own images.\n",
    "\n",
    "**First**, run this cell. It will show you an \"Upload\" button which you can click to upload an image from your computer. **You must upload a `.jpg` image!** It will also show you a dropdown menu which will allow you to select from one of the three filters we created in this question. (Smaller images work faster.)"
   ]
  },
  {
   "cell_type": "code",
   "execution_count": null,
   "metadata": {},
   "outputs": [],
   "source": [
    "def extract_array_from_upload(uploader):\n",
    "    content = list(uploader.value.values())[0]['content']\n",
    "    img = Image.open(io.BytesIO(content))\n",
    "    arr = np.asarray(img)\n",
    "    return arr\n",
    "\n",
    "uploader = widgets.FileUpload(\n",
    "    accept='.jpg',\n",
    "    multiple=False\n",
    ")\n",
    "\n",
    "filter_select = widgets.Dropdown(\n",
    "    options=['greyscale', 'x-ray', 'sepia'],\n",
    "    value='sepia'\n",
    ")\n",
    "\n",
    "display(uploader)\n",
    "display(filter_select)"
   ]
  },
  {
   "cell_type": "markdown",
   "metadata": {},
   "source": [
    "Then, run the following cell to perform all of the necessary computation and output your filtered image."
   ]
  },
  {
   "cell_type": "code",
   "execution_count": null,
   "metadata": {},
   "outputs": [],
   "source": [
    "original_image = extract_array_from_upload(uploader)\n",
    "print('Original image:')\n",
    "show_image(original_image)\n",
    "plt.show()\n",
    "\n",
    "filter_map = {'greyscale': greyscale_filter, 'x-ray': xray_filter, 'sepia': sepia_filter}\n",
    "image_converted = (apply_filter_to_image(original_image, filter_map[filter_select.value]))\n",
    "print('Filtered image')\n",
    "show_image(image_converted)"
   ]
  },
  {
   "cell_type": "markdown",
   "metadata": {},
   "source": [
    "Who needs Instagram? 😎"
   ]
  },
  {
   "cell_type": "markdown",
   "metadata": {},
   "source": [
    "# Done!\n",
    "\n",
    "Congrats! You've finished another Data 94 homework assignment!\n",
    "\n",
    "To submit your work, follow the steps outlined on Ed.\n",
    "\n",
    "The point breakdown for this assignment is given in the table below:\n",
    "\n",
    "| **Category** | Points |\n",
    "| --- | --- |\n",
    "| Autograder | 19 |\n",
    "| Written (Question 3b) | 2 |\n",
    "| **Total** | 21 |"
   ]
  },
  {
   "cell_type": "markdown",
   "metadata": {
    "deletable": false,
    "editable": false
   },
   "source": [
    "---\n",
    "\n",
    "To double-check your work, the cell below will rerun all of the autograder tests."
   ]
  },
  {
   "cell_type": "code",
   "execution_count": null,
   "metadata": {
    "deletable": false,
    "editable": false
   },
   "outputs": [],
   "source": [
    "grader.check_all()"
   ]
  },
  {
   "cell_type": "markdown",
   "metadata": {
    "deletable": false,
    "editable": false
   },
   "source": [
    "## Submission\n",
    "\n",
    "Make sure you have run all cells in your notebook in order before running the cell below, so that all images/graphs appear in the output. The cell below will generate a zip file for you to submit. **Please save before exporting!**"
   ]
  },
  {
   "cell_type": "code",
   "execution_count": null,
   "metadata": {
    "deletable": false,
    "editable": false
   },
   "outputs": [],
   "source": [
    "# Save your notebook first, then run this cell to export your submission.\n",
    "grader.export()"
   ]
  },
  {
   "cell_type": "markdown",
   "metadata": {},
   "source": [
    " "
   ]
  }
 ],
 "metadata": {
  "kernelspec": {
   "display_name": "Python 3",
   "language": "python",
   "name": "python3"
  },
  "language_info": {
   "codemirror_mode": {
    "name": "ipython",
    "version": 3
   },
   "file_extension": ".py",
   "mimetype": "text/x-python",
   "name": "python",
   "nbconvert_exporter": "python",
   "pygments_lexer": "ipython3",
   "version": "3.9.1"
  }
 },
 "nbformat": 4,
 "nbformat_minor": 2
}

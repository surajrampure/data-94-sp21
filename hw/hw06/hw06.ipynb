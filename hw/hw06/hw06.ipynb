{
 "cells": [
  {
   "cell_type": "code",
   "execution_count": null,
   "metadata": {
    "deletable": false,
    "editable": false
   },
   "outputs": [],
   "source": [
    "# Initialize Otter\n",
    "import otter\n",
    "grader = otter.Notebook(\"hw06.ipynb\")"
   ]
  },
  {
   "cell_type": "markdown",
   "metadata": {},
   "source": [
    "# Homework 6 – Advanced Table Methods 🍔\n",
    "\n",
    "## Data 94, Spring 2021\n",
    "\n",
    "This homework is due on **Sunday, March 21st at 11:59PM. Though the assignment is due after the quiz, you should finish it before the quiz as all of the content on it is in scope.** You must submit the assignment to Gradescope. Submission instructions can be found at the bottom of this notebook. See the [syllabus](http://data94.org/syllabus/#late-policy-and-extensions) for our late submission policy."
   ]
  },
  {
   "cell_type": "code",
   "execution_count": null,
   "metadata": {},
   "outputs": [],
   "source": [
    "# Run this cell.\n",
    "from datascience import *\n",
    "import numpy as np\n",
    "import matplotlib.pyplot as plt\n",
    "%matplotlib inline\n",
    "import plotly.express as px\n",
    "import seaborn as sns"
   ]
  },
  {
   "cell_type": "markdown",
   "metadata": {},
   "source": [
    "## The Data\n",
    "\n",
    "In this assignment we will explore several 2020 restaurant rankings from [Restaurant Business Online](https://www.restaurantbusinessonline.com) (RBO).\n",
    "\n",
    "Our data is split across three different CSV files, each of which contains a different set of restaurants and different ranking methodology. Run the cell below to load in our data as tables."
   ]
  },
  {
   "cell_type": "code",
   "execution_count": null,
   "metadata": {},
   "outputs": [],
   "source": [
    "future = Table.read_table('data/Future50.csv')\n",
    "\n",
    "independents = Table.read_table('data/Independents100.csv')\n",
    "# This fixes the format of the Sales column; don't worry about it.\n",
    "independents = independents.with_columns(\n",
    "    'Sales', independents.apply(int, 'Sales')\n",
    ")\n",
    "\n",
    "chains = Table.read_table('data/Top250.csv')"
   ]
  },
  {
   "cell_type": "markdown",
   "metadata": {},
   "source": [
    "The `future` table contains information about the 50 fastest growing restaurant chains in the US whose yearly sales are between \\\\$25 and \\\\$50 million. The table is sorted by percentage change in sales from 2019 to 2020 (`'YOY_Sales'`; YOY stands for \"Year-over-Year\") in decreasing order. The `'Location'` column refers to the city where the chain is headquartered, not to any specific location.\n",
    "\n",
    "Run the cell below to take a look at the `future` table, and [click here](https://www.restaurantbusinessonline.com/future-50) to see the ranking on RBO's website."
   ]
  },
  {
   "cell_type": "code",
   "execution_count": null,
   "metadata": {},
   "outputs": [],
   "source": [
    "future"
   ]
  },
  {
   "cell_type": "markdown",
   "metadata": {},
   "source": [
    "The `independents` table contains information about the 100 highest-grossing independent restaurants in the US, sorted by sales (`'Sales'`) in decreasing order. A restaurant is classified as \"independent\" if it has fewer than five locations; unlike in the `future` table, the `'City'` column here corresponds to the location of the restaurant. \n",
    "\n",
    "Run the cell below to take a look at the `independents` table, and [click here](https://www.restaurantbusinessonline.com/top-100-independents-2019) to see the ranking on RBO's website."
   ]
  },
  {
   "cell_type": "code",
   "execution_count": null,
   "metadata": {},
   "outputs": [],
   "source": [
    "independents"
   ]
  },
  {
   "cell_type": "markdown",
   "metadata": {},
   "source": [
    "Finally, the `chains` table contains information about the 250 largest restaurant chains in the US, sorted by sales (`'Sales'`) in decreasing order. \n",
    "\n",
    "Run the cell below to take a look at the `chains` table, and [click here](https://www.restaurantbusinessonline.com/top-500-chains) to see the ranking on RBO's website.\n",
    "\n",
    "(Note: Here, sales are measured in millions, so McDonald's sales value of `40412` really means \\$40.4 billion dollars.)"
   ]
  },
  {
   "cell_type": "code",
   "execution_count": null,
   "metadata": {},
   "outputs": [],
   "source": [
    "chains"
   ]
  },
  {
   "cell_type": "markdown",
   "metadata": {},
   "source": [
    "## Question 1 – Chains 🍟\n",
    "\n",
    "Let's start by asking questions about the `chains` table; we'll take a closer look at our other two tables later."
   ]
  },
  {
   "cell_type": "markdown",
   "metadata": {},
   "source": [
    "### Question 1a"
   ]
  },
  {
   "cell_type": "markdown",
   "metadata": {
    "deletable": false,
    "editable": false
   },
   "source": [
    "The `chains` table has many columns that we aren't going to look at. Below, modify `chains` so that it only has the columns `'Rank'`, `'Restaurant'`, `'Sales'`, `'YOY_Sales'`, and `'Segment_Category'`. (We told you to avoid doing this in lecture, but in this case we are certainly not going to use any of the other columns, so dropping them is fine.) \n",
    "\n",
    "<!--\n",
    "BEGIN QUESTION\n",
    "name: q1a\n",
    "points: 1\n",
    "-->"
   ]
  },
  {
   "cell_type": "code",
   "execution_count": null,
   "metadata": {},
   "outputs": [],
   "source": [
    "chains = ...\n",
    "chains"
   ]
  },
  {
   "cell_type": "code",
   "execution_count": null,
   "metadata": {
    "deletable": false,
    "editable": false
   },
   "outputs": [],
   "source": [
    "grader.check(\"q1a\")"
   ]
  },
  {
   "cell_type": "markdown",
   "metadata": {
    "deletable": false,
    "editable": false
   },
   "source": [
    "### Question 1b\n",
    "\n",
    "What are the most popular segment categories in `chains`?\n",
    "\n",
    "Below, assign `segment_counts` to a table with two columns, `'Segment_Category'` and `'count'`. Each row should correspond to one `'Segment_Category'`, and `'count'` should describe the number of restaurants with that `'Segment_Category'` in `chains`. Your table should be sorted by `'count'` in decreasing order, so that the first row corresponds to the most common segment category.\n",
    "\n",
    "The first five rows of `segment_counts` should look like this:\n",
    "\n",
    "| Segment_Category       |   count |\n",
    "|-----------------------:|--------:|\n",
    "| Varied Menu            |      22 |\n",
    "| Mexican                |      14 |\n",
    "| Quick Service & Burger |      13 |\n",
    "| Burger                 |      10 |\n",
    "| Family Style           |      10 |\n",
    "\n",
    "_Hint: Use `.group` and then `.sort`._\n",
    "\n",
    "<!--\n",
    "BEGIN QUESTION\n",
    "name: q1b\n",
    "points: 2\n",
    "-->"
   ]
  },
  {
   "cell_type": "code",
   "execution_count": null,
   "metadata": {},
   "outputs": [],
   "source": [
    "segment_counts = ...\n",
    "segment_counts"
   ]
  },
  {
   "cell_type": "code",
   "execution_count": null,
   "metadata": {
    "deletable": false,
    "editable": false
   },
   "outputs": [],
   "source": [
    "grader.check(\"q1b\")"
   ]
  },
  {
   "cell_type": "markdown",
   "metadata": {
    "deletable": false,
    "editable": false
   },
   "source": [
    "### Question 1c\n",
    "\n",
    "In the previous question, we determined that the segment category that appeared most often was `'Varied Menu'`. It's not immediately obvious what that means!\n",
    "\n",
    "Below, assign `varied_menu_only` to a table with only the rows in `chains` where the segment category was `'Varied Menu'`. Don't sort or make any other modifications.\n",
    "\n",
    "<!--\n",
    "BEGIN QUESTION\n",
    "name: q1c\n",
    "points: 1\n",
    "-->"
   ]
  },
  {
   "cell_type": "code",
   "execution_count": null,
   "metadata": {},
   "outputs": [],
   "source": [
    "varied_menu_only = ...\n",
    "varied_menu_only"
   ]
  },
  {
   "cell_type": "code",
   "execution_count": null,
   "metadata": {
    "deletable": false,
    "editable": false
   },
   "outputs": [],
   "source": [
    "grader.check(\"q1c\")"
   ]
  },
  {
   "cell_type": "markdown",
   "metadata": {
    "deletable": false,
    "editable": false
   },
   "source": [
    "<!-- BEGIN QUESTION -->\n",
    "\n",
    "### Question 1d\n",
    "\n",
    "Comment on the restaurants you see in the `varied_menu_only` table above. Touch on the following points:\n",
    "- What is the overall rank of the highest ranked `'Varied Menu'` restaurant?\n",
    "- Have you heard of any of these restaurants before? Have you been to any of them?\n",
    "- Google some of the top few restaurants to get a sense of the kind of food and drink they serve and whether they're fast-food or sit-down. Come up with a single sentence that describes the majority of these restaurants.\n",
    "\n",
    "We're not looking for anything specific here – we really just want to make sure you're thinking about what the data represents, rather than viewing it as a bunch of numbers.\n",
    "\n",
    "<!--\n",
    "BEGIN QUESTION\n",
    "name: q1d\n",
    "points: 2\n",
    "manual: true\n",
    "-->"
   ]
  },
  {
   "cell_type": "markdown",
   "metadata": {},
   "source": [
    "_Type your answer here, replacing this text._"
   ]
  },
  {
   "cell_type": "markdown",
   "metadata": {
    "deletable": false,
    "editable": false
   },
   "source": [
    "<!-- END QUESTION -->\n",
    "\n",
    "### Question 1e\n",
    "\n",
    "In the last two subparts we looked at the most common segment categories in `chains`. But what if we're interested in determining the segment categories that averaged the most sales?\n",
    "\n",
    "Below, assign `top_selling_segments` to a table with two columns, `'Segment_Category'` and `'Average Sales'`, such that:\n",
    "- Each row corresponds to a single segment category, and the `'Average Sales'` column contains the average (mean) sales for each category.\n",
    "- Only the segment categories with average sales of over \\\\$2.5 billion dollars are included. (Note, \\\\$2.5 billion is equivalent to `2500` in our data's units.)\n",
    "- Rows are sorted by `'Average Sales'` in decreasing order.\n",
    "\n",
    "The first few rows of `top_selling_segments` should look like this:\n",
    "\n",
    "| Segment_Category            |   Average Sales |\n",
    "|----------------------------:|----------------:|\n",
    "| Quick Service & Coffee Cafe |         7972.25 |\n",
    "| Quick Service & Burger      |         6106.46 |\n",
    "| Quick Service & Mexican     |         6071.5  |\n",
    "\n",
    "_Hint: Our answer uses `.group`, `.sort`, `.where`. `.select`, and `.relabel`. There's no need to fit everything on one line – as long as your final answer is stored in `top_selling_segments`, you can take as many lines as you need and do things in whatever order you like._\n",
    "\n",
    "<!--\n",
    "BEGIN QUESTION\n",
    "name: q1e\n",
    "points: 3\n",
    "-->"
   ]
  },
  {
   "cell_type": "code",
   "execution_count": null,
   "metadata": {},
   "outputs": [],
   "source": [
    "top_selling_segments = ...\n",
    "top_selling_segments"
   ]
  },
  {
   "cell_type": "code",
   "execution_count": null,
   "metadata": {
    "deletable": false,
    "editable": false
   },
   "outputs": [],
   "source": [
    "grader.check(\"q1e\")"
   ]
  },
  {
   "cell_type": "markdown",
   "metadata": {},
   "source": [
    "### Question 1f\n",
    "\n",
    "So far, we haven't really looked at the `'YOY_Sales'` column in `chains`. Remember, the values in `'YOY_Sales'` tell us the percentage change in sales from 2019 to 2020 for each restaurant chain (YOY means \"Year-over-Year\"); a `'YOY_Sales'` value of 8.6% means the restaurant earned 8.6% more in sales in 2020 than it did in 2019."
   ]
  },
  {
   "cell_type": "code",
   "execution_count": null,
   "metadata": {},
   "outputs": [],
   "source": [
    "# Returns an array of the first five elements in the YOY_Sales column just for us to see\n",
    "chains.column('YOY_Sales').take(np.arange(5))"
   ]
  },
  {
   "cell_type": "markdown",
   "metadata": {},
   "source": [
    "Since the values in the `'YOY_Sales'` column are stored as strings, not numbers, we can't reliably sort by `'YOY_Sales'`. (Try it out – if you sort by `'YOY_Sales'` in decreasing order, it will tell you the highest `'YOY_Sales'` any restaurant had was 9.9%, though there are several restaurants with `'YOY_Sales'` values of over 10%.)"
   ]
  },
  {
   "cell_type": "code",
   "execution_count": null,
   "metadata": {},
   "outputs": [],
   "source": [
    "# Use this cell for experimentation, if you want!"
   ]
  },
  {
   "cell_type": "markdown",
   "metadata": {},
   "source": [
    "We're going to try something different. Instead of converting `'YOY_Sales'` into a number, we're going to place the values in `'YOY_Sales'` into one of five categories:\n",
    "\n",
    "| Growth Category | Year-over-Year Sales (\\%) |\n",
    "| --- | --- |\n",
    "| `'rapid increase'` | $\\geq 10$ |\n",
    "| `'steady increase'` | $[2.5, 10)$ |\n",
    "| `'stagnant'` | $[-2.5, 2.5)$ | \n",
    "| `'steady decrease'` | $[-10, -2.5)$ |\n",
    "| `'rapid decrease'` | $< -10$ |\n",
    "\n",
    "Remember, $[a, b)$ means greater than or equal to $a$ and less than $b$.\n",
    "\n",
    "We'll break this question into a few more parts, since there's a lot going on."
   ]
  },
  {
   "cell_type": "markdown",
   "metadata": {
    "deletable": false,
    "editable": false
   },
   "source": [
    "#### Part 1\n",
    "\n",
    "First, write a function `str_to_cat` that takes in a percentage string and returns the corresponding growth category according to the above table. Example behavior is shown below.\n",
    "\n",
    "```py\n",
    ">>> str_to_cat('-15.8%')\n",
    "'rapid decrease'\n",
    "\n",
    ">>> str_to_cat('4.8%')\n",
    "'steady increase'\n",
    "```\n",
    "\n",
    "_Hint: You'll need to use string methods from earlier in the semester in order to convert `pct_str` to a float. To find the correct growth category, don't use five `if` statements: instead, try and use a dictionary. See how you can adapt the grade calculator example from Lecture 19; you can assume that there's no percentage change smaller than -100\\%._\n",
    "\n",
    "<!--\n",
    "BEGIN QUESTION\n",
    "name: q1f-part1\n",
    "points: 2\n",
    "-->"
   ]
  },
  {
   "cell_type": "code",
   "execution_count": null,
   "metadata": {},
   "outputs": [],
   "source": [
    "def str_to_cat(pct_str):\n",
    "    ..."
   ]
  },
  {
   "cell_type": "code",
   "execution_count": null,
   "metadata": {
    "deletable": false,
    "editable": false
   },
   "outputs": [],
   "source": [
    "grader.check(\"q1f-part1\")"
   ]
  },
  {
   "cell_type": "markdown",
   "metadata": {
    "deletable": false,
    "editable": false
   },
   "source": [
    "#### Part 2\n",
    "\n",
    "Now, apply `str_to_cat` to the appropriate column in `chains` to get an array of growth categories. Create a new table called `chains_growth` with all of the columns in `chains` plus a new sixth column, `'Growth Category'`, with the aforementioned array. The first few rows of `chains_growth` should look like this:\n",
    "\n",
    "|   Rank | Restaurant   |   Sales | YOY_Sales   | Segment_Category            | Growth Category   |\n",
    "|-------:|-------------:|--------:|------------:|----------------------------:|------------------:|\n",
    "|      1 | McDonald's   |   40412 | 4.9%        | Quick Service & Burger      | steady increase   |\n",
    "|      2 | Starbucks    |   21380 | 8.6%        | Quick Service & Coffee Cafe | steady increase   |\n",
    "|      3 | Chick-fil-A  |   11320 | 13.0%       | Quick Service & Chicken     | rapid increase    |\n",
    "|      4 | Taco Bell    |   11293 | 9.0%        | Quick Service & Mexican     | steady increase   |\n",
    "|      5 | Burger King  |   10204 | 2.7%        | Quick Service & Burger      | steady increase   |\n",
    "\n",
    "`chains` itself should not be modified!\n",
    "\n",
    "<!--\n",
    "BEGIN QUESTION\n",
    "name: q1f-part2\n",
    "points: 2\n",
    "-->"
   ]
  },
  {
   "cell_type": "code",
   "execution_count": null,
   "metadata": {},
   "outputs": [],
   "source": [
    "chains_growth = ...\n",
    "chains_growth"
   ]
  },
  {
   "cell_type": "code",
   "execution_count": null,
   "metadata": {
    "deletable": false,
    "editable": false
   },
   "outputs": [],
   "source": [
    "grader.check(\"q1f-part2\")"
   ]
  },
  {
   "cell_type": "markdown",
   "metadata": {},
   "source": [
    "### Question 1g\n",
    "\n",
    "Now that our table has two categorical columns – `'Segment_Category'` and `'Growth Category'` – we can pivot it! Remember, pivoting is an alternative to grouping by two columns, which we can also do."
   ]
  },
  {
   "cell_type": "code",
   "execution_count": null,
   "metadata": {},
   "outputs": [],
   "source": [
    "# Run this cell; you don't need to change anything.\n",
    "# If you see a warning, ignore it.\n",
    "\n",
    "chains_growth.group(['Segment_Category', 'Growth Category'])"
   ]
  },
  {
   "cell_type": "markdown",
   "metadata": {},
   "source": [
    "If we were to pivot and specify that we want `'Segment_Category'` to make up the rows in our new table, we'd have 48 rows in the pivoted table, since there are 48 unique segment categories."
   ]
  },
  {
   "cell_type": "code",
   "execution_count": null,
   "metadata": {},
   "outputs": [],
   "source": [
    "# Run this cell; you don't need to change anything.\n",
    "\n",
    "chains_growth.group('Segment_Category').num_rows"
   ]
  },
  {
   "cell_type": "markdown",
   "metadata": {},
   "source": [
    "It would be hard to gain anything meaningful from a pivoted table from 48 rows, so instead we're going to filter just a subset of segment categories and then pivot.\n",
    "\n",
    "Again, we'll break this problem into a few subparts."
   ]
  },
  {
   "cell_type": "markdown",
   "metadata": {
    "deletable": false,
    "editable": false
   },
   "source": [
    "#### Part 1\n",
    "\n",
    "Below, assign `common_chains` to a table with the same labels as `chains_growth`, but only with chains whose segment category is shared by at least 9 other chains (i.e. only the segment categories that have 10 or more restaurants). The first five rows of `common_chains` should look like this:\n",
    "\n",
    "|   Rank | Restaurant      |   Sales | YOY_Sales   | Segment_Category       | Growth Category   |\n",
    "|-------:|----------------:|--------:|------------:|-----------------------:|------------------:|\n",
    "|      1 | McDonald's      |   40412 | 4.9%        | Quick Service & Burger | steady increase   |\n",
    "|      5 | Burger King     |   10204 | 2.7%        | Quick Service & Burger | steady increase   |\n",
    "|      7 | Wendy's         |    9762 | 4.2%        | Quick Service & Burger | steady increase   |\n",
    "|     13 | Sonic Drive-In  |    4687 | 4.6%        | Quick Service & Burger | steady increase   |\n",
    "|     24 | Jack in the Box |    3504 | 1.1%        | Quick Service & Burger | stagnant          |\n",
    "\n",
    "To do this, you may want to:\n",
    "1. Create an called `common_segments` that contains the names of the segment categories with 10 or more restaurants. You can create this array by grouping, filtering, and calling `.column` on `chains_growth`. (This array will only have 6 elements.)\n",
    "2. Filter `chains_growth` using `are.contained_in` and `common_segments`.\n",
    "\n",
    "Note: This is just one of several possible approaches. We will not use the array `common_segments` when grading your work, so if you want to take another approach that's fine.\n",
    "\n",
    "Regardless, `chains_growth` should not be modified!\n",
    "\n",
    "<!--\n",
    "BEGIN QUESTION\n",
    "name: q1g-part1\n",
    "points: 2\n",
    "-->"
   ]
  },
  {
   "cell_type": "code",
   "execution_count": null,
   "metadata": {},
   "outputs": [],
   "source": [
    "common_segments = ...\n",
    "common_chains = ...\n",
    "\n",
    "common_chains"
   ]
  },
  {
   "cell_type": "code",
   "execution_count": null,
   "metadata": {
    "deletable": false,
    "editable": false
   },
   "outputs": [],
   "source": [
    "grader.check(\"q1g-part1\")"
   ]
  },
  {
   "cell_type": "markdown",
   "metadata": {
    "deletable": false,
    "editable": false
   },
   "source": [
    "#### Part 2\n",
    "\n",
    "Now, pivot `common_chains` to create a new table, `common_chains_pivoted`, with a row for each segment category and a column for each growth category. The entries in `common_chains_pivoted` should describe the number of chains with a given combination of segment category and growth category. The first few rows of `common_chains_pivoted` should look like this:\n",
    "\n",
    "| Segment_Category       |   rapid decrease |   steady decrease |   stagnant |   steady increase |   rapid increase |\n",
    "|-----------------------:|-----------------:|------------------:|-----------:|------------------:|-----------------:|\n",
    "| Burger                 |                1 |                 3 |          3 |                 2 |                1 |\n",
    "| Family Style           |                1 |                 4 |          2 |                 1 |                2 |\n",
    "| Italian/Pizza          |                1 |                 3 |          2 |                 4 |                0 |\n",
    "\n",
    "\n",
    "An issue you will face is that the columns of your pivoted table will be in alphabetical order by default; you must fix this so that they are in the order shown above. Use `.select` to help you here; try and see if you can do this using column indexes instead of column labels!\n",
    "\n",
    "<!--\n",
    "BEGIN QUESTION\n",
    "name: q1g-part2\n",
    "points: 2\n",
    "-->"
   ]
  },
  {
   "cell_type": "code",
   "execution_count": null,
   "metadata": {},
   "outputs": [],
   "source": [
    "common_chains_pivoted = ...\n",
    "common_chains_pivoted"
   ]
  },
  {
   "cell_type": "code",
   "execution_count": null,
   "metadata": {
    "deletable": false,
    "editable": false
   },
   "outputs": [],
   "source": [
    "grader.check(\"q1g-part2\")"
   ]
  },
  {
   "cell_type": "markdown",
   "metadata": {},
   "source": [
    "### Question 1h\n",
    "\n",
    "After you've completed Question 1g, run the cell below to see a heatmap."
   ]
  },
  {
   "cell_type": "code",
   "execution_count": null,
   "metadata": {
    "scrolled": true
   },
   "outputs": [],
   "source": [
    "# Run this cell.\n",
    "sns.heatmap(common_chains_pivoted.to_df().set_index('Segment_Category'), cmap=\"YlGnBu\");"
   ]
  },
  {
   "cell_type": "markdown",
   "metadata": {
    "deletable": false,
    "editable": false
   },
   "source": [
    "<!-- BEGIN QUESTION -->\n",
    "\n",
    "This heatmap is a visual depiction of the `common_chains_pivoted` table that you created in the last subpart. Darker colors represent larger values, as per the legend on the right. (If you have questions about how to interpret this plot, don't hesitate to ask!) \n",
    "\n",
    "In the cell below, comment on what you see in the heatmap above. Touch on the following points:\n",
    "- Which column has the darkest values? What does that tell you about the overall growth trend for chains in the last year?\n",
    "- Did many restaurants grow or shrink rapidly? Or were most changes gradual?\n",
    "- Which combination of segment category and growth category was the most common?\n",
    "\n",
    "<!--\n",
    "BEGIN QUESTION\n",
    "name: q1h\n",
    "points: 2\n",
    "manual: true\n",
    "-->"
   ]
  },
  {
   "cell_type": "markdown",
   "metadata": {},
   "source": [
    "_Type your answer here, replacing this text._"
   ]
  },
  {
   "cell_type": "markdown",
   "metadata": {},
   "source": [
    "<!-- END QUESTION -->\n",
    "\n",
    "\n",
    "\n",
    "## Question 2 – Cities 🌆\n",
    "\n",
    "Awesome! Now that we've gotten a feel for the `chains` dataset, let's move on to the `future` and `independents` datasets. In this section, we'll focus on identifying \"hot food cities\", since both datasets give us locations. \n",
    "\n",
    "Remember, the `future` table contains information about the fastest growing chains with sales between \\\\$25 and \\\\$50 million – there's no overlap between the chains in `future` and the chains in `chains` since the \"smallest\" chain in `chains` made over \\\\$125 million last year. In `future` we're given the locations where the chains are headquartered. In the `independents` table, the restaurants are not chains, so we're given their actual locations."
   ]
  },
  {
   "cell_type": "markdown",
   "metadata": {},
   "source": [
    "### Question 2a\n",
    "\n",
    "We'll start by looking at the `independents` table. Run the following cell and scroll through the output to get a feel for the cities that appear in the table."
   ]
  },
  {
   "cell_type": "code",
   "execution_count": null,
   "metadata": {},
   "outputs": [],
   "source": [
    "independents.show()"
   ]
  },
  {
   "cell_type": "markdown",
   "metadata": {
    "deletable": false,
    "editable": false
   },
   "source": [
    "Some cities appear many times, like `'New York'` and `'Washington'`, and some appear only once, like `'Bal Harbour'`.\n",
    "\n",
    "Below, assign `city_checks` to a table with two columns, `'City'` and `'Average Check median'`, containing the median `'Average Check'` in all cities with at least 3 restaurants in the dataset, sorted by median `'Average Check'` in decreasing order. The first few rows of `city_checks` should look like this:\n",
    "\n",
    "| City          |   Average Check median |\n",
    "|--------------:|-----------------------:|\n",
    "| Las Vegas     |                     99 |\n",
    "| Miami         |                     98 |\n",
    "| New York      |                     84 |\n",
    "\n",
    "Unlike in Question 1, we're not going to give you any guidance, save for the fact that this task is very similar to something you already did in Question 1. As always, take as many lines as you need.\n",
    "\n",
    "<!--\n",
    "BEGIN QUESTION\n",
    "name: q2a\n",
    "points: 3\n",
    "-->"
   ]
  },
  {
   "cell_type": "code",
   "execution_count": null,
   "metadata": {},
   "outputs": [],
   "source": [
    "city_checks = ...\n",
    "city_checks"
   ]
  },
  {
   "cell_type": "code",
   "execution_count": null,
   "metadata": {
    "deletable": false,
    "editable": false
   },
   "outputs": [],
   "source": [
    "grader.check(\"q2a\")"
   ]
  },
  {
   "cell_type": "markdown",
   "metadata": {},
   "source": [
    "### Question 2b\n",
    "\n",
    "Let's now take a look at the `future` table."
   ]
  },
  {
   "cell_type": "code",
   "execution_count": null,
   "metadata": {},
   "outputs": [],
   "source": [
    "future"
   ]
  },
  {
   "cell_type": "markdown",
   "metadata": {
    "deletable": false,
    "editable": false
   },
   "source": [
    "We're eventually going to want to join `independents` and `future` by city, but right now we can't do that, since `future` does not have a column with just the name of the city in it. `future`'s `'Location'` column also includes the state's name.\n",
    "\n",
    "Below, create a table `future_with_city` with the `'Rank'`, `'Restaurant'`, `'Sales'`, and `'YOY_Sales'` columns from `future` but with an additional column, `'City'`, that contains the name of the city in which the restaurant is headquartered. The first few rows of `future_with_city` are shown below; the order of the columns in `future_with_city` must match the output below.\n",
    "\n",
    "|   Rank | Restaurant   | City             |   Sales | YOY_Sales   |\n",
    "|-------:|-------------:|-----------------:|--------:|------------:|\n",
    "|      1 | Evergreens   | Seattle          |      24 | 130.5%      |\n",
    "|      2 | Clean Juice  | Charlotte        |      44 | 121.9%      |\n",
    "|      3 | Slapfish     | Huntington Beach |      21 | 81.0%       |\n",
    "|      4 | Clean Eatz   | Wilmington       |      25 | 79.7%       |\n",
    "|      5 | Pokeworks    | Irvine           |      49 | 77.1%       |\n",
    "\n",
    "This involves calling `.apply` with a function that you write on your own. Your solution will certainly take more than one line. Work one step at a time!\n",
    "\n",
    "<!--\n",
    "BEGIN QUESTION\n",
    "name: q2b\n",
    "points: 3\n",
    "-->"
   ]
  },
  {
   "cell_type": "code",
   "execution_count": null,
   "metadata": {},
   "outputs": [],
   "source": [
    "future_with_city = ...\n",
    "future_with_city"
   ]
  },
  {
   "cell_type": "code",
   "execution_count": null,
   "metadata": {
    "deletable": false,
    "editable": false
   },
   "outputs": [],
   "source": [
    "grader.check(\"q2b\")"
   ]
  },
  {
   "cell_type": "markdown",
   "metadata": {
    "deletable": false,
    "editable": false
   },
   "source": [
    "### Question 2c\n",
    "\n",
    "We will say a \"hot food city\" is a city with at least one restaurant in the Independents 100 (`independents`) and at least one restaurant in the Future 50 (`future_with_city`).\n",
    "\n",
    "Below, create a table `hot_cities` with three columns – `'City'`, `'Independents 100'`, and `'Future 50'`. Each row should correspond to one city, and the values in the latter two columns should contain the number of restaurants in that city that are on the `'Independents 100'` and `'Future 50'` lists, respectively. The first few rows of `hot_cities` should look like this:\n",
    "\n",
    "| City          |   Independents 100 |   Future 50 |\n",
    "|--------------:|-------------------:|------------:|\n",
    "| Atlanta       |                  2 |           1 |\n",
    "| Denver        |                  1 |           1 |\n",
    "| Los Angeles   |                  1 |           1 |\n",
    "| New York      |                 21 |           8 |\n",
    "\n",
    "Note: This is the first time in this assignment that you're required to use `.join`, so here's some advice:\n",
    "- Start by creating two tables, `independents_counts` and `future_with_city_counts`. `independents_counts` should contain the name of each city and the number of restaurants in the Independents 100 ranking in each city. You've done this several times throughout this assignment; each of these two tables can be created with a single method.\n",
    "- Join the two aforementioned tables on the appropriate column and relabel. Make sure that you relabel the columns correctly – the order that you join the two tables matters!\n",
    "\n",
    "<!--\n",
    "BEGIN QUESTION\n",
    "name: q2c\n",
    "points: 3\n",
    "-->"
   ]
  },
  {
   "cell_type": "code",
   "execution_count": null,
   "metadata": {},
   "outputs": [],
   "source": [
    "independents_counts = ...\n",
    "future_with_city_counts = ...\n",
    "hot_cities = independents_counts.join('City', future_with_city_counts) \\\n",
    "                                ...\n",
    "hot_cities"
   ]
  },
  {
   "cell_type": "code",
   "execution_count": null,
   "metadata": {
    "deletable": false,
    "editable": false
   },
   "outputs": [],
   "source": [
    "grader.check(\"q2c\")"
   ]
  },
  {
   "cell_type": "markdown",
   "metadata": {},
   "source": [
    "### Fun Demo\n",
    "\n",
    "Run the following cell to see a plot that visualizes `hot_cities`."
   ]
  },
  {
   "cell_type": "code",
   "execution_count": null,
   "metadata": {},
   "outputs": [],
   "source": [
    "# Run this cell.\n",
    "import pandas as pd\n",
    "t1 = hot_cities.to_df().set_index('City').iloc[:, [0]]\n",
    "t1['Category'] = 'Independents 100'\n",
    "t1.columns = ['Count', 'Category']\n",
    "t2 = hot_cities.to_df().set_index('City').iloc[:, [1]]\n",
    "t2['Category'] = 'Future 50'\n",
    "t2.columns = ['Count', 'Category']\n",
    "plt.figure(figsize = (8, 5))\n",
    "sns.barplot(data = pd.concat([t1, t2]).reset_index(), x = 'City', y = 'Count', hue = 'Category', palette='Set2');"
   ]
  },
  {
   "cell_type": "markdown",
   "metadata": {},
   "source": [
    "Nice work! What's the hottest food city, according to this bar plot? No need to write your answer anywhere, this is just something to think about."
   ]
  },
  {
   "cell_type": "markdown",
   "metadata": {},
   "source": [
    "## Question 3 – Stars ⭐️\n",
    "\n",
    "So far, we haven't looked at the ratings for each restaurant – and that's because none of the three tables we have right now contain ratings.\n",
    "\n",
    "However, there's a fourth CSV file we have access to that can provide us with Yelp ratings for most – but not all – restaurants in `independents`."
   ]
  },
  {
   "cell_type": "markdown",
   "metadata": {
    "deletable": false,
    "editable": false
   },
   "source": [
    "### Question 3a\n",
    "\n",
    "In the cell below, load in the CSV `'data/independents_ratings.csv'` as a table and assign it to the variable name `ratings`.\n",
    "\n",
    "<!--\n",
    "BEGIN QUESTION\n",
    "name: q3a\n",
    "points: 1\n",
    "-->"
   ]
  },
  {
   "cell_type": "code",
   "execution_count": null,
   "metadata": {},
   "outputs": [],
   "source": [
    "ratings = ...\n",
    "ratings"
   ]
  },
  {
   "cell_type": "code",
   "execution_count": null,
   "metadata": {
    "deletable": false,
    "editable": false
   },
   "outputs": [],
   "source": [
    "grader.check(\"q3a\")"
   ]
  },
  {
   "cell_type": "markdown",
   "metadata": {
    "deletable": false,
    "editable": false
   },
   "source": [
    "### Question 3b\n",
    "\n",
    "It's worth thinking about why we have to include the `'City'` column in the above table – isn't it enough to just have the name of the restaurant and its rating?\n",
    "\n",
    "Well, no – not if there are multiple restaurants of the same name! Below, assign `duplicate_restaurants` to an array containing the names of restaurants in `independents` that appear more than once. You don't need to sort them in any particular order.\n",
    "\n",
    "<!--\n",
    "BEGIN QUESTION\n",
    "name: q3b\n",
    "points: 2\n",
    "-->"
   ]
  },
  {
   "cell_type": "code",
   "execution_count": null,
   "metadata": {},
   "outputs": [],
   "source": [
    "duplicate_restaurants = ...\n",
    "duplicate_restaurants"
   ]
  },
  {
   "cell_type": "code",
   "execution_count": null,
   "metadata": {
    "deletable": false,
    "editable": false
   },
   "outputs": [],
   "source": [
    "grader.check(\"q3b\")"
   ]
  },
  {
   "cell_type": "markdown",
   "metadata": {},
   "source": [
    "### Question 3c\n",
    "\n",
    "To make clear why the above is a problem, consider the following:"
   ]
  },
  {
   "cell_type": "code",
   "execution_count": null,
   "metadata": {},
   "outputs": [],
   "source": [
    "# Run this cell.\n",
    "independents.where('Restaurant', are.contained_in(duplicate_restaurants))"
   ]
  },
  {
   "cell_type": "markdown",
   "metadata": {},
   "source": [
    "Above, we have a table with the names of each restaurant whose name is not unique. There are 8 rows in this table. Look at what happens if we try and join this table with `independents_with_rating` **without the city column**:"
   ]
  },
  {
   "cell_type": "code",
   "execution_count": null,
   "metadata": {},
   "outputs": [],
   "source": [
    "# Run this cell.\n",
    "independents.where('Restaurant', are.contained_in(duplicate_restaurants)) \\\n",
    "            .join('Restaurant', ratings) \\\n",
    "            .show()"
   ]
  },
  {
   "cell_type": "markdown",
   "metadata": {
    "deletable": false,
    "editable": false
   },
   "source": [
    "We want the table that results from this join to have at most 8 rows, corresponding to each of the 8 rows in the table we saw before. (There may be fewer than 8 since we don't have ratings for every single restaurant.) However, it has 19 rows – and many of the rows don't make sense! For example, the second last row has `'City'` as `'Las Vegas'` but `'City_2'` as `'New York'`, meaning that the row clearly doesn't correspond to a real restaurant.\n",
    "\n",
    "There's a solution. Instead of joining `independents` and `ratings` on just `'Restaurant'`, we can join on both `'Restaurant'` and `'City'`. This combines rows in `independents` and `ratings` where the `'Restaurant'` is the same **and** the `'City'` is the same, avoiding the issue above where we have rows with multiple cities.\n",
    "\n",
    "Below, assign `independents_with_ratings` to the result of joining `independents` and `ratings` on both `'Restaurant'` and `'City'`. To join on multiple columns, pass a list as the first argument to `join` rather than just a string. After joining, re-order the columns so that the column order is the same as in `independents`, just with `'Ratings'` attached on the end, and sort the table so that `'Rank'` is in increasing order.\n",
    "\n",
    "The first few rows of your result should look like this (notice there is no row with rank 3 since `ratings` doesn't have a rating for that restaurant):\n",
    "\n",
    "|   Rank | Restaurant                          |    Sales |   Average Check | City     | State   |   Meals Served |   Rating |\n",
    "|-------:|------------------------------------:|---------:|----------------:|---------:|--------:|---------------:|---------:|\n",
    "|      1 | Carmine's (Times Square)            | 39080335 |              40 | New York | N.Y.    |         469803 |      4   |\n",
    "|      2 | The Boathouse Orlando               | 35218364 |              43 | Orlando  | Fla.    |         820819 |      4   |\n",
    "|      4 | LAVO Italian Restaurant & Nightclub | 26916180 |              90 | New York | N.Y.    |         198500 |      2.5 |\n",
    "|      5 | Bryant Park Grill & Cafe            | 26900000 |              62 | New York | N.Y.    |         403000 |      3.5 |\n",
    "|      6 | Gibsons Bar & Steakhouse            | 25409952 |              80 | Chicago  | Ill.    |         348567 |      4   |\n",
    "\n",
    "_Hint: The `join` part of this problem is the only part that is new, and we tell you exactly how to do it above. Also, to select the columns in the right order, the snippet `list(independents.labels) + ['Rating']` might be helpful._\n",
    "\n",
    "<!--\n",
    "BEGIN QUESTION\n",
    "name: q3c\n",
    "points: 2\n",
    "-->"
   ]
  },
  {
   "cell_type": "code",
   "execution_count": null,
   "metadata": {},
   "outputs": [],
   "source": [
    "independents_with_ratings = independents.join(['Restaurant', 'City'], ratings) \\\n",
    "                                        .select(list(independents.labels) + ['Rating']) \\\n",
    "                                        ...\n",
    "independents_with_ratings"
   ]
  },
  {
   "cell_type": "code",
   "execution_count": null,
   "metadata": {
    "deletable": false,
    "editable": false
   },
   "outputs": [],
   "source": [
    "grader.check(\"q3c\")"
   ]
  },
  {
   "cell_type": "markdown",
   "metadata": {
    "deletable": false,
    "editable": false
   },
   "source": [
    "### Question 3d\n",
    "\n",
    "Finally, assign `city_ratings` to a table where each column corresponds to a star rating and each row corresponds to a city. Each entry in `city_ratings` should be the median `'Average Check'` for a given combination of star rating and city. Only include the cities that are in the `city_checks` from Question 2a.\n",
    "\n",
    "The first few rows of `city_ratings` should look like this:\n",
    "\n",
    "| City          |   2.5 |   3.0 |   3.5 |   4.0 |   4.5 |\n",
    "|--------------:|------:|------:|------:|------:|------:|\n",
    "| Chicago       |     0 |     0 |  83.5 |    80 |    95 |\n",
    "| Las Vegas     |     0 |     0 |  97   |   101 |    92 |\n",
    "| Miami         |     0 |     0 |  88   |    98 |     0 |\n",
    "\n",
    "As a reminder, the above says that the median `'Average Check'` price at 3.5 star restaurants in Chicago is \\\\$83.50.\n",
    "\n",
    "<!--\n",
    "BEGIN QUESTION\n",
    "name: q3d\n",
    "points: 3\n",
    "-->"
   ]
  },
  {
   "cell_type": "code",
   "execution_count": null,
   "metadata": {
    "scrolled": false
   },
   "outputs": [],
   "source": [
    "city_ratings = independents_with_ratings.pivot('Rating', 'City', 'Average Check', np.median) \\\n",
    "                                        ...\n",
    "\n",
    "city_ratings"
   ]
  },
  {
   "cell_type": "code",
   "execution_count": null,
   "metadata": {
    "deletable": false,
    "editable": false
   },
   "outputs": [],
   "source": [
    "grader.check(\"q3d\")"
   ]
  },
  {
   "cell_type": "markdown",
   "metadata": {},
   "source": [
    "What trends do you notice in `city_ratings`? Again, there's nowhere you need to write your answer, this is just something for you to think about.\n",
    "\n",
    "That's it – you should now be well-versed in manipulating tables to gain insight about real data. 🍔"
   ]
  },
  {
   "cell_type": "markdown",
   "metadata": {},
   "source": [
    "# Done!\n",
    "\n",
    "Congrats! You've finished another Data 94 homework assignment!\n",
    "\n",
    "To submit your work, follow the steps outlined on Ed.\n",
    "\n",
    "The point breakdown for this assignment is given in the table below:\n",
    "\n",
    "| **Category** | Points |\n",
    "| --- | --- |\n",
    "| Autograder | 32 |\n",
    "| Written | 4 |\n",
    "| **Total** | 36 |"
   ]
  },
  {
   "cell_type": "markdown",
   "metadata": {
    "deletable": false,
    "editable": false
   },
   "source": [
    "---\n",
    "\n",
    "To double-check your work, the cell below will rerun all of the autograder tests."
   ]
  },
  {
   "cell_type": "code",
   "execution_count": null,
   "metadata": {
    "deletable": false,
    "editable": false
   },
   "outputs": [],
   "source": [
    "grader.check_all()"
   ]
  },
  {
   "cell_type": "markdown",
   "metadata": {
    "deletable": false,
    "editable": false
   },
   "source": [
    "## Submission\n",
    "\n",
    "Make sure you have run all cells in your notebook in order before running the cell below, so that all images/graphs appear in the output. The cell below will generate a zip file for you to submit. **Please save before exporting!**"
   ]
  },
  {
   "cell_type": "code",
   "execution_count": null,
   "metadata": {
    "deletable": false,
    "editable": false
   },
   "outputs": [],
   "source": [
    "# Save your notebook first, then run this cell to export your submission.\n",
    "grader.export()"
   ]
  },
  {
   "cell_type": "markdown",
   "metadata": {},
   "source": [
    " "
   ]
  }
 ],
 "metadata": {
  "kernelspec": {
   "display_name": "Python 3",
   "language": "python",
   "name": "python3"
  },
  "language_info": {
   "codemirror_mode": {
    "name": "ipython",
    "version": 3
   },
   "file_extension": ".py",
   "mimetype": "text/x-python",
   "name": "python",
   "nbconvert_exporter": "python",
   "pygments_lexer": "ipython3",
   "version": "3.7.9"
  }
 },
 "nbformat": 4,
 "nbformat_minor": 4
}

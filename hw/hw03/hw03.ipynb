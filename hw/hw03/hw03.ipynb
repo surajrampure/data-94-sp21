{
 "cells": [
  {
   "cell_type": "code",
   "execution_count": null,
   "metadata": {
    "deletable": false,
    "editable": false
   },
   "outputs": [],
   "source": [
    "# Initialize Otter\n",
    "import otter\n",
    "grader = otter.Notebook(\"hw03.ipynb\")"
   ]
  },
  {
   "cell_type": "markdown",
   "metadata": {},
   "source": [
    "# Homework 3 – Review and For Loops\n",
    "\n",
    "## Data 94, Spring 2021\n",
    "\n",
    "In this homework assignment, you will review some of the earlier ideas in the course and develop an in-depth understanding of for loops.\n",
    "\n",
    "This homework is due on **Wednesday, February 24th at 11:59PM**. You must submit the assignment to Gradescope. Submission instructions can be found at the bottom of this notebook. See the [syllabus](http://data94.org/syllabus/#late-policy-and-extensions) for our late submission policy."
   ]
  },
  {
   "cell_type": "code",
   "execution_count": null,
   "metadata": {},
   "outputs": [],
   "source": [
    "# Don't worry about what's in this cell, just run it\n",
    "import numpy as np\n",
    "from datascience import *"
   ]
  },
  {
   "cell_type": "markdown",
   "metadata": {},
   "source": [
    "## Question 1 – Bug Fixing 🐞\n",
    "\n",
    "The goal of this question is to review your understanding of concepts from the first three weeks of the course.\n",
    "\n",
    "In each subpart, you'll be presented with an implementation of a function with mistakes in it. Your job is to understand what the function is supposed to do and fix the implementation."
   ]
  },
  {
   "cell_type": "markdown",
   "metadata": {},
   "source": [
    "### Question 1a\n",
    "\n",
    "Alexa is trying to write a function `sphere_volume` that takes in `r`, the radius of a sphere, and returns the volume of that sphere, according to the formula\n",
    "\n",
    "$$V = \\frac{4}{3} \\pi r^3$$\n",
    "\n",
    "Here is Alexa's implementation:"
   ]
  },
  {
   "cell_type": "code",
   "execution_count": null,
   "metadata": {},
   "outputs": [],
   "source": [
    "def sphere_volume(r):\n",
    "    sphere_volume = (4 / 3) * 3.14159 * r ** 3\n",
    "    print(sphere_volume)"
   ]
  },
  {
   "cell_type": "markdown",
   "metadata": {},
   "source": [
    "Alexa's implementation works... kind of. If we call `sphere_volume(5)`, we get some result:"
   ]
  },
  {
   "cell_type": "code",
   "execution_count": null,
   "metadata": {},
   "outputs": [],
   "source": [
    "sphere_volume(5)"
   ]
  },
  {
   "cell_type": "markdown",
   "metadata": {},
   "source": [
    "But when we assign the result of `sphere_volume(5)` to some variable, things don't seem to be working correctly."
   ]
  },
  {
   "cell_type": "code",
   "execution_count": null,
   "metadata": {},
   "outputs": [],
   "source": [
    "v = sphere_volume(5)"
   ]
  },
  {
   "cell_type": "code",
   "execution_count": null,
   "metadata": {},
   "outputs": [],
   "source": [
    "v"
   ]
  },
  {
   "cell_type": "code",
   "execution_count": null,
   "metadata": {},
   "outputs": [],
   "source": [
    "print(v)"
   ]
  },
  {
   "cell_type": "markdown",
   "metadata": {
    "deletable": false,
    "editable": false
   },
   "source": [
    "<!-- BEGIN QUESTION -->\n",
    "\n",
    "**What is the issue with Alexa's function?** Answer below in one sentence.\n",
    "\n",
    "<!--\n",
    "BEGIN QUESTION\n",
    "name: q1a-written\n",
    "points: 1\n",
    "manual: true\n",
    "-->"
   ]
  },
  {
   "cell_type": "markdown",
   "metadata": {},
   "source": [
    "_Type your answer here, replacing this text._"
   ]
  },
  {
   "cell_type": "markdown",
   "metadata": {
    "deletable": false,
    "editable": false
   },
   "source": [
    "<!-- END QUESTION -->\n",
    "\n",
    "**Now, in the cell below, fix Alexa's function so that it works correctly.** Also fix it so that if `r` is less than 0, the value 0 is returned.\n",
    "\n",
    "<!--\n",
    "BEGIN QUESTION\n",
    "name: q1a-code\n",
    "points: 1\n",
    "-->"
   ]
  },
  {
   "cell_type": "code",
   "execution_count": null,
   "metadata": {},
   "outputs": [],
   "source": [
    "def sphere_volume_fixed(r):\n",
    "    ..."
   ]
  },
  {
   "cell_type": "code",
   "execution_count": null,
   "metadata": {
    "deletable": false,
    "editable": false
   },
   "outputs": [],
   "source": [
    "grader.check(\"q1a-code\")"
   ]
  },
  {
   "cell_type": "markdown",
   "metadata": {},
   "source": [
    "### Question 1b\n",
    "\n",
    "Blythe is trying to write a function `quadratic_equation` that takes in values of `a`, `b`, and `c`, corresponding to the quadratic function $f(x) = ax^2 + bx + c$, and returns the value(s) of x such that\n",
    "\n",
    "$$x = \\frac{-b \\pm \\sqrt{b^2 - 4ac}}{2a}$$\n",
    "\n",
    "Specifically:\n",
    "- If $b^2 - 4ac > 0$, `quadratic_equation` should return a list with two elements, one element being $\\frac{-b + \\sqrt{b^2 - 4ac}}{2a}$ and the other element being $\\frac{-b - \\sqrt{b^2 - 4ac}}{2a}$ (in that order).\n",
    "- If $b^2 - 4ac = 0$, `quadratic_equation` should return a list with just one element, $\\frac{-b}{2a}$.\n",
    "- If $b^2 - 4ac < 0$, `quadratic_equation` should return the boolean `False`.\n",
    "\n",
    "Here is Blythe's implementation:"
   ]
  },
  {
   "cell_type": "code",
   "execution_count": null,
   "metadata": {},
   "outputs": [],
   "source": [
    "def quadratic_equation(a, b, c):\n",
    "    d = b^2 - 4 * a * c\n",
    "    if d > 0:\n",
    "        return [(-b + d**0.5)/(2 * a) and (-b - d**0.5)/(2 * a)]\n",
    "    else if d = 0:\n",
    "        return [-b/(2 * a)]\n",
    "    else:\n",
    "        return 'False'"
   ]
  },
  {
   "cell_type": "markdown",
   "metadata": {
    "deletable": false,
    "editable": false
   },
   "source": [
    "Blythe's implementation is on the right track, but is riddled with syntax errors.\n",
    "\n",
    "**In the cell below, fix Blythe's function so that it works correctly.** \n",
    "\n",
    "<!--\n",
    "BEGIN QUESTION\n",
    "name: q1b\n",
    "points: 2\n",
    "-->"
   ]
  },
  {
   "cell_type": "code",
   "execution_count": null,
   "metadata": {},
   "outputs": [],
   "source": [
    "def quadratic_equation_fixed(a, b, c):\n",
    "    ..."
   ]
  },
  {
   "cell_type": "code",
   "execution_count": null,
   "metadata": {
    "deletable": false,
    "editable": false
   },
   "outputs": [],
   "source": [
    "grader.check(\"q1b\")"
   ]
  },
  {
   "cell_type": "markdown",
   "metadata": {},
   "source": [
    "### Question 1c\n",
    "\n",
    "Claire is trying to a function `sum_digits` that takes in a positive integer `n` and returns the sum of the digits of `n`. Here's how Claire wants `sum_digits` to work:\n",
    "\n",
    "1. Start with `n`, and define a new variable `total` to be 0.\n",
    "2. Determine the last digit of `n` (by computing `n % 10`) and add it to `total`.\n",
    "3. Remove the last digit of `n` (by computing `n // 10`).\n",
    "4. Repeat steps 2 and 3 until there are no digits left."
   ]
  },
  {
   "cell_type": "code",
   "execution_count": null,
   "metadata": {},
   "outputs": [],
   "source": [
    "def sum_digits(n):\n",
    "    total = n\n",
    "    while n > 0:\n",
    "        last_digit = n % 10\n",
    "        total = last_digit\n",
    "        n //= 10\n",
    "    return total"
   ]
  },
  {
   "cell_type": "markdown",
   "metadata": {},
   "source": [
    "Claire's implementation only works properly for single-digit numbers."
   ]
  },
  {
   "cell_type": "code",
   "execution_count": null,
   "metadata": {},
   "outputs": [],
   "source": [
    "# Should be 4\n",
    "sum_digits(4)"
   ]
  },
  {
   "cell_type": "code",
   "execution_count": null,
   "metadata": {},
   "outputs": [],
   "source": [
    "# Should be 5 + 1 + 9 = 15\n",
    "sum_digits(519)"
   ]
  },
  {
   "cell_type": "markdown",
   "metadata": {},
   "source": [
    "**Choose one alternative that would fix Claire's function and make it work correctly.** You will implement this change yourself to allow the function to work below.\n",
    "1. Change `while n > 0` to `while n > 10`\n",
    "2. Change `last_digit = n % 10` to `last_digit = n // 10` and change `n //= 10` to `n %= 10`\n",
    "3. Change `total = n` to `total = 0` and change `total = last_digit` to `total += last_digit`\n",
    "4. Change `def sum_digits(n):` to `def sum_digits(519):` and change `return total` to `return 15`\n",
    "\n",
    "_Hint: Make sure that it follows the four steps outlined above. No need to reinvent the wheel._"
   ]
  },
  {
   "cell_type": "markdown",
   "metadata": {
    "deletable": false,
    "editable": false
   },
   "source": [
    "<!-- BEGIN QUESTION -->\n",
    "\n",
    "Write a 1-2 sentence explanation about why you selected the option you did in the cell below:\n",
    "\n",
    "<!--\n",
    "BEGIN QUESTION\n",
    "name: q1c-written\n",
    "points: 1\n",
    "manual: true\n",
    "-->"
   ]
  },
  {
   "cell_type": "markdown",
   "metadata": {},
   "source": [
    "_Type your answer here, replacing this text._"
   ]
  },
  {
   "cell_type": "markdown",
   "metadata": {
    "deletable": false,
    "editable": false
   },
   "source": [
    "<!-- END QUESTION -->\n",
    "\n",
    "Now, implement the `sum_digits_fixed` function using the fix you chose and see how that fix changes the behavior of the function. If the function does not work with your choice, we implore you to understand why that option does not work. **You should only make the change you selected, no other changes are needed to make the function work properly.**\n",
    "\n",
    "<!--\n",
    "BEGIN QUESTION\n",
    "name: q1c-code\n",
    "points: 1\n",
    "-->"
   ]
  },
  {
   "cell_type": "code",
   "execution_count": null,
   "metadata": {},
   "outputs": [],
   "source": [
    "def sum_digits_fixed(n):\n",
    "    ..."
   ]
  },
  {
   "cell_type": "code",
   "execution_count": null,
   "metadata": {
    "deletable": false,
    "editable": false
   },
   "outputs": [],
   "source": [
    "grader.check(\"q1c-code\")"
   ]
  },
  {
   "cell_type": "markdown",
   "metadata": {},
   "source": [
    "### Question 1d\n",
    "\n",
    "Darshan is trying to write a function `is_510` which takes in an integer `pn` and returns the boolean `True` if `pn` corresponds to a valid phone number with a 510 area code and `False` otherwise. A number is a valid phone number if it has exactly 10 digits.\n",
    "\n",
    "Here is Darshan's implementation:"
   ]
  },
  {
   "cell_type": "code",
   "execution_count": null,
   "metadata": {},
   "outputs": [],
   "source": [
    "def is_510(pn):\n",
    "    pn_str = str(pn)\n",
    "    return (pn_str[510] == [0, 1, 2]) and (pn_str == 10)"
   ]
  },
  {
   "cell_type": "markdown",
   "metadata": {},
   "source": [
    "The above cell runs without any issues, but when we call the function we get a `TypeError`:"
   ]
  },
  {
   "cell_type": "code",
   "execution_count": null,
   "metadata": {},
   "outputs": [],
   "source": [
    "# Should be True\n",
    "is_510(5106421000)"
   ]
  },
  {
   "cell_type": "markdown",
   "metadata": {
    "deletable": false,
    "editable": false
   },
   "source": [
    "**In the cell below, fix Darshan's function so that it works correctly.** \n",
    "\n",
    "<!--\n",
    "BEGIN QUESTION\n",
    "name: q1d\n",
    "points: 2\n",
    "-->"
   ]
  },
  {
   "cell_type": "code",
   "execution_count": null,
   "metadata": {},
   "outputs": [],
   "source": [
    "def is_510_fixed(pn):\n",
    "    ..."
   ]
  },
  {
   "cell_type": "code",
   "execution_count": null,
   "metadata": {
    "deletable": false,
    "editable": false
   },
   "outputs": [],
   "source": [
    "grader.check(\"q1d\")"
   ]
  },
  {
   "cell_type": "markdown",
   "metadata": {},
   "source": [
    "### Question 1e\n",
    "\n",
    "Elon is trying to write a function `largest_index` which takes in a list of integers `values` and returns the index of the largest element in `largest_index`. If the largest element of `values` is not unique, `largest_index` should return the index of the first occurrence of it.\n",
    "\n",
    "Here is Elon's implementation:"
   ]
  },
  {
   "cell_type": "code",
   "execution_count": null,
   "metadata": {},
   "outputs": [],
   "source": [
    "def largest_index(values):\n",
    "    return max(values.index(values))"
   ]
  },
  {
   "cell_type": "markdown",
   "metadata": {},
   "source": [
    "Again, the above cell runs without any issues, but when we call the function we get a `TypeError`:"
   ]
  },
  {
   "cell_type": "code",
   "execution_count": null,
   "metadata": {},
   "outputs": [],
   "source": [
    "# Should be 1, since the largest element is at index 1\n",
    "largest_index([2, 9, 1, 0, 8])"
   ]
  },
  {
   "cell_type": "markdown",
   "metadata": {
    "deletable": false,
    "editable": false
   },
   "source": [
    "**In the cell below, fix Elon's function so that it works correctly.** \n",
    "\n",
    "<!--\n",
    "BEGIN QUESTION\n",
    "name: q1e\n",
    "points: 2\n",
    "-->"
   ]
  },
  {
   "cell_type": "code",
   "execution_count": null,
   "metadata": {},
   "outputs": [],
   "source": [
    "def largest_index_fixed(values):\n",
    "    ..."
   ]
  },
  {
   "cell_type": "code",
   "execution_count": null,
   "metadata": {
    "deletable": false,
    "editable": false
   },
   "outputs": [],
   "source": [
    "grader.check(\"q1e\")"
   ]
  },
  {
   "cell_type": "markdown",
   "metadata": {},
   "source": [
    "## Question 2 – For Loop Fundamentals 🔂"
   ]
  },
  {
   "cell_type": "markdown",
   "metadata": {},
   "source": [
    "In this problem, you will practice writing for loops. For reference, the function `sum_first_n` defined below computes the sum of the first `n` positive integers."
   ]
  },
  {
   "cell_type": "code",
   "execution_count": null,
   "metadata": {},
   "outputs": [],
   "source": [
    "def sum_first_n(n):\n",
    "    total = 0\n",
    "    for i in range(1, n + 1):\n",
    "        total += i\n",
    "    return total"
   ]
  },
  {
   "cell_type": "code",
   "execution_count": null,
   "metadata": {},
   "outputs": [],
   "source": [
    "# 1 + 2 + 3\n",
    "sum_first_n(3)"
   ]
  },
  {
   "cell_type": "code",
   "execution_count": null,
   "metadata": {},
   "outputs": [],
   "source": [
    "# 1 + 2 + 3 + 4 + 5 + 6 + 7 + 8 + 9 + 10\n",
    "sum_first_n(10)"
   ]
  },
  {
   "cell_type": "markdown",
   "metadata": {
    "deletable": false,
    "editable": false
   },
   "source": [
    "### Question 2a\n",
    "\n",
    "Complete the implementation of the function `sum_first_n_squares`, which takes in an integer `n` and returns the sum of the squares of the first `n` positive integers. Example behavior is shown below. (The code next to `>>>` is an example function call, and the following line is the desired output of that function call.)\n",
    "\n",
    "```py\n",
    ">>> sum_first_n_squares(3) \n",
    "14 # 1^2 + 2^2 + 3^2\n",
    "\n",
    ">>> sum_first_n_squares(10)\n",
    "385 # 1^2 + 2^2 + 3^2 + ... + 9^2 + 10^2\n",
    "```\n",
    "**Hint:** Start with the example for loop given above; you should not have to modify much.\n",
    "\n",
    "<!--\n",
    "BEGIN QUESTION\n",
    "name: q2a\n",
    "points: 2\n",
    "-->"
   ]
  },
  {
   "cell_type": "code",
   "execution_count": null,
   "metadata": {},
   "outputs": [],
   "source": [
    "def sum_first_n_squares(n):\n",
    "    ..."
   ]
  },
  {
   "cell_type": "code",
   "execution_count": null,
   "metadata": {
    "deletable": false,
    "editable": false
   },
   "outputs": [],
   "source": [
    "grader.check(\"q2a\")"
   ]
  },
  {
   "cell_type": "markdown",
   "metadata": {
    "deletable": false,
    "editable": false
   },
   "source": [
    "### Question 2b\n",
    "\n",
    "Complete the implementation of the function `only_uppercase`, which takes in a string `s` and returns only the uppercase characters in `s`. Example behavior is shown below.\n",
    "\n",
    "```py\n",
    ">>> only_uppercase('University of California, BerkelEY')\n",
    "'UCBEY'\n",
    "\n",
    ">>> only_uppercase('now THiS!')\n",
    "'THS'\n",
    "```\n",
    "**Hint**: Use `.isupper()` on each character individually.\n",
    "\n",
    "<!--\n",
    "BEGIN QUESTION\n",
    "name: q2b\n",
    "points: 2\n",
    "-->"
   ]
  },
  {
   "cell_type": "code",
   "execution_count": null,
   "metadata": {},
   "outputs": [],
   "source": [
    "def only_uppercase(s):\n",
    "    output = ''\n",
    "    for char in s:\n",
    "        ...\n",
    "    return output"
   ]
  },
  {
   "cell_type": "code",
   "execution_count": null,
   "metadata": {
    "deletable": false,
    "editable": false
   },
   "outputs": [],
   "source": [
    "grader.check(\"q2b\")"
   ]
  },
  {
   "cell_type": "markdown",
   "metadata": {
    "deletable": false,
    "editable": false
   },
   "source": [
    "### Question 2c\n",
    "\n",
    "Complete the implementation of the function `alternating_product`, which takes in a list of numbers `values` and returns the product of every other element in `values`, starting with element `0`. Example behavior is shown below.\n",
    "\n",
    "```py\n",
    ">>> alternating_product([2, 8.5, 1, 9])\n",
    "2 # 2 * 1\n",
    "\n",
    ">>> alternating_product([2, 8.5, 1, 9, 4.5])\n",
    "9.0 # 2 * 1 * 4.5\n",
    "```\n",
    "\n",
    "**Hint**: Review how `range` works from Lecture 12 – in particular, `range(start, stop, d)`.\n",
    "\n",
    "<!--\n",
    "BEGIN QUESTION\n",
    "name: q2c\n",
    "points: 2\n",
    "-->"
   ]
  },
  {
   "cell_type": "code",
   "execution_count": null,
   "metadata": {},
   "outputs": [],
   "source": [
    "def alternating_product(values):\n",
    "    ..."
   ]
  },
  {
   "cell_type": "code",
   "execution_count": null,
   "metadata": {
    "deletable": false,
    "editable": false
   },
   "outputs": [],
   "source": [
    "grader.check(\"q2c\")"
   ]
  },
  {
   "cell_type": "markdown",
   "metadata": {},
   "source": [
    "## Question 3 – I'm! Excited! ❗️"
   ]
  },
  {
   "cell_type": "markdown",
   "metadata": {},
   "source": [
    "Before moving onto the question, take a look at the behavior of the `.split()` method."
   ]
  },
  {
   "cell_type": "code",
   "execution_count": null,
   "metadata": {},
   "outputs": [],
   "source": [
    "'hey, how are you, i am fine'.split(',')"
   ]
  },
  {
   "cell_type": "code",
   "execution_count": null,
   "metadata": {},
   "outputs": [],
   "source": [
    "'university--of--california--berkeley'.split('--')"
   ]
  },
  {
   "cell_type": "markdown",
   "metadata": {
    "deletable": false,
    "editable": false
   },
   "source": [
    "These days, the cool kids like ending each word with an exclamation point. \n",
    "\n",
    "<img src='images/q3.jpg' width=350>\n",
    "\n",
    "Complete the implementation of the function `is_excited` which takes in a string `text` and returns the boolean `True` if all words in `is_excited` end with an exclamation point, and the boolean `False ` otherwise. Example behavior is shown below.\n",
    "\n",
    "```py\n",
    ">>> is_excited('i! am! excited!')\n",
    "True\n",
    "\n",
    ">>> is_excited('why! are! we! typing! like! this!')\n",
    "True\n",
    "\n",
    ">>> is_excited('you are weird!')\n",
    "False\n",
    "\n",
    "```\n",
    "\n",
    "_Hint: Consider using `split` and a for loop._\n",
    "\n",
    "<!--\n",
    "BEGIN QUESTION\n",
    "name: q3\n",
    "points: 2\n",
    "-->"
   ]
  },
  {
   "cell_type": "code",
   "execution_count": null,
   "metadata": {},
   "outputs": [],
   "source": [
    "def is_excited(text):\n",
    "    ..."
   ]
  },
  {
   "cell_type": "code",
   "execution_count": null,
   "metadata": {
    "deletable": false,
    "editable": false
   },
   "outputs": [],
   "source": [
    "grader.check(\"q3\")"
   ]
  },
  {
   "cell_type": "markdown",
   "metadata": {},
   "source": [
    "## Question 4 – Billboard Charts 📈\n",
    "\n",
    "Run the cell below to load in data from the Billboard charts."
   ]
  },
  {
   "cell_type": "code",
   "execution_count": null,
   "metadata": {},
   "outputs": [],
   "source": [
    "billboard = Table.read_table('data/billboard-2010.csv')\n",
    "billboard"
   ]
  },
  {
   "cell_type": "markdown",
   "metadata": {},
   "source": [
    "Artists and fans alike like to keep track of the most consecutive weeks a song has been ranked #1 on the Billboard 200. For example, run the cell below to look at data regarding Drake's hit \"One Dance\" from 2016:"
   ]
  },
  {
   "cell_type": "code",
   "execution_count": null,
   "metadata": {},
   "outputs": [],
   "source": [
    "billboard.where('Name', 'One Dance').select(['Artists', 'Name', 'Week', 'Weekly.rank']).sort('Week').show(20)"
   ]
  },
  {
   "cell_type": "markdown",
   "metadata": {
    "deletable": false,
    "editable": false
   },
   "source": [
    "According to the above table, it seems like One Dance was ranked #1 for 9 consecutive weeks at one point – pretty impressive!\n",
    "\n",
    "Below, complete the implementation of the function `top_streak`, which takes in a list `charts` representing the position of a song in the Billboard 200 over several consecutive weeks and returns the most consecutive weeks that song was ranked #1. Example behavior is shown below.\n",
    "\n",
    "```py\n",
    ">>> one_streak([13, 3, 2, 1, 2, 1, 1, 1, 1, 1, 1, 1, 1, 1, 2, 3, 2, 5, 7, 8])\n",
    "9\n",
    "\n",
    ">>> one_streak([4, 1, 1, 1, 2, 3, 11, 1, 1, 1, 1, 1])\n",
    "5\n",
    "\n",
    ">>> one_streak([5, 4, 1, 1, 1, 3, 2, 1, 2, 3])\n",
    "3\n",
    "```\n",
    "\n",
    "<!--\n",
    "BEGIN QUESTION\n",
    "name: q4\n",
    "points: 2\n",
    "-->"
   ]
  },
  {
   "cell_type": "code",
   "execution_count": null,
   "metadata": {},
   "outputs": [],
   "source": [
    "def one_streak(charts):\n",
    "    longest = ...\n",
    "    current = ...\n",
    "    for num in charts:\n",
    "        if num == 1:\n",
    "            current = ...\n",
    "        else:\n",
    "            longest = ...\n",
    "            current = ...\n",
    "\n",
    "    # Ask yourself – why are we returning max(longest, current) instead of just current?\n",
    "    return max(longest, current)"
   ]
  },
  {
   "cell_type": "code",
   "execution_count": null,
   "metadata": {
    "deletable": false,
    "editable": false
   },
   "outputs": [],
   "source": [
    "grader.check(\"q4\")"
   ]
  },
  {
   "cell_type": "markdown",
   "metadata": {},
   "source": [
    "# Done!\n",
    "\n",
    "Congrats! You've finished your second Data 94 homework assignment.\n",
    "\n",
    "To submit your work, follow the steps outlined on Ed.\n",
    "\n",
    "The point breakdown for this assignment is given in the table below:\n",
    "\n",
    "| **Category** | Points |\n",
    "| --- | --- |\n",
    "| Autograder | 16 |\n",
    "| Written (Questions 1a and 1c) | 2 |\n",
    "| **Total** | 18 |"
   ]
  },
  {
   "cell_type": "markdown",
   "metadata": {
    "deletable": false,
    "editable": false
   },
   "source": [
    "---\n",
    "\n",
    "To double-check your work, the cell below will rerun all of the autograder tests."
   ]
  },
  {
   "cell_type": "code",
   "execution_count": null,
   "metadata": {
    "deletable": false,
    "editable": false
   },
   "outputs": [],
   "source": [
    "grader.check_all()"
   ]
  },
  {
   "cell_type": "markdown",
   "metadata": {
    "deletable": false,
    "editable": false
   },
   "source": [
    "## Submission\n",
    "\n",
    "Make sure you have run all cells in your notebook in order before running the cell below, so that all images/graphs appear in the output. The cell below will generate a zip file for you to submit. **Please save before exporting!**"
   ]
  },
  {
   "cell_type": "code",
   "execution_count": null,
   "metadata": {
    "deletable": false,
    "editable": false
   },
   "outputs": [],
   "source": [
    "# Save your notebook first, then run this cell to export your submission.\n",
    "grader.export()"
   ]
  },
  {
   "cell_type": "markdown",
   "metadata": {},
   "source": [
    " "
   ]
  }
 ],
 "metadata": {
  "history": [
   {
    "code": "def sphere_volume(r):\n    sphere_volume = (4 / 3) * 3.14159 * r ** 3",
    "id": "c0aae06881a74d2b8501c53e3d82435d",
    "idx": 3,
    "time": "2021-02-14T03:08:34.406Z",
    "type": "execution"
   },
   {
    "id": "c0aae06881a74d2b8501c53e3d82435d",
    "time": "2021-02-14T03:08:34.517Z",
    "type": "completion"
   },
   {
    "code": "def sphere_volume(r):\n    sphere_volume = (4 / 3) * 3.14159 * r ** 3\n    print(sphere_volume)",
    "id": "c0aae06881a74d2b8501c53e3d82435d",
    "idx": 3,
    "time": "2021-02-14T03:08:48.842Z",
    "type": "execution"
   },
   {
    "id": "c0aae06881a74d2b8501c53e3d82435d",
    "time": "2021-02-14T03:08:48.983Z",
    "type": "completion"
   },
   {
    "code": "sphere_volume(5)",
    "id": "31af299aa1cc411884570101795756cc",
    "idx": 4,
    "time": "2021-02-14T03:09:19.571Z",
    "type": "execution"
   },
   {
    "id": "31af299aa1cc411884570101795756cc",
    "time": "2021-02-14T03:09:19.729Z",
    "type": "completion"
   },
   {
    "code": "def sphere_volume(r):\n    if r > 0:\n        sphere_volume = (4 / 3) * 3.14159 * r ** 3\n    else:\n        sphere_volume = 0\n    print(sphere_volume)",
    "id": "c0aae06881a74d2b8501c53e3d82435d",
    "idx": 3,
    "time": "2021-02-14T03:10:38.164Z",
    "type": "execution"
   },
   {
    "id": "c0aae06881a74d2b8501c53e3d82435d",
    "time": "2021-02-14T03:10:38.251Z",
    "type": "completion"
   },
   {
    "code": "def sphere_volume(r):\n    if r > 0:\n        sphere_volume = (4 / 3) * 3.14159 * r ** 3\n    else:\n        sphere_volume = 0\n    print(sphere_volume)",
    "id": "c0aae06881a74d2b8501c53e3d82435d",
    "idx": 3,
    "time": "2021-02-14T03:13:51.615Z",
    "type": "execution"
   },
   {
    "id": "c0aae06881a74d2b8501c53e3d82435d",
    "time": "2021-02-14T03:13:51.690Z",
    "type": "completion"
   },
   {
    "code": "def sphere_volume(r):\n    if r < 0:\n        return 0\n    else:\n        sphere_volume = (4 / 3) * 3.14159 * r ** 3\n        print(sphere_volume)",
    "id": "c0aae06881a74d2b8501c53e3d82435d",
    "idx": 3,
    "time": "2021-02-14T03:14:25.091Z",
    "type": "execution"
   },
   {
    "id": "c0aae06881a74d2b8501c53e3d82435d",
    "time": "2021-02-14T03:14:25.152Z",
    "type": "completion"
   },
   {
    "code": "def sphere_volume(r):\n    sphere_volume = (4 / 3) * 3.14159 * r ** 3",
    "id": "c0aae06881a74d2b8501c53e3d82435d",
    "idx": 3,
    "time": "2021-02-14T03:14:47.100Z",
    "type": "execution"
   },
   {
    "id": "c0aae06881a74d2b8501c53e3d82435d",
    "time": "2021-02-14T03:14:47.166Z",
    "type": "completion"
   },
   {
    "code": "sphere_volume(5)",
    "id": "f569bb4420f9454097e330a420b3798d",
    "idx": 5,
    "time": "2021-02-14T03:14:50.739Z",
    "type": "execution"
   },
   {
    "id": "f569bb4420f9454097e330a420b3798d",
    "time": "2021-02-14T03:14:50.802Z",
    "type": "completion"
   },
   {
    "code": "def sphere_volume(r):\n    sphere_volume = (4 / 3) * 3.14159 * r ** 3\n    print(sphere_volume)",
    "id": "c0aae06881a74d2b8501c53e3d82435d",
    "idx": 3,
    "time": "2021-02-14T03:14:57.597Z",
    "type": "execution"
   },
   {
    "id": "c0aae06881a74d2b8501c53e3d82435d",
    "time": "2021-02-14T03:14:57.656Z",
    "type": "completion"
   },
   {
    "code": "sphere_volume(5)",
    "id": "f569bb4420f9454097e330a420b3798d",
    "idx": 5,
    "time": "2021-02-14T03:14:58.379Z",
    "type": "execution"
   },
   {
    "id": "f569bb4420f9454097e330a420b3798d",
    "time": "2021-02-14T03:14:58.483Z",
    "type": "completion"
   },
   {
    "code": "def sphere_volume(r):\n    sphere_volume = (4 / 3) * 3.14159 * r ** 3\n    print sphere_volume",
    "id": "c0aae06881a74d2b8501c53e3d82435d",
    "idx": 3,
    "time": "2021-02-14T03:15:02.483Z",
    "type": "execution"
   },
   {
    "id": "c0aae06881a74d2b8501c53e3d82435d",
    "time": "2021-02-14T03:15:02.626Z",
    "type": "completion"
   },
   {
    "code": "def sphere_volume(r):\n    sphere_volume = (4 / 3) * 3.14159 * r ** 3\n    print(sphere_volume)",
    "id": "c0aae06881a74d2b8501c53e3d82435d",
    "idx": 3,
    "time": "2021-02-14T03:15:06.157Z",
    "type": "execution"
   },
   {
    "id": "c0aae06881a74d2b8501c53e3d82435d",
    "time": "2021-02-14T03:15:06.241Z",
    "type": "completion"
   },
   {
    "code": "return",
    "id": "d80bf594dbcc4e148dcb3af4df641790",
    "idx": 6,
    "time": "2021-02-14T03:15:08.347Z",
    "type": "execution"
   },
   {
    "id": "d80bf594dbcc4e148dcb3af4df641790",
    "time": "2021-02-14T03:15:08.525Z",
    "type": "completion"
   },
   {
    "code": "type(return)",
    "id": "d80bf594dbcc4e148dcb3af4df641790",
    "idx": 6,
    "time": "2021-02-14T03:15:11.072Z",
    "type": "execution"
   },
   {
    "id": "d80bf594dbcc4e148dcb3af4df641790",
    "time": "2021-02-14T03:15:11.161Z",
    "type": "completion"
   },
   {
    "code": "type(return())",
    "id": "d80bf594dbcc4e148dcb3af4df641790",
    "idx": 6,
    "time": "2021-02-14T03:15:14.522Z",
    "type": "execution"
   },
   {
    "id": "d80bf594dbcc4e148dcb3af4df641790",
    "time": "2021-02-14T03:15:14.582Z",
    "type": "completion"
   },
   {
    "code": "return(5)",
    "id": "392d2c3a240b41ae99501208b806e4c5",
    "idx": 6,
    "time": "2021-02-14T03:15:17.095Z",
    "type": "execution"
   },
   {
    "id": "392d2c3a240b41ae99501208b806e4c5",
    "time": "2021-02-14T03:15:17.175Z",
    "type": "completion"
   },
   {
    "code": "v = sphere_volume(5)\nv",
    "id": "1d3be983d9e246e58444b46d99276670",
    "idx": 7,
    "time": "2021-02-14T03:18:35.591Z",
    "type": "execution"
   },
   {
    "id": "1d3be983d9e246e58444b46d99276670",
    "time": "2021-02-14T03:18:35.690Z",
    "type": "completion"
   },
   {
    "code": "v = sphere_volume(5)",
    "id": "1d3be983d9e246e58444b46d99276670",
    "idx": 7,
    "time": "2021-02-14T03:18:40.812Z",
    "type": "execution"
   },
   {
    "id": "1d3be983d9e246e58444b46d99276670",
    "time": "2021-02-14T03:18:40.886Z",
    "type": "completion"
   },
   {
    "code": "v",
    "id": "bd394838ae8b4ebbb708d679e95ad9c4",
    "idx": 8,
    "time": "2021-02-14T03:18:42.385Z",
    "type": "execution"
   },
   {
    "id": "bd394838ae8b4ebbb708d679e95ad9c4",
    "time": "2021-02-14T03:18:42.458Z",
    "type": "completion"
   },
   {
    "code": "print(v)",
    "id": "afd96ff851c249e1bc3e21a41cda05f5",
    "idx": 9,
    "time": "2021-02-14T03:18:45.330Z",
    "type": "execution"
   },
   {
    "id": "afd96ff851c249e1bc3e21a41cda05f5",
    "time": "2021-02-14T03:18:45.570Z",
    "type": "completion"
   },
   {
    "code": "def sphere_volume_fixed(r):\n    return (4 / 3) * 3.14159 * r ** 3",
    "id": "e3663bb0a7fc436989695436288b8a47",
    "idx": 13,
    "time": "2021-02-14T03:23:11.374Z",
    "type": "execution"
   },
   {
    "id": "e3663bb0a7fc436989695436288b8a47",
    "time": "2021-02-14T03:23:11.440Z",
    "type": "completion"
   },
   {
    "code": "def sphere_volume_fixed(r):\n    # BEGIN SOLUTION\n    return (4 / 3) * 3.14159 * r ** 3\n    # END SOLUTION",
    "id": "e3663bb0a7fc436989695436288b8a47",
    "idx": 13,
    "time": "2021-02-14T03:23:22.646Z",
    "type": "execution"
   },
   {
    "id": "e3663bb0a7fc436989695436288b8a47",
    "time": "2021-02-14T03:23:22.775Z",
    "type": "completion"
   },
   {
    "code": "def sphere_volume_fixed(r):\n    # BEGIN SOLUTION\n    if r < 0:\n        return 0\n    return (4 / 3) * 3.14159 * r ** 3\n    # END SOLUTION",
    "id": "e3663bb0a7fc436989695436288b8a47",
    "idx": 13,
    "time": "2021-02-14T03:23:56.254Z",
    "type": "execution"
   },
   {
    "id": "e3663bb0a7fc436989695436288b8a47",
    "time": "2021-02-14T03:23:56.321Z",
    "type": "completion"
   },
   {
    "code": "# Don't worry about what's in this cell, just run it\nimport numpy as np",
    "id": "aff9383d0a424ab08108b0b069874747",
    "idx": 1,
    "time": "2021-02-14T03:24:12.424Z",
    "type": "execution"
   },
   {
    "id": "aff9383d0a424ab08108b0b069874747",
    "time": "2021-02-14T03:24:12.662Z",
    "type": "completion"
   },
   {
    "code": "# TEST\nsphere_volume_fixed(5)",
    "id": "4eb952e72ce34a9089fba6f40f60ef72",
    "idx": 15,
    "time": "2021-02-14T03:24:31.921Z",
    "type": "execution"
   },
   {
    "id": "4eb952e72ce34a9089fba6f40f60ef72",
    "time": "2021-02-14T03:24:32.009Z",
    "type": "completion"
   },
   {
    "code": "# TEST\nnp.isclose(sphere_volume_fixed(5), 523.59833)",
    "id": "4eb952e72ce34a9089fba6f40f60ef72",
    "idx": 15,
    "time": "2021-02-14T03:24:42.690Z",
    "type": "execution"
   },
   {
    "id": "4eb952e72ce34a9089fba6f40f60ef72",
    "time": "2021-02-14T03:24:42.771Z",
    "type": "completion"
   },
   {
    "code": "# TEST\nsphere_volume_fixed(15)",
    "id": "be2a88671408456a8abdb23ca063c2ed",
    "idx": 16,
    "time": "2021-02-14T03:24:57.130Z",
    "type": "execution"
   },
   {
    "id": "be2a88671408456a8abdb23ca063c2ed",
    "time": "2021-02-14T03:24:57.208Z",
    "type": "completion"
   },
   {
    "code": "# TEST\nnp.isclose(sphere_volume_fixed(15), 14137.155)",
    "id": "be2a88671408456a8abdb23ca063c2ed",
    "idx": 16,
    "time": "2021-02-14T03:25:07.584Z",
    "type": "execution"
   },
   {
    "id": "be2a88671408456a8abdb23ca063c2ed",
    "time": "2021-02-14T03:25:07.669Z",
    "type": "completion"
   },
   {
    "code": "# TEST\nnp.isclose(sphere_volume_fixed(-2), 0)",
    "id": "67ec495a7b2443379e931f964b21db42",
    "idx": 17,
    "time": "2021-02-14T03:25:19.412Z",
    "type": "execution"
   },
   {
    "id": "67ec495a7b2443379e931f964b21db42",
    "time": "2021-02-14T03:25:19.511Z",
    "type": "completion"
   },
   {
    "code": "sphere_volume_fixed(0.1)",
    "id": "b2c03f63ae9e489589557970b4ce75eb",
    "idx": 17,
    "time": "2021-02-14T03:25:43.711Z",
    "type": "execution"
   },
   {
    "id": "b2c03f63ae9e489589557970b4ce75eb",
    "time": "2021-02-14T03:25:43.892Z",
    "type": "completion"
   },
   {
    "code": "np.isclose(sphere_volume_fixed(0.1), 0.0041887)",
    "id": "b2c03f63ae9e489589557970b4ce75eb",
    "idx": 17,
    "time": "2021-02-14T03:25:55.065Z",
    "type": "execution"
   },
   {
    "id": "b2c03f63ae9e489589557970b4ce75eb",
    "time": "2021-02-14T03:25:55.139Z",
    "type": "completion"
   },
   {
    "code": "np.isclose(sphere_volume_fixed(0.1), 0.004188766)",
    "id": "b2c03f63ae9e489589557970b4ce75eb",
    "idx": 17,
    "time": "2021-02-14T03:25:58.188Z",
    "type": "execution"
   },
   {
    "id": "b2c03f63ae9e489589557970b4ce75eb",
    "time": "2021-02-14T03:25:58.254Z",
    "type": "completion"
   },
   {
    "code": "# TEST\nnp.isclose(sphere_volume_fixed(0.1), 0.004188766)",
    "id": "1985256619b742c082393e7e0f4807de",
    "idx": 17,
    "time": "2021-02-14T03:26:03.342Z",
    "type": "execution"
   },
   {
    "id": "1985256619b742c082393e7e0f4807de",
    "time": "2021-02-14T03:26:03.403Z",
    "type": "completion"
   },
   {
    "code": "# TEST\nnp.isclose(sphere_volume_fixed(-2), 0)",
    "id": "67ec495a7b2443379e931f964b21db42",
    "idx": 18,
    "time": "2021-02-14T03:26:05.331Z",
    "type": "execution"
   },
   {
    "id": "67ec495a7b2443379e931f964b21db42",
    "time": "2021-02-14T03:26:05.404Z",
    "type": "completion"
   },
   {
    "code": "def only_uppercase(s):\n    output = ''\n    for char in s:\n        # BEGIN SOLUTION\n        if char.isupper():\n            output += char\n        # END SOLUTION\n    return output",
    "id": "f158f997294c464e8a606e77135c2cda",
    "idx": 49,
    "time": "2021-02-14T03:30:07.679Z",
    "type": "execution"
   },
   {
    "id": "f158f997294c464e8a606e77135c2cda",
    "time": "2021-02-14T03:30:07.744Z",
    "type": "completion"
   },
   {
    "code": "# TEST\nonly_uppercase('University of California, BerkelEY') == 'UCBEY'",
    "id": "5d17a76530a4412586cd6a15aca71592",
    "idx": 50,
    "time": "2021-02-14T03:30:07.786Z",
    "type": "execution"
   },
   {
    "code": "# TEST\nonly_uppercase('now THiS!') == 'THS'",
    "id": "647ba923ecc84f8f86a7040f01e66aa0",
    "idx": 51,
    "time": "2021-02-14T03:30:07.932Z",
    "type": "execution"
   },
   {
    "id": "5d17a76530a4412586cd6a15aca71592",
    "time": "2021-02-14T03:30:07.982Z",
    "type": "completion"
   },
   {
    "id": "647ba923ecc84f8f86a7040f01e66aa0",
    "time": "2021-02-14T03:30:08.144Z",
    "type": "completion"
   },
   {
    "code": "# Don't worry about what's in this cell, just run it\nimport numpy as np\nfrom datascience import *",
    "id": "aff9383d0a424ab08108b0b069874747",
    "idx": 1,
    "time": "2021-02-14T03:31:00.539Z",
    "type": "execution"
   },
   {
    "id": "aff9383d0a424ab08108b0b069874747",
    "time": "2021-02-14T03:31:02.445Z",
    "type": "completion"
   },
   {
    "code": "# Don't worry about what's in this cell, just run it\nimport numpy as np\nfrom datascience import *",
    "id": "5ee23629a6dc496eabdde04b7602196f",
    "idx": 1,
    "time": "2021-02-14T03:45:08.638Z",
    "type": "execution"
   },
   {
    "id": "5ee23629a6dc496eabdde04b7602196f",
    "time": "2021-02-14T03:45:10.643Z",
    "type": "completion"
   },
   {
    "code": "def sphere_volume(r):\n    sphere_volume = (4 / 3) * 3.14159 * r ** 3\n    print(sphere_volume)",
    "id": "3c5645cd4a454d229b7b4b04174c6413",
    "idx": 4,
    "time": "2021-02-14T03:45:11.627Z",
    "type": "execution"
   },
   {
    "id": "3c5645cd4a454d229b7b4b04174c6413",
    "time": "2021-02-14T03:45:11.691Z",
    "type": "completion"
   },
   {
    "code": "sphere_volume(5)",
    "id": "1e77401ebac44304b7aa3dd6636cf738",
    "idx": 6,
    "time": "2021-02-14T03:45:12.395Z",
    "type": "execution"
   },
   {
    "id": "1e77401ebac44304b7aa3dd6636cf738",
    "time": "2021-02-14T03:45:12.524Z",
    "type": "completion"
   },
   {
    "code": "v = sphere_volume(5)",
    "id": "54fc23ce65cf4cdf8e0e567e6c254ae9",
    "idx": 8,
    "time": "2021-02-14T03:45:13.125Z",
    "type": "execution"
   },
   {
    "id": "54fc23ce65cf4cdf8e0e567e6c254ae9",
    "time": "2021-02-14T03:45:13.189Z",
    "type": "completion"
   },
   {
    "code": "v",
    "id": "41f35218eb0b49298fb6fcfe7f2c7da3",
    "idx": 9,
    "time": "2021-02-14T03:45:13.474Z",
    "type": "execution"
   },
   {
    "id": "41f35218eb0b49298fb6fcfe7f2c7da3",
    "time": "2021-02-14T03:45:13.576Z",
    "type": "completion"
   },
   {
    "code": "print(v)",
    "id": "d8c877819f18411d8db0a68b118e29ab",
    "idx": 10,
    "time": "2021-02-14T03:45:13.767Z",
    "type": "execution"
   },
   {
    "id": "d8c877819f18411d8db0a68b118e29ab",
    "time": "2021-02-14T03:45:13.825Z",
    "type": "completion"
   },
   {
    "code": "def sphere_volume_fixed(r):\n    # BEGIN SOLUTION\n    if r < 0:\n        return 0\n    return (4 / 3) * 3.14159 * r ** 3\n    # END SOLUTION",
    "id": "307fe783f78a4b0a9ebe1b833bd3ca97",
    "idx": 14,
    "time": "2021-02-14T03:45:14.936Z",
    "type": "execution"
   },
   {
    "id": "307fe783f78a4b0a9ebe1b833bd3ca97",
    "time": "2021-02-14T03:45:14.991Z",
    "type": "completion"
   },
   {
    "code": "# TEST\nnp.isclose(sphere_volume_fixed(5), 523.59833)",
    "id": "fb06a90483044bd5854eff542913fc47",
    "idx": 15,
    "time": "2021-02-14T03:45:15.375Z",
    "type": "execution"
   },
   {
    "id": "fb06a90483044bd5854eff542913fc47",
    "time": "2021-02-14T03:45:15.436Z",
    "type": "completion"
   },
   {
    "code": "# TEST\nnp.isclose(sphere_volume_fixed(15), 14137.155)",
    "id": "b0535ac6d89c42838cb0ec43832216f1",
    "idx": 16,
    "time": "2021-02-14T03:45:16.197Z",
    "type": "execution"
   },
   {
    "id": "b0535ac6d89c42838cb0ec43832216f1",
    "time": "2021-02-14T03:45:16.527Z",
    "type": "completion"
   },
   {
    "code": "# TEST\nnp.isclose(sphere_volume_fixed(0.1), 0.004188766)",
    "id": "b9176f62635e46a78f1116e75150a92a",
    "idx": 17,
    "time": "2021-02-14T03:45:16.645Z",
    "type": "execution"
   },
   {
    "code": "# TEST\nnp.isclose(sphere_volume_fixed(-2), 0)",
    "id": "51c7af3a4cb146978c6e448edec78d3a",
    "idx": 18,
    "time": "2021-02-14T03:45:17.030Z",
    "type": "execution"
   },
   {
    "id": "b9176f62635e46a78f1116e75150a92a",
    "time": "2021-02-14T03:45:17.061Z",
    "type": "completion"
   },
   {
    "id": "51c7af3a4cb146978c6e448edec78d3a",
    "time": "2021-02-14T03:45:17.086Z",
    "type": "completion"
   },
   {
    "code": "def quadratic_equation(a, b, c):\n    d = b^2 - 4ac",
    "id": "744086f3df3345d3be342e5eb0761cba",
    "idx": 20,
    "time": "2021-02-14T03:55:49.989Z",
    "type": "execution"
   },
   {
    "id": "744086f3df3345d3be342e5eb0761cba",
    "time": "2021-02-14T03:55:50.064Z",
    "type": "completion"
   },
   {
    "code": "def quadratic_equation(a, b, c):\n    d = b^2 - 4 * a * c",
    "id": "744086f3df3345d3be342e5eb0761cba",
    "idx": 20,
    "time": "2021-02-14T03:55:55.345Z",
    "type": "execution"
   },
   {
    "id": "744086f3df3345d3be342e5eb0761cba",
    "time": "2021-02-14T03:55:55.416Z",
    "type": "completion"
   },
   {
    "code": "3^2",
    "id": "945f541ffc8742c68beb79d0d2e70245",
    "idx": 21,
    "time": "2021-02-14T03:55:59.426Z",
    "type": "execution"
   },
   {
    "id": "945f541ffc8742c68beb79d0d2e70245",
    "time": "2021-02-14T03:55:59.498Z",
    "type": "completion"
   },
   {
    "code": "def quadratic_equation(a, b, c):\n    d = b^2 - 4 * a * c\n    if d > 0:\n        return [(-b + d**0.5)/(2 * a), (-b - d**0.5)/(2 * a)]",
    "id": "744086f3df3345d3be342e5eb0761cba",
    "idx": 20,
    "time": "2021-02-14T03:56:35.414Z",
    "type": "execution"
   },
   {
    "id": "744086f3df3345d3be342e5eb0761cba",
    "time": "2021-02-14T03:56:35.489Z",
    "type": "completion"
   },
   {
    "code": "def quadratic_equation(a, b, c):\n    d = b^2 - 4 * a * c\n    if d > 0:\n        return [(-b + d**0.5)/(2 * a), (-b - d**0.5)/(2 * a)]\n    if d = 0:\n        return [-b/(2 * a)]",
    "id": "744086f3df3345d3be342e5eb0761cba",
    "idx": 20,
    "time": "2021-02-14T03:57:31.191Z",
    "type": "execution"
   },
   {
    "id": "744086f3df3345d3be342e5eb0761cba",
    "time": "2021-02-14T03:57:31.266Z",
    "type": "completion"
   },
   {
    "code": "def quadratic_equation(a, b, c):\n    d = b^2 - 4 * a * c\n    if d > 0:\n        return [(-b + d**0.5)/(2 * a), (-b - d**0.5)/(2 * a)]\n    elif d = 0:\n        return [-b/(2 * a)]\n    else:\n        return 'False'",
    "id": "744086f3df3345d3be342e5eb0761cba",
    "idx": 20,
    "time": "2021-02-14T03:57:43.399Z",
    "type": "execution"
   },
   {
    "id": "744086f3df3345d3be342e5eb0761cba",
    "time": "2021-02-14T03:57:43.469Z",
    "type": "completion"
   },
   {
    "code": "def quadratic_equation(a, b, c):\n    d = b^2 - 4 * a * c\n    if d >= 0:\n        return [(-b + d**0.5)/(2 * a), (-b - d**0.5)/(2 * a)]\n    elif d = 0:\n        return [-b/(2 * a)]\n    else:\n        return 'False'",
    "id": "744086f3df3345d3be342e5eb0761cba",
    "idx": 20,
    "time": "2021-02-14T03:58:32.810Z",
    "type": "execution"
   },
   {
    "id": "744086f3df3345d3be342e5eb0761cba",
    "time": "2021-02-14T03:58:32.893Z",
    "type": "completion"
   },
   {
    "code": "def quadratic_equation(a, b, c):\n    d = b^2 - 4 * a * c\n    if d > 0:\n        return [(-b + d**0.5)/(2 * a), (-b - d**0.5)/(2 * a)]\n    elif d = 0:\n        return [-b/(2 * a)]\n    else:\n        return 'False'",
    "id": "744086f3df3345d3be342e5eb0761cba",
    "idx": 20,
    "time": "2021-02-14T03:58:34.824Z",
    "type": "execution"
   },
   {
    "id": "744086f3df3345d3be342e5eb0761cba",
    "time": "2021-02-14T03:58:34.896Z",
    "type": "completion"
   },
   {
    "code": "3 < 0 or > 5",
    "id": "a74c8b2ef96349ee8855590bc484fcaf",
    "idx": 21,
    "time": "2021-02-14T03:58:56.545Z",
    "type": "execution"
   },
   {
    "id": "a74c8b2ef96349ee8855590bc484fcaf",
    "time": "2021-02-14T03:58:56.607Z",
    "type": "completion"
   },
   {
    "code": "def quadratic_equation(a, b, c):\n    d = b^2 - 4 * a * c\n    if d > 0:\n        return [(-b + d**0.5)/(2 * a), (-b - d**0.5)/(2 * a)]\n    else if d = 0:\n        return [-b/(2 * a)]\n    else:\n        return 'False'",
    "id": "744086f3df3345d3be342e5eb0761cba",
    "idx": 20,
    "time": "2021-02-14T04:00:14.037Z",
    "type": "execution"
   },
   {
    "id": "744086f3df3345d3be342e5eb0761cba",
    "time": "2021-02-14T04:00:14.116Z",
    "type": "completion"
   },
   {
    "code": "3^0.5",
    "id": "a7237162236b4f9884812b35f8b019b1",
    "idx": 21,
    "time": "2021-02-14T04:00:39.417Z",
    "type": "execution"
   },
   {
    "id": "a7237162236b4f9884812b35f8b019b1",
    "time": "2021-02-14T04:00:39.655Z",
    "type": "completion"
   },
   {
    "code": "def quadratic_equation(a, b, c):\n    d = b^2 - 4 * a * c\n    if d > 0:\n        return [(-b + d**0.5)/(2 * a) and (-b - d**0.5)/(2 * a)]\n    else if d = 0:\n        return [-b/(2 * a)]\n    else:\n        return 'False'",
    "id": "744086f3df3345d3be342e5eb0761cba",
    "idx": 20,
    "time": "2021-02-14T04:00:50.026Z",
    "type": "execution"
   },
   {
    "id": "744086f3df3345d3be342e5eb0761cba",
    "time": "2021-02-14T04:00:50.100Z",
    "type": "completion"
   },
   {
    "code": "def quadratic_equation_fixed(a, b, c):\n    # BEGIN SOLUTION\n    d = b**2 - 4 * a * c\n    if d > 0:\n        return [(-b + d**0.5)/(2 * a), (-b - d**0.5)/(2 * a)]\n    elif d == 0:\n        return [-b/(2 * a)]\n    else:\n        return False\n    # END SOLUTION",
    "id": "76b668c0276c49ea84d6575673bafe36",
    "idx": 22,
    "time": "2021-02-14T04:05:40.702Z",
    "type": "execution"
   },
   {
    "id": "76b668c0276c49ea84d6575673bafe36",
    "time": "2021-02-14T04:05:40.768Z",
    "type": "completion"
   },
   {
    "code": "def quadratic_equation_fixed(a, b, c):\n    # BEGIN SOLUTION\n    d = b**2 - 4 * a * c\n    if d > 0:\n        return [(-b + d**0.5)/(2 * a), (-b - d**0.5)/(2 * a)]\n    elif d == 0:\n        return [-b/(2 * a)]\n    else:\n        return False\n    # END SOLUTION",
    "id": "76b668c0276c49ea84d6575673bafe36",
    "idx": 22,
    "time": "2021-02-14T04:05:50.852Z",
    "type": "execution"
   },
   {
    "id": "76b668c0276c49ea84d6575673bafe36",
    "time": "2021-02-14T04:05:50.916Z",
    "type": "completion"
   },
   {
    "code": "quadratic_equation_fixed(1, 5, 4)",
    "id": "ef130d5580fa41db8fca6b69263a9c7e",
    "idx": 23,
    "time": "2021-02-14T04:06:00.854Z",
    "type": "execution"
   },
   {
    "id": "ef130d5580fa41db8fca6b69263a9c7e",
    "time": "2021-02-14T04:06:00.933Z",
    "type": "completion"
   },
   {
    "code": "# TEST\nquadratic_equation_fixed(1, 5, 4)",
    "id": "ef130d5580fa41db8fca6b69263a9c7e",
    "idx": 23,
    "time": "2021-02-14T04:06:20.158Z",
    "type": "execution"
   },
   {
    "id": "ef130d5580fa41db8fca6b69263a9c7e",
    "time": "2021-02-14T04:06:20.232Z",
    "type": "completion"
   },
   {
    "code": "# TEST\nquadratic_equation_fixed(-1, 5, 4)",
    "id": "b0d6336e3023447d82b1e2216d4afd34",
    "idx": 23,
    "time": "2021-02-14T04:09:22.824Z",
    "type": "execution"
   },
   {
    "id": "b0d6336e3023447d82b1e2216d4afd34",
    "time": "2021-02-14T04:09:22.896Z",
    "type": "completion"
   },
   {
    "code": "# TEST\nquadratic_equation_fixed(-1, 5, 16)",
    "id": "b0d6336e3023447d82b1e2216d4afd34",
    "idx": 23,
    "time": "2021-02-14T04:09:25.328Z",
    "type": "execution"
   },
   {
    "id": "b0d6336e3023447d82b1e2216d4afd34",
    "time": "2021-02-14T04:09:25.403Z",
    "type": "completion"
   },
   {
    "code": "# TEST\nquadratic_equation_fixed(1, 5, 16)",
    "id": "b0d6336e3023447d82b1e2216d4afd34",
    "idx": 23,
    "time": "2021-02-14T04:09:27.515Z",
    "type": "execution"
   },
   {
    "id": "b0d6336e3023447d82b1e2216d4afd34",
    "time": "2021-02-14T04:09:27.592Z",
    "type": "completion"
   },
   {
    "code": "# TEST\nquadratic_equation_fixed(1, 5, 16) == False",
    "id": "b0d6336e3023447d82b1e2216d4afd34",
    "idx": 23,
    "time": "2021-02-14T04:09:30.122Z",
    "type": "execution"
   },
   {
    "id": "b0d6336e3023447d82b1e2216d4afd34",
    "time": "2021-02-14T04:09:30.199Z",
    "type": "completion"
   },
   {
    "code": "# TEST\nquadratic_equation_fixed(1, 5, 4)",
    "id": "7c25468aab4943aca15a04563a009253",
    "idx": 23,
    "time": "2021-02-14T04:09:51.871Z",
    "type": "execution"
   },
   {
    "id": "7c25468aab4943aca15a04563a009253",
    "time": "2021-02-14T04:09:51.949Z",
    "type": "completion"
   },
   {
    "code": "# TEST\nquadratic_equation_fixed(1, 5, 4) == [-1, -4]",
    "id": "7c25468aab4943aca15a04563a009253",
    "idx": 23,
    "time": "2021-02-14T04:09:57.293Z",
    "type": "execution"
   },
   {
    "id": "7c25468aab4943aca15a04563a009253",
    "time": "2021-02-14T04:09:57.375Z",
    "type": "completion"
   },
   {
    "code": "# TEST\nquadratic_equation_fixed(1, 5, 4) == [-1.0, -4.0]",
    "id": "7c25468aab4943aca15a04563a009253",
    "idx": 23,
    "time": "2021-02-14T04:10:01.927Z",
    "type": "execution"
   },
   {
    "id": "7c25468aab4943aca15a04563a009253",
    "time": "2021-02-14T04:10:02.010Z",
    "type": "completion"
   },
   {
    "code": "# TEST\nquadratic_equation_fixed(2, 9, 5)",
    "id": "ebdd2c5c69db4b0d82977ee268118723",
    "idx": 24,
    "time": "2021-02-14T04:10:15.563Z",
    "type": "execution"
   },
   {
    "id": "ebdd2c5c69db4b0d82977ee268118723",
    "time": "2021-02-14T04:10:15.642Z",
    "type": "completion"
   },
   {
    "code": "# TEST\nnp.isclose(quadratic_equation_fixed(2, 9, 5), [-0.6492189406417879, -3.850781059358212])",
    "id": "ebdd2c5c69db4b0d82977ee268118723",
    "idx": 24,
    "time": "2021-02-14T04:10:30.456Z",
    "type": "execution"
   },
   {
    "id": "ebdd2c5c69db4b0d82977ee268118723",
    "time": "2021-02-14T04:10:30.548Z",
    "type": "completion"
   },
   {
    "code": "# TEST\nnp.all(np.isclose(quadratic_equation_fixed(2, 9, 5), [-0.6492189406417879, -3.850781059358212]))",
    "id": "ebdd2c5c69db4b0d82977ee268118723",
    "idx": 24,
    "time": "2021-02-14T04:10:39.472Z",
    "type": "execution"
   },
   {
    "id": "ebdd2c5c69db4b0d82977ee268118723",
    "time": "2021-02-14T04:10:39.556Z",
    "type": "completion"
   },
   {
    "code": "# TEST\nquadratic_equation_fixed(2, 9, 5)",
    "id": "ebdd2c5c69db4b0d82977ee268118723",
    "idx": 24,
    "time": "2021-02-14T04:10:57.638Z",
    "type": "execution"
   },
   {
    "id": "ebdd2c5c69db4b0d82977ee268118723",
    "time": "2021-02-14T04:10:57.718Z",
    "type": "completion"
   },
   {
    "code": "# TEST\nquadratic_equation_fixed(2, 9, 4)",
    "id": "ebdd2c5c69db4b0d82977ee268118723",
    "idx": 24,
    "time": "2021-02-14T04:11:01.363Z",
    "type": "execution"
   },
   {
    "id": "ebdd2c5c69db4b0d82977ee268118723",
    "time": "2021-02-14T04:11:01.440Z",
    "type": "completion"
   },
   {
    "code": "# TEST\nquadratic_equation_fixed(2, -9, 4) == []",
    "id": "ebdd2c5c69db4b0d82977ee268118723",
    "idx": 24,
    "time": "2021-02-14T04:11:06.828Z",
    "type": "execution"
   },
   {
    "id": "ebdd2c5c69db4b0d82977ee268118723",
    "time": "2021-02-14T04:11:06.896Z",
    "type": "completion"
   },
   {
    "code": "# TEST\nquadratic_equation_fixed(2, -9, 4)",
    "id": "ebdd2c5c69db4b0d82977ee268118723",
    "idx": 24,
    "time": "2021-02-14T04:11:10.102Z",
    "type": "execution"
   },
   {
    "id": "ebdd2c5c69db4b0d82977ee268118723",
    "time": "2021-02-14T04:11:10.187Z",
    "type": "completion"
   },
   {
    "code": "# TEST\nquadratic_equation_fixed(2, -9, 4) == [4.0, 5.0]",
    "id": "ebdd2c5c69db4b0d82977ee268118723",
    "idx": 24,
    "time": "2021-02-14T04:11:16.582Z",
    "type": "execution"
   },
   {
    "id": "ebdd2c5c69db4b0d82977ee268118723",
    "time": "2021-02-14T04:11:16.658Z",
    "type": "completion"
   },
   {
    "code": "# TEST\nquadratic_equation_fixed(2, -9, 4)",
    "id": "ebdd2c5c69db4b0d82977ee268118723",
    "idx": 24,
    "time": "2021-02-14T04:11:19.824Z",
    "type": "execution"
   },
   {
    "id": "ebdd2c5c69db4b0d82977ee268118723",
    "time": "2021-02-14T04:11:19.904Z",
    "type": "completion"
   },
   {
    "code": "def quadratic_equation(a, b, c):\n    d = b^2 - 4 * a * c\n    if d > 0:\n        return [(-b + d**0.5)/(2 * a) and (-b - d**0.5)/(2 * a)]\n    else if d = 0:\n        return [-b/(2 * a)]\n    else:\n        return 'False'",
    "id": "744086f3df3345d3be342e5eb0761cba",
    "idx": 20,
    "time": "2021-02-14T04:11:48.250Z",
    "type": "execution"
   },
   {
    "id": "744086f3df3345d3be342e5eb0761cba",
    "time": "2021-02-14T04:11:48.317Z",
    "type": "completion"
   },
   {
    "code": "def quadratic_equation_fixed(a, b, c):\n    # BEGIN SOLUTION\n    d = b**2 - 4 * a * c\n    if d > 0:\n        return [(-b + d**0.5)/(2 * a), (-b - d**0.5)/(2 * a)]\n    elif d == 0:\n        return [-b/(2 * a)]\n    else:\n        return False\n    # END SOLUTION",
    "id": "76b668c0276c49ea84d6575673bafe36",
    "idx": 22,
    "time": "2021-02-14T04:11:52.075Z",
    "type": "execution"
   },
   {
    "id": "76b668c0276c49ea84d6575673bafe36",
    "time": "2021-02-14T04:11:52.138Z",
    "type": "completion"
   },
   {
    "code": "# TEST\nquadratic_equation_fixed(1, 5, 4) == [-1.0, -4.0]",
    "id": "7c25468aab4943aca15a04563a009253",
    "idx": 23,
    "time": "2021-02-14T04:11:53.989Z",
    "type": "execution"
   },
   {
    "id": "7c25468aab4943aca15a04563a009253",
    "time": "2021-02-14T04:11:54.058Z",
    "type": "completion"
   },
   {
    "code": "# TEST\nquadratic_equation_fixed(2, -9, 4) == [4.0, 0.5]",
    "id": "ebdd2c5c69db4b0d82977ee268118723",
    "idx": 24,
    "time": "2021-02-14T04:11:54.622Z",
    "type": "execution"
   },
   {
    "id": "ebdd2c5c69db4b0d82977ee268118723",
    "time": "2021-02-14T04:11:54.690Z",
    "type": "completion"
   },
   {
    "code": "# TEST\nquadratic_equation_fixed(1, 5, 16) == False",
    "id": "b0d6336e3023447d82b1e2216d4afd34",
    "idx": 25,
    "time": "2021-02-14T04:11:56.162Z",
    "type": "execution"
   },
   {
    "id": "b0d6336e3023447d82b1e2216d4afd34",
    "time": "2021-02-14T04:11:56.234Z",
    "type": "completion"
   },
   {
    "code": "# TEST\nquadratic_equation_fixed(1, -10, 25)",
    "id": "2cd960c8c81d4c289acea0a22ec485aa",
    "idx": 25,
    "time": "2021-02-14T04:12:19.447Z",
    "type": "execution"
   },
   {
    "id": "2cd960c8c81d4c289acea0a22ec485aa",
    "time": "2021-02-14T04:12:19.517Z",
    "type": "completion"
   },
   {
    "code": "# TEST\nquadratic_equation_fixed(1, -10, 25) == [5.0]",
    "id": "2cd960c8c81d4c289acea0a22ec485aa",
    "idx": 25,
    "time": "2021-02-14T04:12:22.517Z",
    "type": "execution"
   },
   {
    "id": "2cd960c8c81d4c289acea0a22ec485aa",
    "time": "2021-02-14T04:12:22.710Z",
    "type": "completion"
   },
   {
    "code": "# TEST\nquadratic_equation_fixed(1, 5, 16) == False",
    "id": "b0d6336e3023447d82b1e2216d4afd34",
    "idx": 26,
    "time": "2021-02-14T04:12:25.353Z",
    "type": "execution"
   },
   {
    "id": "b0d6336e3023447d82b1e2216d4afd34",
    "time": "2021-02-14T04:12:25.425Z",
    "type": "completion"
   },
   {
    "code": "def sum_digits(n):\n    total = 0\n    while n >= 10:\n        last_digit = n % 10\n        total += last_digit\n        n = n // 10\n    return total",
    "id": "c5764def844a4fdd8fe990ce988ddbb4",
    "idx": 28,
    "time": "2021-02-14T04:16:24.638Z",
    "type": "execution"
   },
   {
    "id": "c5764def844a4fdd8fe990ce988ddbb4",
    "time": "2021-02-14T04:16:24.711Z",
    "type": "completion"
   },
   {
    "code": "sum_digits(43)",
    "id": "fd374504aa37495f8b7eb2f20e8849e2",
    "idx": 29,
    "time": "2021-02-14T04:16:33.073Z",
    "type": "execution"
   },
   {
    "id": "fd374504aa37495f8b7eb2f20e8849e2",
    "time": "2021-02-14T04:16:33.148Z",
    "type": "completion"
   },
   {
    "code": "sum_digits(433)",
    "id": "d2065de685584cda88a868d10044ed23",
    "idx": 30,
    "time": "2021-02-14T04:16:41.801Z",
    "type": "execution"
   },
   {
    "id": "d2065de685584cda88a868d10044ed23",
    "time": "2021-02-14T04:16:41.870Z",
    "type": "completion"
   },
   {
    "code": "def sum_digits(n):\n    total = 0\n    while n >= 10:\n        last_digit = n % 10\n        total += last_digit\n        n = n // 10\n    return total",
    "id": "c5764def844a4fdd8fe990ce988ddbb4",
    "idx": 28,
    "time": "2021-02-14T04:20:22.838Z",
    "type": "execution"
   },
   {
    "id": "c5764def844a4fdd8fe990ce988ddbb4",
    "time": "2021-02-14T04:20:22.906Z",
    "type": "completion"
   },
   {
    "code": "sum_digits(43)",
    "id": "fd374504aa37495f8b7eb2f20e8849e2",
    "idx": 29,
    "time": "2021-02-14T04:20:23.155Z",
    "type": "execution"
   },
   {
    "id": "fd374504aa37495f8b7eb2f20e8849e2",
    "time": "2021-02-14T04:20:23.228Z",
    "type": "completion"
   },
   {
    "code": "def sum_digits(n):\n    total = 0\n    while n > 0:\n        last_digit = n % 10\n        total += last_digit\n        n = n // 10\n    return total",
    "id": "c5764def844a4fdd8fe990ce988ddbb4",
    "idx": 28,
    "time": "2021-02-14T04:27:02.139Z",
    "type": "execution"
   },
   {
    "id": "c5764def844a4fdd8fe990ce988ddbb4",
    "time": "2021-02-14T04:27:02.207Z",
    "type": "completion"
   },
   {
    "code": "sum_digits(43)",
    "id": "fd374504aa37495f8b7eb2f20e8849e2",
    "idx": 29,
    "time": "2021-02-14T04:27:02.509Z",
    "type": "execution"
   },
   {
    "id": "fd374504aa37495f8b7eb2f20e8849e2",
    "time": "2021-02-14T04:27:02.583Z",
    "type": "completion"
   },
   {
    "code": "sum_digits(433)",
    "id": "d2065de685584cda88a868d10044ed23",
    "idx": 30,
    "time": "2021-02-14T04:27:02.925Z",
    "type": "execution"
   },
   {
    "id": "d2065de685584cda88a868d10044ed23",
    "time": "2021-02-14T04:27:02.993Z",
    "type": "completion"
   },
   {
    "code": "def sum_digits(n):\n    total = n\n    while n > 0:\n        last_digit = n % 10\n        total = last_digit\n        n //= 10\n    return total",
    "id": "c5764def844a4fdd8fe990ce988ddbb4",
    "idx": 28,
    "time": "2021-02-14T04:32:34.046Z",
    "type": "execution"
   },
   {
    "id": "c5764def844a4fdd8fe990ce988ddbb4",
    "time": "2021-02-14T04:32:34.117Z",
    "type": "completion"
   },
   {
    "code": "sum_digits(43)",
    "id": "fd374504aa37495f8b7eb2f20e8849e2",
    "idx": 29,
    "time": "2021-02-14T04:32:34.321Z",
    "type": "execution"
   },
   {
    "id": "fd374504aa37495f8b7eb2f20e8849e2",
    "time": "2021-02-14T04:32:34.391Z",
    "type": "completion"
   },
   {
    "code": "sum_digits(433)",
    "id": "d2065de685584cda88a868d10044ed23",
    "idx": 30,
    "time": "2021-02-14T04:32:34.879Z",
    "type": "execution"
   },
   {
    "id": "d2065de685584cda88a868d10044ed23",
    "time": "2021-02-14T04:32:34.947Z",
    "type": "completion"
   },
   {
    "code": "sum_digits(519)",
    "id": "d2065de685584cda88a868d10044ed23",
    "idx": 30,
    "time": "2021-02-14T04:32:42.282Z",
    "type": "execution"
   },
   {
    "id": "d2065de685584cda88a868d10044ed23",
    "time": "2021-02-14T04:32:42.362Z",
    "type": "completion"
   },
   {
    "code": "sum_digits(4)",
    "id": "fd374504aa37495f8b7eb2f20e8849e2",
    "idx": 29,
    "time": "2021-02-14T04:32:45.734Z",
    "type": "execution"
   },
   {
    "id": "fd374504aa37495f8b7eb2f20e8849e2",
    "time": "2021-02-14T04:32:45.821Z",
    "type": "completion"
   },
   {
    "code": "sum_digits(4)",
    "id": "fd374504aa37495f8b7eb2f20e8849e2",
    "idx": 30,
    "time": "2021-02-14T04:33:04.533Z",
    "type": "execution"
   },
   {
    "id": "fd374504aa37495f8b7eb2f20e8849e2",
    "time": "2021-02-14T04:33:04.601Z",
    "type": "completion"
   },
   {
    "code": "sum_digits(519)",
    "id": "d2065de685584cda88a868d10044ed23",
    "idx": 31,
    "time": "2021-02-14T04:33:04.936Z",
    "type": "execution"
   },
   {
    "id": "d2065de685584cda88a868d10044ed23",
    "time": "2021-02-14T04:33:05.000Z",
    "type": "completion"
   },
   {
    "code": "def sum_digits_fixed(n):\n    # BEGIN SOLUTION\n    total = 0\n    while n > 0:\n        last_digit = n % 10\n        total += last_digit\n        n //= 10\n    return total\n    # END SOLUTION",
    "id": "9401c16279b4456f91aa070ff05307a4",
    "idx": 33,
    "time": "2021-02-14T04:34:01.164Z",
    "type": "execution"
   },
   {
    "id": "9401c16279b4456f91aa070ff05307a4",
    "time": "2021-02-14T04:34:03.664Z",
    "type": "completion"
   },
   {
    "code": "# TEST",
    "id": "039357cfb37f41cc897dd840496a6cfc",
    "idx": 34,
    "time": "2021-02-14T04:34:05.952Z",
    "type": "execution"
   },
   {
    "id": "039357cfb37f41cc897dd840496a6cfc",
    "time": "2021-02-14T04:34:06.013Z",
    "type": "completion"
   },
   {
    "code": "# TEST\nsum_digits_fixed(4)",
    "id": "039357cfb37f41cc897dd840496a6cfc",
    "idx": 34,
    "time": "2021-02-14T04:34:12.729Z",
    "type": "execution"
   },
   {
    "id": "039357cfb37f41cc897dd840496a6cfc",
    "time": "2021-02-14T04:34:12.803Z",
    "type": "completion"
   },
   {
    "code": "# TEST\nsum_digits_fixed(4) == 4",
    "id": "039357cfb37f41cc897dd840496a6cfc",
    "idx": 34,
    "time": "2021-02-14T04:34:14.911Z",
    "type": "execution"
   },
   {
    "id": "039357cfb37f41cc897dd840496a6cfc",
    "time": "2021-02-14T04:34:14.986Z",
    "type": "completion"
   },
   {
    "code": "# TEST\nsum_digits_fixed(519) == 15",
    "id": "f1bf996c507e40ba85dfc07e24bf919a",
    "idx": 35,
    "time": "2021-02-14T04:34:22.009Z",
    "type": "execution"
   },
   {
    "id": "f1bf996c507e40ba85dfc07e24bf919a",
    "time": "2021-02-14T04:34:22.078Z",
    "type": "completion"
   },
   {
    "code": "# TEST\nsum_digits_fixed(12345) == 15/",
    "id": "da675ede1ec14c538717c6c6f3eb6988",
    "idx": 36,
    "time": "2021-02-14T04:34:30.748Z",
    "type": "execution"
   },
   {
    "id": "da675ede1ec14c538717c6c6f3eb6988",
    "time": "2021-02-14T04:34:30.821Z",
    "type": "completion"
   },
   {
    "code": "# TEST\nsum_digits_fixed(12345) == 21",
    "id": "da675ede1ec14c538717c6c6f3eb6988",
    "idx": 36,
    "time": "2021-02-14T04:34:33.967Z",
    "type": "execution"
   },
   {
    "id": "da675ede1ec14c538717c6c6f3eb6988",
    "time": "2021-02-14T04:34:34.034Z",
    "type": "completion"
   },
   {
    "code": "# TEST\nsum_digits_fixed(123456) == 21",
    "id": "da675ede1ec14c538717c6c6f3eb6988",
    "idx": 36,
    "time": "2021-02-14T04:34:35.452Z",
    "type": "execution"
   },
   {
    "id": "da675ede1ec14c538717c6c6f3eb6988",
    "time": "2021-02-14T04:34:35.523Z",
    "type": "completion"
   },
   {
    "code": "15.4 // 2",
    "id": "3883d9ec8ef0455888142af0a8158428",
    "idx": 28,
    "time": "2021-02-14T04:34:50.472Z",
    "type": "execution"
   },
   {
    "id": "3883d9ec8ef0455888142af0a8158428",
    "time": "2021-02-14T04:34:50.552Z",
    "type": "completion"
   },
   {
    "code": "# Should be 4\nsum_digits(4)",
    "id": "fd374504aa37495f8b7eb2f20e8849e2",
    "idx": 30,
    "time": "2021-02-14T04:35:10.106Z",
    "type": "execution"
   },
   {
    "id": "fd374504aa37495f8b7eb2f20e8849e2",
    "time": "2021-02-14T04:35:10.182Z",
    "type": "completion"
   },
   {
    "code": "\nsum_digits(519)",
    "id": "d2065de685584cda88a868d10044ed23",
    "idx": 31,
    "time": "2021-02-14T04:35:11.763Z",
    "type": "execution"
   },
   {
    "id": "d2065de685584cda88a868d10044ed23",
    "time": "2021-02-14T04:35:11.829Z",
    "type": "completion"
   },
   {
    "code": "# Should be 5 + 1 + 9 = 15\nsum_digits(519)",
    "id": "d2065de685584cda88a868d10044ed23",
    "idx": 31,
    "time": "2021-02-14T04:35:17.017Z",
    "type": "execution"
   },
   {
    "id": "d2065de685584cda88a868d10044ed23",
    "time": "2021-02-14T04:35:17.075Z",
    "type": "completion"
   },
   {
    "code": "# TEST\nsum_digits_fixed(21203) == 8",
    "id": "19619d3aabc347be87833fba23c37ae9",
    "idx": 37,
    "time": "2021-02-14T04:35:36.185Z",
    "type": "execution"
   },
   {
    "id": "19619d3aabc347be87833fba23c37ae9",
    "time": "2021-02-14T04:35:36.262Z",
    "type": "completion"
   },
   {
    "code": "_i7",
    "id": "a370cfc825e6470a890e2db7b7de05d9",
    "idx": 39,
    "time": "2021-02-14T04:54:09.895Z",
    "type": "execution"
   },
   {
    "id": "a370cfc825e6470a890e2db7b7de05d9",
    "time": "2021-02-14T04:54:09.967Z",
    "type": "completion"
   },
   {
    "code": "print(_i11)",
    "id": "a370cfc825e6470a890e2db7b7de05d9",
    "idx": 39,
    "time": "2021-02-14T04:54:18.285Z",
    "type": "execution"
   },
   {
    "id": "a370cfc825e6470a890e2db7b7de05d9",
    "time": "2021-02-14T04:54:18.375Z",
    "type": "completion"
   },
   {
    "code": "print(_i79)",
    "id": "a370cfc825e6470a890e2db7b7de05d9",
    "idx": 39,
    "time": "2021-02-14T04:54:25.104Z",
    "type": "execution"
   },
   {
    "id": "a370cfc825e6470a890e2db7b7de05d9",
    "time": "2021-02-14T04:54:25.193Z",
    "type": "completion"
   },
   {
    "code": "print(_i82)",
    "id": "a370cfc825e6470a890e2db7b7de05d9",
    "idx": 39,
    "time": "2021-02-14T04:54:29.132Z",
    "type": "execution"
   },
   {
    "id": "a370cfc825e6470a890e2db7b7de05d9",
    "time": "2021-02-14T04:54:29.219Z",
    "type": "completion"
   },
   {
    "code": "print(_o83)",
    "id": "a370cfc825e6470a890e2db7b7de05d9",
    "idx": 39,
    "time": "2021-02-14T04:54:33.632Z",
    "type": "execution"
   },
   {
    "id": "a370cfc825e6470a890e2db7b7de05d9",
    "time": "2021-02-14T04:54:33.729Z",
    "type": "completion"
   },
   {
    "code": "print(_i73)",
    "id": "a370cfc825e6470a890e2db7b7de05d9",
    "idx": 39,
    "time": "2021-02-14T04:54:40.452Z",
    "type": "execution"
   },
   {
    "id": "a370cfc825e6470a890e2db7b7de05d9",
    "time": "2021-02-14T04:54:40.544Z",
    "type": "completion"
   },
   {
    "code": "print(_i72)",
    "id": "a370cfc825e6470a890e2db7b7de05d9",
    "idx": 39,
    "time": "2021-02-14T04:54:42.597Z",
    "type": "execution"
   },
   {
    "id": "a370cfc825e6470a890e2db7b7de05d9",
    "time": "2021-02-14T04:54:42.683Z",
    "type": "completion"
   },
   {
    "code": "print(_i71)",
    "id": "a370cfc825e6470a890e2db7b7de05d9",
    "idx": 39,
    "time": "2021-02-14T04:54:44.138Z",
    "type": "execution"
   },
   {
    "id": "a370cfc825e6470a890e2db7b7de05d9",
    "time": "2021-02-14T04:54:44.223Z",
    "type": "completion"
   },
   {
    "code": "print(_i7-)",
    "id": "a370cfc825e6470a890e2db7b7de05d9",
    "idx": 39,
    "time": "2021-02-14T04:54:46.087Z",
    "type": "execution"
   },
   {
    "id": "a370cfc825e6470a890e2db7b7de05d9",
    "time": "2021-02-14T04:54:46.177Z",
    "type": "completion"
   },
   {
    "code": "print(_i70)",
    "id": "a370cfc825e6470a890e2db7b7de05d9",
    "idx": 39,
    "time": "2021-02-14T04:54:48.257Z",
    "type": "execution"
   },
   {
    "id": "a370cfc825e6470a890e2db7b7de05d9",
    "time": "2021-02-14T04:54:48.348Z",
    "type": "completion"
   },
   {
    "code": "[1, 2] > [1, 8]",
    "id": "4494e26ce6a5417184c2a77f65749fbd",
    "idx": 40,
    "time": "2021-02-14T05:04:37.969Z",
    "type": "execution"
   },
   {
    "id": "4494e26ce6a5417184c2a77f65749fbd",
    "time": "2021-02-14T05:04:38.051Z",
    "type": "completion"
   },
   {
    "code": "[1, 5] > [1, 8]",
    "id": "4494e26ce6a5417184c2a77f65749fbd",
    "idx": 40,
    "time": "2021-02-14T05:04:48.509Z",
    "type": "execution"
   },
   {
    "id": "4494e26ce6a5417184c2a77f65749fbd",
    "time": "2021-02-14T05:04:48.598Z",
    "type": "completion"
   },
   {
    "code": "[1, 8 + 0.1?] > [1, 8]",
    "id": "4494e26ce6a5417184c2a77f65749fbd",
    "idx": 40,
    "time": "2021-02-14T05:04:57.058Z",
    "type": "execution"
   },
   {
    "id": "4494e26ce6a5417184c2a77f65749fbd",
    "time": "2021-02-14T05:04:57.125Z",
    "type": "completion"
   },
   {
    "code": "[1, 8 + 0.1] > [1, 8]",
    "id": "4494e26ce6a5417184c2a77f65749fbd",
    "idx": 40,
    "time": "2021-02-14T05:05:08.518Z",
    "type": "execution"
   },
   {
    "id": "4494e26ce6a5417184c2a77f65749fbd",
    "time": "2021-02-14T05:05:08.600Z",
    "type": "completion"
   },
   {
    "code": "add",
    "id": "b184c160f27d40c08e8f0a414dc4a493",
    "idx": 41,
    "time": "2021-02-14T05:06:03.310Z",
    "type": "execution"
   },
   {
    "id": "b184c160f27d40c08e8f0a414dc4a493",
    "time": "2021-02-14T05:06:03.385Z",
    "type": "completion"
   },
   {
    "code": "def add(lst):\n    lst.append(4)",
    "id": "b184c160f27d40c08e8f0a414dc4a493",
    "idx": 41,
    "time": "2021-02-14T05:06:09.694Z",
    "type": "execution"
   },
   {
    "id": "b184c160f27d40c08e8f0a414dc4a493",
    "time": "2021-02-14T05:06:09.784Z",
    "type": "completion"
   },
   {
    "code": "add([3, 4])",
    "id": "81b7bdb822a240ca8b2763fab27e764d",
    "idx": 42,
    "time": "2021-02-14T05:06:16.157Z",
    "type": "execution"
   },
   {
    "id": "81b7bdb822a240ca8b2763fab27e764d",
    "time": "2021-02-14T05:06:16.231Z",
    "type": "completion"
   },
   {
    "code": "x = [3, 4]",
    "id": "a59bf04a00a842859d02bf15d351027f",
    "idx": 43,
    "time": "2021-02-14T05:06:19.938Z",
    "type": "execution"
   },
   {
    "id": "a59bf04a00a842859d02bf15d351027f",
    "time": "2021-02-14T05:06:20.020Z",
    "type": "completion"
   },
   {
    "code": "add(x)",
    "id": "983461351f1a41618b4967b4eb910f87",
    "idx": 44,
    "time": "2021-02-14T05:06:21.571Z",
    "type": "execution"
   },
   {
    "id": "983461351f1a41618b4967b4eb910f87",
    "time": "2021-02-14T05:06:21.658Z",
    "type": "completion"
   },
   {
    "code": "x",
    "id": "38629d5c7db9450884139e8ef5624538",
    "idx": 45,
    "time": "2021-02-14T05:06:23.525Z",
    "type": "execution"
   },
   {
    "id": "38629d5c7db9450884139e8ef5624538",
    "time": "2021-02-14T05:06:23.601Z",
    "type": "completion"
   },
   {
    "code": "[1], [2]",
    "id": "1c7ffd4acb18488d8eca3aa7ef6257dc",
    "idx": 39,
    "time": "2021-02-14T05:07:12.306Z",
    "type": "execution"
   },
   {
    "id": "1c7ffd4acb18488d8eca3aa7ef6257dc",
    "time": "2021-02-14T05:07:12.393Z",
    "type": "completion"
   },
   {
    "code": "[[1], [2, 2], [3, 3, 3], [4, 4, 4, 4]]",
    "id": "1c7ffd4acb18488d8eca3aa7ef6257dc",
    "idx": 39,
    "time": "2021-02-14T05:07:32.474Z",
    "type": "execution"
   },
   {
    "id": "1c7ffd4acb18488d8eca3aa7ef6257dc",
    "time": "2021-02-14T05:07:32.563Z",
    "type": "completion"
   },
   {
    "code": "[1[0]]",
    "id": "8df04f8d5e2e4641bab398c4acb4682d",
    "idx": 40,
    "time": "2021-02-14T05:07:43.481Z",
    "type": "execution"
   },
   {
    "id": "8df04f8d5e2e4641bab398c4acb4682d",
    "time": "2021-02-14T05:07:43.566Z",
    "type": "completion"
   },
   {
    "code": "[1][0]",
    "id": "8df04f8d5e2e4641bab398c4acb4682d",
    "idx": 40,
    "time": "2021-02-14T05:07:49.433Z",
    "type": "execution"
   },
   {
    "id": "8df04f8d5e2e4641bab398c4acb4682d",
    "time": "2021-02-14T05:07:49.521Z",
    "type": "completion"
   },
   {
    "code": "[1, 2, 3].copy()",
    "id": "3207448089724d0195cb86f32a7dd419",
    "idx": 41,
    "time": "2021-02-14T05:08:44.072Z",
    "type": "execution"
   },
   {
    "id": "3207448089724d0195cb86f32a7dd419",
    "time": "2021-02-14T05:08:44.156Z",
    "type": "completion"
   },
   {
    "code": "[5, -1, 8].copy()",
    "id": "3207448089724d0195cb86f32a7dd419",
    "idx": 41,
    "time": "2021-02-14T05:09:41.064Z",
    "type": "execution"
   },
   {
    "id": "3207448089724d0195cb86f32a7dd419",
    "time": "2021-02-14T05:09:41.158Z",
    "type": "completion"
   },
   {
    "code": "user_list = [5, 1, -8]",
    "id": "07a56e35e2db4bc88c5b27c1b12b59aa",
    "idx": 42,
    "time": "2021-02-14T05:10:38.133Z",
    "type": "execution"
   },
   {
    "id": "07a56e35e2db4bc88c5b27c1b12b59aa",
    "time": "2021-02-14T05:10:38.231Z",
    "type": "completion"
   },
   {
    "code": "user_list[:1] = user_list[2:]",
    "id": "883fc235048d46388ca3530902ce50eb",
    "idx": 43,
    "time": "2021-02-14T05:10:46.367Z",
    "type": "execution"
   },
   {
    "id": "883fc235048d46388ca3530902ce50eb",
    "time": "2021-02-14T05:10:46.449Z",
    "type": "completion"
   },
   {
    "code": "user_list",
    "id": "230a13439b1d4dea976fef9fe9b85c7a",
    "idx": 44,
    "time": "2021-02-14T05:10:49.099Z",
    "type": "execution"
   },
   {
    "id": "230a13439b1d4dea976fef9fe9b85c7a",
    "time": "2021-02-14T05:10:49.168Z",
    "type": "completion"
   },
   {
    "code": "def is_510(pn):\n    pn_str = str(pn)\n    return pn_str[0, 1, 2]",
    "id": "b248ed915ec64334843bb5c31332e3c6",
    "idx": 39,
    "time": "2021-02-14T05:16:04.886Z",
    "type": "execution"
   },
   {
    "id": "b248ed915ec64334843bb5c31332e3c6",
    "time": "2021-02-14T05:16:04.974Z",
    "type": "completion"
   },
   {
    "code": "is_510(515)",
    "id": "54ad7f93c21e43a2876295bf5e77dd9a",
    "idx": 40,
    "time": "2021-02-14T05:16:16.638Z",
    "type": "execution"
   },
   {
    "id": "54ad7f93c21e43a2876295bf5e77dd9a",
    "time": "2021-02-14T05:16:16.738Z",
    "type": "completion"
   },
   {
    "code": "[5, -1, 8, 1, 0, 10, -3, 9][1, 2]",
    "id": "3207448089724d0195cb86f32a7dd419",
    "idx": 40,
    "time": "2021-02-14T05:16:37.878Z",
    "type": "execution"
   },
   {
    "id": "3207448089724d0195cb86f32a7dd419",
    "time": "2021-02-14T05:16:37.965Z",
    "type": "completion"
   },
   {
    "code": "[5, -1, 8, 1, 0, 10, -3, 9][(1, 2)]",
    "id": "3207448089724d0195cb86f32a7dd419",
    "idx": 40,
    "time": "2021-02-14T05:16:46.734Z",
    "type": "execution"
   },
   {
    "id": "3207448089724d0195cb86f32a7dd419",
    "time": "2021-02-14T05:16:46.816Z",
    "type": "completion"
   },
   {
    "code": "[5, -1, 8, 1, 0, 10, -3, 9](1)",
    "id": "3207448089724d0195cb86f32a7dd419",
    "idx": 40,
    "time": "2021-02-14T05:16:50.231Z",
    "type": "execution"
   },
   {
    "id": "3207448089724d0195cb86f32a7dd419",
    "time": "2021-02-14T05:16:50.318Z",
    "type": "completion"
   },
   {
    "code": "[1, 2, 3][0, 1, 2]",
    "id": "d164d2d5deaf44158d2d6f416d4120a1",
    "idx": 42,
    "time": "2021-02-14T05:21:01.431Z",
    "type": "execution"
   },
   {
    "id": "d164d2d5deaf44158d2d6f416d4120a1",
    "time": "2021-02-14T05:21:01.515Z",
    "type": "completion"
   },
   {
    "code": "[1, 2, 3][]",
    "id": "d164d2d5deaf44158d2d6f416d4120a1",
    "idx": 42,
    "time": "2021-02-14T05:21:07.423Z",
    "type": "execution"
   },
   {
    "id": "d164d2d5deaf44158d2d6f416d4120a1",
    "time": "2021-02-14T05:21:07.510Z",
    "type": "completion"
   },
   {
    "code": "[1, 2, 3][1]",
    "id": "d164d2d5deaf44158d2d6f416d4120a1",
    "idx": 42,
    "time": "2021-02-14T05:21:10.020Z",
    "type": "execution"
   },
   {
    "id": "d164d2d5deaf44158d2d6f416d4120a1",
    "time": "2021-02-14T05:21:10.112Z",
    "type": "completion"
   },
   {
    "code": "is_510(5106421000)",
    "id": "b4a2c3430dd04ac080c406c7c888c470",
    "idx": 41,
    "time": "2021-02-14T05:21:52.584Z",
    "type": "execution"
   },
   {
    "id": "b4a2c3430dd04ac080c406c7c888c470",
    "time": "2021-02-14T05:21:52.671Z",
    "type": "completion"
   },
   {
    "code": "def is_510_fixed(pn):\n    pn_str = str(pn)\n    return pn_str[:3]",
    "id": "52b2ca04a1e245f690d845547a3ebc20",
    "idx": 43,
    "time": "2021-02-14T05:22:30.060Z",
    "type": "execution"
   },
   {
    "id": "52b2ca04a1e245f690d845547a3ebc20",
    "time": "2021-02-14T05:22:30.144Z",
    "type": "completion"
   },
   {
    "code": "def is_510_fixed(pn):\n    # BEGIN SOLUTION\n    pn_str = str(pn)\n    return pn_str[:3]\n    # END SOLUTION",
    "id": "52b2ca04a1e245f690d845547a3ebc20",
    "idx": 43,
    "time": "2021-02-14T05:22:37.801Z",
    "type": "execution"
   },
   {
    "id": "52b2ca04a1e245f690d845547a3ebc20",
    "time": "2021-02-14T05:22:37.873Z",
    "type": "completion"
   },
   {
    "code": "# TEST\nis_510_fixed(5106421000/)",
    "id": "edc0bb3d005d45108826513442f4a9c6",
    "idx": 44,
    "time": "2021-02-14T05:22:48.806Z",
    "type": "execution"
   },
   {
    "id": "edc0bb3d005d45108826513442f4a9c6",
    "time": "2021-02-14T05:22:48.873Z",
    "type": "completion"
   },
   {
    "code": "# TEST\nis_510_fixed(5106421000)",
    "id": "edc0bb3d005d45108826513442f4a9c6",
    "idx": 44,
    "time": "2021-02-14T05:22:52.023Z",
    "type": "execution"
   },
   {
    "id": "edc0bb3d005d45108826513442f4a9c6",
    "time": "2021-02-14T05:22:52.108Z",
    "type": "completion"
   },
   {
    "code": "def is_510(pn):\n    pn_str = str(pn)\n    return pn_str[0, 1, 2] == 510",
    "id": "0ddd0f64a40e44cf811274603169eb58",
    "idx": 39,
    "time": "2021-02-14T05:23:11.793Z",
    "type": "execution"
   },
   {
    "id": "0ddd0f64a40e44cf811274603169eb58",
    "time": "2021-02-14T05:23:11.852Z",
    "type": "completion"
   },
   {
    "code": "is_510(5106421000)",
    "id": "b4a2c3430dd04ac080c406c7c888c470",
    "idx": 41,
    "time": "2021-02-14T05:23:12.499Z",
    "type": "execution"
   },
   {
    "id": "b4a2c3430dd04ac080c406c7c888c470",
    "time": "2021-02-14T05:23:12.571Z",
    "type": "completion"
   },
   {
    "code": "def is_510_fixed(pn):\n    # BEGIN SOLUTION\n    pn_str = str(pn)\n    return pn_str[:3] == '510'\n    # END SOLUTION",
    "id": "52b2ca04a1e245f690d845547a3ebc20",
    "idx": 43,
    "time": "2021-02-14T05:23:17.002Z",
    "type": "execution"
   },
   {
    "id": "52b2ca04a1e245f690d845547a3ebc20",
    "time": "2021-02-14T05:23:17.066Z",
    "type": "completion"
   },
   {
    "code": "# TEST\nis_510_fixed(5106421000)",
    "id": "edc0bb3d005d45108826513442f4a9c6",
    "idx": 44,
    "time": "2021-02-14T05:23:18.189Z",
    "type": "execution"
   },
   {
    "id": "edc0bb3d005d45108826513442f4a9c6",
    "time": "2021-02-14T05:23:18.271Z",
    "type": "completion"
   },
   {
    "code": "# TEST\nis_510_fixed(5109697912)",
    "id": "7a013de656434cae80e1d0f94f349f35",
    "idx": 45,
    "time": "2021-02-14T05:23:51.406Z",
    "type": "execution"
   },
   {
    "id": "7a013de656434cae80e1d0f94f349f35",
    "time": "2021-02-14T05:23:51.487Z",
    "type": "completion"
   },
   {
    "code": "def is_510(pn):\n    pn_str = str(pn)\n    return (pn_str[0, 1, 2] == 510) and (pn_str == 10)",
    "id": "0ddd0f64a40e44cf811274603169eb58",
    "idx": 39,
    "time": "2021-02-14T05:24:46.565Z",
    "type": "execution"
   },
   {
    "id": "0ddd0f64a40e44cf811274603169eb58",
    "time": "2021-02-14T05:24:46.629Z",
    "type": "completion"
   },
   {
    "code": "def is_510_fixed(pn):\n    # BEGIN SOLUTION\n    pn_str = str(pn)\n    return (pn_str[:3] == '510') and (len(pn_str) == 10)\n    # END SOLUTION",
    "id": "52b2ca04a1e245f690d845547a3ebc20",
    "idx": 43,
    "time": "2021-02-14T05:24:58.805Z",
    "type": "execution"
   },
   {
    "id": "52b2ca04a1e245f690d845547a3ebc20",
    "time": "2021-02-14T05:24:58.889Z",
    "type": "completion"
   },
   {
    "code": "# TEST\nis_510_fixed(5106421000)",
    "id": "edc0bb3d005d45108826513442f4a9c6",
    "idx": 44,
    "time": "2021-02-14T05:25:00.792Z",
    "type": "execution"
   },
   {
    "id": "edc0bb3d005d45108826513442f4a9c6",
    "time": "2021-02-14T05:25:00.868Z",
    "type": "completion"
   },
   {
    "code": "# TEST\nis_510_fixed(5109697912)",
    "id": "7a013de656434cae80e1d0f94f349f35",
    "idx": 45,
    "time": "2021-02-14T05:25:01.294Z",
    "type": "execution"
   },
   {
    "id": "7a013de656434cae80e1d0f94f349f35",
    "time": "2021-02-14T05:25:01.362Z",
    "type": "completion"
   },
   {
    "code": "# TEST\nis_510_fixed(510666)",
    "id": "ab717eb13b9f42f78757e8cde1dd557d",
    "idx": 46,
    "time": "2021-02-14T05:25:24.868Z",
    "type": "execution"
   },
   {
    "id": "ab717eb13b9f42f78757e8cde1dd557d",
    "time": "2021-02-14T05:25:24.971Z",
    "type": "completion"
   },
   {
    "code": "# TEST\nnot is_510_fixed(510666)",
    "id": "ab717eb13b9f42f78757e8cde1dd557d",
    "idx": 46,
    "time": "2021-02-14T05:25:27.885Z",
    "type": "execution"
   },
   {
    "id": "ab717eb13b9f42f78757e8cde1dd557d",
    "time": "2021-02-14T05:25:27.963Z",
    "type": "completion"
   },
   {
    "code": "# TEST\nnot is_510_fixed(2488129195)",
    "id": "abb95a8e280a4843962aa09ba637927c",
    "idx": 47,
    "time": "2021-02-14T05:25:29.597Z",
    "type": "execution"
   },
   {
    "id": "abb95a8e280a4843962aa09ba637927c",
    "time": "2021-02-14T05:25:29.675Z",
    "type": "completion"
   },
   {
    "code": "def is_510(pn):\n    pn_str = str(pn)\n    return (pn_str[510] == [0, 1, 2]) and (pn_str == 10)",
    "id": "0ddd0f64a40e44cf811274603169eb58",
    "idx": 39,
    "time": "2021-02-14T05:35:06.652Z",
    "type": "execution"
   },
   {
    "id": "0ddd0f64a40e44cf811274603169eb58",
    "time": "2021-02-14T05:35:06.732Z",
    "type": "completion"
   },
   {
    "code": "is_510(5106421000)",
    "id": "b4a2c3430dd04ac080c406c7c888c470",
    "idx": 41,
    "time": "2021-02-14T05:35:07.560Z",
    "type": "execution"
   },
   {
    "id": "b4a2c3430dd04ac080c406c7c888c470",
    "time": "2021-02-14T05:35:07.653Z",
    "type": "completion"
   },
   {
    "code": "def largest_index(values):\n    return max(values.index(values))",
    "id": "f7806ea36047455689fb2b524d8375c0",
    "idx": 49,
    "time": "2021-02-14T05:36:48.856Z",
    "type": "execution"
   },
   {
    "id": "f7806ea36047455689fb2b524d8375c0",
    "time": "2021-02-14T05:36:48.941Z",
    "type": "completion"
   },
   {
    "code": "[1, 2, 3].index([1, 2, 3])",
    "id": "68b86e3237d14c9680c093cba9288873",
    "idx": 50,
    "time": "2021-02-14T05:36:57.114Z",
    "type": "execution"
   },
   {
    "id": "68b86e3237d14c9680c093cba9288873",
    "time": "2021-02-14T05:36:57.206Z",
    "type": "completion"
   },
   {
    "code": "largest_index([1, 2, 3, 4?])",
    "id": "22bd6b1723254b0d89a67bda205de0e1",
    "idx": 50,
    "time": "2021-02-14T05:37:05.026Z",
    "type": "execution"
   },
   {
    "id": "22bd6b1723254b0d89a67bda205de0e1",
    "time": "2021-02-14T05:37:05.091Z",
    "type": "completion"
   },
   {
    "code": "largest_index([1, 2, 3, 4])",
    "id": "22bd6b1723254b0d89a67bda205de0e1",
    "idx": 50,
    "time": "2021-02-14T05:37:07.528Z",
    "type": "execution"
   },
   {
    "id": "22bd6b1723254b0d89a67bda205de0e1",
    "time": "2021-02-14T05:37:07.640Z",
    "type": "completion"
   },
   {
    "code": "# Should be True\nis_510(5106421000)",
    "id": "b4a2c3430dd04ac080c406c7c888c470",
    "idx": 41,
    "time": "2021-02-14T05:37:26.273Z",
    "type": "execution"
   },
   {
    "id": "b4a2c3430dd04ac080c406c7c888c470",
    "time": "2021-02-14T05:37:26.345Z",
    "type": "completion"
   },
   {
    "code": "largest_index([2, 9, 1, 0, 8])",
    "id": "22bd6b1723254b0d89a67bda205de0e1",
    "idx": 51,
    "time": "2021-02-14T05:38:44.024Z",
    "type": "execution"
   },
   {
    "id": "22bd6b1723254b0d89a67bda205de0e1",
    "time": "2021-02-14T05:38:44.121Z",
    "type": "completion"
   },
   {
    "code": "# Should be 1, since the largest element is at index 1?\nlargest_index([2, 9, 1, 0, 8])",
    "id": "22bd6b1723254b0d89a67bda205de0e1",
    "idx": 51,
    "time": "2021-02-14T05:38:55.365Z",
    "type": "execution"
   },
   {
    "id": "22bd6b1723254b0d89a67bda205de0e1",
    "time": "2021-02-14T05:38:55.430Z",
    "type": "completion"
   },
   {
    "code": "# Should be 1, since the largest element is at index 1\nlargest_index([2, 9, 1, 0, 8])",
    "id": "22bd6b1723254b0d89a67bda205de0e1",
    "idx": 51,
    "time": "2021-02-14T05:38:57.702Z",
    "type": "execution"
   },
   {
    "id": "22bd6b1723254b0d89a67bda205de0e1",
    "time": "2021-02-14T05:38:57.781Z",
    "type": "completion"
   },
   {
    "code": "def largest_index_fixed(values):\n    # BEGIN SOLUTION\n    max_pos = values.index(max(values))\n    return max_pos\n    # END SOLUTION",
    "id": "8ab9f66de1cc4e9c8d151444141eb04e",
    "idx": 53,
    "time": "2021-02-14T05:39:24.125Z",
    "type": "execution"
   },
   {
    "id": "8ab9f66de1cc4e9c8d151444141eb04e",
    "time": "2021-02-14T05:39:24.206Z",
    "type": "completion"
   },
   {
    "code": "largest_index([2, 9, 1, 0, 8]) == 1",
    "id": "b8c0c565ecb844128f513d990b5113c7",
    "idx": 54,
    "time": "2021-02-14T05:39:30.909Z",
    "type": "execution"
   },
   {
    "id": "b8c0c565ecb844128f513d990b5113c7",
    "time": "2021-02-14T05:39:30.981Z",
    "type": "completion"
   },
   {
    "code": "largest_index_fixed([2, 9, 1, 0, 8]) == 1",
    "id": "b8c0c565ecb844128f513d990b5113c7",
    "idx": 54,
    "time": "2021-02-14T05:39:35.733Z",
    "type": "execution"
   },
   {
    "id": "b8c0c565ecb844128f513d990b5113c7",
    "time": "2021-02-14T05:39:35.811Z",
    "type": "completion"
   },
   {
    "code": "# TEST\nlargest_index_fixed([2, 9, 1, 0, 8]) == 1",
    "id": "b8c0c565ecb844128f513d990b5113c7",
    "idx": 54,
    "time": "2021-02-14T05:39:37.983Z",
    "type": "execution"
   },
   {
    "id": "b8c0c565ecb844128f513d990b5113c7",
    "time": "2021-02-14T05:39:38.050Z",
    "type": "completion"
   },
   {
    "code": "# TEST\nlargest_index_fixed([15]) == 1",
    "id": "31ca6366d3a24a26845f262a2584589e",
    "idx": 55,
    "time": "2021-02-14T05:39:46.729Z",
    "type": "execution"
   },
   {
    "id": "31ca6366d3a24a26845f262a2584589e",
    "time": "2021-02-14T05:39:46.806Z",
    "type": "completion"
   },
   {
    "code": "# TEST\nlargest_index_fixed([15]) == 0",
    "id": "31ca6366d3a24a26845f262a2584589e",
    "idx": 55,
    "time": "2021-02-14T05:39:49.453Z",
    "type": "execution"
   },
   {
    "id": "31ca6366d3a24a26845f262a2584589e",
    "time": "2021-02-14T05:39:49.533Z",
    "type": "completion"
   },
   {
    "code": "# TEST\nlargest_index_fixed([1, 4, 5, 4, 5]) == 2 ",
    "id": "2893d3184e2b48498a917690cb8e46a4",
    "idx": 56,
    "time": "2021-02-14T05:40:05.351Z",
    "type": "execution"
   },
   {
    "id": "2893d3184e2b48498a917690cb8e46a4",
    "time": "2021-02-14T05:40:05.425Z",
    "type": "completion"
   },
   {
    "code": "# TEST\nlargest_index_fixed([43, 44, -1, 19, 8, 2, 1, 45])",
    "id": "f22974fc3da746188e268c3c8403b0f5",
    "idx": 57,
    "time": "2021-02-14T05:40:29.018Z",
    "type": "execution"
   },
   {
    "id": "f22974fc3da746188e268c3c8403b0f5",
    "time": "2021-02-14T05:40:29.104Z",
    "type": "completion"
   },
   {
    "code": "def sum_first_n(n):\n    total = 0\n    for i in range(1, n + 1):\n        total += i\n    return total",
    "id": "0b6db2300b5443e3896432f71e7d2419",
    "idx": 60,
    "time": "2021-02-14T05:40:54.711Z",
    "type": "execution"
   },
   {
    "id": "0b6db2300b5443e3896432f71e7d2419",
    "time": "2021-02-14T05:40:54.772Z",
    "type": "completion"
   },
   {
    "code": "# 1 + 2 + 3\nsum_first_n(3)",
    "id": "8b85c43e1cb64f4682778e9db1bf2157",
    "idx": 61,
    "time": "2021-02-14T05:40:54.886Z",
    "type": "execution"
   },
   {
    "id": "8b85c43e1cb64f4682778e9db1bf2157",
    "time": "2021-02-14T05:40:55.027Z",
    "type": "completion"
   },
   {
    "code": "# 1 + 2 + 3 + 4 + 5 + 6 + 7 + 8 + 9 + 10\nsum_first_n(10)",
    "id": "c894ce3bd30c41ef8ef8173003964da0",
    "idx": 62,
    "time": "2021-02-14T05:40:55.087Z",
    "type": "execution"
   },
   {
    "id": "c894ce3bd30c41ef8ef8173003964da0",
    "time": "2021-02-14T05:40:55.142Z",
    "type": "completion"
   },
   {
    "code": "def sum_first_n_squares(n):\n    # BEGIN SOLUTION\n    total = 0\n    for i in range(1, n + 1):\n        total += i**2\n    return total\n    # END SOLUTION",
    "id": "6d4584659eea4f1390df05d974e9f607",
    "idx": 64,
    "time": "2021-02-14T05:41:03.402Z",
    "type": "execution"
   },
   {
    "id": "6d4584659eea4f1390df05d974e9f607",
    "time": "2021-02-14T05:41:03.464Z",
    "type": "completion"
   },
   {
    "code": "# TEST\nsum_first_n_squares(3) == 14",
    "id": "ba25c611b7814378944e56d5de417c5a",
    "idx": 65,
    "time": "2021-02-14T05:41:03.538Z",
    "type": "execution"
   },
   {
    "id": "ba25c611b7814378944e56d5de417c5a",
    "time": "2021-02-14T05:41:03.592Z",
    "type": "completion"
   },
   {
    "code": "# TEST\nsum_first_n_squares(10) == 385",
    "id": "2a06c8b9fc16431592878b9170246e84",
    "idx": 66,
    "time": "2021-02-14T05:41:03.672Z",
    "type": "execution"
   },
   {
    "id": "2a06c8b9fc16431592878b9170246e84",
    "time": "2021-02-14T05:41:03.729Z",
    "type": "completion"
   },
   {
    "code": "# TEST\nsum_first_n_squares(15) == 1240",
    "id": "dc94cb95acf3445fae24d5deb0705f64",
    "idx": 67,
    "time": "2021-02-14T05:41:03.819Z",
    "type": "execution"
   },
   {
    "id": "dc94cb95acf3445fae24d5deb0705f64",
    "time": "2021-02-14T05:41:03.911Z",
    "type": "completion"
   },
   {
    "code": "# TEST\nsum_first_n_squares(1000) == 333833500",
    "id": "5138696f92c940e68c6380d2941aac64",
    "idx": 68,
    "time": "2021-02-14T05:41:03.976Z",
    "type": "execution"
   },
   {
    "id": "5138696f92c940e68c6380d2941aac64",
    "time": "2021-02-14T05:41:04.036Z",
    "type": "completion"
   },
   {
    "code": "def only_uppercase(s):\n    output = ''\n    for char in s:\n        # BEGIN SOLUTION\n        if char.isupper():\n            output += char\n        # END SOLUTION\n    return output",
    "id": "eb7f72901da14461986bf6eaa434e989",
    "idx": 70,
    "time": "2021-02-14T05:41:10.865Z",
    "type": "execution"
   },
   {
    "id": "eb7f72901da14461986bf6eaa434e989",
    "time": "2021-02-14T05:41:10.926Z",
    "type": "completion"
   },
   {
    "code": "# TEST\nonly_uppercase('University of California, BerkelEY') == 'UCBEY'",
    "id": "e832434b3913428a96d1ab10270013cb",
    "idx": 71,
    "time": "2021-02-14T05:41:11.019Z",
    "type": "execution"
   },
   {
    "id": "e832434b3913428a96d1ab10270013cb",
    "time": "2021-02-14T05:41:11.092Z",
    "type": "completion"
   },
   {
    "code": "# TEST\nonly_uppercase('now THiS!') == 'THS'",
    "id": "7e44133fc9dd42b388cefc77755f7787",
    "idx": 72,
    "time": "2021-02-14T05:41:11.153Z",
    "type": "execution"
   },
   {
    "id": "7e44133fc9dd42b388cefc77755f7787",
    "time": "2021-02-14T05:41:11.208Z",
    "type": "completion"
   },
   {
    "code": "# TEST\nonly_uppercase('Data 94, Spring 2021') == 'DS'",
    "id": "84326c47b0ec44ca841f5123933beef5",
    "idx": 73,
    "time": "2021-02-14T05:41:11.299Z",
    "type": "execution"
   },
   {
    "id": "84326c47b0ec44ca841f5123933beef5",
    "time": "2021-02-14T05:41:11.354Z",
    "type": "completion"
   },
   {
    "code": "# TEST\nonly_uppercase('what if they are all lowercase?') == ''",
    "id": "9ab6c6c9223541c181d7ba06e69cc581",
    "idx": 74,
    "time": "2021-02-14T05:41:11.436Z",
    "type": "execution"
   },
   {
    "id": "9ab6c6c9223541c181d7ba06e69cc581",
    "time": "2021-02-14T05:41:11.490Z",
    "type": "completion"
   },
   {
    "code": "def alternating_product(values):\n    # BEGIN SOLUTION\n    product = 1\n    for i in range(0, len(values), 2):\n        product *= values[i]\n    return product\n    # END SOLUTION",
    "id": "681dc0278b7b4d7a809ce215a7b37282",
    "idx": 76,
    "time": "2021-02-14T05:41:18.387Z",
    "type": "execution"
   },
   {
    "id": "681dc0278b7b4d7a809ce215a7b37282",
    "time": "2021-02-14T05:41:18.449Z",
    "type": "completion"
   },
   {
    "code": "# TEST\nalternating_product([2, 8.5, 1, 9]) == 2",
    "id": "7d8e5d9e1f014bf983508d94025e8507",
    "idx": 77,
    "time": "2021-02-14T05:41:19.788Z",
    "type": "execution"
   },
   {
    "id": "7d8e5d9e1f014bf983508d94025e8507",
    "time": "2021-02-14T05:41:19.859Z",
    "type": "completion"
   },
   {
    "code": "# TEST\nalternating_product([2, 8.5, 1, 9, 4.5]) == 9.0",
    "id": "c58c59922a7247899cf4c6d0f2f2175e",
    "idx": 78,
    "time": "2021-02-14T05:41:19.963Z",
    "type": "execution"
   },
   {
    "id": "c58c59922a7247899cf4c6d0f2f2175e",
    "time": "2021-02-14T05:41:20.024Z",
    "type": "completion"
   },
   {
    "code": "# TEST\nalternating_product([1, 2, 3, 4, 5, 9, -22]) == -330",
    "id": "2f87ceb5de974e30807890b46a441864",
    "idx": 79,
    "time": "2021-02-14T05:41:20.120Z",
    "type": "execution"
   },
   {
    "id": "2f87ceb5de974e30807890b46a441864",
    "time": "2021-02-14T05:41:20.177Z",
    "type": "completion"
   },
   {
    "code": "# TEST\nalternating_product([1, 2, 3, 4, 5, 6, 7, 8, 9, 10]) == 945",
    "id": "e601a8b76fc54aa481f8fcb107d2209b",
    "idx": 80,
    "time": "2021-02-14T05:41:20.300Z",
    "type": "execution"
   },
   {
    "id": "e601a8b76fc54aa481f8fcb107d2209b",
    "time": "2021-02-14T05:41:20.359Z",
    "type": "completion"
   },
   {
    "code": "'hey, how are you, i am fine'.split(',')",
    "id": "39aca406a56d41ce92dc94fa625f41c0",
    "idx": 85,
    "time": "2021-02-14T06:02:57.722Z",
    "type": "execution"
   },
   {
    "id": "39aca406a56d41ce92dc94fa625f41c0",
    "time": "2021-02-14T06:02:57.800Z",
    "type": "completion"
   },
   {
    "code": "'''\nTo whom it may concern,\nI am a student at UC Berkeley, and I am writing to apply for a job at your company.\nSincerely,\nOski\n'''.split('\\n')",
    "id": "0a9e46fd406e4d168635afa884655c63",
    "idx": 86,
    "time": "2021-02-14T06:04:26.582Z",
    "type": "execution"
   },
   {
    "id": "0a9e46fd406e4d168635afa884655c63",
    "time": "2021-02-14T06:04:26.653Z",
    "type": "completion"
   },
   {
    "code": "'My name is Oski. I am applying for an internship at your company. I have two years of work experience.'.split('. ')",
    "id": "c64646d554ad4d06a63f177a8c0e5978",
    "idx": 86,
    "time": "2021-02-14T06:05:14.461Z",
    "type": "execution"
   },
   {
    "id": "c64646d554ad4d06a63f177a8c0e5978",
    "time": "2021-02-14T06:05:14.531Z",
    "type": "completion"
   },
   {
    "code": "'My name is Oski. I am applying for an internship at your company. I have two years of work experience.'.split('.')",
    "id": "c64646d554ad4d06a63f177a8c0e5978",
    "idx": 86,
    "time": "2021-02-14T06:05:22.936Z",
    "type": "execution"
   },
   {
    "id": "c64646d554ad4d06a63f177a8c0e5978",
    "time": "2021-02-14T06:05:23.020Z",
    "type": "completion"
   },
   {
    "code": "'My name is Oski. I am applying for an internship at your company. I have two years of work experience.'.split('. ')",
    "id": "c64646d554ad4d06a63f177a8c0e5978",
    "idx": 86,
    "time": "2021-02-14T06:05:26.884Z",
    "type": "execution"
   },
   {
    "id": "c64646d554ad4d06a63f177a8c0e5978",
    "time": "2021-02-14T06:05:26.964Z",
    "type": "completion"
   },
   {
    "code": "'@POTUS, @FLOTUS, @VPOTUS'.split(', @')",
    "id": "c64646d554ad4d06a63f177a8c0e5978",
    "idx": 86,
    "time": "2021-02-14T06:06:48.602Z",
    "type": "execution"
   },
   {
    "id": "c64646d554ad4d06a63f177a8c0e5978",
    "time": "2021-02-14T06:06:48.684Z",
    "type": "completion"
   },
   {
    "code": "'@POTUS, @FLOTUS, @VPOTUS'.split(', ')",
    "id": "c64646d554ad4d06a63f177a8c0e5978",
    "idx": 86,
    "time": "2021-02-14T06:06:53.671Z",
    "type": "execution"
   },
   {
    "id": "c64646d554ad4d06a63f177a8c0e5978",
    "time": "2021-02-14T06:06:53.744Z",
    "type": "completion"
   },
   {
    "code": "'@POTUS @FLOTUS @VPOTUS'.split(', ')",
    "id": "c64646d554ad4d06a63f177a8c0e5978",
    "idx": 86,
    "time": "2021-02-14T06:07:07.099Z",
    "type": "execution"
   },
   {
    "id": "c64646d554ad4d06a63f177a8c0e5978",
    "time": "2021-02-14T06:07:07.176Z",
    "type": "completion"
   },
   {
    "code": "'university--of--california--berkeley'.split('--')",
    "id": "d7b221e8c2cb4c1b9771f2e67ac4fa8a",
    "idx": 86,
    "time": "2021-02-14T06:07:55.844Z",
    "type": "execution"
   },
   {
    "id": "d7b221e8c2cb4c1b9771f2e67ac4fa8a",
    "time": "2021-02-14T06:07:55.913Z",
    "type": "completion"
   },
   {
    "code": "'hey, how are you, i am fine'.split(',')",
    "id": "39aca406a56d41ce92dc94fa625f41c0",
    "idx": 85,
    "time": "2021-02-14T06:08:54.303Z",
    "type": "execution"
   },
   {
    "id": "39aca406a56d41ce92dc94fa625f41c0",
    "time": "2021-02-14T06:08:54.372Z",
    "type": "completion"
   },
   {
    "code": "'university--of--california--berkeley'.split('--')",
    "id": "d7b221e8c2cb4c1b9771f2e67ac4fa8a",
    "idx": 86,
    "time": "2021-02-14T06:08:54.615Z",
    "type": "execution"
   },
   {
    "id": "d7b221e8c2cb4c1b9771f2e67ac4fa8a",
    "time": "2021-02-14T06:08:54.682Z",
    "type": "completion"
   },
   {
    "code": "'hey, how are you, i am fine'.split(',')",
    "id": "989d4d26817c40d1a11f11827a3b54da",
    "idx": 83,
    "time": "2021-02-14T06:34:53.650Z",
    "type": "execution"
   },
   {
    "id": "989d4d26817c40d1a11f11827a3b54da",
    "time": "2021-02-14T06:34:53.735Z",
    "type": "completion"
   },
   {
    "code": "'university--of--california--berkeley'.split('--')",
    "id": "c3ad5c984f0b4ddba49ca65d3f70daf0",
    "idx": 84,
    "time": "2021-02-14T06:35:00.613Z",
    "type": "execution"
   },
   {
    "id": "c3ad5c984f0b4ddba49ca65d3f70daf0",
    "time": "2021-02-14T06:35:00.697Z",
    "type": "completion"
   },
   {
    "code": "def is_excited(text):\n    # BEGIN SOLUTION\n    for word in text.split(' '):\n        if word[-1] != '!':\n            return False\n\n    return True\n    # END SOLUTION",
    "id": "453318aef38d4bd9945aba1447fd6805",
    "idx": 86,
    "time": "2021-02-14T06:37:17.289Z",
    "type": "execution"
   },
   {
    "id": "453318aef38d4bd9945aba1447fd6805",
    "time": "2021-02-14T06:37:17.361Z",
    "type": "completion"
   },
   {
    "code": "def is_excited(text):\n    # BEGIN SOLUTION\n    for word in text.split(' '):\n        if word[-1] != '!':\n            return False\n    return True\n    # END SOLUTION",
    "id": "453318aef38d4bd9945aba1447fd6805",
    "idx": 86,
    "time": "2021-02-14T06:37:20.830Z",
    "type": "execution"
   },
   {
    "id": "453318aef38d4bd9945aba1447fd6805",
    "time": "2021-02-14T06:37:20.903Z",
    "type": "completion"
   },
   {
    "code": "is_excited('i! am! excited!')",
    "id": "dee68be45f6848138b04d34b5243ccb3",
    "idx": 87,
    "time": "2021-02-14T06:37:30.933Z",
    "type": "execution"
   },
   {
    "id": "dee68be45f6848138b04d34b5243ccb3",
    "time": "2021-02-14T06:37:31.015Z",
    "type": "completion"
   },
   {
    "code": "# TEST\nis_excited('i! am! excited!')",
    "id": "dee68be45f6848138b04d34b5243ccb3",
    "idx": 87,
    "time": "2021-02-14T06:37:34.678Z",
    "type": "execution"
   },
   {
    "id": "dee68be45f6848138b04d34b5243ccb3",
    "time": "2021-02-14T06:37:34.874Z",
    "type": "completion"
   },
   {
    "code": "# TEST\nis_excited('why! are! we! typing! like! this!')",
    "id": "d3566f1fb2ca4eb181c29f2923ee3ca2",
    "idx": 88,
    "time": "2021-02-14T06:37:43.106Z",
    "type": "execution"
   },
   {
    "id": "d3566f1fb2ca4eb181c29f2923ee3ca2",
    "time": "2021-02-14T06:37:43.176Z",
    "type": "completion"
   },
   {
    "code": "# TEST\nnot is_excited('you are weird!')",
    "id": "5d9b6b5336244681859e8d17a3167dfe",
    "idx": 89,
    "time": "2021-02-14T06:37:53.965Z",
    "type": "execution"
   },
   {
    "id": "5d9b6b5336244681859e8d17a3167dfe",
    "time": "2021-02-14T06:37:54.036Z",
    "type": "completion"
   },
   {
    "code": "# TEST\nis_excited('hmm!')",
    "id": "04f72a3a23044a16bb428fdaa43d0a52",
    "idx": 90,
    "time": "2021-02-14T06:38:01.297Z",
    "type": "execution"
   },
   {
    "id": "04f72a3a23044a16bb428fdaa43d0a52",
    "time": "2021-02-14T06:38:01.373Z",
    "type": "completion"
   },
   {
    "code": "# TEST\nis_excited('hmm!@ is! this! exciting?!')",
    "id": "04f72a3a23044a16bb428fdaa43d0a52",
    "idx": 90,
    "time": "2021-02-14T06:38:15.100Z",
    "type": "execution"
   },
   {
    "id": "04f72a3a23044a16bb428fdaa43d0a52",
    "time": "2021-02-14T06:38:15.178Z",
    "type": "completion"
   },
   {
    "code": "# TEST\nnot is_excited('hmm!@ is! this! exciting?!')",
    "id": "04f72a3a23044a16bb428fdaa43d0a52",
    "idx": 90,
    "time": "2021-02-14T06:38:17.792Z",
    "type": "execution"
   },
   {
    "id": "04f72a3a23044a16bb428fdaa43d0a52",
    "time": "2021-02-14T06:38:17.867Z",
    "type": "completion"
   },
   {
    "code": "# TEST\nnot is_excited('hmm????! this! should?! be**!')",
    "id": "04f72a3a23044a16bb428fdaa43d0a52",
    "idx": 90,
    "time": "2021-02-14T06:40:39.043Z",
    "type": "execution"
   },
   {
    "id": "04f72a3a23044a16bb428fdaa43d0a52",
    "time": "2021-02-14T06:40:39.125Z",
    "type": "completion"
   },
   {
    "code": "# TEST\nis_excited('hmm????! this! should?! be**!')",
    "id": "04f72a3a23044a16bb428fdaa43d0a52",
    "idx": 90,
    "time": "2021-02-14T06:40:42.894Z",
    "type": "execution"
   },
   {
    "id": "04f72a3a23044a16bb428fdaa43d0a52",
    "time": "2021-02-14T06:40:42.972Z",
    "type": "completion"
   },
   {
    "code": "billboard = Table.read_table('data/billboard-2010.csv')\nbillboard",
    "id": "1a2663880a7f4ceba60b5d05e56a4f92",
    "idx": 92,
    "time": "2021-02-14T06:41:16.103Z",
    "type": "execution"
   },
   {
    "id": "1a2663880a7f4ceba60b5d05e56a4f92",
    "time": "2021-02-14T06:41:16.568Z",
    "type": "completion"
   },
   {
    "code": "billboard.where('Peak.position', 1).take(range(1000, 1020))",
    "id": "7fe4a4d48f3f43b892b906695665553d",
    "idx": 93,
    "time": "2021-02-14T06:41:19.093Z",
    "type": "execution"
   },
   {
    "code": "billboard.where('Name', 'One Dance').select(['Artists', 'Name', 'Week', 'Weekly.rank']).sort('Week').show(30)",
    "id": "1e1991cdf38c4eb38f644cd4ee016881",
    "idx": 94,
    "time": "2021-02-14T06:41:19.292Z",
    "type": "execution"
   },
   {
    "id": "7fe4a4d48f3f43b892b906695665553d",
    "time": "2021-02-14T06:41:19.424Z",
    "type": "completion"
   },
   {
    "id": "1e1991cdf38c4eb38f644cd4ee016881",
    "time": "2021-02-14T06:41:19.494Z",
    "type": "completion"
   },
   {
    "code": "billboard.where('Name', 'One Dance').select(['Artists', 'Name', 'Week', 'Weekly.rank']).sort('Week').show(30)",
    "id": "1e1991cdf38c4eb38f644cd4ee016881",
    "idx": 94,
    "time": "2021-02-14T06:44:55.284Z",
    "type": "execution"
   },
   {
    "id": "1e1991cdf38c4eb38f644cd4ee016881",
    "time": "2021-02-14T06:44:55.406Z",
    "type": "completion"
   },
   {
    "code": "billboard.where('Name', 'One Dance').select(['Artists', 'Name', 'Week', 'Weekly.rank']).sort('Week').show(20)",
    "id": "1e1991cdf38c4eb38f644cd4ee016881",
    "idx": 94,
    "time": "2021-02-14T06:45:07.997Z",
    "type": "execution"
   },
   {
    "id": "1e1991cdf38c4eb38f644cd4ee016881",
    "time": "2021-02-14T06:45:08.136Z",
    "type": "completion"
   },
   {
    "code": "billboard.where('Name', 'One Dance').select(['Artists', 'Name', 'Week', 'Weekly.rank']).sort('Week').show(15)",
    "id": "1e1991cdf38c4eb38f644cd4ee016881",
    "idx": 94,
    "time": "2021-02-14T06:45:10.905Z",
    "type": "execution"
   },
   {
    "id": "1e1991cdf38c4eb38f644cd4ee016881",
    "time": "2021-02-14T06:45:11.074Z",
    "type": "completion"
   },
   {
    "code": "billboard.where('Name', 'One Dance').select(['Artists', 'Name', 'Week', 'Weekly.rank']).sort('Week').show(20)",
    "id": "1e1991cdf38c4eb38f644cd4ee016881",
    "idx": 94,
    "time": "2021-02-14T06:45:15.084Z",
    "type": "execution"
   },
   {
    "id": "1e1991cdf38c4eb38f644cd4ee016881",
    "time": "2021-02-14T06:45:15.209Z",
    "type": "completion"
   },
   {
    "code": "# TEST\none_streak([1, 1, 1, 4, 5, 9, 1, 1, 1, 1, 1])",
    "id": "7df34f936e924b1d99fdcf70ed93b79d",
    "idx": 97,
    "time": "2021-02-14T06:52:19.188Z",
    "type": "execution"
   },
   {
    "id": "7df34f936e924b1d99fdcf70ed93b79d",
    "time": "2021-02-14T06:52:19.308Z",
    "type": "completion"
   },
   {
    "code": "def one_streak(charts):\n    longest = 0 # SOLUTION\n    current = 0 # SOLUTION\n    for num in charts:\n        if num == 1:\n            current = current + 1 # SOLUTION\n        else:\n            longest = max(longest, current) # SOLUTION\n            current = 0 # SOLUTION\n\n    return max(longest, current)",
    "id": "93427798eb734e63859da948c9701ec8",
    "idx": 96,
    "time": "2021-02-14T06:52:20.954Z",
    "type": "execution"
   },
   {
    "id": "93427798eb734e63859da948c9701ec8",
    "time": "2021-02-14T06:52:21.024Z",
    "type": "completion"
   },
   {
    "code": "# TEST\none_streak([1, 1, 1, 4, 5, 9, 1, 1, 1, 1, 1])",
    "id": "7df34f936e924b1d99fdcf70ed93b79d",
    "idx": 97,
    "time": "2021-02-14T06:52:21.331Z",
    "type": "execution"
   },
   {
    "id": "7df34f936e924b1d99fdcf70ed93b79d",
    "time": "2021-02-14T06:52:21.398Z",
    "type": "completion"
   },
   {
    "code": "# TEST\none_streak([13, 3, 2, 1, 2, 1, 1, 1, 1, 1, 1, 1, 1, 1, 2, 3, 2, 5, 7, 8]) == 9",
    "id": "57a49b1da8834ec18a0ef692470a2c3f",
    "idx": 97,
    "time": "2021-02-14T06:52:30.686Z",
    "type": "execution"
   },
   {
    "id": "57a49b1da8834ec18a0ef692470a2c3f",
    "time": "2021-02-14T06:52:30.756Z",
    "type": "completion"
   },
   {
    "code": "# TEST\none_streak([4, 1, 1, 1, 1, 1, 2, 3, 11, 1, 1, 1])",
    "id": "3e26ac126f694d04bc4ccf694381562f",
    "idx": 98,
    "time": "2021-02-14T06:52:38.393Z",
    "type": "execution"
   },
   {
    "id": "3e26ac126f694d04bc4ccf694381562f",
    "time": "2021-02-14T06:52:38.468Z",
    "type": "completion"
   },
   {
    "code": "# TEST\none_streak([4, 1, 1, 1, 1, 1, 2, 3, 11, 1, 1, 1]) == 5",
    "id": "3e26ac126f694d04bc4ccf694381562f",
    "idx": 98,
    "time": "2021-02-14T06:52:40.466Z",
    "type": "execution"
   },
   {
    "id": "3e26ac126f694d04bc4ccf694381562f",
    "time": "2021-02-14T06:52:40.538Z",
    "type": "completion"
   },
   {
    "code": "# TEST\none_streak([4, 1, 1, 1, 2, 3, 11, 1, 1, 1, 1, 1]) == 5",
    "id": "3e26ac126f694d04bc4ccf694381562f",
    "idx": 98,
    "time": "2021-02-14T06:53:14.112Z",
    "type": "execution"
   },
   {
    "id": "3e26ac126f694d04bc4ccf694381562f",
    "time": "2021-02-14T06:53:14.194Z",
    "type": "completion"
   },
   {
    "code": "# TEST\none_streak([5, 4, 1, 1, 1, 3, 2, 1, 2, 3]) == 3",
    "id": "b92ea04aac284039851c2cb2af330156",
    "idx": 99,
    "time": "2021-02-14T06:53:33.034Z",
    "type": "execution"
   },
   {
    "id": "b92ea04aac284039851c2cb2af330156",
    "time": "2021-02-14T06:53:33.103Z",
    "type": "completion"
   },
   {
    "code": "# TEST\none_streak([1, 2, 3, 4, 5]) == 1",
    "id": "7a33546cc1054efba28687350bf7efec",
    "idx": 100,
    "time": "2021-02-14T06:53:42.201Z",
    "type": "execution"
   },
   {
    "id": "7a33546cc1054efba28687350bf7efec",
    "time": "2021-02-14T06:53:43.307Z",
    "type": "completion"
   },
   {
    "code": "def one_streak(charts):\n    longest = 0 # SOLUTION\n    current = 0 # SOLUTION\n    for num in charts:\n        if num == 1:\n            current = current + 1 # SOLUTION\n        else:\n            longest = max(longest, current) # SOLUTION\n            current = 0 # SOLUTION\n\n    # Ask yourself  why are we returning max(longest, current)\n    # instead of just current?\n    return max(longest, current)",
    "id": "93427798eb734e63859da948c9701ec8",
    "idx": 96,
    "time": "2021-02-14T06:58:30.219Z",
    "type": "execution"
   },
   {
    "id": "93427798eb734e63859da948c9701ec8",
    "time": "2021-02-14T06:58:30.289Z",
    "type": "completion"
   },
   {
    "code": "def one_streak(charts):\n    longest = 0 # SOLUTION\n    current = 0 # SOLUTION\n    for num in charts:\n        if num == 1:\n            current = current + 1 # SOLUTION\n        else:\n            longest = max(longest, current) # SOLUTION\n            current = 0 # SOLUTION\n\n    # Ask yourself  why are we returning max(longest, current) instead of just current?\n    return max(longest, current)",
    "id": "93427798eb734e63859da948c9701ec8",
    "idx": 96,
    "time": "2021-02-14T06:58:33.432Z",
    "type": "execution"
   },
   {
    "id": "93427798eb734e63859da948c9701ec8",
    "time": "2021-02-14T06:58:33.508Z",
    "type": "completion"
   }
  ],
  "kernelspec": {
   "display_name": "Python 3",
   "language": "python",
   "name": "python3"
  },
  "language_info": {
   "codemirror_mode": {
    "name": "ipython",
    "version": 3
   },
   "file_extension": ".py",
   "mimetype": "text/x-python",
   "name": "python",
   "nbconvert_exporter": "python",
   "pygments_lexer": "ipython3",
   "version": "3.9.1"
  }
 },
 "nbformat": 4,
 "nbformat_minor": 4
}

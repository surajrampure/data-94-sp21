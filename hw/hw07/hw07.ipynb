{
 "cells": [
  {
   "cell_type": "code",
   "execution_count": null,
   "metadata": {
    "deletable": false,
    "editable": false
   },
   "outputs": [],
   "source": [
    "# Initialize Otter\n",
    "import otter\n",
    "grader = otter.Notebook(\"hw07.ipynb\")"
   ]
  },
  {
   "cell_type": "markdown",
   "metadata": {},
   "source": [
    "# Homework 7 – Visualization Fundamentals 🐧\n",
    "\n",
    "## Data 94, Spring 2021\n",
    "\n",
    "This homework is due on **Thursday, April 8th at 11:59PM.** You must submit the assignment to Gradescope. Submission instructions can be found at the bottom of this notebook. See the [syllabus](http://data94.org/syllabus/#late-policy-and-extensions) for our late submission policy.\n",
    "\n",
    "### Acknowledgements\n",
    "\n",
    "Many of the pictures and descriptions in this assignment are taken from [Dr. Allison Horst](https://twitter.com/allison_horst) and [Dr. Kristen Gorman](https://www.uaf.edu/cfos/people/faculty/detail/kristen-gorman.php). See [here](https://allisonhorst.github.io/palmerpenguins/) for more details."
   ]
  },
  {
   "cell_type": "code",
   "execution_count": null,
   "metadata": {},
   "outputs": [],
   "source": [
    "# Run this cell, don't change anything.\n",
    "!pip install kaleido"
   ]
  },
  {
   "cell_type": "code",
   "execution_count": null,
   "metadata": {},
   "outputs": [],
   "source": [
    "# Run this cell, don't change anything.\n",
    "\n",
    "from datascience import *\n",
    "import numpy as np\n",
    "Table.interactive_plots()\n",
    "import seaborn as sns\n",
    "import plotly.io\n",
    "import plotly.express as px\n",
    "from IPython.display import display, Image\n",
    "from ipywidgets import interact\n",
    "\n",
    "def save_and_show(fig, path):\n",
    "    if fig == None:\n",
    "        print('Error: Make sure to use the argument show = False above.')\n",
    "    plotly.io.write_image(fig, path)\n",
    "    display(Image(path))"
   ]
  },
  {
   "cell_type": "markdown",
   "metadata": {},
   "source": [
    "## Disclaimer\n",
    "\n",
    "When creating graphs in this assignment, there are two things you will always have to do that we didn't talk about in lecture:\n",
    "1. Assign the graph to a variable name. (As in previous assignments, we will tell you which variable names to use.)\n",
    "2. Use the argument `show = False` in your graphing method, in addition to the other arguments you want to use.\n",
    "\n",
    "These steps are **required** in order for your work to be graded. The distinction is subtle, since you will see the same visual output either way. See below for an example.\n",
    "\n",
    "<b style=\"color:green;\">Good:</b>\n",
    "\n",
    "```py\n",
    "fig_5 = table.sort('other_column').barh('column_name', show = False)\n",
    "```\n",
    "\n",
    "<b style=\"color:red;\">Bad:</b>\n",
    "\n",
    "```py\n",
    "table.sort('other_column').barh('column_name')\n",
    "```\n",
    "\n",
    "Also note that most of this homework will be graded manually by us rather than being graded by an autograder."
   ]
  },
  {
   "cell_type": "markdown",
   "metadata": {},
   "source": [
    "## The Data\n",
    "\n",
    "In this assignment, we will explore a dataset containing size measurements for three penguin species observed on three islands in the Palmer Archipelago, Antarctica. The data was collected by Dr. Kristen Gorman, a marine biologist, from 2007 to 2009.\n",
    "\n",
    "Here's a photo of Dr. Gorman in the wild collecting the data:\n",
    "\n",
    "<img src='images/gorman1.png' width=500>\n",
    "\n",
    "Run the cell below to load in our data."
   ]
  },
  {
   "cell_type": "code",
   "execution_count": null,
   "metadata": {},
   "outputs": [],
   "source": [
    "penguins = Table.from_df(sns.load_dataset('penguins').dropna())\n",
    "penguins"
   ]
  },
  {
   "cell_type": "markdown",
   "metadata": {},
   "source": [
    "Let's make sure we understand what each of the columns in our data represents before proceeding.\n",
    "\n",
    "### `'species'`\n",
    "\n",
    "There are three species of penguin in our dataset: Adelie, Chinstrap, and Gentoo.\n",
    "<img src='images/lter_penguins.png' width=500>\n",
    "\n",
    "### `'island'`\n",
    "\n",
    "The penguins in our dataset come from three islands: Biscoe, Dream, and Torgersen. (The smaller image of Anvers Island may initially be confusing; the dark region is land and the light region is water.)\n",
    "\n",
    "<img src='images/island.png' width=500>\n",
    "\n",
    "<div align = center>\n",
    "    Image taken from <a href=https://journals.plos.org/plosone/article/figure?id=10.1371/journal.pone.0090081.g001>here</a>\n",
    "</div>\n",
    "\n",
    "### `'bill_length_mm'` and `'bill_depth_mm'`\n",
    "\n",
    "See the illustration below.\n",
    "\n",
    "<img src='images/culmen_depth.png' width=350>\n",
    "\n",
    "### `'flipper_length_mm'`, `'body_mass_g'`, `'sex'`\n",
    "\n",
    "[Flippers](https://www.thespruce.com/flipper-definition-penguin-wings-385251) are the equivalent of wings on penguins. Body mass and sex should be relatively clear."
   ]
  },
  {
   "cell_type": "markdown",
   "metadata": {},
   "source": [
    "## Question 1 – Bar Charts"
   ]
  },
  {
   "cell_type": "markdown",
   "metadata": {},
   "source": [
    "### Question 1a\n",
    "\n",
    "Let's start by visualizing the distribution of the islands from which the penguins in our dataset come from. As discussed in Lecture 25, we use bar charts to display the distribution of categorical variables, so `barh` sounds like it will be useful here.\n",
    "\n",
    "Run the following line of code. Make sure to scroll to the very bottom of the box that appears to see the x-axis."
   ]
  },
  {
   "cell_type": "code",
   "execution_count": null,
   "metadata": {
    "scrolled": true
   },
   "outputs": [],
   "source": [
    "penguins.barh('island')"
   ]
  },
  {
   "cell_type": "markdown",
   "metadata": {
    "deletable": false,
    "editable": false
   },
   "source": [
    "<!-- BEGIN QUESTION -->\n",
    "\n",
    "Hmm... that doesn't look right. In two sentences, explain what's wrong with the above graph and describe how you would fix it.\n",
    "\n",
    "_Hint: Recall the three-step visualization process._\n",
    "\n",
    "<!--\n",
    "BEGIN QUESTION\n",
    "name: q1a\n",
    "points: 2\n",
    "manual: true\n",
    "-->"
   ]
  },
  {
   "cell_type": "markdown",
   "metadata": {},
   "source": [
    "_Type your answer here, replacing this text._"
   ]
  },
  {
   "cell_type": "markdown",
   "metadata": {},
   "source": [
    "<!-- END QUESTION -->\n",
    "\n",
    "\n",
    "\n",
    "### Question 1b\n",
    "\n",
    "Now, fix the above visualization so that it correctly shows the distribution of the islands from which our penguins come from. Specifically, assign `fig_1b` to a bar chart with three bars, one for each island. The length of each bar should correspond to the number of penguins from each island.\n",
    "\n",
    "**Note:** Remember the disclaimer at the top of the assignment. Don't forget to set `show = False`."
   ]
  },
  {
   "cell_type": "code",
   "execution_count": null,
   "metadata": {},
   "outputs": [],
   "source": [
    "fig_1b = ...\n",
    "fig_1b"
   ]
  },
  {
   "cell_type": "markdown",
   "metadata": {
    "deletable": false,
    "editable": false
   },
   "source": [
    "<!-- BEGIN QUESTION -->\n",
    "\n",
    "After creating your visualization above, run the following cell. You should see a picture of your graph. You must run this cell in order to get credit for this question.\n",
    "\n",
    "<!--\n",
    "BEGIN QUESTION\n",
    "name: q1b\n",
    "points: 1\n",
    "manual: true\n",
    "-->"
   ]
  },
  {
   "cell_type": "code",
   "execution_count": null,
   "metadata": {},
   "outputs": [],
   "source": [
    "# Run this cell, don't change anything.\n",
    "save_and_show(fig_1b, 'images/saved/1b.png')"
   ]
  },
  {
   "cell_type": "markdown",
   "metadata": {},
   "source": [
    "<!-- END QUESTION -->\n",
    "\n",
    "\n",
    "\n",
    "### Question 1c\n",
    "\n",
    "Let's instead display the distribution of our penguins' species.\n",
    "\n",
    "Below, assign `fig_1c` to a bar chart with three bars, one for each species. The length of each bar should correspond to the number of penguins from each species. Unlike in Question 1b, you will need to:\n",
    "1. Sort the table before grouping to match the example below.\n",
    "2. Edit the title and axis labels to match the example below (hint: set the arguments `xaxis_title`, `yaxis_title`, and `title`).\n",
    "\n",
    "<img src='images/examples/1c.png' width=750>\n",
    "\n",
    "**Note:** Remember the disclaimer at the top of the assignment. Don't forget to set `show = False`.\n",
    "\n",
    "_Hint: Remember that you can use the `\\` character to break your work into multiple lines._"
   ]
  },
  {
   "cell_type": "code",
   "execution_count": null,
   "metadata": {},
   "outputs": [],
   "source": [
    "fig_1c = ...\n",
    "fig_1c"
   ]
  },
  {
   "cell_type": "markdown",
   "metadata": {
    "deletable": false,
    "editable": false
   },
   "source": [
    "<!-- BEGIN QUESTION -->\n",
    "\n",
    "After creating your visualization above, run the following cell. You should see a picture of your plot. You must run this cell in order to get credit for this question.\n",
    "\n",
    "\n",
    "<!--\n",
    "BEGIN QUESTION\n",
    "name: q1c\n",
    "points: 3\n",
    "manual: true\n",
    "-->"
   ]
  },
  {
   "cell_type": "code",
   "execution_count": null,
   "metadata": {},
   "outputs": [],
   "source": [
    "# Run this cell, don't change anything.\n",
    "save_and_show(fig_1c, 'images/saved/1c.png')"
   ]
  },
  {
   "cell_type": "markdown",
   "metadata": {
    "deletable": false,
    "editable": false
   },
   "source": [
    "<!-- END QUESTION -->\n",
    "\n",
    "### Question 1d\n",
    "\n",
    "Let's now try and create some grouped bar charts, in order to look at the relationship between `'species'` and `'island'`. We'll first need to create a table with one categorical column and several numerical columns, as that's what `barh` will need to create a grouped bar chart.\n",
    "\n",
    "Below, assign `species_by_island` to a table with three rows and four columns. Each row should correspond to a single species of penguin, and the columns should correspond to the islands where our penguins are from. The entries in `species_by_island` should describe the number of penguins of a particular species from a particular island.\n",
    "\n",
    "The first row of `species_by_island` is given below; remember there are supposed to be three rows.\n",
    "\n",
    "| species   |   Biscoe |   Dream |   Torgersen |\n",
    "|----------|---------:|--------:|------------:|\n",
    "| Adelie    |       44 |      55 |          47 |\n",
    "\n",
    "_Hint: This should be very straightforward; there is a method we studied that does exactly what you need to do. Also, if you see a warning that starts with `Creating an ndarray from...`, you can safely ignore it._\n",
    "\n",
    "<!--\n",
    "BEGIN QUESTION\n",
    "name: q1d\n",
    "points: 1\n",
    "-->"
   ]
  },
  {
   "cell_type": "code",
   "execution_count": null,
   "metadata": {},
   "outputs": [],
   "source": [
    "species_by_island = ...\n",
    "species_by_island"
   ]
  },
  {
   "cell_type": "code",
   "execution_count": null,
   "metadata": {
    "deletable": false,
    "editable": false
   },
   "outputs": [],
   "source": [
    "grader.check(\"q1d\")"
   ]
  },
  {
   "cell_type": "markdown",
   "metadata": {},
   "source": [
    "### Question 1e\n",
    "\n",
    "Now, using the table `species_by_island` you created in the previous part, replicate the grouped bar chart below and assign the result to `fig_1e`. Make sure to match the axis labels and title.\n",
    "\n",
    "<img src='images/examples/1e.png' width=750>\n",
    "\n",
    "**Note:** Remember the disclaimer at the top of the assignment. Don't forget to set `show = False`."
   ]
  },
  {
   "cell_type": "code",
   "execution_count": null,
   "metadata": {},
   "outputs": [],
   "source": [
    "fig_1e = ...\n",
    "fig_1e"
   ]
  },
  {
   "cell_type": "markdown",
   "metadata": {
    "deletable": false,
    "editable": false
   },
   "source": [
    "<!-- BEGIN QUESTION -->\n",
    "\n",
    "After creating your visualization above, run the following cell. You should see a picture of your graph. You must run this cell in order to get credit for this question.\n",
    "\n",
    "<!--\n",
    "BEGIN QUESTION\n",
    "name: q1e\n",
    "points: 2\n",
    "manual: true\n",
    "-->"
   ]
  },
  {
   "cell_type": "code",
   "execution_count": null,
   "metadata": {},
   "outputs": [],
   "source": [
    "# Run this cell, don't change anything.\n",
    "save_and_show(fig_1e, 'images/saved/1e.png')"
   ]
  },
  {
   "cell_type": "markdown",
   "metadata": {},
   "source": [
    "<!-- END QUESTION -->\n",
    "\n",
    "\n",
    "\n",
    "### Question 1f\n",
    "\n",
    "Great, now we know how to create grouped bar charts starting from our `penguins` table. Let's try it again – but this time, there will be less scaffolding.\n",
    "\n",
    "Assign `fig_1f` to the grouped bar chart below, which describes the mean body weight of each species of penguin, separated by sex. Once again, make sure to match the axis label and title.\n",
    "\n",
    "<img src='images/examples/1f.png' width=750>\n",
    "\n",
    "**Note:** Remember the disclaimer at the top of the assignment. Don't forget to set `show = False`.\n",
    "\n",
    "_Hint: Think about how this task is similar to what you did in the previous two parts. Don't forget the three-step visualization process, which says that you should first create a table with the information you need in your visualization; in that first step, `np.mean` will need to be used somewhere._"
   ]
  },
  {
   "cell_type": "code",
   "execution_count": null,
   "metadata": {},
   "outputs": [],
   "source": [
    "fig_1f = ...\n",
    "fig_1f"
   ]
  },
  {
   "cell_type": "markdown",
   "metadata": {
    "deletable": false,
    "editable": false
   },
   "source": [
    "<!-- BEGIN QUESTION -->\n",
    "\n",
    "After creating your visualization above, run the following cell. You should see a picture of your graph. You must run this cell in order to get credit for this question.\n",
    "\n",
    "\n",
    "<!--\n",
    "BEGIN QUESTION\n",
    "name: q1f\n",
    "points: 3\n",
    "manual: true\n",
    "-->"
   ]
  },
  {
   "cell_type": "code",
   "execution_count": null,
   "metadata": {},
   "outputs": [],
   "source": [
    "# Run this cell, don't change anything.\n",
    "save_and_show(fig_1f, 'images/saved/1f.png')"
   ]
  },
  {
   "cell_type": "markdown",
   "metadata": {
    "deletable": false,
    "editable": false
   },
   "source": [
    "<!-- END QUESTION -->\n",
    "\n",
    "<!-- BEGIN QUESTION -->\n",
    "\n",
    "### Question 1g\n",
    "\n",
    "Comment on what you see in the grouped bar chart from the previous part. Specifically, which species of penguin appears to be the largest on average, and which sex of penguins appears to be larger on average? Is there a pair of species whose sizes are roughly the same on average?\n",
    "\n",
    "_Hint: We use the term \"on average\" a lot in the question, and that's because the graph you created only shows statistics for each species and sex on average (because you used `np.mean`). It is **not** saying that all female Gentoo penguins are larger than all female Chinstrap penguins, for example._\n",
    "\n",
    "<!--\n",
    "BEGIN QUESTION\n",
    "name: q1g\n",
    "points: 2\n",
    "manual: true\n",
    "-->"
   ]
  },
  {
   "cell_type": "markdown",
   "metadata": {},
   "source": [
    "_Type your answer here, replacing this text._"
   ]
  },
  {
   "cell_type": "markdown",
   "metadata": {},
   "source": [
    "<!-- END QUESTION -->\n",
    "\n",
    "\n",
    "\n",
    "## Question 2 – Histograms\n",
    "\n",
    "<img src='images/all3.png' width=400>\n",
    "\n",
    "<div align=center>\n",
    "Adelie, Chinstrap, and Gentoo penguins.\n",
    "</div>\n",
    "\n",
    "Great! Now that we've explored the distributions of some of the categorical variables in our dataset (species and island), it's time to study the distributions of some of the numerical variables. As covered in Lecture 26, we can visualize a numerical distribution by creating a histogram."
   ]
  },
  {
   "cell_type": "markdown",
   "metadata": {},
   "source": [
    "### Question 2a\n",
    "\n",
    "Before we draw any histograms, we'll make sure that we understand how histograms work.\n",
    "\n",
    "Run the cell below to draw a histogram displaying the distribution of our penguins' bill lengths."
   ]
  },
  {
   "cell_type": "code",
   "execution_count": null,
   "metadata": {},
   "outputs": [],
   "source": [
    "penguins.select('bill_length_mm').hist(bins = np.arange(30, 60, 5), density = False)"
   ]
  },
  {
   "cell_type": "markdown",
   "metadata": {
    "deletable": false,
    "editable": false
   },
   "source": [
    "<!-- BEGIN QUESTION -->\n",
    "\n",
    "Remember, in a histogram, each bin is inclusive of the left endpoint and exclusive of the right endpoint. What this means is that, for example, the bin between 35 mm and 40 mm above corresponds to bill lengths that are greater than or equal to 35 mm and less than 40 mm.\n",
    "\n",
    "In the Markdown cell below, answer the following three questions by looking at the graph above; do **not** write any code. **If you don't believe it is possible to determine the answer by looking at the above graph, write \"impossible to tell\" and explain why.** Remember that you can hover over the bars above to get their exact heights.\n",
    "\n",
    "1. How many penguins have a bill length between 50 mm (inclusive) and 55 mm (exclusive)?\n",
    "2. True or False: `penguins.where('bill_length_mm', are.between(50, 55)).num_rows` is equal to the correct answer from the previous question.\n",
    "3. How many penguins have a bill length between 43 mm (inclusive) and 50 mm (exclusive)?\n",
    "\n",
    "<!--\n",
    "BEGIN QUESTION\n",
    "name: q2a\n",
    "points: 3\n",
    "manual: true\n",
    "-->"
   ]
  },
  {
   "cell_type": "markdown",
   "metadata": {},
   "source": [
    "_Type your answer here, replacing this text._"
   ]
  },
  {
   "cell_type": "markdown",
   "metadata": {},
   "source": [
    "<!-- END QUESTION -->\n",
    "\n",
    "\n",
    "\n",
    "### Question 2b\n",
    "\n",
    "Below, assign `fig_2b` to a histogram that visualizes the distribution of our penguins' bill depths (**not** lengths, as in the previous part). Specifically, you must re-create the histogram below. Make sure that your histogram has the same bins, y-axis scale, axis labels, and title as the example.\n",
    "\n",
    "<img src='images/examples/2b.png' width=750>\n",
    "\n",
    "**Note:** Remember the disclaimer at the top of the assignment. Don't forget to set `show = False`.\n",
    "\n",
    "_Hint: Our solution sets the arguments `density`, `bins`, `xaxis_title`, `yaxis_title`, `title`, and `show`._"
   ]
  },
  {
   "cell_type": "code",
   "execution_count": null,
   "metadata": {
    "scrolled": false
   },
   "outputs": [],
   "source": [
    "fig_2b = ...\n",
    "fig_2b"
   ]
  },
  {
   "cell_type": "markdown",
   "metadata": {
    "deletable": false,
    "editable": false
   },
   "source": [
    "<!-- BEGIN QUESTION -->\n",
    "\n",
    "After creating your visualization above, run the following cell. You should see a picture of your graph. You must run this cell in order to get credit for this question.\n",
    "\n",
    "<!--\n",
    "BEGIN QUESTION\n",
    "name: q2b\n",
    "points: 3\n",
    "manual: true\n",
    "-->"
   ]
  },
  {
   "cell_type": "code",
   "execution_count": null,
   "metadata": {},
   "outputs": [],
   "source": [
    "# Run this cell, don't change anything.\n",
    "save_and_show(fig_2b, 'images/saved/2b.png')"
   ]
  },
  {
   "cell_type": "markdown",
   "metadata": {},
   "source": [
    "<!-- END QUESTION -->\n",
    "\n",
    "\n",
    "\n",
    "### Question 2c\n",
    "\n",
    "When creating histograms, it's important to try several different bin sizes in order to make sure that we're satisfied with the level of detail (or lack thereof) in our histogram.\n",
    "\n",
    "Run the code cell below. It will present you with a histogram of the distribution of our penguins' body masses, along with a slider for bin widths. Use the slider to try several different bin widths and look at the resulting histograms."
   ]
  },
  {
   "cell_type": "code",
   "execution_count": null,
   "metadata": {},
   "outputs": [],
   "source": [
    "# Don't worry about the code, just play with the slider that appears after running.\n",
    "def draw_mass_histogram(bin_width):\n",
    "    fig = penguins.select('body_mass_g').hist(bins = np.arange(2700, 6300+2*bin_width, bin_width), density = False, show = False)\n",
    "    display(fig)\n",
    "    \n",
    "interact(draw_mass_histogram, bin_width=(25, 525, 25));"
   ]
  },
  {
   "cell_type": "markdown",
   "metadata": {
    "deletable": false,
    "editable": false
   },
   "source": [
    "<!-- BEGIN QUESTION -->\n",
    "\n",
    "In the cell below, compare the two histograms that result from setting the bin width to 50 and 500. What are the pros and cons of each? (Remember that these histograms are displaying the same data, just with different bin sizes.)\n",
    "\n",
    "<!--\n",
    "BEGIN QUESTION\n",
    "name: q2c\n",
    "points: 2\n",
    "manual: true\n",
    "-->"
   ]
  },
  {
   "cell_type": "markdown",
   "metadata": {},
   "source": [
    "_Type your answer here, replacing this text._"
   ]
  },
  {
   "cell_type": "markdown",
   "metadata": {},
   "source": [
    "<!-- END QUESTION -->\n",
    "\n",
    "\n",
    "\n",
    "### Question 2d\n",
    "\n",
    "We can also draw overlaid histograms to compare the distribution of a numerical variable, separated by some category (by using the `group` argument). Run the cell below to generate a histogram of body masses, separated by species."
   ]
  },
  {
   "cell_type": "code",
   "execution_count": null,
   "metadata": {},
   "outputs": [],
   "source": [
    "penguins.select('species', 'body_mass_g') \\\n",
    "        .hist('body_mass_g', group = 'species', xaxis_title = 'Body Mass (g)', density = False)"
   ]
  },
  {
   "cell_type": "markdown",
   "metadata": {},
   "source": [
    "The above graph is... okay. It's a little hard to extract any insight from it, since there are so many overlapping regions. However, you can click the text in the legend (`species = Gentoo` for example) to make certain categories disappear. Try it!\n",
    "\n",
    "Also, keep in mind that there are fewer Chinstrap and Gentoo penguins in our dataset than Adelie penguins, which is why the bars for Adelie are all significantly taller. If you hide the Gentoo distribution and look at just the Adelie and Chinstrap distributions, you'll see that the \"shapes\" of the distributions are very similar (which is consistent with your result from Question 1f).\n",
    "\n",
    "However, there's another solution – we can make three separate histograms, one for each species. Below, assign `fig_2d` to the graph below, which displays the distributions of all three species' body masses on separate axes. Unlike the previous parts of this assignment, you will need to set the `height` and `width` arguments in `hist` to 700 and 500, respectively (otherwise the resulting graph is too big).\n",
    "\n",
    "<img src='images/examples/2d.png' width=300>\n",
    "\n",
    "**Note:** Remember the disclaimer at the top of the assignment. Don't forget to set `show = False`.\n",
    "\n",
    "_Hint: Our solution used the arguments `group`, `density`, `overlay`, `height`, `width`, `title`, and `show`. You should start by copying the code we used to create the overlaid histogram and then add and modify arguments._"
   ]
  },
  {
   "cell_type": "code",
   "execution_count": null,
   "metadata": {},
   "outputs": [],
   "source": [
    "fig_2d = ...\n",
    "fig_2d"
   ]
  },
  {
   "cell_type": "markdown",
   "metadata": {
    "deletable": false,
    "editable": false
   },
   "source": [
    "<!-- BEGIN QUESTION -->\n",
    "\n",
    "After creating your visualization above, run the following cell. You should see a picture of your graph. You must run this cell in order to get credit for this question.\n",
    "\n",
    "<!--\n",
    "BEGIN QUESTION\n",
    "name: q2d\n",
    "points: 2\n",
    "manual: true\n",
    "-->"
   ]
  },
  {
   "cell_type": "code",
   "execution_count": null,
   "metadata": {},
   "outputs": [],
   "source": [
    "# Run this cell, don't change anything.\n",
    "save_and_show(fig_2d, 'images/saved/2d.png')"
   ]
  },
  {
   "cell_type": "markdown",
   "metadata": {},
   "source": [
    "<!-- END QUESTION -->\n",
    "\n",
    "\n",
    "\n",
    "## Question 3 – Moving Forward\n",
    "\n",
    "<img src='images/biscoe.png' width=400>\n",
    "\n",
    "<div align=center>\n",
    "A Gentoo penguin colony at Biscoe Point.\n",
    "</div>\n",
    "\n",
    "In Week 11's lectures we focused on bar charts and histograms. In this question, we will introduce the scatter plot, which you will learn about in Week 12 (and gain experience with in Homework 8)."
   ]
  },
  {
   "cell_type": "markdown",
   "metadata": {},
   "source": [
    "Run the following cell to generate a scatter plot."
   ]
  },
  {
   "cell_type": "code",
   "execution_count": null,
   "metadata": {},
   "outputs": [],
   "source": [
    "penguins.scatter('bill_length_mm', 'bill_depth_mm', \n",
    "                 group = 'species', s = 35, sizes = 'body_mass_g',\n",
    "                 title = 'Bill Length vs. Bill Depth')"
   ]
  },
  {
   "cell_type": "markdown",
   "metadata": {
    "deletable": false,
    "editable": false
   },
   "source": [
    "<!-- BEGIN QUESTION -->\n",
    "\n",
    "Here's what you're seeing above:\n",
    "- Position on the x-axis represents bill length.\n",
    "- Position on the y-axis represents bill depth.\n",
    "- Color represents species, as per the legend on the right.\n",
    "- Size represents body mass (this is a little hard to see, but some points are slightly larger than others).\n",
    "\n",
    "You'll note that there are three general \"clusters\" or \"groups\" of points, corresponding to the three penguin species.\n",
    "\n",
    "Use the scatter plot to fill in the blanks below. Both blanks should be a species of penguin.\n",
    "\n",
    "_\"It appears that the distribution of bill lengths of Chinstrap penguins is very similar to the distribution of bill lengths of _ _ _ _ penguins, while the distribution of bill depths of Chinstrap penguins is very similar to the distribution of bill depths of _ _ _ _ penguins.\"_\n",
    "\n",
    "<!--\n",
    "BEGIN QUESTION\n",
    "name: q3\n",
    "points: 2\n",
    "manual: true\n",
    "-->"
   ]
  },
  {
   "cell_type": "markdown",
   "metadata": {},
   "source": [
    "_Type your answer here, replacing this text._"
   ]
  },
  {
   "cell_type": "markdown",
   "metadata": {},
   "source": [
    "<!-- END QUESTION -->\n",
    "\n",
    "\n",
    "\n",
    "### Fun Demo\n",
    "\n",
    "We won't cover boxplots in depth this semester, but we'll draw some for you here. If you aren't familiar with boxplots (also known as \"box-and-whisker plots\"), you can watch the first few minutes of [this](https://www.youtube.com/watch?v=sDZSljMKkPw) video by Suraj or [this](https://www.khanacademy.org/math/cc-sixth-grade-math/cc-6th-data-statistics/cc-6th-box-whisker-plots/v/constructing-a-box-and-whisker-plot) video by Khan Academy.\n",
    "\n",
    "Below, we'll draw boxplots for the distribution of body masses, separated by species."
   ]
  },
  {
   "cell_type": "code",
   "execution_count": null,
   "metadata": {},
   "outputs": [],
   "source": [
    "px.box(penguins.to_df(), x = 'species', y = 'body_mass_g', color = 'species')"
   ]
  },
  {
   "cell_type": "markdown",
   "metadata": {},
   "source": [
    "This boxplot is showing the same information as the histograms in Question 2d, just in a different way.\n",
    "\n",
    "We can even take things a step further, by separating by species and sex:"
   ]
  },
  {
   "cell_type": "code",
   "execution_count": null,
   "metadata": {},
   "outputs": [],
   "source": [
    "px.box(penguins.to_df(), x = 'species', y = 'body_mass_g', color = 'sex')"
   ]
  },
  {
   "cell_type": "markdown",
   "metadata": {},
   "source": [
    "In a single graph, we now see the distribution of penguin body masses, separated by species and sex. Pretty cool!"
   ]
  },
  {
   "cell_type": "markdown",
   "metadata": {},
   "source": [
    "# Done!\n",
    "\n",
    "Congrats! You've finished another Data 94 homework assignment!\n",
    "\n",
    "To submit your work, follow the steps outlined on Ed. **Remember that for this homework in particular, almost all problems will be graded manually, rather than by the autograder.**\n",
    "\n",
    "The point breakdown for this assignment is given in the table below:\n",
    "\n",
    "| **Category** | Points |\n",
    "| --- | --- |\n",
    "| Autograder | 1 |\n",
    "| Written (Including Visualizations) | 25 |\n",
    "| **Total** | 26 |"
   ]
  },
  {
   "cell_type": "markdown",
   "metadata": {
    "deletable": false,
    "editable": false
   },
   "source": [
    "---\n",
    "\n",
    "To double-check your work, the cell below will rerun all of the autograder tests."
   ]
  },
  {
   "cell_type": "code",
   "execution_count": null,
   "metadata": {
    "deletable": false,
    "editable": false
   },
   "outputs": [],
   "source": [
    "grader.check_all()"
   ]
  },
  {
   "cell_type": "markdown",
   "metadata": {
    "deletable": false,
    "editable": false
   },
   "source": [
    "## Submission\n",
    "\n",
    "Make sure you have run all cells in your notebook in order before running the cell below, so that all images/graphs appear in the output. The cell below will generate a zip file for you to submit. **Please save before exporting!**"
   ]
  },
  {
   "cell_type": "code",
   "execution_count": null,
   "metadata": {
    "deletable": false,
    "editable": false
   },
   "outputs": [],
   "source": [
    "# Save your notebook first, then run this cell to export your submission.\n",
    "grader.export()"
   ]
  },
  {
   "cell_type": "markdown",
   "metadata": {},
   "source": [
    " "
   ]
  }
 ],
 "metadata": {
  "kernelspec": {
   "display_name": "Python 3",
   "language": "python",
   "name": "python3"
  },
  "language_info": {
   "codemirror_mode": {
    "name": "ipython",
    "version": 3
   },
   "file_extension": ".py",
   "mimetype": "text/x-python",
   "name": "python",
   "nbconvert_exporter": "python",
   "pygments_lexer": "ipython3",
   "version": "3.7.9"
  }
 },
 "nbformat": 4,
 "nbformat_minor": 4
}

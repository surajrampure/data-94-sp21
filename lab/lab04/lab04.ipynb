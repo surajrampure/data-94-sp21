{
 "cells": [
  {
   "cell_type": "code",
   "execution_count": null,
   "metadata": {
    "deletable": false,
    "editable": false
   },
   "outputs": [],
   "source": [
    "# Initialize Otter\n",
    "import otter\n",
    "grader = otter.Notebook(\"lab04.ipynb\")"
   ]
  },
  {
   "cell_type": "markdown",
   "metadata": {},
   "source": [
    "# Lab 4 - Dictionaries and NumPy Arrays\n",
    "\n",
    "This week we will be going over a few new Python data structures we can use: **dictionaries** and **NumPy** data structures.\n",
    "\n",
    "## Dictionaries\n",
    "\n",
    "<img src='images/dictionary.png' width=300>\n",
    "\n",
    "**Dictionaries** can be very useful. They store key/value pairs that can be used to map one value to another. You can think of a dictionary as a list where the indexes (locations) of the values of the list are no longer their integer locations, but rather their keys.\n",
    "\n",
    "In a list, you access the first item with `my_list[0]`.\n",
    "\n",
    "In a dictionary, you access the \"key-th\" item with `my_dictionary[key]`.\n",
    "\n",
    "If we think of list items as having their \"address\" be their location in the list, then a dictionary value's \"address\" is its key.\n",
    "\n",
    "Some important properties of dictionaries to note:\n",
    "- The key and value **do not** have to be of the same type\n",
    "- We designate a new key/value entry in a dictionary in this format: *key* **:** *value*\n",
    "- We store all these key/value entries in a dictionaries with braces `{}` around the ends (like `[]` with a list) and commas separating the entries\n",
    "    - `new_dictionary` = {\"a\": 100, \"b\": 200, \"c\": 300}\n",
    "    \n",
    "Let's take a closer look at a dictionary in practice:"
   ]
  },
  {
   "cell_type": "code",
   "execution_count": null,
   "metadata": {},
   "outputs": [],
   "source": [
    "my_dictionary = {\"a\": 100, \"b\": 200, \"c\": 300}\n",
    "print(\"The value 'a' maps to the value:\", my_dictionary[\"a\"])\n",
    "print(\"The value 'b' maps to the value:\", my_dictionary[\"b\"])\n",
    "print(\"The value 'c' maps to the value:\", my_dictionary[\"c\"])"
   ]
  },
  {
   "cell_type": "markdown",
   "metadata": {},
   "source": [
    "We can't access a dictionary's values like we can access a list's values. If we want the \"first\" item in a dictionary, we cannot ask for `my_dictionary[0]`, because this request is really asking \"What does the key 0 map to in this dictionary?\". If your dictionary does not have a value associated with the key 0, you will get an error."
   ]
  },
  {
   "cell_type": "code",
   "execution_count": null,
   "metadata": {},
   "outputs": [],
   "source": [
    "my_dictionary[0]"
   ]
  },
  {
   "cell_type": "markdown",
   "metadata": {},
   "source": [
    "A `KeyError` warning means that you asked for a key that is not in your dictionary. This may happen when you are writing a function with a dictionary, so if you see it, this is what it means."
   ]
  },
  {
   "cell_type": "markdown",
   "metadata": {},
   "source": [
    "We can add the key value pair `(key, value)` with the following syntax:\n",
    "\n",
    "`my_dictionary[key] = value`"
   ]
  },
  {
   "cell_type": "code",
   "execution_count": null,
   "metadata": {},
   "outputs": [],
   "source": [
    "my_dictionary[\"d\"] = 400 # Add the key/value pair (\"d\", 400) to our dictionary\n",
    "my_dictionary"
   ]
  },
  {
   "cell_type": "markdown",
   "metadata": {},
   "source": [
    "We can use **any** data type we know as a value in a dictionary..."
   ]
  },
  {
   "cell_type": "code",
   "execution_count": null,
   "metadata": {},
   "outputs": [],
   "source": [
    "# Here, the value we add is a list!\n",
    "my_dictionary[\"grocery list\"] = [\"apples\", \"bananas\", \"carrots\"]\n",
    "my_dictionary"
   ]
  },
  {
   "cell_type": "markdown",
   "metadata": {},
   "source": [
    "...including even having a **dictionary itself** as a value! "
   ]
  },
  {
   "cell_type": "code",
   "execution_count": null,
   "metadata": {},
   "outputs": [],
   "source": [
    "my_dictionary[\"squares\"] = {1: 1, 2: 4, 3: 9, 4: 16}\n",
    "my_dictionary"
   ]
  },
  {
   "cell_type": "markdown",
   "metadata": {},
   "source": [
    "We can get a list of a dictionary's keys with the `.keys()` function."
   ]
  },
  {
   "cell_type": "code",
   "execution_count": null,
   "metadata": {},
   "outputs": [],
   "source": [
    "my_keys = my_dictionary.keys()\n",
    "my_keys"
   ]
  },
  {
   "cell_type": "code",
   "execution_count": null,
   "metadata": {},
   "outputs": [],
   "source": [
    "# Note the type of this list of keys\n",
    "type(my_keys)"
   ]
  },
  {
   "cell_type": "code",
   "execution_count": null,
   "metadata": {},
   "outputs": [],
   "source": [
    "# To convert this to a list, we use the list() function\n",
    "list(my_keys)"
   ]
  },
  {
   "cell_type": "markdown",
   "metadata": {},
   "source": [
    "You can also call `list()` directly on the dictionary, and it will give you the same list of keys:"
   ]
  },
  {
   "cell_type": "code",
   "execution_count": null,
   "metadata": {},
   "outputs": [],
   "source": [
    "list(my_dictionary)"
   ]
  },
  {
   "cell_type": "markdown",
   "metadata": {},
   "source": [
    "To iterate over the keys in a dictionary, we can use a `for` loop!"
   ]
  },
  {
   "cell_type": "code",
   "execution_count": null,
   "metadata": {},
   "outputs": [],
   "source": [
    "for key in my_dictionary:\n",
    "    print(\"I am a key, and my name is:\", key)"
   ]
  },
  {
   "cell_type": "markdown",
   "metadata": {},
   "source": [
    "We can also get a list of a dictionary's values with the `.values()` function."
   ]
  },
  {
   "cell_type": "code",
   "execution_count": null,
   "metadata": {},
   "outputs": [],
   "source": [
    "my_values = my_dictionary.values()\n",
    "my_values"
   ]
  },
  {
   "cell_type": "code",
   "execution_count": null,
   "metadata": {},
   "outputs": [],
   "source": [
    "# For the same reason as with the keys, we have to convert this to a list before we use it\n",
    "list(my_values)"
   ]
  },
  {
   "cell_type": "markdown",
   "metadata": {},
   "source": [
    "We can't use the same `list(my_dictionary)` trick we used for the keys, so we can iterate over the values of a dictionary like this:"
   ]
  },
  {
   "cell_type": "code",
   "execution_count": null,
   "metadata": {},
   "outputs": [],
   "source": [
    "for value in list(my_dictionary.values()):\n",
    "    print(\"I am a value, and my name is:\", value)"
   ]
  },
  {
   "cell_type": "markdown",
   "metadata": {},
   "source": [
    "We don't use this list of dictionary values terribly often, but it's be something you should know in case you ever need it when writing your own code.\n",
    "\n",
    "We can use this to do cool things like change all the values in a dictionary!"
   ]
  },
  {
   "cell_type": "code",
   "execution_count": null,
   "metadata": {},
   "outputs": [],
   "source": [
    "def add_one_to_dictionary_values(dictionary):\n",
    "    for key in dictionary:\n",
    "        dictionary[key] += 1\n",
    "    return dictionary\n",
    "\n",
    "new_dictionary = {\"data\": 94, \"cs\": 61, \"poli sci\": 1}\n",
    "modified_dictionary = add_one_to_dictionary_values(new_dictionary)\n",
    "modified_dictionary"
   ]
  },
  {
   "cell_type": "markdown",
   "metadata": {
    "deletable": false,
    "editable": false
   },
   "source": [
    "## Question 1\n",
    "\n",
    "Let's try writing a function that uses a dictionary that can help us make up a whole new language so we can communicate in secret with our friends!\n",
    "\n",
    "We want to convert all of our text messages to our new language, which we call *Fake-lish*.\n",
    "\n",
    "Fake-lish converts all letters in a message to another letter. We make a dictionary that maps every letter to another letter, which makes our message impossible to read for anyone other than other people who have the *Fake-lish* dictionary!\n",
    "\n",
    "Spaces should be preserved by this function, so leave spaces as spaces when we convert the message to *Fake-lish*\n",
    "\n",
    "<!--\n",
    "BEGIN QUESTION\n",
    "name: q1\n",
    "points: 0\n",
    "-->"
   ]
  },
  {
   "cell_type": "code",
   "execution_count": null,
   "metadata": {},
   "outputs": [],
   "source": [
    "def fake_lish(text, fake_lish_dictionary):\n",
    "    output_text = ...\n",
    "    for letter in text:\n",
    "        if letter != \" \":\n",
    "            converted_letter = ...\n",
    "            output_text += converted_letter\n",
    "        else:\n",
    "            output_text += \" \"\n",
    "    return output_text\n",
    "\n",
    "# This is the fake-lish dictionary we will use for this question\n",
    "# You do not need to know how this works, and you do not need to touch it\n",
    "fld = {}\n",
    "for char in list(map(chr, range(97,123))):\n",
    "    fld[char] = chr((ord(char) - 97 + 13) % 26 + 97)\n",
    "fld"
   ]
  },
  {
   "cell_type": "code",
   "execution_count": null,
   "metadata": {
    "deletable": false,
    "editable": false
   },
   "outputs": [],
   "source": [
    "grader.check(\"q1\")"
   ]
  },
  {
   "cell_type": "markdown",
   "metadata": {},
   "source": [
    "Now we can use this function to send messages that nobody will understand (unless they crack our code...)!"
   ]
  },
  {
   "cell_type": "code",
   "execution_count": null,
   "metadata": {},
   "outputs": [],
   "source": [
    "fake_lish(\"hello world\", fld)"
   ]
  },
  {
   "cell_type": "code",
   "execution_count": null,
   "metadata": {},
   "outputs": [],
   "source": [
    "fake_lish(\"i am speaking in secret hehe\", fld)"
   ]
  },
  {
   "cell_type": "markdown",
   "metadata": {},
   "source": [
    "Just a cool property of the dictionary we chose to use, look what happens when we encrypt one of our messages... we can use the function again to *decrypt* the messages too!"
   ]
  },
  {
   "cell_type": "code",
   "execution_count": null,
   "metadata": {},
   "outputs": [],
   "source": [
    "fake_lish(\"hello can you hear me\", fld)"
   ]
  },
  {
   "cell_type": "code",
   "execution_count": null,
   "metadata": {},
   "outputs": [],
   "source": [
    "fake_lish(\"uryyb pna lbh urne zr\", fld)"
   ]
  },
  {
   "cell_type": "markdown",
   "metadata": {},
   "source": [
    "Now we can talk in secret! See the **Extra Practice Problems** section to see how this can be useful in a cool way!"
   ]
  },
  {
   "cell_type": "markdown",
   "metadata": {},
   "source": [
    "## NumPy\n",
    "\n",
    "You may have seen in lecture that we can use a whole new family of functions using **NumPy**. We will talk about a few of them in this notebook, but we should make something clear before we get started.\n",
    "\n",
    "**NumPy** is what is known as a *library*. This means that its functions are not automatically present when you start a new Python environment, so we have to **import** it before we can use it.\n",
    "\n",
    "Let's see what happens if we try to use a NumPy function before we import it:"
   ]
  },
  {
   "cell_type": "code",
   "execution_count": null,
   "metadata": {},
   "outputs": [],
   "source": [
    "np.array([1, 2, 3])"
   ]
  },
  {
   "cell_type": "markdown",
   "metadata": {},
   "source": [
    "We have to use an **import** statement to load in everything NumPy has to offer:"
   ]
  },
  {
   "cell_type": "code",
   "execution_count": null,
   "metadata": {},
   "outputs": [],
   "source": [
    "import numpy as np\n",
    "\n",
    "our_array = np.array([1, 2, 3])\n",
    "our_array"
   ]
  },
  {
   "cell_type": "markdown",
   "metadata": {},
   "source": [
    "We can do all sorts of operations using NumPy arrays, they are similar to Python lists, so we can still do all of those operations:"
   ]
  },
  {
   "cell_type": "code",
   "execution_count": null,
   "metadata": {},
   "outputs": [],
   "source": [
    "for item in our_array:\n",
    "    print(item)"
   ]
  },
  {
   "cell_type": "code",
   "execution_count": null,
   "metadata": {},
   "outputs": [],
   "source": [
    "our_array[1]"
   ]
  },
  {
   "cell_type": "code",
   "execution_count": null,
   "metadata": {},
   "outputs": [],
   "source": [
    "our_array[1:]"
   ]
  },
  {
   "cell_type": "markdown",
   "metadata": {},
   "source": [
    "However, NumPy arrays have a few more features we can use. Arithmetic operations with NumPy arrays are slightly different than arithmetic with Python lists. Let's see some examples:"
   ]
  },
  {
   "cell_type": "code",
   "execution_count": null,
   "metadata": {},
   "outputs": [],
   "source": [
    "our_list = [1, 2, 3]\n",
    "print(\"Multiplying a Python list does this:\", our_list * 2)\n",
    "print(\"Multiplying a NumPy array does this:\", our_array * 2)"
   ]
  },
  {
   "cell_type": "markdown",
   "metadata": {},
   "source": [
    "Note the difference: Multiplication with lists puts two copies of it together, whereas NumPy array multiplication multiplies two by each number in the array. This applies to all arithmetic operations."
   ]
  },
  {
   "cell_type": "code",
   "execution_count": null,
   "metadata": {},
   "outputs": [],
   "source": [
    "print(our_array + 10)\n",
    "print(our_array - 10)\n",
    "print(our_array / 2)\n",
    "print(our_array ** 3)"
   ]
  },
  {
   "cell_type": "markdown",
   "metadata": {},
   "source": [
    "Doing some of these arithmetic operations in Python are not allowed because lists cannot ineract as easily with non-list types. For example, addition (and subtraction) cause errors because the *list* does not understand the meaning of *subtracting 1*. "
   ]
  },
  {
   "cell_type": "code",
   "execution_count": null,
   "metadata": {},
   "outputs": [],
   "source": [
    "our_list + 1"
   ]
  },
  {
   "cell_type": "markdown",
   "metadata": {},
   "source": [
    "We can also do arithmetic operations between two arrays:"
   ]
  },
  {
   "cell_type": "code",
   "execution_count": null,
   "metadata": {},
   "outputs": [],
   "source": [
    "np.array([2, 3, 4]) * np.array([10, 20, 30])"
   ]
  },
  {
   "cell_type": "markdown",
   "metadata": {},
   "source": [
    "If you remember the problem from last week's lab about **pairwise multiplication**, you may recognize that this is exactly how NumPy arrays behave with each other!\n",
    "\n",
    "There is also an NumPy equivalent of the `range()` function, `np.arange()`. You can think of this as \"array\" range, and it returns a NumPy array instead of a Python list! It has the same end-exclusive behavior as range, and it  overall behaves in a very similar way as a Python list `range()` call."
   ]
  },
  {
   "cell_type": "code",
   "execution_count": null,
   "metadata": {},
   "outputs": [],
   "source": [
    "np.arange(10)"
   ]
  },
  {
   "cell_type": "code",
   "execution_count": null,
   "metadata": {},
   "outputs": [],
   "source": [
    "# We can use it in a for loop, just as we would expect!\n",
    "for number in np.arange(10):\n",
    "    print(number)"
   ]
  },
  {
   "cell_type": "markdown",
   "metadata": {},
   "source": [
    "There is one more very important property of NumPy arrays, and it involves something we talked about earlier in the course. NumPy arrays can be created with items of different types, but NumPy automatically casts them all to one type. This is called **type coercion** because all values of the list are *coreced* to become the same type.\n",
    "- **Booleans** cast to **integers** (True -> 1, False -> 0)\n",
    "- **Integers** cast to **strings** (1 -> \"1\", 2 -> \"2\")\n",
    "    - By the associative property, **Booleans** also cast to **strings** (True -> \"True\")\n",
    "\n",
    "Let's look at some examples:"
   ]
  },
  {
   "cell_type": "code",
   "execution_count": null,
   "metadata": {},
   "outputs": [],
   "source": [
    "array1 = np.array([10, 20, True, 40, False])\n",
    "array1"
   ]
  },
  {
   "cell_type": "code",
   "execution_count": null,
   "metadata": {},
   "outputs": [],
   "source": [
    "array2 = np.array([False, 200, 300, 400, True])\n",
    "array2"
   ]
  },
  {
   "cell_type": "code",
   "execution_count": null,
   "metadata": {},
   "outputs": [],
   "source": [
    "array1 + array2"
   ]
  },
  {
   "cell_type": "markdown",
   "metadata": {},
   "source": [
    "We get this resulting array because:\n",
    "- 10 + (False -> 0) = `10`\n",
    "- 20 + 200 = `20`\n",
    "- (True -> 1) + 300 = `301`\n",
    "- 40 + 400 = `440`\n",
    "- (False -> 0) + (True -> 1) = `1`\n",
    "\n",
    "We see the same behavior when adding strings into the mix:"
   ]
  },
  {
   "cell_type": "code",
   "execution_count": null,
   "metadata": {},
   "outputs": [],
   "source": [
    "array3 = np.array([\"data\", \"science\", 15, \"cool\", True])\n",
    "array3"
   ]
  },
  {
   "cell_type": "markdown",
   "metadata": {},
   "source": [
    "Notice how all the values become strings!\n",
    "\n",
    "There are ways to have other more complex data types (lists, dictionaries, etc.) made into NumPy arrays, but they are out of scope as far as this class is concerned. Feel free to try out different types on your own, but you will not be tested on it in this class."
   ]
  },
  {
   "cell_type": "markdown",
   "metadata": {},
   "source": [
    "## Done! 😇\n",
    "\n",
    "That's it! There's nowhere for you to submit this, as labs are not assignments. However, please ask any questions you have with this notebook in lab or on Ed.\n",
    "\n",
    "If you want some extra practice, you may proceed onto the next section, which contains practice problems for this week."
   ]
  },
  {
   "cell_type": "markdown",
   "metadata": {},
   "source": [
    "# Extra Practice Problems\n",
    "\n",
    "## Question 2a\n",
    "\n",
    "In this problem, we will be using dictionaries to implement a login system. For **new accounts**, we **create** a new username with the password given, and for **existing accounts**, we **log in** if the password given matches the correct password for the given username. If a user tries to make an account with a username that **already exists**, we **do not** allow them to make that new account, and if the password **does not** match the username's password, login **fails**.\n",
    "\n",
    "Here is what the function should return:\n",
    "- It should return `\"New account\"` when a new account is successfully created\n",
    "- It should return `\"No new account\"` when a new account is not successfully created\n",
    "- It should return `\"Successful login\"` when login is successful\n",
    "- It should return `\"No successful login\"` when login is not successful\n",
    "\n",
    "You will write two parts of this function:\n",
    "- You must add a new username/password pair to the `accounts` dictionary when a new account is being created\n",
    "- You must check if the given password is correct for an existing account in `accounts`\n",
    "\n",
    "You can see that the argument `new_account` appears as `new_account=False`. This makes `new_account` an *optional* argument, and if no third argument is given to `login`, the default value with be `False`. If you want the value of `new_account` to be `True`, you must put `True` in as the third argument (ex. `login(\"data94student\", \"1234\", True)`)."
   ]
  },
  {
   "cell_type": "code",
   "execution_count": null,
   "metadata": {},
   "outputs": [],
   "source": [
    "accounts = {}"
   ]
  },
  {
   "cell_type": "code",
   "execution_count": null,
   "metadata": {},
   "outputs": [],
   "source": [
    "def login(username, password, new_account=False):\n",
    "    if new_account:\n",
    "        if username not in accounts:\n",
    "            ...\n",
    "            print(\"Account with username:\", username, \"created with password:\", password)\n",
    "            result = ...\n",
    "            return result\n",
    "        else:\n",
    "            print(\"Username already exists, please select another username\")\n",
    "            result = ...\n",
    "            return result\n",
    "    elif password = ...\n",
    "        print(\"Successfully logged in as user:\", username)\n",
    "        result = ...\n",
    "        return result\n",
    "    else:\n",
    "        print(\"Incorrect password, please try again\")\n",
    "        result = ...\n",
    "        return result"
   ]
  },
  {
   "cell_type": "code",
   "execution_count": null,
   "metadata": {
    "deletable": false,
    "editable": false
   },
   "outputs": [],
   "source": [
    "grader.check(\"q2a\")"
   ]
  },
  {
   "cell_type": "markdown",
   "metadata": {},
   "source": [
    "<details>\n",
    "    <summary>Solution (for after you have tried yourself)</summary>\n",
    "    <code>def login(username, password, new_account=False):\n",
    "    if new_account:\n",
    "        if username not in accounts:\n",
    "            accounts[username] = password\n",
    "            print(\"Account with username:\", username, \"created with password:\", password)\n",
    "            result = \"New account\"\n",
    "            return result\n",
    "        else:\n",
    "            print(\"Username already exists, please select another username\")\n",
    "            result = \"No new account\"\n",
    "            return result\n",
    "    elif password == accounts[username]:\n",
    "        print(\"Successfully logged in as user:\", username)\n",
    "        result = \"Successful login\"\n",
    "        return result\n",
    "    else:\n",
    "        print(\"Incorrect password, please try again\")\n",
    "        result = \"No successful login\"\n",
    "        return result</code>\n",
    "</details>"
   ]
  },
  {
   "cell_type": "markdown",
   "metadata": {},
   "source": [
    "Let's look at this function at work:"
   ]
  },
  {
   "cell_type": "code",
   "execution_count": null,
   "metadata": {
    "scrolled": true
   },
   "outputs": [],
   "source": [
    "login(\"suraj\", \"suraj12345\", True)"
   ]
  },
  {
   "cell_type": "code",
   "execution_count": null,
   "metadata": {},
   "outputs": [],
   "source": [
    "login(\"isaac\", \"isaac9876\", True)"
   ]
  },
  {
   "cell_type": "code",
   "execution_count": null,
   "metadata": {
    "scrolled": true
   },
   "outputs": [],
   "source": [
    "login(\"angela\", \"angela4567\", True)"
   ]
  },
  {
   "cell_type": "code",
   "execution_count": null,
   "metadata": {},
   "outputs": [],
   "source": [
    "login(\"suraj\", \"suraj12345\")"
   ]
  },
  {
   "cell_type": "code",
   "execution_count": null,
   "metadata": {},
   "outputs": [],
   "source": [
    "login(\"isaac\", \"isaac9876\")"
   ]
  },
  {
   "cell_type": "code",
   "execution_count": null,
   "metadata": {},
   "outputs": [],
   "source": [
    "login(\"angela\", \"angela4567\")"
   ]
  },
  {
   "cell_type": "code",
   "execution_count": null,
   "metadata": {},
   "outputs": [],
   "source": [
    "login(\"suraj\", \"password\")"
   ]
  },
  {
   "cell_type": "code",
   "execution_count": null,
   "metadata": {},
   "outputs": [],
   "source": [
    "login(\"isaac\", \"password\")"
   ]
  },
  {
   "cell_type": "code",
   "execution_count": null,
   "metadata": {},
   "outputs": [],
   "source": [
    "login(\"angela\", \"password\")"
   ]
  },
  {
   "cell_type": "markdown",
   "metadata": {},
   "source": [
    "Now if we take a look at our accounts dicionary, we can see that the username/password pairs we have for login are here!"
   ]
  },
  {
   "cell_type": "code",
   "execution_count": null,
   "metadata": {
    "scrolled": true
   },
   "outputs": [],
   "source": [
    "accounts"
   ]
  },
  {
   "cell_type": "code",
   "execution_count": null,
   "metadata": {},
   "outputs": [],
   "source": [
    "# Use this cell to explore how the login function works!\n",
    "# Try and make your own accounts to see how the dictionary helps us log in!\n"
   ]
  },
  {
   "cell_type": "markdown",
   "metadata": {},
   "source": [
    "## Question 2b\n",
    "\n",
    "Imagine our `accounts` dictionary has been obtained by some people who want to hack into our login system. They have access to all the passwords! We should figure out a way to make sure that even if people have access to the `accounts` dictionary, they still cannot steal peoples' passwords. We can do this using our `fake_lish` function from earlier! Modify the `login` funciton in `login_secure` so that it not only stores passwords in fake-lish, but also converts from fake-lish back to english while logging someone in!\n",
    "\n",
    "*Remember*: you have to pass in `fld` as the second input to `fake_lish` for it to work properly."
   ]
  },
  {
   "cell_type": "code",
   "execution_count": null,
   "metadata": {},
   "outputs": [],
   "source": [
    "accounts_secure = {}"
   ]
  },
  {
   "cell_type": "code",
   "execution_count": null,
   "metadata": {},
   "outputs": [],
   "source": [
    "def login_secure(username, password, new_account=False):\n",
    "    if new_account:\n",
    "        if username not in accounts_secure:\n",
    "            password_fake_lish = ...\n",
    "            ...\n",
    "            print(\"Account with username:\", username, \"created with secure password:\", password)\n",
    "            result = ...\n",
    "            return result\n",
    "        else:\n",
    "            print(\"Username already exists, please select another username\")\n",
    "            result = ...\n",
    "            return result\n",
    "    ...\n",
    "        print(\"Successfully logged in as user:\", username)\n",
    "        result = ...\n",
    "        return result\n",
    "    else:\n",
    "        print(\"Incorrect password, please try again\")\n",
    "        result = ...\n",
    "        return result"
   ]
  },
  {
   "cell_type": "code",
   "execution_count": null,
   "metadata": {
    "deletable": false,
    "editable": false
   },
   "outputs": [],
   "source": [
    "grader.check(\"q2b\")"
   ]
  },
  {
   "cell_type": "markdown",
   "metadata": {},
   "source": [
    "<details>\n",
    "    <summary>Solution (for after you have tried yourself)</summary>\n",
    "    <code>def login_secure(username, password, new_account=False):\n",
    "    if new_account:\n",
    "        if username not in accounts_secure:\n",
    "            password_fake_lish = ...\n",
    "            ...\n",
    "            print(\"Account with username:\", username, \"created with secure password:\", password)\n",
    "            result = ...\n",
    "            return result\n",
    "        else:\n",
    "            print(\"Username already exists, please select another username\")\n",
    "            result = ...\n",
    "            return result\n",
    "    ...\n",
    "        print(\"Successfully logged in as user:\", username)\n",
    "        result = ...\n",
    "        return result\n",
    "    else:\n",
    "        print(\"Incorrect password, please try again\")\n",
    "        result = ...\n",
    "        return result</code>\n",
    "</details>"
   ]
  },
  {
   "cell_type": "code",
   "execution_count": null,
   "metadata": {
    "scrolled": true
   },
   "outputs": [],
   "source": [
    "login_secure(\"suraj\", \"berkeley\", True)"
   ]
  },
  {
   "cell_type": "code",
   "execution_count": null,
   "metadata": {},
   "outputs": [],
   "source": [
    "login_secure(\"isaac\", \"datascience\", True)"
   ]
  },
  {
   "cell_type": "code",
   "execution_count": null,
   "metadata": {
    "scrolled": true
   },
   "outputs": [],
   "source": [
    "login_secure(\"angela\", \"iscool\", True)"
   ]
  },
  {
   "cell_type": "code",
   "execution_count": null,
   "metadata": {},
   "outputs": [],
   "source": [
    "login_secure(\"suraj\", \"berkeley\")"
   ]
  },
  {
   "cell_type": "code",
   "execution_count": null,
   "metadata": {},
   "outputs": [],
   "source": [
    "login_secure(\"isaac\", \"datascience\")"
   ]
  },
  {
   "cell_type": "code",
   "execution_count": null,
   "metadata": {},
   "outputs": [],
   "source": [
    "login_secure(\"angela\", \"iscool\")"
   ]
  },
  {
   "cell_type": "code",
   "execution_count": null,
   "metadata": {},
   "outputs": [],
   "source": [
    "login_secure(\"suraj\", \"password\")"
   ]
  },
  {
   "cell_type": "code",
   "execution_count": null,
   "metadata": {},
   "outputs": [],
   "source": [
    "login_secure(\"isaac\", \"password\")"
   ]
  },
  {
   "cell_type": "code",
   "execution_count": null,
   "metadata": {},
   "outputs": [],
   "source": [
    "login_secure(\"angela\", \"password\")"
   ]
  },
  {
   "cell_type": "markdown",
   "metadata": {},
   "source": [
    "Now if we look at our accounts dictionary, it is useless to those hackers!"
   ]
  },
  {
   "cell_type": "code",
   "execution_count": null,
   "metadata": {},
   "outputs": [],
   "source": [
    "accounts_secure"
   ]
  },
  {
   "cell_type": "markdown",
   "metadata": {},
   "source": [
    "If they try to use these passwords to log in, they won't work! Go cybersecurity!"
   ]
  },
  {
   "cell_type": "code",
   "execution_count": null,
   "metadata": {},
   "outputs": [],
   "source": [
    "login_secure(\"data94admin\", \"tbbqcnffjbeq\")"
   ]
  },
  {
   "cell_type": "code",
   "execution_count": null,
   "metadata": {},
   "outputs": [],
   "source": [
    "login_secure(\"suraj\", \"orexryrl\")"
   ]
  },
  {
   "cell_type": "code",
   "execution_count": null,
   "metadata": {},
   "outputs": [],
   "source": [
    "login_secure(\"isaac\", \"qngnfpvrapr\")"
   ]
  },
  {
   "cell_type": "code",
   "execution_count": null,
   "metadata": {},
   "outputs": [],
   "source": [
    "login_secure(\"angela\", \"vfpbby\")"
   ]
  },
  {
   "cell_type": "markdown",
   "metadata": {
    "deletable": false,
    "editable": false
   },
   "source": [
    "---\n",
    "\n",
    "To double-check your work, the cell below will rerun all of the autograder tests."
   ]
  },
  {
   "cell_type": "code",
   "execution_count": null,
   "metadata": {
    "deletable": false,
    "editable": false
   },
   "outputs": [],
   "source": [
    "grader.check_all()"
   ]
  },
  {
   "cell_type": "markdown",
   "metadata": {
    "deletable": false,
    "editable": false
   },
   "source": [
    "## Submission\n",
    "\n",
    "Make sure you have run all cells in your notebook in order before running the cell below, so that all images/graphs appear in the output. The cell below will generate a zip file for you to submit. **Please save before exporting!**"
   ]
  },
  {
   "cell_type": "code",
   "execution_count": null,
   "metadata": {
    "deletable": false,
    "editable": false
   },
   "outputs": [],
   "source": [
    "# Save your notebook first, then run this cell to export your submission.\n",
    "grader.export(pdf=False)"
   ]
  },
  {
   "cell_type": "markdown",
   "metadata": {},
   "source": [
    " "
   ]
  }
 ],
 "metadata": {
  "kernelspec": {
   "display_name": "Python 3",
   "language": "python",
   "name": "python3"
  },
  "language_info": {
   "codemirror_mode": {
    "name": "ipython",
    "version": 3
   },
   "file_extension": ".py",
   "mimetype": "text/x-python",
   "name": "python",
   "nbconvert_exporter": "python",
   "pygments_lexer": "ipython3",
   "version": "3.9.1"
  }
 },
 "nbformat": 4,
 "nbformat_minor": 4
}

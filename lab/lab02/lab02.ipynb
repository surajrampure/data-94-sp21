{
 "cells": [
  {
   "cell_type": "code",
   "execution_count": null,
   "metadata": {
    "deletable": false,
    "editable": false
   },
   "outputs": [],
   "source": [
    "# Initialize Otter\n",
    "import otter\n",
    "grader = otter.Notebook(\"lab02.ipynb\")"
   ]
  },
  {
   "cell_type": "markdown",
   "metadata": {},
   "source": [
    "# Lab 2 - More Python Fundamentals\n",
    "\n",
    "## Data 94, Spring 2021"
   ]
  },
  {
   "cell_type": "markdown",
   "metadata": {},
   "source": [
    "Welcome back to lab! This week we will be covering content from lectures 6-8, specifically **control**, **iteration**, **lists**, and **strings**.\n",
    "\n",
    "As usual, lab assignments will **not** be turned in, but we will go over them during lab sections and they will be supplemental practice for the weekly homework assignments."
   ]
  },
  {
   "cell_type": "markdown",
   "metadata": {},
   "source": [
    "# Control\n",
    "\n",
    "When writing functions in Python, we may want the function to behave differently depending on the input. We could choose to write several similar functions to accomplish this, but that would require copying and pasting much of the same code over and over again, only making small changes.\n",
    "\n",
    "Instead, we need a way to tell one singular function to execute different code for different inputs. In lecture we discussed this idea as `if-else` statements.\n",
    "\n",
    "Let's look at an example of a function that uses `if-else` statements to tell us what water looks like at different temperatures:\n",
    "\n",
    "<img src='images/water.jpeg' width=300>"
   ]
  },
  {
   "cell_type": "code",
   "execution_count": 1,
   "metadata": {},
   "outputs": [],
   "source": [
    "def state_of_water(temperature):\n",
    "    if temperature <= 32: # Water is solid at and below 32°F\n",
    "        return \"ice\"\n",
    "    elif temperature < 212: # Water is liquid between 32°F and 212°F\n",
    "        return \"liquid\"\n",
    "    else: # Water is gaseous above 212°F\n",
    "        return \"steam\""
   ]
  },
  {
   "cell_type": "markdown",
   "metadata": {},
   "source": [
    "Here, we could have made 3 different functions that each dealt with a different state of water, but that would force us to know the state of water (what we currently do not know and are trying to figure out) so that we could pick the right function to use. This is why control such as `if-else` statements are so important!"
   ]
  },
  {
   "cell_type": "markdown",
   "metadata": {},
   "source": [
    "Now let's use this function to determine the state of water in the following locations during the winter:\n",
    "\n",
    "| **City** | Temperature (°F) |\n",
    "| --- | --- |\n",
    "| Berkeley | 58 |\n",
    "| New York | 24 |\n",
    "| Miami | 78 |\n",
    "| Earth's Core | 10800 |\n",
    "\n",
    "We can see the calculation each city's state of water using the function defined above:"
   ]
  },
  {
   "cell_type": "code",
   "execution_count": 2,
   "metadata": {},
   "outputs": [],
   "source": [
    "print(\"Water in Berkeley is: \" + state_of_water(58))"
   ]
  },
  {
   "cell_type": "code",
   "execution_count": 3,
   "metadata": {},
   "outputs": [],
   "source": [
    "print(\"Water in New York is: \" + state_of_water(24))"
   ]
  },
  {
   "cell_type": "code",
   "execution_count": 4,
   "metadata": {},
   "outputs": [],
   "source": [
    "print(\"Water in Miami is: \" + state_of_water(78))"
   ]
  },
  {
   "cell_type": "code",
   "execution_count": 5,
   "metadata": {},
   "outputs": [],
   "source": [
    "print(\"Water at the Center of the Earth is: \" + state_of_water(10800))"
   ]
  },
  {
   "cell_type": "markdown",
   "metadata": {},
   "source": [
    "We can call the function on different inputs and the function deals with each input differently based on the control logic you gave it. This will be very important when you write functions that deal with large, sometimes unpredictable datasets where the logic of your function will deal with inputs you may not have directly prepared the function for."
   ]
  },
  {
   "cell_type": "markdown",
   "metadata": {
    "deletable": false,
    "editable": false
   },
   "source": [
    "# Iteration\n",
    "\n",
    "Iteration is the repetition of code. Typically, the variables in iteration change sequentially, and the iteration continues to repeat until a boolean condition indicates that the iteration be stopped. \n",
    "\n",
    "### Question 1\n",
    "\n",
    "A `while` loop is an example of iteration in Python that we have seen in lecture. Let's use a while loop to write a function that finds the sum of the digits of a number.\n",
    "\n",
    "As an example, the sum of the digits of the number 123 is 1 + 2 + 3 = 6, so sum_digits(123) should return 6\n",
    "\n",
    "**Some ideas you may want to keep in mind**:\n",
    "- How can we 'peel off' a digit of a number?\n",
    "- Once we know how to do that, how can we do that repeatedly to all digits?\n",
    "\n",
    "<!--\n",
    "BEGIN QUESTION\n",
    "name: q1\n",
    "points: 0\n",
    "-->"
   ]
  },
  {
   "cell_type": "code",
   "execution_count": 6,
   "metadata": {},
   "outputs": [],
   "source": [
    "def sum_digits(n):\n",
    "    ..."
   ]
  },
  {
   "cell_type": "code",
   "execution_count": null,
   "metadata": {
    "deletable": false,
    "editable": false
   },
   "outputs": [],
   "source": [
    "grader.check(\"q1\")"
   ]
  },
  {
   "cell_type": "markdown",
   "metadata": {},
   "source": [
    "# Lists and Strings\n",
    "\n",
    "## Lists\n",
    "\n",
    "Lists are very important in Python. If variables are like boxes for values, then lists are like storage units for variable boxes. Lists are stored in variable names themselves, and they can contain integers, strings, floats, and so much more. They can even contain other lists!\n",
    "\n",
    "Lists are the best way to keep a set of values in one place. In data science, we need to be able to store large amounts of information in one place at once, and lists are a great way to do so!\n",
    "\n",
    "With lists we can:\n",
    "- Ask for the sum, length, min, max, etc.\n",
    "- Slice (ask for a small portion of the list)\n",
    "- Iterate\n",
    "- And so much more!\n",
    "\n",
    "Run the cells below to see how useful a list can be:"
   ]
  },
  {
   "cell_type": "code",
   "execution_count": 10,
   "metadata": {},
   "outputs": [],
   "source": [
    "# All of these are examples of valid lists\n",
    "list_ints = [1, 2, 3, 4, 5]\n",
    "list_strings = [\"Python\", \"is\", \"super\", \"powerful\"]\n",
    "list_floats = [3.14, 2.718, 1.618, 1.414]\n",
    "a = 1\n",
    "b = 2\n",
    "c = 3\n",
    "list_variables = [a, b, c]\n",
    "list_mix = [1, \"Python\", 3.14, a]\n",
    "list_of_lists = [list_ints, list_strings, list_floats, list_variables, list_mix]\n",
    "list_of_lists"
   ]
  },
  {
   "cell_type": "markdown",
   "metadata": {},
   "source": [
    "As you can see the last list is a list of all the lists we made, which is completely valid in Python! This is called a `list of lists` or a `2D list`."
   ]
  },
  {
   "cell_type": "code",
   "execution_count": 11,
   "metadata": {},
   "outputs": [],
   "source": [
    "our_list = [0, 10, 20, 30, 40, 50, 60, 70, 80, 90]\n",
    "our_list"
   ]
  },
  {
   "cell_type": "code",
   "execution_count": 12,
   "metadata": {
    "scrolled": true
   },
   "outputs": [],
   "source": [
    "print(\"Sum: \" + str(sum(our_list)))\n",
    "print(\"Length: \" + str(len(our_list)))\n",
    "print(\"Minimum Value: \" + str(min(our_list)))\n",
    "print(\"Maximum Value: \" + str(max(our_list)))\n",
    "print(\"Average Value: \" + str(sum(our_list) / len(our_list)))"
   ]
  },
  {
   "cell_type": "code",
   "execution_count": 13,
   "metadata": {
    "scrolled": true
   },
   "outputs": [],
   "source": [
    "# If we only want a part of the list, we can slice it\n",
    "our_list[2:7]"
   ]
  },
  {
   "cell_type": "code",
   "execution_count": 14,
   "metadata": {},
   "outputs": [],
   "source": [
    "# If you put nothing in front of the colon, the default value is 0, or the front of the list\n",
    "our_list[:3]"
   ]
  },
  {
   "cell_type": "code",
   "execution_count": 15,
   "metadata": {},
   "outputs": [],
   "source": [
    "# If you put nothing in the back of the colon, the default value is 'length of the list', or the back of the list\n",
    "our_list[3:]"
   ]
  },
  {
   "cell_type": "code",
   "execution_count": 16,
   "metadata": {},
   "outputs": [],
   "source": [
    "# There is syntax that you can experiment with that allows you to do some cool things with list slicing\n",
    "# Here are a few examples:\n",
    "\n",
    "# Get a copy of the whole list\n",
    "# Start at the default starting position and end at the default end (0 to length of the list, therefore a copy)\n",
    "print(our_list[:])\n",
    "\n",
    "# Get the last item of the list when you do not necessarily know its length\n",
    "# This uses negative indexes, which Python allows\n",
    "print(our_list[-1])\n",
    "\n",
    "# Get the end of a list when you do not necessarily know its length using the same method\n",
    "# Start at the fourth to last item and get the rest\n",
    "print(our_list[-4:])\n",
    "\n",
    "# Reverse the list\n",
    "# If you would like to know why this works, we implore you to explore!\n",
    "print(our_list[::-1])"
   ]
  },
  {
   "cell_type": "markdown",
   "metadata": {},
   "source": [
    "## Strings\n",
    "\n",
    "We have already seen strings before in this course, but we want to introduce some new ideas with strings that will be very useful when dealing with data from real-world data sets.\n",
    "\n",
    "Strings can be viewed as special lists of characters. They can be printed, sliced, indexed, and more! You can do all of these things with lists as well, so let's take a look at how strings and lists are similar:"
   ]
  },
  {
   "cell_type": "code",
   "execution_count": 17,
   "metadata": {},
   "outputs": [],
   "source": [
    "our_string = \"Data Science at Berkeley rocks!\"\n",
    "print(our_string)\n",
    "print(our_string[0] + our_string[5] + \"@\" + our_string[16:24])"
   ]
  },
  {
   "cell_type": "markdown",
   "metadata": {},
   "source": [
    "We can iterate and slice strings too! In this way, strings are like special lists.\n",
    "\n",
    "There is an important fact to point out here. `Lists` are considered **mutable** and `strings` are **immutable**. This means that you can always change the values of a list to something else using slicing and indexing, but this does not work with strings:"
   ]
  },
  {
   "cell_type": "code",
   "execution_count": 18,
   "metadata": {},
   "outputs": [],
   "source": [
    "our_list"
   ]
  },
  {
   "cell_type": "code",
   "execution_count": 19,
   "metadata": {},
   "outputs": [],
   "source": [
    "# You can change list items using indexes\n",
    "our_list[3] = 1000"
   ]
  },
  {
   "cell_type": "code",
   "execution_count": 20,
   "metadata": {},
   "outputs": [],
   "source": [
    "# Or you can change them using slices\n",
    "our_list[7:] = [\"seven\", \"eight\", \"nine\"]"
   ]
  },
  {
   "cell_type": "code",
   "execution_count": 21,
   "metadata": {},
   "outputs": [],
   "source": [
    "our_list"
   ]
  },
  {
   "cell_type": "code",
   "execution_count": 22,
   "metadata": {},
   "outputs": [],
   "source": [
    "our_string"
   ]
  },
  {
   "cell_type": "code",
   "execution_count": 23,
   "metadata": {},
   "outputs": [],
   "source": [
    "# However you cannot do this with strings because they are immutable.\n",
    "# This will be important when we talk about cleaning data sets before we can use them.\n",
    "our_string[3] = 'x'"
   ]
  },
  {
   "cell_type": "markdown",
   "metadata": {},
   "source": [
    "There are special string methods that help us edit strings, but we cannot forcefully change them with indexing or slicing. If you want to change a letter or a part of a string, you need to use those `str` methods from lecture."
   ]
  },
  {
   "cell_type": "markdown",
   "metadata": {},
   "source": [
    "## Done! 😇\n",
    "\n",
    "That's it! There's nowhere for you to submit this, as labs are not assignments. However, please ask any questions you have with this notebook in lab or on Ed.\n",
    "\n",
    "If you want some extra practice, you may proceed onto the next section, which contains a practice problem for this week."
   ]
  },
  {
   "cell_type": "markdown",
   "metadata": {},
   "source": [
    "# Extra Practice Problems\n",
    "\n",
    "These problems are here for extra practice. They are not mandatory, and they will not be turned in for any points, but we highly suggest you do them as practice for both homework questions and quiz questions."
   ]
  },
  {
   "cell_type": "markdown",
   "metadata": {
    "deletable": false,
    "editable": false
   },
   "source": [
    "### Extra Question 1\n",
    "\n",
    "Let's write a function that uses another `while` loop.\n",
    "\n",
    "We want to be able to find the acronym of a name. For example, we want to be able to call **The University of California, Berkeley** by an abbreviated `UCB`.\n",
    "\n",
    "Because we don't care as much about small words even if they are capitalized, also make sure to **exclude words with 3 letters or fewer from your acronym**. That is why the `T` in `The` is not included in the example acronym above.\n",
    "\n",
    "Write a function that takes in a string and returns its acronym.\n",
    "\n",
    "<!--\n",
    "BEGIN QUESTION\n",
    "name: q2\n",
    "points: 0\n",
    "-->"
   ]
  },
  {
   "cell_type": "code",
   "execution_count": 24,
   "metadata": {},
   "outputs": [],
   "source": [
    "def acronym(title):\n",
    "    ..."
   ]
  },
  {
   "cell_type": "code",
   "execution_count": null,
   "metadata": {
    "deletable": false,
    "editable": false
   },
   "outputs": [],
   "source": [
    "grader.check(\"q2\")"
   ]
  },
  {
   "cell_type": "markdown",
   "metadata": {},
   "source": [
    "That's all the practice problems we have for you, good luck with the homework this week!"
   ]
  },
  {
   "cell_type": "markdown",
   "metadata": {
    "deletable": false,
    "editable": false
   },
   "source": [
    "---\n",
    "\n",
    "To double-check your work, the cell below will rerun all of the autograder tests."
   ]
  },
  {
   "cell_type": "code",
   "execution_count": null,
   "metadata": {
    "deletable": false,
    "editable": false
   },
   "outputs": [],
   "source": [
    "grader.check_all()"
   ]
  },
  {
   "cell_type": "markdown",
   "metadata": {
    "deletable": false,
    "editable": false
   },
   "source": [
    "## Submission\n",
    "\n",
    "Make sure you have run all cells in your notebook in order before running the cell below, so that all images/graphs appear in the output. The cell below will generate a zip file for you to submit. **Please save before exporting!**"
   ]
  },
  {
   "cell_type": "code",
   "execution_count": null,
   "metadata": {
    "deletable": false,
    "editable": false
   },
   "outputs": [],
   "source": [
    "# Save your notebook first, then run this cell to export your submission.\n",
    "grader.export(pdf=False)"
   ]
  },
  {
   "cell_type": "markdown",
   "metadata": {},
   "source": [
    " "
   ]
  }
 ],
 "metadata": {
  "kernelspec": {
   "display_name": "Python 3",
   "language": "python",
   "name": "python3"
  },
  "language_info": {
   "codemirror_mode": {
    "name": "ipython",
    "version": 3
   },
   "file_extension": ".py",
   "mimetype": "text/x-python",
   "name": "python",
   "nbconvert_exporter": "python",
   "pygments_lexer": "ipython3",
   "version": "3.9.1"
  }
 },
 "nbformat": 4,
 "nbformat_minor": 4
}

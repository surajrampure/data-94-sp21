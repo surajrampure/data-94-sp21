{
 "cells": [
  {
   "cell_type": "markdown",
   "metadata": {},
   "source": [
    "# Lab 0 – Welcome to Data 94!\n",
    "\n",
    "## Data 94, Spring 2021"
   ]
  },
  {
   "cell_type": "markdown",
   "metadata": {},
   "source": [
    "Welcome to the first lab section of Data 94! (Yes, the title says Lab 0. That'll make sense in a few weeks...)\n",
    "\n",
    "First and foremost, **labs are not assignments**. There's nowhere for you to submit a lab notebook.\n",
    "\n",
    "Instead, labs are designed to complement a homework assignment. Typically in lab, we'll spend the first ~15 minutes walking through the lab notebook together, and spend the rest of the section working on the current homework assignment in small groups.\n",
    "\n",
    "However, since there is no homework this week, we will spend the entire lab working in this notebook. The goal of this lab section is to make sure that you're able to access all of the technology we'll be using in this class and that you're familiar with the Jupyter Notebook environment. "
   ]
  },
  {
   "cell_type": "markdown",
   "metadata": {},
   "source": [
    "# Cells\n",
    "\n",
    "**Not these!**\n",
    "\n",
    "<div align=center>\n",
    "    \n",
    "<img src='http://www.zerobio.com/central/createacell_graphic2.jpg' width=200>\n",
    "   \n",
    "</div>\n",
    "\n",
    "<br>\n",
    "\n",
    "Jupyter Notebooks are made up of cells. As covered in lecture, there are two types of cells in a Jupyter Notebook: code cells and Markdown cells. \n",
    "- Code cells are where we write all of our Python code.\n",
    "- Markdown cells allow us to write text, like the text you're reading right now. In Homework 1, you'll get a chance to learn a bit of Markdown.\n",
    "\n",
    "## Code cells\n",
    "\n",
    "Running a code cell will execute all of the code it contains.  Below the cell, any output produced by the code will appear below. Notice the `In:` and `Out:` statements to the left of the cells, followed by a number. That number designated the number of times you have run code cells so far, including that one.\n",
    "\n",
    "To run the code in a code cell, first click on that cell to activate it.  It'll be highlighted with a little green or blue rectangle.  Next, hold down the `shift` key and press `return` or `enter`. (You could also click the \"Run\" button in the cell toolbar above, but that's way slower.)\n",
    "\n",
    "Try running the code cells below:"
   ]
  },
  {
   "cell_type": "code",
   "execution_count": null,
   "metadata": {},
   "outputs": [],
   "source": [
    "3 + 4 ** 2"
   ]
  },
  {
   "cell_type": "code",
   "execution_count": null,
   "metadata": {},
   "outputs": [],
   "source": [
    "1 + 2 + 4 + 8 + 16 + 32 + 64"
   ]
  },
  {
   "cell_type": "code",
   "execution_count": null,
   "metadata": {},
   "outputs": [],
   "source": [
    "10000\n",
    "10 + 20 + 30 - max(10, 20, 30) - min(10, 20, 30)"
   ]
  },
  {
   "cell_type": "markdown",
   "metadata": {},
   "source": [
    "You should have seen the values `19`, `127`, and `20` displayed, respectively. Note that in the third cell above, only the value of the last line was displayed; `10000` wasn't shown in the output at all. This is expected behavior.\n",
    "\n",
    "Comments in code cells are denoted using a hashtag (`#`). Comments are used to explain what code does when necessary (or, occasionally in our case, to provide instructions)."
   ]
  },
  {
   "cell_type": "code",
   "execution_count": null,
   "metadata": {},
   "outputs": [],
   "source": [
    "# This is a comment!\n",
    "19 - 18"
   ]
  },
  {
   "cell_type": "markdown",
   "metadata": {},
   "source": [
    "If you try and use syntax Python doesn't know about, it will give you an error."
   ]
  },
  {
   "cell_type": "code",
   "execution_count": null,
   "metadata": {},
   "outputs": [],
   "source": [
    "3 + * 4"
   ]
  },
  {
   "cell_type": "code",
   "execution_count": null,
   "metadata": {},
   "outputs": [],
   "source": [
    "# Why does this work while the above cell causes an error?\n",
    "3 * - 4"
   ]
  },
  {
   "cell_type": "markdown",
   "metadata": {},
   "source": [
    "## Markdown cells\n",
    "\n",
    "To edit an existing Markdown cell, double click it and change whatever you want. To render it correctly, \"run\" it as if you'd run a code cell.\n",
    "\n",
    "### Question 1\n",
    "\n",
    "Edit the following cell to contain your favorite color. **Note:** This is how questions will be formatted in your homework assignments."
   ]
  },
  {
   "cell_type": "markdown",
   "metadata": {},
   "source": [
    "My favorite color is maroon."
   ]
  },
  {
   "cell_type": "markdown",
   "metadata": {},
   "source": [
    "## Converting cells\n",
    "\n",
    "To convert a cell from code to Markdown (or vice versa), you should use the dropdown menu in the cell toolbar. For instance, to convert the following cell from Markdown to code, you should:\n",
    "1. Click the cell\n",
    "2. Click \"Markdown\" in the cell toolbar, and change it to \"Code\"\n",
    "\n",
    "### Question 2\n",
    "\n",
    "Change the following cell from a Markdown cell to a code cell, and run it."
   ]
  },
  {
   "cell_type": "markdown",
   "metadata": {},
   "source": [
    "3 + 4 + 5"
   ]
  },
  {
   "cell_type": "markdown",
   "metadata": {},
   "source": [
    "## Adding and deleting cells\n",
    "\n",
    "To add cells, you can go to \"Insert\" in the toolbar at the top, then click \"Insert cell Above\" or \"Insert cell Below.\" To delete cells, you can go to \"Edit\" in the toolbar at the top and click \"Delete cells\". (Be very careful when deleting a cell.)\n",
    "\n",
    "Alternatively, you can use the keyboard commands covered on [Slide 20 of Lecture 2](https://docs.google.com/presentation/d/12iZZSmuX1Jy-iImUrefIZ2U9ztLED8sbCFb_HmQd86U/edit#slide=id.gb2b60ffdfa_0_121).\n",
    "\n",
    "For your convenience, we provide this screenshot from Lecture 2 that details how to switch between \"Edit mode\" and \"Command mode\", which is relevant if you want to use the keyboard shortcut method (not required).\n",
    "\n",
    "<img src='images/edit-mode.png' width=400>\n",
    "\n",
    "### Question 3\n",
    "\n",
    "Add a Markdown below this one, and in it write your middle name, or write \"I don't have a middle name\"."
   ]
  },
  {
   "cell_type": "code",
   "execution_count": null,
   "metadata": {},
   "outputs": [],
   "source": [
    "# The cell you create should be above this one!"
   ]
  },
  {
   "cell_type": "markdown",
   "metadata": {},
   "source": [
    "### Question 4\n",
    "\n",
    "Delete the cell below."
   ]
  },
  {
   "cell_type": "code",
   "execution_count": null,
   "metadata": {},
   "outputs": [],
   "source": [
    "# This should be deleted!"
   ]
  },
  {
   "cell_type": "markdown",
   "metadata": {},
   "source": [
    "# Arithmetic Expressions"
   ]
  },
  {
   "cell_type": "markdown",
   "metadata": {},
   "source": [
    "In lecture, we covered several arithmetic operators."
   ]
  },
  {
   "cell_type": "code",
   "execution_count": null,
   "metadata": {},
   "outputs": [],
   "source": [
    "(7 - 5) * 2**10 - 3 * 8 + 6 - 9 "
   ]
  },
  {
   "cell_type": "markdown",
   "metadata": {},
   "source": [
    "Combining several `int`s without using division always results in another `int`."
   ]
  },
  {
   "cell_type": "code",
   "execution_count": null,
   "metadata": {},
   "outputs": [],
   "source": [
    "type((7 - 5) * 2**10 - 3 * 8 + 6 - 9)"
   ]
  },
  {
   "cell_type": "markdown",
   "metadata": {},
   "source": [
    "As soon as division or other `float`s are involved, the result is a float."
   ]
  },
  {
   "cell_type": "code",
   "execution_count": null,
   "metadata": {},
   "outputs": [],
   "source": [
    "15 / 3"
   ]
  },
  {
   "cell_type": "code",
   "execution_count": null,
   "metadata": {},
   "outputs": [],
   "source": [
    "type(15 / 3)"
   ]
  },
  {
   "cell_type": "markdown",
   "metadata": {},
   "source": [
    "We can **cast** `int`s to `float`s and vice versa."
   ]
  },
  {
   "cell_type": "code",
   "execution_count": null,
   "metadata": {},
   "outputs": [],
   "source": [
    "int(15 / 3)"
   ]
  },
  {
   "cell_type": "code",
   "execution_count": null,
   "metadata": {},
   "outputs": [],
   "source": [
    "float(5)"
   ]
  },
  {
   "cell_type": "markdown",
   "metadata": {},
   "source": [
    "If our `float` is not a round integer, this loses information though."
   ]
  },
  {
   "cell_type": "code",
   "execution_count": null,
   "metadata": {},
   "outputs": [],
   "source": [
    "int(4.1)"
   ]
  },
  {
   "cell_type": "markdown",
   "metadata": {},
   "source": [
    "### Question 5\n",
    "\n",
    "In the cell below, write an arithmetic expression that evaluates to your birth year **as an `int`** that uses at least four of these operators:\n",
    "- `+`\n",
    "- `-`\n",
    "- `*`\n",
    "- `/`\n",
    "- `**`"
   ]
  },
  {
   "cell_type": "code",
   "execution_count": null,
   "metadata": {},
   "outputs": [],
   "source": [
    "# replace this with your expression"
   ]
  },
  {
   "cell_type": "markdown",
   "metadata": {},
   "source": [
    "**Note:** On homeworks, questions that ask you to write code will usually be followed with a cell that says something like `otter.grade('q5')` that you'll need to run in order for your work to be graded. We'll bring this up when Homework 1 goes out, but we wanted to give you a heads up now."
   ]
  },
  {
   "cell_type": "markdown",
   "metadata": {},
   "source": [
    "## Square roots\n",
    "\n",
    "In lecture, we didn't explicitly cover how to take the square root of a number. In math, the square root function $\\sqrt{x}$ is equivalent to exponentiating with the exponent $\\frac{1}{2}$ – that is, $\\sqrt{x} = x^{\\frac{1}{2}}$. That means we can use `**` to compute square roots, too."
   ]
  },
  {
   "cell_type": "code",
   "execution_count": null,
   "metadata": {},
   "outputs": [],
   "source": [
    "# The square root of 121 is 11\n",
    "121 ** 0.5"
   ]
  },
  {
   "cell_type": "markdown",
   "metadata": {},
   "source": [
    "## Using modular arithmetic"
   ]
  },
  {
   "cell_type": "markdown",
   "metadata": {},
   "source": [
    "You may not have seen modular arithmetic before, and that's perfectly fine.\n",
    "\n",
    "The integer division operator, `//`, performs a division but only returns the whole integer part, as an `int`."
   ]
  },
  {
   "cell_type": "code",
   "execution_count": null,
   "metadata": {},
   "outputs": [],
   "source": [
    "23 // 5"
   ]
  },
  {
   "cell_type": "markdown",
   "metadata": {},
   "source": [
    "The remainder/modulo operator, `%`, performs a division but only returns the remainder, again as an `int`."
   ]
  },
  {
   "cell_type": "code",
   "execution_count": null,
   "metadata": {},
   "outputs": [],
   "source": [
    "23 % 5"
   ]
  },
  {
   "cell_type": "markdown",
   "metadata": {},
   "source": [
    "The above calculations show that when 23 is divided by 5, the quotient (whole integer part) is 4 and the remainder is 3."
   ]
  },
  {
   "cell_type": "markdown",
   "metadata": {},
   "source": [
    "### Question 6\n",
    "\n",
    "Using the integer division and modulo operators, how can we get the first and second digit of a two-digit integer?\n",
    "\n",
    "Below, replace the dots so that `25 // (your number here)` evaluates to 2, and `25 % (your number here)` evaluates to 5."
   ]
  },
  {
   "cell_type": "code",
   "execution_count": null,
   "metadata": {},
   "outputs": [],
   "source": [
    "# Should evaluate to 2\n",
    "25 // ..."
   ]
  },
  {
   "cell_type": "code",
   "execution_count": null,
   "metadata": {},
   "outputs": [],
   "source": [
    "# Should evaluate to 5\n",
    "25 % ..."
   ]
  },
  {
   "cell_type": "markdown",
   "metadata": {},
   "source": [
    "## Fun Demo\n",
    "\n",
    "As showcased in Lecture 1, code cells can produce pretty cool outputs.\n",
    "\n",
    "Run the cell below. Normally something like this should be broken up into multiple cells, but for simplicity we've put it in one cell here.\n",
    "\n",
    "In the dropdown menu that appears, change the country and look at what happens!"
   ]
  },
  {
   "cell_type": "code",
   "execution_count": null,
   "metadata": {},
   "outputs": [],
   "source": [
    "from datascience import *\n",
    "import numpy as np\n",
    "import plotly.express as px\n",
    "import plotly.graph_objects as go\n",
    "import matplotlib.pyplot as plt\n",
    "%matplotlib inline\n",
    "import ipywidgets as widgets\n",
    "from IPython.display import display, clear_output\n",
    "\n",
    "data = Table.read_table('data/owid-covid-data.csv')\n",
    "\n",
    "def plot_cases(country, option):\n",
    "    country_data = data.where('location', country)\n",
    "    x = country_data.column('date')\n",
    "    if option == 'Cases':\n",
    "        y = country_data.column('new_cases')\n",
    "        color = 'royalblue'\n",
    "    elif option == 'Deaths':\n",
    "        y = country_data.column('new_deaths')\n",
    "        color = 'firebrick'\n",
    "        \n",
    "    fig = go.Figure()\n",
    "    fig.add_trace(go.Scatter(x = x, y = y, name = 'Cases', line = dict(color = color, width = 3)))\n",
    "    fig.update_layout(title=f'COVID-19 {option} in {country}',\n",
    "                   xaxis_title='Month',\n",
    "                   yaxis_title=option)\n",
    "    fig.show()\n",
    "    \n",
    "DEFAULT = 'United States'\n",
    "\n",
    "dropdown_country = widgets.Dropdown(options = data.group('location').column('location'),\n",
    "                                   value = DEFAULT)\n",
    "display(dropdown_country)\n",
    "\n",
    "plot_cases(DEFAULT, 'Cases')\n",
    "\n",
    "def dropdown_country_eventhandler(change):\n",
    "    if change['name'] == 'value' and (change['new'] != change['old']):\n",
    "        clear_output()\n",
    "        display(dropdown_country)\n",
    "        plot_cases(change['new'], 'Cases')\n",
    "    \n",
    "dropdown_country.observe(dropdown_country_eventhandler)"
   ]
  },
  {
   "cell_type": "markdown",
   "metadata": {},
   "source": [
    "Who needs Google?"
   ]
  },
  {
   "cell_type": "markdown",
   "metadata": {},
   "source": [
    "## Done! 😇\n",
    "\n",
    "That's it! There's nowhere for you to submit this, because again labs are not assignments. However, please ask any questions you have with this notebook in lab or on Ed."
   ]
  }
 ],
 "metadata": {
  "kernelspec": {
   "display_name": "Python 3",
   "language": "python",
   "name": "python3"
  },
  "language_info": {
   "codemirror_mode": {
    "name": "ipython",
    "version": 3
   },
   "file_extension": ".py",
   "mimetype": "text/x-python",
   "name": "python",
   "nbconvert_exporter": "python",
   "pygments_lexer": "ipython3",
   "version": "3.8.5"
  }
 },
 "nbformat": 4,
 "nbformat_minor": 4
}

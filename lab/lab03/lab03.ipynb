{
 "cells": [
  {
   "cell_type": "code",
   "execution_count": null,
   "metadata": {
    "deletable": false,
    "editable": false
   },
   "outputs": [],
   "source": [
    "# Initialize Otter\n",
    "import otter\n",
    "grader = otter.Notebook(\"lab03.ipynb\")"
   ]
  },
  {
   "cell_type": "markdown",
   "metadata": {},
   "source": [
    "# Lab 3 - Iteration with For Loops\n",
    "\n",
    "## Data 94, Spring 2021"
   ]
  },
  {
   "cell_type": "markdown",
   "metadata": {},
   "source": [
    "Iteration is a very important tool in Python. So far we have learned about `while` loops, and now we are going to dive into `for` loops. `For` loops are a form of iteration that loop over a Python data structure, such as a list or a string. Below, you can see that `for` loops can work in all sorts of ways!"
   ]
  },
  {
   "cell_type": "code",
   "execution_count": 1,
   "metadata": {},
   "outputs": [],
   "source": [
    "# We can iterate over numbers using the range() function!\n",
    "for i in range(10):\n",
    "    print(\"Charging... battery at:\", str(i * 10), '%')\n",
    "print(\"Battery charged at 100%!\")"
   ]
  },
  {
   "cell_type": "markdown",
   "metadata": {},
   "source": [
    "Notice how the value of `i` changes on each loop because of the range() function!"
   ]
  },
  {
   "cell_type": "markdown",
   "metadata": {},
   "source": [
    "**Important:** We do not necessarily have to use `i` as the name of our `for` loop variable. We can use any name we want!"
   ]
  },
  {
   "cell_type": "code",
   "execution_count": 2,
   "metadata": {},
   "outputs": [],
   "source": [
    "# We can iterate over the characters in a string!\n",
    "string = \"Data Science is Cool!\"\n",
    "for letter in string: # 'letter' instead of 'i'\n",
    "    print(letter)"
   ]
  },
  {
   "cell_type": "code",
   "execution_count": 3,
   "metadata": {},
   "outputs": [],
   "source": [
    "# We can even iterate over the words in a string!\n",
    "sentence = string.split(\" \") # Split up string, using spaces (\" \") to separate words\n",
    "for word in sentence: # 'word' instead of 'i'\n",
    "    print(word)"
   ]
  },
  {
   "cell_type": "markdown",
   "metadata": {},
   "source": [
    "`While` loops in Python can do these things as well, but they are a bit more complicated:"
   ]
  },
  {
   "cell_type": "code",
   "execution_count": 4,
   "metadata": {},
   "outputs": [],
   "source": [
    "word_index = 0 # Start at first item\n",
    "while word_index < len(sentence): # While we are iterating over the list\n",
    "    print(sentence[word_index])\n",
    "    word_index += 1 # Move onto the next item of the list"
   ]
  },
  {
   "cell_type": "markdown",
   "metadata": {},
   "source": [
    "As you can see, using the `while` loop is a lot more work and looks a bit more difficult to read. Both work, but often one will be better to use than the other.\n",
    "\n",
    "When choosing between which you should use, generally:\n",
    "- `While` loops work better when you don't necessarily know how many iterations your loop may take\n",
    "    - Think 'Persistency' from Question 5 on the Quiz\n",
    "- `For` loops work better when you have something to **iterate over** like a list or a string.\n",
    "    - See examples above"
   ]
  },
  {
   "cell_type": "markdown",
   "metadata": {},
   "source": [
    "Let's see an example of a `for` loop at work:\n",
    "\n",
    "In this function we will calculate the maximum value in a list of numbers without using the Python max() function. If the list is empty, we return the False boolean."
   ]
  },
  {
   "cell_type": "code",
   "execution_count": 5,
   "metadata": {},
   "outputs": [],
   "source": [
    "def max_value(lst):\n",
    "    if len(lst) == 0: # If we are given an empty list, there is no maximum value, so return False\n",
    "        return False\n",
    "    max_number = lst[0] # The first number is the biggest we've seen so far... because we haven't seen any other numbers\n",
    "    for number in lst[1:]: # We check the rest of the items after the first; we don't need to check the first again\n",
    "        if number > max_number: # If the number we are looking at is bigger than our biggest so far...\n",
    "            max_number = number # ... then it becomes the new biggest!\n",
    "    return max_number # After we finish the 'for' loop, we will have stored the maximum value in max_number"
   ]
  },
  {
   "cell_type": "code",
   "execution_count": 6,
   "metadata": {},
   "outputs": [],
   "source": [
    "lst1 = [13, 96, -24, 53, -109]\n",
    "lst2 = [1, 2, 3, 4, 5, 6, 7, 6, 5, 4, 3, 2, 1]\n",
    "lst3 = [\"data\", \"science\", \"is\", \"cool!\"] # It even works on strings too because strings can be compared using '<' and '>' in Python!\n",
    "\n",
    "print(\"The maximum value of\", lst1, \"is:\", max_value(lst1))\n",
    "print(\"The maximum value of\", lst2, \"is:\", max_value(lst2))\n",
    "print(\"The maximum value of\", lst3, \"is:\", max_value(lst3))"
   ]
  },
  {
   "cell_type": "markdown",
   "metadata": {
    "deletable": false,
    "editable": false
   },
   "source": [
    "Let's go ahead and try writing a function with a `for` loop:\n",
    "\n",
    "We want to be able to pairwise multiply two lists together. This means that we want the result of multiplying the first items of each list, the second items of each list, etc.\n",
    "\n",
    "For example, pairwise multiplying `[2, 3, 4]` and `[10, 20, 30]` is `[20, 60, 120]` because 2 * 10 == `20`, 3 * 20 == `60` and 4 * 30 == `120`.\n",
    "\n",
    "We can use a `for` loop to move through each list, multiplying items as we go!\n",
    "\n",
    "<!--\n",
    "BEGIN QUESTION\n",
    "name: q1\n",
    "points: 0\n",
    "-->"
   ]
  },
  {
   "cell_type": "code",
   "execution_count": 7,
   "metadata": {},
   "outputs": [],
   "source": [
    "def pairwise_multiply(lst1, lst2):\n",
    "    output = ...\n",
    "    for i in range(len(lst1)):\n",
    "        multiplication = ...\n",
    "        ...\n",
    "    return output"
   ]
  },
  {
   "cell_type": "code",
   "execution_count": null,
   "metadata": {
    "deletable": false,
    "editable": false
   },
   "outputs": [],
   "source": [
    "grader.check(\"q1\")"
   ]
  },
  {
   "cell_type": "markdown",
   "metadata": {
    "deletable": false,
    "editable": false
   },
   "source": [
    "Now let's work on another example:\n",
    "\n",
    "We will implement a function that calculates the most revenue brought in during one shift at a store. Given the sales that were made, calculate the sales total for the best shift of the day.\n",
    "\n",
    "For example, with `sales = [3, 4, 1.25, 6, \"Shift Change\", 2, 4, 5.75, \"Shift Change\", 10, 2, .25, \"Shift Change\"]`, we will return `14.25` because 3 + 4 + 1.25 + 6 == `14.25`.\n",
    "\n",
    "In other words:\n",
    "`best_shift_sales`(`[3, 4, 1.25, 6, \"Shift Change\", 2, 4, 5.75, \"Shift Change\", 10, 2, .25, \"Shift Change\"]`) == `14.25`\n",
    "\n",
    "<!--\n",
    "BEGIN QUESTION\n",
    "name: q2\n",
    "points: 0\n",
    "-->"
   ]
  },
  {
   "cell_type": "code",
   "execution_count": 10,
   "metadata": {},
   "outputs": [],
   "source": [
    "def best_shift_sales(sales):\n",
    "    current_shift_sales = ...\n",
    "    best_shift_sales_total = ...\n",
    "    for sale in sales:\n",
    "        if sale == \"Shift Change\":\n",
    "            if current_shift_sales > best_shift_sales_total:\n",
    "                best_shift_sales_total = ...\n",
    "            current_shift_sales = ...\n",
    "        else:\n",
    "            ...\n",
    "    return best_shift_sales_total"
   ]
  },
  {
   "cell_type": "code",
   "execution_count": null,
   "metadata": {
    "deletable": false,
    "editable": false
   },
   "outputs": [],
   "source": [
    "grader.check(\"q2\")"
   ]
  },
  {
   "cell_type": "markdown",
   "metadata": {},
   "source": [
    "## Done! 😇\n",
    "\n",
    "That's it! There's nowhere for you to submit this, as labs are not assignments. However, please ask any questions you have with this notebook in lab or on Ed.\n",
    "\n",
    "If you want some extra practice, you may proceed onto the next section, which contains a practice problem for this week."
   ]
  },
  {
   "cell_type": "markdown",
   "metadata": {},
   "source": [
    "# Extra Practice Problems\n",
    "\n",
    "These problems are here for extra practice. They are not mandatory, and they will not be turned in for any points, but we highly suggest you do them as practice for both homework questions and quiz questions."
   ]
  },
  {
   "cell_type": "markdown",
   "metadata": {
    "deletable": false,
    "editable": false
   },
   "source": [
    "## Extra Question 1\n",
    "\n",
    "We want to modify our `best_shift_sales` function from earlier in the lab so that it calculates the **name of the employee** who was working during the best shift for the store. You are given the shift list in order and the sales that were made. There are guaranteed to be an equal number of shifts and employees, so each employee only does one shift.\n",
    "\n",
    "For example, with `employees = [\"Alice\", \"Bob\", \"Cam\"]` and `sales = [3, 4, 1.25, 6, \"Shift Change\", 2, 4, 5.75, \"Shift Change\", 10, 2, .25]`, we will return `\"Alice\"`.\n",
    "\n",
    "In other words:\n",
    "`best_salesperson`(`[\"Alice\", \"Bob\", \"Cam\"]`, `[3, 4, 1.25, 6, \"Shift Change\", 2, 4, 5.75, \"Shift Change\", 10, 2, .25]`) == `\"Alice\"`\n",
    "\n",
    "*Hint: You should only need to **modify** your implementation from `best_shift_sales`. We are still finding the best sales, but instead of returning how much money was the most, we want the name of the employee. How can we keep track of not only what the best shift by sales was, but also who was working that shift?*\n",
    "\n",
    "<!--\n",
    "BEGIN QUESTION\n",
    "name: eq1\n",
    "points: 0\n",
    "-->"
   ]
  },
  {
   "cell_type": "code",
   "execution_count": 14,
   "metadata": {},
   "outputs": [],
   "source": [
    "def best_salesperson(employees, sales):\n",
    "    current_employee_number = 0 # Start with the first employee\n",
    "    current_employee_sales = ...\n",
    "    best_sales_total = ...\n",
    "    employee_number_of_best_salesperson_so_far = ...\n",
    "    ...\n",
    "    best_salesperson_name = ...\n",
    "    return best_salesperson_name"
   ]
  },
  {
   "cell_type": "code",
   "execution_count": null,
   "metadata": {
    "deletable": false,
    "editable": false
   },
   "outputs": [],
   "source": [
    "grader.check(\"eq1\")"
   ]
  },
  {
   "cell_type": "markdown",
   "metadata": {},
   "source": [
    "<details>\n",
    "    <summary>Solution (for after you have tried yourself)</summary>\n",
    "    <code>def best_salesperson(employees, sales):\n",
    "    current_employee_number = 0 # Start with the first employee\n",
    "    current_employee_sales = 0 # We are not yet checking a shift total\n",
    "    best_sales_total = 0 # We have not yet seen a best shift total\n",
    "    employee_number_of_best_salesperson_so_far = 0 # There is no best employee sales yet\n",
    "    for sale in sales:\n",
    "        if sale == \"Shift Change\":\n",
    "            if current_employee_sales > best_sales_total:\n",
    "                best_sales_total = current_employee_sales\n",
    "                employee_number_of_best_salesperson_so_far = current_employee_number\n",
    "            current_employee_number += 1\n",
    "            current_employee_sales = 0\n",
    "        else:\n",
    "            current_employee_sales += sale\n",
    "    best_salesperson_name = employees[employee_number_of_best_salesperson_so_far]\n",
    "    return best_salesperson_name</code>\n",
    "</details>"
   ]
  },
  {
   "cell_type": "markdown",
   "metadata": {
    "deletable": false,
    "editable": false
   },
   "source": [
    "## Extra Question 2a\n",
    "Let's write a boolean function that tells us if there are any duplicate values in a list. If we find a duplicate, we should return `True`, but if we search everywhere and we cannot find a duplicate, we should return `False`.\n",
    "\n",
    "We want to implement this function so that it checks all the items from itself to the end of the list for duplicates. There is no need to check anything behind it because past loops already did those duplicate checks. In the list `[1, 2, 3]`, we check if 1 == 2, then if 1 == 3, then if 2 == 3. There is no need to check if 2 == 1 by the time we get to 2, because we had already done that check when we were on 1.\n",
    "\n",
    "Examples:\n",
    "- The list `[1, 2, 3, 4, 5, 1]` has a duplicate, so we should return `True`.\n",
    "- The list `[1, 2, 3, 4, 5, 6]` has no duplicates, so we should return `False`.\n",
    "\n",
    "<!--\n",
    "BEGIN QUESTION\n",
    "name: eq2a\n",
    "points: 0\n",
    "-->"
   ]
  },
  {
   "cell_type": "code",
   "execution_count": 27,
   "metadata": {},
   "outputs": [],
   "source": [
    "def duplicate_values1(values):\n",
    "    ..."
   ]
  },
  {
   "cell_type": "code",
   "execution_count": null,
   "metadata": {
    "deletable": false,
    "editable": false
   },
   "outputs": [],
   "source": [
    "grader.check(\"eq2a\")"
   ]
  },
  {
   "cell_type": "markdown",
   "metadata": {},
   "source": [
    "<details>\n",
    "    <summary>Solution (for after you have tried yourself)</summary>\n",
    "    <code>def duplicate_values1(values):\n",
    "    for i in range(len(values)):\n",
    "        if values[i] in values[i + 1:]:\n",
    "            return True\n",
    "    return False </code>\n",
    "</details>"
   ]
  },
  {
   "cell_type": "markdown",
   "metadata": {
    "deletable": false,
    "editable": false
   },
   "source": [
    "## Extra Question 2b\n",
    "There is actually another way to implement this function using the `count()` method of lists! We can simply loop through the list once and ask for the count of each item. If at any point we encounter a count greater than 1, we have found a duplicate and we can immediately return` True`! If we never see any counts over 1, we return `False` as there are no duplicates.\n",
    "\n",
    "<!--\n",
    "BEGIN QUESTION\n",
    "name: eq2b\n",
    "points: 0\n",
    "-->"
   ]
  },
  {
   "cell_type": "code",
   "execution_count": 26,
   "metadata": {},
   "outputs": [],
   "source": [
    "def duplicate_values2(values):\n",
    "    ..."
   ]
  },
  {
   "cell_type": "code",
   "execution_count": null,
   "metadata": {
    "deletable": false,
    "editable": false
   },
   "outputs": [],
   "source": [
    "grader.check(\"eq2b\")"
   ]
  },
  {
   "cell_type": "markdown",
   "metadata": {},
   "source": [
    "<details>\n",
    "    <summary>Solution (for after you have tried yourself)</summary>\n",
    "    <code>def duplicate_values2(values):\n",
    "    for value in values:\n",
    "        if values.count(value) > 1:\n",
    "            return True\n",
    "    return False</code>\n",
    "</details>"
   ]
  },
  {
   "cell_type": "markdown",
   "metadata": {},
   "source": [
    "# Meme Gallery\n",
    "\n",
    "Here are some memes about the topics we covered today, feel free to like, comment, and subscribe 😆"
   ]
  },
  {
   "cell_type": "markdown",
   "metadata": {},
   "source": [
    "<img src='images/mind.png' width=300>"
   ]
  },
  {
   "cell_type": "markdown",
   "metadata": {},
   "source": [
    "<img src='images/girlfriend.jpg' width=300>"
   ]
  },
  {
   "cell_type": "markdown",
   "metadata": {},
   "source": [
    "<img src='images/kitty.jpeg' width=300>"
   ]
  },
  {
   "cell_type": "markdown",
   "metadata": {
    "deletable": false,
    "editable": false
   },
   "source": [
    "---\n",
    "\n",
    "To double-check your work, the cell below will rerun all of the autograder tests."
   ]
  },
  {
   "cell_type": "code",
   "execution_count": null,
   "metadata": {
    "deletable": false,
    "editable": false
   },
   "outputs": [],
   "source": [
    "grader.check_all()"
   ]
  },
  {
   "cell_type": "markdown",
   "metadata": {
    "deletable": false,
    "editable": false
   },
   "source": [
    "## Submission\n",
    "\n",
    "Make sure you have run all cells in your notebook in order before running the cell below, so that all images/graphs appear in the output. The cell below will generate a zip file for you to submit. **Please save before exporting!**"
   ]
  },
  {
   "cell_type": "code",
   "execution_count": null,
   "metadata": {
    "deletable": false,
    "editable": false
   },
   "outputs": [],
   "source": [
    "# Save your notebook first, then run this cell to export your submission.\n",
    "grader.export(pdf=False)"
   ]
  },
  {
   "cell_type": "markdown",
   "metadata": {},
   "source": [
    " "
   ]
  }
 ],
 "metadata": {
  "kernelspec": {
   "display_name": "Python 3",
   "language": "python",
   "name": "python3"
  },
  "language_info": {
   "codemirror_mode": {
    "name": "ipython",
    "version": 3
   },
   "file_extension": ".py",
   "mimetype": "text/x-python",
   "name": "python",
   "nbconvert_exporter": "python",
   "pygments_lexer": "ipython3",
   "version": "3.9.1"
  }
 },
 "nbformat": 4,
 "nbformat_minor": 4
}

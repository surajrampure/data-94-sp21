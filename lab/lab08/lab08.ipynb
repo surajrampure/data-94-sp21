{
 "cells": [
  {
   "cell_type": "code",
   "execution_count": null,
   "id": "surrounded-vacation",
   "metadata": {},
   "outputs": [],
   "source": [
    "import numpy as np\n",
    "from datascience import *\n",
    "Table.interactive_plots()"
   ]
  },
  {
   "cell_type": "markdown",
   "id": "prescribed-montgomery",
   "metadata": {},
   "source": [
    "# Lab 8 – More Visualization Methods\n",
    "\n",
    "## Data 94, Spring 2021\n",
    "\n",
    "This week we will be covering some new visualization methods that have been discussed in lecture. Last week we talked about methods we could use to visualize one variable, but this week we want to build on that. Visualizing two or more variables at once allows us to see more patterns in the data, and can further improve your ability to visualize data for people who do not necessarily understand data science.\n",
    "\n",
    "We will be working with the same dataset as we did last week, so we will load that in to begin looking at the new methods. Notice there are columns, `\"Latitude\"` and `\"Longitude\"`, which will be used for visualization purposes later in this lab:"
   ]
  },
  {
   "cell_type": "code",
   "execution_count": null,
   "id": "ordinary-angola",
   "metadata": {},
   "outputs": [],
   "source": [
    "weather = Table.read_table(\"data/weather.csv\")\n",
    "weather.show(5)"
   ]
  },
  {
   "cell_type": "markdown",
   "id": "saved-baseline",
   "metadata": {},
   "source": [
    "# The [scatter](http://data8.org/datascience/_autosummary/datascience.tables.Table.scatter.html#datascience.tables.Table.scatter) method\n",
    "\n",
    "As we mentioned, visualizing two variables can show us patterns in the data that can help us learn new information. The `scatter` method allows us to see the relationship between two numerical variables in our data using a **scatter plot**. The first provided column name goes along the x-axis and the second goes along the y-axis.\n",
    "\n",
    "Let’s take a look at the relationship between the average high and low temperatures in each city. Right now, our table doesn’t contain that information; it contains the high and low temperature for cities on several days throughout two years. In order to get our table in the right format, we need to group by 'City':"
   ]
  },
  {
   "cell_type": "code",
   "execution_count": null,
   "id": "excellent-piece",
   "metadata": {},
   "outputs": [],
   "source": [
    "weather_averages = weather.group(\"City\", np.average)\n",
    "weather_averages.show(5)"
   ]
  },
  {
   "cell_type": "markdown",
   "id": "criminal-assembly",
   "metadata": {},
   "source": [
    "Now, we can call `scatter` on this table:"
   ]
  },
  {
   "cell_type": "code",
   "execution_count": null,
   "id": "preliminary-missouri",
   "metadata": {},
   "outputs": [],
   "source": [
    "weather_averages.scatter(\"Low Temp average\", \"High Temp average\")"
   ]
  },
  {
   "cell_type": "markdown",
   "id": "suspected-shock",
   "metadata": {},
   "source": [
    "This plot looks good, but it is difficult to see which points correspond to which cities. To give each data point it's city name, we can use the `group` or `label` arguments:"
   ]
  },
  {
   "cell_type": "code",
   "execution_count": null,
   "id": "immediate-identification",
   "metadata": {},
   "outputs": [],
   "source": [
    "weather_averages.scatter(\"Low Temp average\", \"High Temp average\", labels=\"City\")"
   ]
  },
  {
   "cell_type": "code",
   "execution_count": null,
   "id": "solar-partnership",
   "metadata": {},
   "outputs": [],
   "source": [
    "weather_averages.scatter(\"Low Temp average\", \"High Temp average\", group=\"City\")"
   ]
  },
  {
   "cell_type": "markdown",
   "id": "peaceful-ultimate",
   "metadata": {},
   "source": [
    "As you can see, one of these plots is easier to read than the other, so we were better off using the `group` argument in this case. However, in practice, it may be useful to use `labels`, not `group`, so think about when it may be useful to use each argument.\n",
    "\n",
    "Scatter plots are useful when visualizing two numerical variables together. If you want to plot 2 numerical variables, but one of those variables corresponds to time, we can use a line plot to visualize the non-time variable as time passes.\n",
    "\n",
    "# The [plot](http://data8.org/datascience/_autosummary/datascience.tables.Table.plot.html#datascience.tables.Table.plot) method\n",
    "\n",
    "Similar to `scatter`, we give plot the names of two numerical columns and it creates a **line plot** for us. If we want to draw multiple line plots on the same set of axes, we give it a table with multiple numerical columns, and tell it which one contains the values for the x-axis.\n",
    "\n",
    "The `plot` method allows us to see how non-time variables change over time. Let's use `plot` to look at the temperature patterns in Alaska. First, we will look at a single line plot using `plot`:"
   ]
  },
  {
   "cell_type": "code",
   "execution_count": null,
   "id": "educated-batman",
   "metadata": {},
   "outputs": [],
   "source": [
    "alaska_weather = weather.where(\"State\", \"Alaska\")\n",
    "alaska_average_temps = alaska_weather.select(\"Month\", \"Average Temp\").group(\"Month\", np.average)\n",
    "alaska_average_temps.show(5)"
   ]
  },
  {
   "cell_type": "code",
   "execution_count": null,
   "id": "suitable-spank",
   "metadata": {},
   "outputs": [],
   "source": [
    "alaska_average_temps.plot(\"Month\",\n",
    "                 xaxis_title = \"Month\",\n",
    "                 yaxis_title = \"Average Temperature\",\n",
    "                 title = \"Average Alaskan Temperature by Month in 2016\")"
   ]
  },
  {
   "cell_type": "markdown",
   "id": "informational-patrick",
   "metadata": {},
   "source": [
    "If we want to see multiple variables on one plot, we can include them in the table we call `plot` on:"
   ]
  },
  {
   "cell_type": "code",
   "execution_count": null,
   "id": "developmental-induction",
   "metadata": {},
   "outputs": [],
   "source": [
    "alaska_temps = alaska_weather.select(\"Month\", \"High Temp\", \"Average Temp\", \"Low Temp\").group(\"Month\", np.average)\n",
    "alaska_temps.show(5)"
   ]
  },
  {
   "cell_type": "code",
   "execution_count": null,
   "id": "southern-waters",
   "metadata": {
    "scrolled": true
   },
   "outputs": [],
   "source": [
    "alaska_temps.plot(\"Month\",\n",
    "                 xaxis_title = \"Month\",\n",
    "                 yaxis_title = \"Temperature\",\n",
    "                 title = \"Alaskan Temperature by Month in 2016\")"
   ]
  },
  {
   "cell_type": "markdown",
   "id": "conscious-radius",
   "metadata": {},
   "source": [
    "We can see that temperatures are highest during the summer months and lowest in the winter months, which is to be expected in the Northern Hemisphere. We can also use `plot` to see these patterns in each `State`:"
   ]
  },
  {
   "cell_type": "code",
   "execution_count": null,
   "id": "knowing-proportion",
   "metadata": {
    "scrolled": true
   },
   "outputs": [],
   "source": [
    "avg_temps = weather.select(\"State\", \"Month\", \"Average Temp\").group([\"State\", \"Month\"], np.average)\n",
    "state_avg_temps_by_month = avg_temps.pivot(\"State\", \"Month\", \"Average Temp average\", np.sum)\n",
    "state_avg_temps_by_month.plot(\"Month\",\n",
    "                 xaxis_title = \"Month\",\n",
    "                 yaxis_title = \"Temperature\",\n",
    "                 title = \"State Temperatures by Month in 2016\")"
   ]
  },
  {
   "cell_type": "markdown",
   "id": "ethical-dispute",
   "metadata": {},
   "source": [
    "If we want to see less clutter that comes with seeing all 51 states in the dataset, we can pick a generally hotter state, an extreme state (gets very hot and very cold), and a generally colder state to view alone on one plot:"
   ]
  },
  {
   "cell_type": "code",
   "execution_count": null,
   "id": "unlikely-jamaica",
   "metadata": {},
   "outputs": [],
   "source": [
    "hot_state = \"Hawaii\"\n",
    "extreme_state = \"Utah\"\n",
    "cold_state = \"Alaska\"\n",
    "temp_states = [hot_state, extreme_state, cold_state]\n",
    "\n",
    "fewer_states_weather = weather.where(\"State\", are.contained_in(temp_states))\n",
    "fewer_state_avg_temps = fewer_states_weather.select(\"State\", \"Month\", \"Average Temp\").group([\"State\", \"Month\"], np.average)\n",
    "fewer_state_avg_temps_by_month = fewer_state_avg_temps.pivot(\"State\", \"Month\", \"Average Temp average\", np.sum)\n",
    "fewer_state_avg_temps_by_month.plot(\"Month\",\n",
    "                 xaxis_title = \"Month\",\n",
    "                 yaxis_title = \"Temperature\",\n",
    "                 title = \"State Temperatures by Month in 2016\")"
   ]
  },
  {
   "cell_type": "markdown",
   "id": "inner-carol",
   "metadata": {},
   "source": [
    "You can see here that Hawaii is above Alaska and almost always above Utah, but Utah bounces back and forth between the two. Each still appears to peak in the summer and valley in the winter, just like we saw with Alaska alone.\n",
    "\n",
    "Hotter states tend to see less temperature difference over the year than colder states. This is because humans can tolerate extremely low temperatures better than extrememly high temperatures, so there is little room to go up from these states' high average temperatures even during the winter.\n",
    "\n",
    "Now that we have seen both scatter plots and line plots, we will now look at another visualization technique for viewing multiple variables at once."
   ]
  },
  {
   "cell_type": "markdown",
   "id": "utility-amplifier",
   "metadata": {},
   "source": [
    "# `Circle` and `Marker`: the `map_table` function\n",
    "\n",
    "`Circle` and `Marker` allow us to make interactive maps. These special scatter plots are created using longitude as the x-axis and latitude as the y-axis.\n",
    "\n",
    "`Circle` uses circles to indicate locations on the map and `Marker` uses map markers. **Both require a table with the first two columns corresponding to latitude and longitude coordinates of your data points.** The table can have additional columns containing other information, and we will talk about those later in this lab, but you always need the first two columns to be latitude and longitude.\n",
    "\n",
    "There are many cool features of these visualizations, but rather than talk about each one, let's take a look at one first and then talk about what we see. We'll first look at all the cities represented in our weather table:\n",
    "\n",
    "*You may ignore any warning generated by the following cells.*"
   ]
  },
  {
   "cell_type": "code",
   "execution_count": null,
   "id": "wrong-background",
   "metadata": {},
   "outputs": [],
   "source": [
    "weather_cities = weather.group([\"Latitude\", \"Longitude\"]).drop(\"count\")\n",
    "Circle.map_table(weather_cities,\n",
    "                line_color = None,\n",
    "                fill_opacity = 0.5,\n",
    "                area = 50)"
   ]
  },
  {
   "cell_type": "markdown",
   "id": "deadly-middle",
   "metadata": {},
   "source": [
    "Let's discuss the arguments we used for this `Circle.map_table` call:\n",
    "\n",
    "- The first input is a table with only 2 columns: `\"Latitude\"` and `\"Longitude\"` (they do not have to have these exact names, but they should store latitude and longitude information about each data point).\n",
    "\n",
    "- The `line_color` argument, when not `None`, creates a border around each circle. You can choose whether or not you prefer the border around the circles, it is up to you.\n",
    "\n",
    "- The `fill_opacity` argument is a float between 0 to 1 that dictates how transparent each circle is. Values closer to 0 are more transparent and values closer to 1 are more opaque.\n",
    "\n",
    "- The `area` argument indicates the size of your circles on the plot. Larger numbers correspond to larger circles, so when making your own visualizations, select values of the `area` argument that make the circle visible, but not so big that they clutter the plot too much or make it hard to read.\n",
    "\n",
    "Now we'll look at a visualization using `Marker`:"
   ]
  },
  {
   "cell_type": "code",
   "execution_count": null,
   "id": "comparable-america",
   "metadata": {},
   "outputs": [],
   "source": [
    "Marker.map_table(weather_cities,\n",
    "                color = 'blue',\n",
    "                marker_icon = 'star')"
   ]
  },
  {
   "cell_type": "markdown",
   "id": "subtle-submission",
   "metadata": {},
   "source": [
    "Let's discuss the arguments we used for this `Marker.map_table` call:\n",
    "\n",
    "- Again, the first input is a table containing latitude and longitude information.\n",
    "\n",
    "- The `color` argument indicates the color of your markers.\n",
    "\n",
    "- The `marker_icon` argument indicates the icon on your marker. For more icon options (also called glyphs), you can click [here](https://getbootstrap.com/docs/3.3/components/).\n",
    "\n",
    "`Circle` is easier to read when looking at the continent level, and `Marker` is more difficult to see because of the clutter. However, if we zoom into each map, you can see that each becomes far more readable and useful for seeing the density of the cities in our dataset. We can see that many of our cities are in the Midwest, which is useful for understanding where the data is coming from.\n",
    "\n",
    "To prevent this clutter on maps, we can use the `clustered_marker` argument to create clusters of data points based on how zoomed in or out we are. Let's take a look at how the map looks with clustering on:"
   ]
  },
  {
   "cell_type": "code",
   "execution_count": null,
   "id": "descending-simulation",
   "metadata": {},
   "outputs": [],
   "source": [
    "Marker.map_table(weather_cities,\n",
    "                color = 'blue',\n",
    "                marker_icon = 'star',\n",
    "                clustered_marker = True)"
   ]
  },
  {
   "cell_type": "markdown",
   "id": "diagnostic-perception",
   "metadata": {},
   "source": [
    "As you zoom in and out, the clusters change to reduce clutter! The warmer the color of the cluster, the more data points there are in that cluster. This is very useful for dense regions where seeing each individual data point is not necessary.\n",
    "\n",
    "As we mentioned above, there are additional columns you can have in the table you supply to `Circle.map_table` and `Marker.map_table`. *These columns provide the map with information about **every** data point in your table.*\n",
    "\n",
    "| **Column Name** | **Description** |\n",
    "| -- | -- |\n",
    "| `labels` | Gives each point a clickable label |\n",
    "| `color_scale` | Colors of points to correspond to numerical values (e.g. darker colors = higher values) |\n",
    "| `colors` | Colors of points are assigned based on category |\n",
    "| `areas` | Areas of points are proportional to numerical values |\n",
    "\n",
    "Note: `color_scale` only works with numerical variables, and `colors` only works to distinguish between different categorical variable values.\n",
    "\n",
    "*The columns corresponding to these pieces of information must have these **exact** labels, otherwise `map_table` will error.*"
   ]
  },
  {
   "cell_type": "markdown",
   "id": "impressive-negotiation",
   "metadata": {},
   "source": [
    "## Done! 😇\n",
    "\n",
    "That's it! There's nowhere for you to submit this, as labs are not assignments. However, please ask any questions you have with this notebook in lab or on Ed."
   ]
  }
 ],
 "metadata": {
  "kernelspec": {
   "display_name": "Python 3",
   "language": "python",
   "name": "python3"
  },
  "language_info": {
   "codemirror_mode": {
    "name": "ipython",
    "version": 3
   },
   "file_extension": ".py",
   "mimetype": "text/x-python",
   "name": "python",
   "nbconvert_exporter": "python",
   "pygments_lexer": "ipython3",
   "version": "3.7.9"
  }
 },
 "nbformat": 4,
 "nbformat_minor": 5
}

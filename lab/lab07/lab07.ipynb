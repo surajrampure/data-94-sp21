{
 "cells": [
  {
   "cell_type": "markdown",
   "id": "absolute-picnic",
   "metadata": {},
   "source": [
    "There is no otter-grader for this lab, so you do not need to run the typical otter cell at the top."
   ]
  },
  {
   "cell_type": "code",
   "execution_count": null,
   "id": "talented-continent",
   "metadata": {},
   "outputs": [],
   "source": [
    "import numpy as np\n",
    "from datascience import *\n",
    "Table.interactive_plots()"
   ]
  },
  {
   "cell_type": "markdown",
   "id": "virtual-dairy",
   "metadata": {},
   "source": [
    "# Lab 7 – Data Visualization\n",
    "\n",
    "## Data 94, Spring 2021\n",
    "\n",
    "Today we will be looking at table methods that help us visualize data we have. We can use the methods we have discussed so far in this class to interpret the data, and we can use the methods we discuss today (and their variants) to display the data. This is helpful for showing data to people who don't necessarily have a background in data science, and require a data scientist like you to help them understand the data in a more intuitive way.\n",
    "\n",
    "We will be looking at the `barh` and `hist` methods today. As data scientists it is not only our job to be able to use the visualization methods we know, but also our job to know when to use which methods, and as we look at methods going forward, always keep in mind when it is most useful to use each new method."
   ]
  },
  {
   "cell_type": "markdown",
   "id": "breeding-johnson",
   "metadata": {},
   "source": [
    "## Loading in the Data\n",
    "\n",
    "Before we get started, let's get some data to visualize. This dataset contains weekly information about weather all over the United States in the year 2016:\n",
    "\n",
    "*Note: Precipitation is in inches, all temperatures are in Fahrenheit, and Wind Speed is in Miles per Hour.*"
   ]
  },
  {
   "cell_type": "code",
   "execution_count": null,
   "id": "laden-rachel",
   "metadata": {},
   "outputs": [],
   "source": [
    "weather = Table.read_table(\"data/weather.csv\")\n",
    "weather.show(5)"
   ]
  },
  {
   "cell_type": "markdown",
   "id": "suspended-tourist",
   "metadata": {},
   "source": [
    "### Cleaning our Data\n",
    "\n",
    "We have to clean our data before we use it, just run the following cell once:"
   ]
  },
  {
   "cell_type": "code",
   "execution_count": null,
   "id": "hairy-extra",
   "metadata": {},
   "outputs": [],
   "source": [
    "def clean_weather_table(tbl):\n",
    "    tbl = tbl.drop(\"Date.Full\", \"Date.Week of\", \"Station.Code\", \"Station.Location\", \"Data.Wind.Direction\")\n",
    "    old_labels = np.array([\"Data.Precipitation\", \"Date.Month\", \"Date.Year\", \"Station.City\", \"Station.State\", \"Data.Temperature.Avg Temp\", \"Data.Temperature.Max Temp\", \"Data.Temperature.Min Temp\", \"Data.Wind.Speed\"])\n",
    "    new_labels = np.array([\"Precipitation\", \"Month\", \"Year\", \"City\", \"State\", \"Average Temp\", \"High Temp\", \"Low Temp\", \"Wind Speed\"])\n",
    "    tbl.relabel(old_labels, new_labels)\n",
    "    tbl = tbl.move_to_start(\"Month\")\n",
    "    tbl = tbl.move_to_start(\"Year\")\n",
    "    tbl = tbl.move_to_start(\"City\")\n",
    "    tbl = tbl.move_to_start(\"State\")\n",
    "    def clean_states(state):\n",
    "        if state == \"VA\":\n",
    "            return \"Virginia\"\n",
    "        elif state == \"DE\":\n",
    "            return \"Delaware\"\n",
    "        else:\n",
    "            return state\n",
    "    tbl = tbl.with_column(\"State\", tbl.apply(clean_states, \"State\"))\n",
    "    return tbl\n",
    "    \n",
    "weather = clean_weather_table(weather)"
   ]
  },
  {
   "cell_type": "code",
   "execution_count": null,
   "id": "eight-action",
   "metadata": {},
   "outputs": [],
   "source": [
    "weather.show(5)"
   ]
  },
  {
   "cell_type": "markdown",
   "id": "robust-promotion",
   "metadata": {},
   "source": [
    "# The [barh](http://data8.org/datascience/_autosummary/datascience.tables.Table.barh.html#datascience.tables.Table.barh) method\n",
    "\n",
    "The barh method is used to visualize **categorical** variable values. Categorical variables are non-numbers, like names and qualities (Color, State Names, etc.). As we saw in lecture, categorical variables come in 2 different types: *ordinal* and *nominal*. Refer to [Lecture 24](https://docs.google.com/presentation/d/19sNzs3WCtJNd2pzpMVdAIslnwehzZBjVazisQnM9TKg) to see the difference between the two types.\n",
    "\n",
    "The `barh` method takes in 1 mandatory argument, which is the name of the column you want on the left axis of your `barh` plot. There are also optional arguments that have to do with plotting (axis names, plot title, etc.), and you can look at examples of those in this lab and in the homework. The remaining optional arguments in the datascience documentation linked above can also be used, feel free to try out some of the others on your own!\n",
    "\n",
    "To use the `barh` method properly, we first need to select the columns we want to see in the graph. We should not call `barh` directly on a Table because without specifying a column, we get a bar graph for every single instance of every single variable, which you can imagine results in a lot of bar graphs (see Question 1a of Homework 7 to see an example of how this does not work the way we want it to).\n",
    "\n",
    "Let's look at an example of `barh` that can show us the number of weather readings from each state in the dataset:"
   ]
  },
  {
   "cell_type": "code",
   "execution_count": null,
   "id": "resistant-statistics",
   "metadata": {},
   "outputs": [],
   "source": [
    "# First we need to select the column we want to see, then we can plot it with barh\n",
    "state_weather = weather.group(\"State\")\n",
    "state_weather.barh(\"State\")"
   ]
  },
  {
   "cell_type": "markdown",
   "id": "sonic-chapel",
   "metadata": {},
   "source": [
    "We can also use `barh` to see multiple statistics at once. Let's use the `group` method and `barh` method to see the average low temperature **and** high temperature in each state:\n",
    "\n",
    "*The dataset is reduced to only include the first 10 states for convenience.*"
   ]
  },
  {
   "cell_type": "code",
   "execution_count": null,
   "id": "undefined-native",
   "metadata": {},
   "outputs": [],
   "source": [
    "# We must group first to get our desired columns, then we can call barh\n",
    "state_weather_avg = weather.group(\"State\", collect=np.average).take(np.arange(10)).select(\"State\", \"High Temp average\", \"Low Temp average\")\n",
    "state_weather_avg.barh(\"State\", overlay=True)"
   ]
  },
  {
   "cell_type": "markdown",
   "id": "faced-indicator",
   "metadata": {},
   "source": [
    "If we want different visualizations for each variable, we can set the optional `overlay` argument to `False`. The default value of `overlay` is `True`, so if you don't give it a value, you will get a plot with all the included variables at once."
   ]
  },
  {
   "cell_type": "code",
   "execution_count": null,
   "id": "legal-egypt",
   "metadata": {},
   "outputs": [],
   "source": [
    "state_weather_avg.barh(\"State\", overlay=False)"
   ]
  },
  {
   "cell_type": "markdown",
   "id": "dense-drink",
   "metadata": {},
   "source": [
    "That way we can choose if we want to have one plot with all our information or a new plot for each piece of information!"
   ]
  },
  {
   "cell_type": "markdown",
   "id": "chronic-disposal",
   "metadata": {},
   "source": [
    "### Where `barh` fails\n",
    "\n",
    "The `barh` method works well on categorical variables, but what if we have a **numerical** variable that we want to see the distribution in one particular state? Let's see what happens if we try to use `barh` on a numerical variable (`Wind Speed`) instead of a categorical variable:"
   ]
  },
  {
   "cell_type": "code",
   "execution_count": null,
   "id": "random-population",
   "metadata": {},
   "outputs": [],
   "source": [
    "weather.group(\"Wind Speed\").barh(\"Wind Speed\")"
   ]
  },
  {
   "cell_type": "markdown",
   "id": "through-belly",
   "metadata": {},
   "source": [
    "As you can see, this bar plot is not particularly helpful. Seeing the breakdown of `Wind Speed` does not provide us with any useful information, and it is also difficult to read or understand. Instead, for numerical variables, we have another visualization method that helps us visualize a numerical variable's distribution..."
   ]
  },
  {
   "cell_type": "markdown",
   "id": "horizontal-postcard",
   "metadata": {},
   "source": [
    "# The [hist](http://data8.org/datascience/_autosummary/datascience.tables.Table.hist.html#datascience.tables.Table.hist) method\n",
    "\n",
    "The `hist` method allows us to see the distribution of a numerical variable. Categorical variables should be visualized using `barh`, and numerical variables should be visualized using `hist`.\n",
    "\n",
    "The `hist` method takes in 1 mandatory argument and has several optional arguments (as is the case with `barh`, there are many other optional arguments, but here are just a few of them), and **`density` should always be set to `False`**\n",
    "\n",
    "| **Argument** | **Description** | **Type** | **Mandatory?** |\n",
    "| -- | -- | -- | -- |\n",
    "| `column` | Column name whose values you want on the x-axis of your plot | Column name (string) | Yes |\n",
    "| `density` | If `True`, then the resulting plot will be displayed not on the count of a value, but on the density of that value in the Table | boolean | No |\n",
    "| `group` | Similar to the Table method `group`, groups rows by this label before plotting | Column name (string) | No |\n",
    "| `overlay` | When `False`, make a new plot for each eligible statistic in the Table | boolean | No |\n",
    "| `xaxis_title` | Label on the x-axis of your plot | string | No |\n",
    "| `yaxis_title` | Label on the y-axis of your plot | string | No |\n",
    "| `title` | Title of your plot | string | No |\n",
    "| `bins` | A NumPy array of bin boundaries you want your histogram to gather data into | array | No |\n",
    "\n",
    "**Again, in all cases, `density` should be set to `False`**\n",
    "\n",
    "Keep in mind the same plotting optional arguments mentioned in the `barh` introduction.\n",
    "\n",
    "Let's take a look at the weather in different states to see how the `hist` method helps visualize numerical variables:"
   ]
  },
  {
   "cell_type": "code",
   "execution_count": null,
   "id": "military-controversy",
   "metadata": {},
   "outputs": [],
   "source": [
    "# Oregon and Tennessee have similar counts in the weather dataset, so we can compare them\n",
    "# First we get all Oregon weather information\n",
    "oregon_weather = weather.where(\"State\", \"Oregon\")\n",
    "oregon_weather.show(5)"
   ]
  },
  {
   "cell_type": "code",
   "execution_count": null,
   "id": "historical-ultimate",
   "metadata": {},
   "outputs": [],
   "source": [
    "# This plot shows the distribution of average temperatures in Oregon for 2016\n",
    "oregon_weather.select(\"Wind Speed\").hist(\n",
    "                       xaxis_title = 'Wind Speed',\n",
    "                       yaxis_title = 'Count',\n",
    "                       title = 'Distribution of Oregon Wind Speeds', \n",
    "                       density = False\n",
    "                       )"
   ]
  },
  {
   "cell_type": "markdown",
   "id": "decreased-learning",
   "metadata": {},
   "source": [
    "This shows us that wind speeds in Oregon tend to fall into the 0-10 mph range, but they can get higher on certain occasions. Let's see how that compares to wind speeds in another state, Tennessee:"
   ]
  },
  {
   "cell_type": "code",
   "execution_count": null,
   "id": "compound-harrison",
   "metadata": {},
   "outputs": [],
   "source": [
    "# Get all Tennessee information\n",
    "tennessee_weather = weather.where(\"State\", \"Tennessee\")\n",
    "tennessee_weather.show(5)"
   ]
  },
  {
   "cell_type": "code",
   "execution_count": null,
   "id": "utility-locking",
   "metadata": {},
   "outputs": [],
   "source": [
    "# This plot shows the distribution of average temperatures in Tennessee for 2016\n",
    "tennessee_weather.select(\"Wind Speed\").hist(\n",
    "                       xaxis_title = 'Wind Speed',\n",
    "                       yaxis_title = 'Count',\n",
    "                       title = 'Distribution of Tennessee Wind Speeds', \n",
    "                       density=False\n",
    "                       )"
   ]
  },
  {
   "cell_type": "markdown",
   "id": "saving-width",
   "metadata": {},
   "source": [
    "We can use `hist` on a Table with just rows for these two states and use the optional `group` argument.\n",
    "\n",
    "*You can ignore the warning message that appears when you run the plotting cell below.*"
   ]
  },
  {
   "cell_type": "code",
   "execution_count": null,
   "id": "seventh-bangladesh",
   "metadata": {},
   "outputs": [],
   "source": [
    "tennegon_weather = weather.where(\"State\", are.contained_in([\"Oregon\", \"Tennessee\"]))\n",
    "tennegon_weather.show(5)"
   ]
  },
  {
   "cell_type": "code",
   "execution_count": null,
   "id": "intimate-hungarian",
   "metadata": {},
   "outputs": [],
   "source": [
    "# This plot shows the distribution of average temperatures in Oregon and Tennessee for 2016\n",
    "tennegon_weather.select(\"State\", \"Wind Speed\").hist(\n",
    "                       group = \"State\",\n",
    "                       xaxis_title = 'Wind Speed',\n",
    "                       yaxis_title = 'Count',\n",
    "                       title = 'Distribution of Oregon and Tennessee Wind Speeds', \n",
    "                       density = False\n",
    "                       )"
   ]
  },
  {
   "cell_type": "code",
   "execution_count": null,
   "id": "colored-darkness",
   "metadata": {},
   "outputs": [],
   "source": [
    "print(\"Oregon weeks in weather dataset:\", oregon_weather.num_rows)\n",
    "print(\"Tennessee weeks in weather dataset:\", tennessee_weather.num_rows)"
   ]
  },
  {
   "cell_type": "markdown",
   "id": "grateful-juvenile",
   "metadata": {},
   "source": [
    "Because Oregon and Tennessee have very similar counts in the `weather` dataset, we can compare them with each other in visualizations like this. It appears that wind speeds in Oregon are a bit higher on average, as the plot above shows the oregon `Wind Speeds` to be a but more shifted to the right than the Tennessee `Wind Speeds`. Let's see if we can use a table query to figure out the same information:"
   ]
  },
  {
   "cell_type": "code",
   "execution_count": null,
   "id": "amino-baseline",
   "metadata": {},
   "outputs": [],
   "source": [
    "tennegon_weather.show(5)"
   ]
  },
  {
   "cell_type": "code",
   "execution_count": null,
   "id": "silver-illinois",
   "metadata": {},
   "outputs": [],
   "source": [
    "oregon_average_wind_speed = np.average(oregon_weather.column(\"Wind Speed\"))\n",
    "tennessee_average_wind_speed = np.average(tennessee_weather.column(\"Wind Speed\"))\n",
    "print(\"Average Oregon Wind Speed:\", oregon_average_wind_speed)\n",
    "print(\"Average Tennessee Wind Speed:\", tennessee_average_wind_speed)"
   ]
  },
  {
   "cell_type": "markdown",
   "id": "marked-mixture",
   "metadata": {},
   "source": [
    "As we can see, the plot we made appeared to suggest that the average wind speed would be a bit higher in Oregon, and the table operations reflected that! This is a benefit of visualization, that information can be learned about the dataset with just visual observation. It is always beneficial to back your claims about data with concrete facts about the dataset, but visualizations can help abstract away some of the confusion of looking at raw data so that non-data-scientists can better understand what is going on."
   ]
  },
  {
   "cell_type": "markdown",
   "id": "criminal-format",
   "metadata": {},
   "source": [
    "Now, think about what would happen if you chose two states with very different counts, why would it be more difficult to compare them with histograms? Let's take a look at what happens when we do this:"
   ]
  },
  {
   "cell_type": "code",
   "execution_count": null,
   "id": "fourth-carrier",
   "metadata": {},
   "outputs": [],
   "source": [
    "rhode_island_weather = weather.where(\"State\", \"Rhode Island\")\n",
    "alaska_weather = weather.where(\"State\", \"Alaska\")\n",
    "print(\"Rhode Island weeks in weather dataset:\", rhode_island_weather.num_rows)\n",
    "print(\"Alaska weeks in weather dataset:\", alaska_weather.num_rows)"
   ]
  },
  {
   "cell_type": "markdown",
   "id": "broke-kitty",
   "metadata": {},
   "source": [
    "Each individual plot looks fine:"
   ]
  },
  {
   "cell_type": "code",
   "execution_count": null,
   "id": "surprising-frost",
   "metadata": {},
   "outputs": [],
   "source": [
    "# This plot shows the distribution of average temperatures in Rhode Island 2016\n",
    "rhode_island_weather.select(\"State\", \"Wind Speed\").hist(\n",
    "                       group = \"State\",\n",
    "                       xaxis_title = 'Wind Speed',\n",
    "                       yaxis_title = 'Count',\n",
    "                       title = 'Distribution of Rhode Island Wind Speeds', \n",
    "                       density = False\n",
    "                       )"
   ]
  },
  {
   "cell_type": "code",
   "execution_count": null,
   "id": "social-vault",
   "metadata": {},
   "outputs": [],
   "source": [
    "# This plot shows the distribution of average temperatures in Alaska for 2016\n",
    "alaska_weather.select(\"State\", \"Wind Speed\").hist(\n",
    "                       group = \"State\",\n",
    "                       xaxis_title = 'Wind Speed',\n",
    "                       yaxis_title = 'Count',\n",
    "                       title = 'Distribution of Alaska Wind Speeds', \n",
    "                       density = False\n",
    "                       )"
   ]
  },
  {
   "cell_type": "markdown",
   "id": "color-avenue",
   "metadata": {},
   "source": [
    "Take a look at the y-axis on both of these plots.\n",
    "\n",
    "*What do you think will happen when we try to plot them on the same graph?*"
   ]
  },
  {
   "cell_type": "code",
   "execution_count": null,
   "id": "excess-louisville",
   "metadata": {
    "scrolled": true
   },
   "outputs": [],
   "source": [
    "rhodlaska_weather = weather.where(\"State\", are.contained_in([\"Rhode Island\", \"Alaska\"]))\n",
    "rhodlaska_weather.show(5)"
   ]
  },
  {
   "cell_type": "code",
   "execution_count": null,
   "id": "beneficial-france",
   "metadata": {},
   "outputs": [],
   "source": [
    "# This plot shows the distribution of average temperatures in Rhode Island and Alaska for 2016\n",
    "rhodlaska_weather.select(\"State\", \"Wind Speed\").hist(\n",
    "                       group = \"State\",\n",
    "                       xaxis_title = 'Wind Speed',\n",
    "                       yaxis_title = 'Count',\n",
    "                       title = 'Distribution of Rhode Island and Alaska Wind Speeds', \n",
    "                       density = False\n",
    "                       )"
   ]
  },
  {
   "cell_type": "markdown",
   "id": "little-repeat",
   "metadata": {},
   "source": [
    "As you can see, there is so much more Alaska data than Rhode Island data that we can hardly make comparisons between the two. Trying to figure out information from this plot is very difficult, so we would either have to use another type of visualization or change the perspective of this plot to be able to learn from it."
   ]
  },
  {
   "cell_type": "markdown",
   "id": "returning-country",
   "metadata": {},
   "source": [
    "### Homework Solution Formatting\n",
    "\n",
    "In this lab, we will wrote visualization code that does not need to be saved to be submitted, but on your homework assignments we need to be able to save the visualizations you make. Follow **all** of these steps to correctly submit your homework code:\n",
    "\n",
    "When writing your solutions for visualizations on homework, remember to:\n",
    "- Store your plot in a variable name\n",
    "- Use the `show=True` argument in your plot\n",
    "- Make the last line of your cell the variable you stored your plot in so that you can see it when you run the cell\n",
    "\n",
    "Doing all of these will allow us to grade your submission properly. There are additional instructions on the homework notebook this week, so if you have any questions feel free to ask on Ed.\n",
    "\n",
    "## Done! 😇\n",
    "\n",
    "That's it! There's nowhere for you to submit this, as labs are not assignments. However, please ask any questions you have with this notebook in lab or on Ed."
   ]
  }
 ],
 "metadata": {
  "kernelspec": {
   "display_name": "Python 3",
   "language": "python",
   "name": "python3"
  },
  "language_info": {
   "codemirror_mode": {
    "name": "ipython",
    "version": 3
   },
   "file_extension": ".py",
   "mimetype": "text/x-python",
   "name": "python",
   "nbconvert_exporter": "python",
   "pygments_lexer": "ipython3",
   "version": "3.7.9"
  }
 },
 "nbformat": 4,
 "nbformat_minor": 5
}

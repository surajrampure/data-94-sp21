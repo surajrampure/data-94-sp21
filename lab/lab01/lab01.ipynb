{
 "cells": [
  {
   "cell_type": "code",
   "execution_count": null,
   "metadata": {
    "deletable": false,
    "editable": false
   },
   "outputs": [],
   "source": [
    "# Initialize Otter\n",
    "import otter\n",
    "grader = otter.Notebook(\"lab01.ipynb\")"
   ]
  },
  {
   "cell_type": "markdown",
   "metadata": {},
   "source": [
    "# Lab 1 - Introduction to Functions\n",
    "\n",
    "## Data 94, Spring 2021"
   ]
  },
  {
   "cell_type": "markdown",
   "metadata": {},
   "source": [
    "Welcome back to lab! This week we will be covering content from lectures 3-5, specifically variables, boolean operators, and functions.\n",
    "\n",
    "As usual, lab assignments will **not** be turned in, but we will go over them during lab sections and they will be supplemental practice for the weekly homework assignments.\n",
    "\n",
    "Corresponding lab and homework assignments will have the same number (ex: lab01 goes with hw01)."
   ]
  },
  {
   "cell_type": "markdown",
   "metadata": {},
   "source": [
    "# Variables\n",
    "\n",
    "Variables are used to store information in Python programs. They are particularly helpful when you need to calculate many different things in a row, and also when you need one value to help calculate another.\n",
    "\n",
    "In lecture we compare variables to boxes that store your information for use later in your program. Every time you need that value, that variable can be 'opened' and used to calculate something else.\n",
    "\n",
    "Variables that do not have values yet cause errors when called. There are special variables that exist in Python before you make any new variables (min and max functions for example). All other variable names are initially not assigned to anything until you assign them.\n",
    "\n",
    "Run the following code cell to see what happens when you call a variable that has not yet been assigned to anything:"
   ]
  },
  {
   "cell_type": "code",
   "execution_count": null,
   "metadata": {},
   "outputs": [],
   "source": [
    "# DO NOT CHANGE\n",
    "python"
   ]
  },
  {
   "cell_type": "markdown",
   "metadata": {
    "deletable": false,
    "editable": false
   },
   "source": [
    "### Question 1\n",
    "\n",
    "<img src='images/sphere.png' width=150>\n",
    "\n",
    "We set a variable `pi` to the value 3.14 and another variable `r` to 10. On a following line, assign the variable `sa` to a Python expression that evaluates to the surface area of a sphere with radius 10. Do not use the numbers `3.14` or `10` in your expression.\n",
    "\n",
    "**Hint**: The formula for the surface area of a sphere with radius $r$ is: $$\\text{Surface Area} = 4 \\pi r^2$$\n",
    "\n",
    "<!--\n",
    "BEGIN QUESTION\n",
    "name: q1\n",
    "-->"
   ]
  },
  {
   "cell_type": "code",
   "execution_count": null,
   "metadata": {},
   "outputs": [],
   "source": [
    "pi = 3.14\n",
    "r = 10\n",
    "\n",
    "sa = ..."
   ]
  },
  {
   "cell_type": "code",
   "execution_count": null,
   "metadata": {
    "deletable": false,
    "editable": false
   },
   "outputs": [],
   "source": [
    "grader.check(\"q1\")"
   ]
  },
  {
   "cell_type": "markdown",
   "metadata": {},
   "source": [
    "## Variable Types\n",
    "\n",
    "Variables in Python can have many different types, but we are most interested in focusing on the following:\n",
    "- Integers (int)\n",
    "- Strings/Text (str)\n",
    "- Floats (float)\n",
    "    - Floats are numbers that are not integers (decimals and fractions mostly)\n",
    "- Booleans (bool)\n",
    "    - Booleans can only be True or False\n",
    "- NoneType (None)\n",
    "    - Only the value None; indicates null value for a variable\n",
    "    \n",
    "Run the following code cells to see what these variable types look like in Python:"
   ]
  },
  {
   "cell_type": "code",
   "execution_count": null,
   "metadata": {},
   "outputs": [],
   "source": [
    "i_am_an_integer = 7\n",
    "type(i_am_an_integer)"
   ]
  },
  {
   "cell_type": "code",
   "execution_count": null,
   "metadata": {},
   "outputs": [],
   "source": [
    "i_am_a_string = \"hello\"\n",
    "type(i_am_a_string)"
   ]
  },
  {
   "cell_type": "code",
   "execution_count": null,
   "metadata": {},
   "outputs": [],
   "source": [
    "i_am_a_float = 4.0\n",
    "type(i_am_a_float)"
   ]
  },
  {
   "cell_type": "code",
   "execution_count": null,
   "metadata": {},
   "outputs": [],
   "source": [
    "i_am_a_boolean = True\n",
    "type(i_am_a_boolean)"
   ]
  },
  {
   "cell_type": "code",
   "execution_count": null,
   "metadata": {},
   "outputs": [],
   "source": [
    "i_am_a_nonetype = None\n",
    "type(i_am_a_nonetype)"
   ]
  },
  {
   "cell_type": "markdown",
   "metadata": {},
   "source": [
    "As we have seen, we can use these values in other Python expressions. Although, we have to be careful when doing Python operations on variables of different types.\n",
    "\n",
    "Different types are often not compatible with each other as in the following code cell:"
   ]
  },
  {
   "cell_type": "code",
   "execution_count": null,
   "metadata": {},
   "outputs": [],
   "source": [
    "# DO NOT CHANGE\n",
    "i_am_an_integer + i_am_a_string"
   ]
  },
  {
   "cell_type": "markdown",
   "metadata": {},
   "source": [
    "## Variable Type Casting\n",
    "\n",
    "In data science, it is common to have data in a table that represents numbers, but the table stores these numbers as strings ('1' instead of 1). In this case, Python has built-in functions intended to change the type of the variable as long as the variable can validly be represented as the type you are changing to. This is called **casting** from one type to another.\n",
    "\n",
    "You can change '1' to the integer 1, but you cannot change 'hello' into a valid integer."
   ]
  },
  {
   "cell_type": "code",
   "execution_count": null,
   "metadata": {},
   "outputs": [],
   "source": [
    "int(\"1\")"
   ]
  },
  {
   "cell_type": "code",
   "execution_count": null,
   "metadata": {},
   "outputs": [],
   "source": [
    "int(\"hello\")"
   ]
  },
  {
   "cell_type": "markdown",
   "metadata": {},
   "source": [
    "### Question 2\n",
    "\n",
    "This casting relationship goes both ways. Say your table has numbers stored as integers, but you want to print out a sentence that contains those numbers. Cast the `us_age` and `mex_age` variables to another type so that the following cell does not error, and in fact prints out the sentence you wish to see."
   ]
  },
  {
   "cell_type": "code",
   "execution_count": null,
   "metadata": {},
   "outputs": [],
   "source": [
    "us_age = 21 # DO NOT CHANGE\n",
    "mex_age = 18 # DO NOT CHANGE\n",
    "\n",
    "print(\"The drinking age in the United States is \" + us_age\n",
    "     + \", but the drinking age in Mexico is \" + mex_age + \".\")"
   ]
  },
  {
   "cell_type": "markdown",
   "metadata": {},
   "source": [
    "# Boolean Operators"
   ]
  },
  {
   "cell_type": "markdown",
   "metadata": {},
   "source": [
    "## Comparison operators\n",
    "\n",
    "Comparison operators are boolean operators that are used to compare two different values in Python.\n",
    "\n",
    "We introduce 6 of these operators in lecture: `==`, `!=`,`<`, `<=`, `>`, and `>=`. Try using these operators on variables and values of all types, though in practice they are typically used with integers and floats, and sometimes on strings. Strings are treated in increasing alphabetical order: ('a' < 'b') == True.\n",
    "\n",
    "Run the following series of cells to see some examples of these comparison operators in practice:"
   ]
  },
  {
   "cell_type": "code",
   "execution_count": null,
   "metadata": {},
   "outputs": [],
   "source": [
    "1 < 2"
   ]
  },
  {
   "cell_type": "code",
   "execution_count": null,
   "metadata": {},
   "outputs": [],
   "source": [
    "min(20, 30) <= max(-10, 20)"
   ]
  },
  {
   "cell_type": "code",
   "execution_count": null,
   "metadata": {},
   "outputs": [],
   "source": [
    "(3 + 4) != (3 * 4)"
   ]
  },
  {
   "cell_type": "code",
   "execution_count": null,
   "metadata": {},
   "outputs": [],
   "source": [
    "\"abc\" < \"def\""
   ]
  },
  {
   "cell_type": "markdown",
   "metadata": {},
   "source": [
    "There is an important distinction here between `=` and `==`:\n",
    "\n",
    "`=` is used to **set** variables, while `==` is used as the **comparison operator** to compare two values."
   ]
  },
  {
   "cell_type": "code",
   "execution_count": null,
   "metadata": {},
   "outputs": [],
   "source": [
    "# Set the variable\n",
    "a = 5"
   ]
  },
  {
   "cell_type": "code",
   "execution_count": null,
   "metadata": {},
   "outputs": [],
   "source": [
    "# Ask if it is equal to the value you think it should be\n",
    "a == 5"
   ]
  },
  {
   "cell_type": "markdown",
   "metadata": {},
   "source": [
    "There is one more boolean operator built into Python we have not mentioned yet. The keyword `in` allows you to check if strings are contained in larger strings. It can be used in other ways in Python, but for now we will use it to ask if the first string is a substring of the second string (if it appears in the other string).\n",
    "\n",
    "Run the cells below for examples of `in`:"
   ]
  },
  {
   "cell_type": "code",
   "execution_count": null,
   "metadata": {},
   "outputs": [],
   "source": [
    "\"hello\" in \"hello world\""
   ]
  },
  {
   "cell_type": "code",
   "execution_count": null,
   "metadata": {},
   "outputs": [],
   "source": [
    "\"i\" in \"rhythm\""
   ]
  },
  {
   "cell_type": "markdown",
   "metadata": {},
   "source": [
    "## And, Or, and Not\n",
    "\n",
    "`and`, `or`, and `not` are boolean operators that operate directly on booleans.\n",
    "\n",
    "`and` returns True when both operands are True, False otherwise.\n",
    "\n",
    "`or` returns False when both operands are False, True otherwise.\n",
    "\n",
    "`not` gives back the opposite boolean.\n",
    "\n",
    "These 3 operators are useful when writing functions because they help control a function's logic. You will find them useful when writing more complicated functions in the course.\n",
    "\n",
    "**Tip**: use parentheses to ensure your boolean operators are being applied correctly and without ambiguity.\n",
    "\n",
    "Run the cells below to see these 3 operators in practice:"
   ]
  },
  {
   "cell_type": "code",
   "execution_count": null,
   "metadata": {},
   "outputs": [],
   "source": [
    "(3 * 4 == 12) or (3 + 4 == 50)"
   ]
  },
  {
   "cell_type": "code",
   "execution_count": null,
   "metadata": {},
   "outputs": [],
   "source": [
    "(3 * 4 == 12) and (3 + 4 == 50)"
   ]
  },
  {
   "cell_type": "code",
   "execution_count": null,
   "metadata": {},
   "outputs": [],
   "source": [
    "not (3 + 4 == 50)"
   ]
  },
  {
   "cell_type": "markdown",
   "metadata": {},
   "source": [
    "# Functions\n",
    "\n",
    "Functions allow us to combine the topics we have discussed so far in the course. Writing functions is useful when we want to use the same code repeatedly without wanting to write it out each and every time. You can think of functions like variables, they store lines of code instead of Python values, and they can be used when you need them.\n",
    "\n",
    "Below is an example of a Python funciton that doubles its input:"
   ]
  },
  {
   "cell_type": "code",
   "execution_count": null,
   "metadata": {},
   "outputs": [],
   "source": [
    "def double(x):\n",
    "    return 2 * x"
   ]
  },
  {
   "cell_type": "markdown",
   "metadata": {},
   "source": [
    "Let's break down the different parts of this function:\n",
    "- The `def` at the beginning tells Python that we are making a new function.\n",
    "- The blue `double` text is the name of our function. If we want to use this function, we will call it using this name.\n",
    "- The `x` inside the parentheses is the input variable, otherwise known as a function's domain. A function can have as many input variables as you need, as long as they have different names.\n",
    "- The `:` indicates we are done defining our function's name and input variables.\n",
    "- All lines after this `def` line are **indented** to indicate we are is what we call the **body** of the function.\n",
    "    - You can have as many lines as you want in your functions, but in this case we only have 1.\n",
    "- The `return` keyword indicates we want to output the following evaluated Python expression. In our case, we want to multiply our input variable by 2.\n",
    "\n",
    "Let's see what happens when we use our function:"
   ]
  },
  {
   "cell_type": "code",
   "execution_count": null,
   "metadata": {},
   "outputs": [],
   "source": [
    "answer = double(5)\n",
    "# We expect the value of this 'answer' variable to be 10 as long as our function is working correctly\n",
    "answer"
   ]
  },
  {
   "cell_type": "markdown",
   "metadata": {},
   "source": [
    "### Should I Stay or Should I Go\n",
    "Now let's take a look at a function that uses **variables** and **boolean operators**:"
   ]
  },
  {
   "cell_type": "code",
   "execution_count": null,
   "metadata": {},
   "outputs": [],
   "source": [
    "# Based on the color of the stoplight in front of us we want to know whether we should stop or keep going.\n",
    "# Because we know we are going to encounter many lights on our trip, we should write a function!\n",
    "\n",
    "# We can make 2 functions: one where we take risks and go on yellow lights,\n",
    "# and one where we play it safe and stop for yellow lights\n",
    "\n",
    "def stop_or_go_risky(light):\n",
    "    green = (light == 'green')\n",
    "    yellow = (light == 'yellow')\n",
    "    red = (light == 'red')\n",
    "    return (green or yellow) and (not red) # Go on green and yellow, stop on red\n",
    "\n",
    "def stop_or_go_safe(light):\n",
    "    green = (light == 'green')\n",
    "    yellow = (light == 'yellow')\n",
    "    red = (light == 'red')\n",
    "    return green and ((not yellow) and (not red)) # Go on green, stop on yellow and red\n",
    "\n",
    "#These functions are booleans because they output either True or False. We can write functions that output any\n",
    "#type we need, and you will do so throughout the course!"
   ]
  },
  {
   "cell_type": "markdown",
   "metadata": {},
   "source": [
    "Run the following cell as a demo:"
   ]
  },
  {
   "cell_type": "code",
   "execution_count": null,
   "metadata": {},
   "outputs": [],
   "source": [
    "#We can use the outputs of these functions to let us know to stop the car if we need to on our way to the market.\n",
    "\n",
    "light1 = stop_or_go_safe('green')\n",
    "light2 = stop_or_go_safe('yellow')\n",
    "light3 = stop_or_go_safe('red')\n",
    "\n",
    "print(\"I am driving to the market! No rush!\")\n",
    "print(\"\") # This is the same as hitting the return key while typing in Google Docs\n",
    "print(\"Should I go at a green light?... \" + str(light1))\n",
    "print(\"Should I go at a yellow light?... \" + str(light2))\n",
    "print(\"Should I go at a red light?... \" + str(light3))\n",
    "print(\"\")\n",
    "\n",
    "#But if we find out we are running late, we may want to take more risks.\n",
    "print(\"Oh no! I'm running late!\")\n",
    "print(\"\")\n",
    "\n",
    "light4 = stop_or_go_risky('green')\n",
    "light5 = stop_or_go_risky('yellow')\n",
    "light6 = stop_or_go_risky('red')\n",
    "\n",
    "print(\"Should I go at a green light?... \" + str(light4))\n",
    "print(\"Should I go at a yellow light?... \" + str(light5))\n",
    "print(\"Should I go at a red light?... \" + str(light6))"
   ]
  },
  {
   "cell_type": "markdown",
   "metadata": {},
   "source": [
    "## Done! 😇\n",
    "\n",
    "That's it! There's nowhere for you to submit this, as labs are not assignments. However, please ask any questions you have with this notebook in lab or on Ed."
   ]
  },
  {
   "cell_type": "markdown",
   "metadata": {
    "deletable": false,
    "editable": false
   },
   "source": [
    "---\n",
    "\n",
    "To double-check your work, the cell below will rerun all of the autograder tests."
   ]
  },
  {
   "cell_type": "code",
   "execution_count": null,
   "metadata": {
    "deletable": false,
    "editable": false
   },
   "outputs": [],
   "source": [
    "grader.check_all()"
   ]
  },
  {
   "cell_type": "markdown",
   "metadata": {
    "deletable": false,
    "editable": false
   },
   "source": [
    "## Submission\n",
    "\n",
    "Make sure you have run all cells in your notebook in order before running the cell below, so that all images/graphs appear in the output. The cell below will generate a zip file for you to submit. **Please save before exporting!**"
   ]
  },
  {
   "cell_type": "code",
   "execution_count": null,
   "metadata": {
    "deletable": false,
    "editable": false
   },
   "outputs": [],
   "source": [
    "# Save your notebook first, then run this cell to export your submission.\n",
    "grader.export(pdf=False)"
   ]
  },
  {
   "cell_type": "markdown",
   "metadata": {},
   "source": [
    " "
   ]
  }
 ],
 "metadata": {
  "kernelspec": {
   "display_name": "Python 3",
   "language": "python",
   "name": "python3"
  },
  "language_info": {
   "codemirror_mode": {
    "name": "ipython",
    "version": 3
   },
   "file_extension": ".py",
   "mimetype": "text/x-python",
   "name": "python",
   "nbconvert_exporter": "python",
   "pygments_lexer": "ipython3",
   "version": "3.9.1"
  }
 },
 "nbformat": 4,
 "nbformat_minor": 4
}
